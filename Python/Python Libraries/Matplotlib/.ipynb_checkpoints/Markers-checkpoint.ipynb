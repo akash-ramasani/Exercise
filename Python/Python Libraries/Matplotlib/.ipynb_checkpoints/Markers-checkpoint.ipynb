{
 "cells": [
  {
   "cell_type": "code",
   "execution_count": 1,
   "id": "bace0cd9-59c0-4c27-a273-1dd0dde2f4b3",
   "metadata": {},
   "outputs": [],
   "source": [
    "#We can use keyword argument 'marker' to emphasize each point with a specified marker"
   ]
  }
 ],
 "metadata": {
  "kernelspec": {
   "display_name": "Python 3 (ipykernel)",
   "language": "python",
   "name": "python3"
  },
  "language_info": {
   "codemirror_mode": {
    "name": "ipython",
    "version": 3
   },
   "file_extension": ".py",
   "mimetype": "text/x-python",
   "name": "python",
   "nbconvert_exporter": "python",
   "pygments_lexer": "ipython3",
   "version": "3.11.6"
  }
 },
 "nbformat": 4,
 "nbformat_minor": 5
}
