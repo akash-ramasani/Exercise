{
 "cells": [
  {
   "cell_type": "code",
   "execution_count": 2,
   "id": "b4697543-2172-4709-9428-d9b8857a8b17",
   "metadata": {},
   "outputs": [],
   "source": [
    "def firstFunction():\n",
    "    print(\"First function called.\");"
   ]
  },
  {
   "cell_type": "code",
   "execution_count": 3,
   "id": "04f11984-2765-4c72-8ead-15727b1aa15c",
   "metadata": {},
   "outputs": [
    {
     "name": "stdout",
     "output_type": "stream",
     "text": [
      "First function called.\n"
     ]
    }
   ],
   "source": [
    "firstFunction()"
   ]
  },
  {
   "cell_type": "code",
   "execution_count": 4,
   "id": "979c0627-34d0-4409-a7bf-03a5b87fef8a",
   "metadata": {},
   "outputs": [
    {
     "name": "stdout",
     "output_type": "stream",
     "text": [
      "First function called.\n"
     ]
    }
   ],
   "source": [
    "firstFunction();"
   ]
  },
  {
   "cell_type": "code",
   "execution_count": 21,
   "id": "4a1176ee-6afc-4eb7-a968-97bcfda81508",
   "metadata": {},
   "outputs": [],
   "source": [
    "def greeting(firstName):\n",
    "    print(\"Hello, \" + firstName + \".\")"
   ]
  },
  {
   "cell_type": "code",
   "execution_count": 22,
   "id": "e8770846-2c92-44fb-ba1a-25373daf0ea8",
   "metadata": {},
   "outputs": [
    {
     "name": "stdout",
     "output_type": "stream",
     "text": [
      "Hello, Akash.\n"
     ]
    }
   ],
   "source": [
    "greeting(\"Akash\")"
   ]
  },
  {
   "cell_type": "code",
   "execution_count": 23,
   "id": "f3fae695-a2e9-42ab-927c-26666f2216aa",
   "metadata": {},
   "outputs": [
    {
     "name": "stdout",
     "output_type": "stream",
     "text": [
      "Hello, Akash.\n"
     ]
    }
   ],
   "source": [
    "greeting(\"Akash\");"
   ]
  },
  {
   "cell_type": "code",
   "execution_count": 17,
   "id": "41a52cc2-f4d0-48cd-bb32-28b515552b13",
   "metadata": {},
   "outputs": [],
   "source": [
    "def fullName (firstName, middleName, lastName):\n",
    "    print(firstName + \" \" + middleName + \" \" + lastName if middleName else firstName + \" \" + lastName);"
   ]
  },
  {
   "cell_type": "code",
   "execution_count": 18,
   "id": "9a7db8f9-0a61-4820-b5c9-18afc627969a",
   "metadata": {},
   "outputs": [
    {
     "name": "stdout",
     "output_type": "stream",
     "text": [
      "Akash N Ramasani\n"
     ]
    }
   ],
   "source": [
    "fullName(firstName = \"Akash\", middleName=\"N\", lastName=\"Ramasani\") #Kewword Arguments"
   ]
  },
  {
   "cell_type": "code",
   "execution_count": 26,
   "id": "941812ac-0126-449a-a793-106e9b5e31ae",
   "metadata": {},
   "outputs": [],
   "source": [
    "def fullName (**names):\n",
    "    print(names[\"firstName\"] + \" \" + names[\"middleName\"] + \" \" + names[\"lastName\"] if names[\"middleName\"] else names[\"firstName\"] + \" \" + names[\"lastName\"]);"
   ]
  },
  {
   "cell_type": "code",
   "execution_count": 28,
   "id": "e68f55bb-b69f-487b-a8a9-6b152f107e56",
   "metadata": {},
   "outputs": [
    {
     "name": "stdout",
     "output_type": "stream",
     "text": [
      "Akash Ramasani\n"
     ]
    }
   ],
   "source": [
    "fullName(firstName = \"Akash\", middleName=\"\", lastName=\"Ramasani\")"
   ]
  },
  {
   "cell_type": "code",
   "execution_count": 31,
   "id": "996463d9-623c-4bda-8b13-02c06f7aab20",
   "metadata": {},
   "outputs": [],
   "source": [
    "def currentStatus(status = \"Online\"): #Default Parameter Value\n",
    "    print(\"I am \" + status + \".\")"
   ]
  },
  {
   "cell_type": "code",
   "execution_count": 32,
   "id": "c445ba7f-0ea5-4eb1-9508-7f773c1d9381",
   "metadata": {},
   "outputs": [
    {
     "name": "stdout",
     "output_type": "stream",
     "text": [
      "I am Online.\n"
     ]
    }
   ],
   "source": [
    "currentStatus()"
   ]
  },
  {
   "cell_type": "code",
   "execution_count": 33,
   "id": "8c3c196e-c586-4732-a294-015e6bd21a05",
   "metadata": {},
   "outputs": [
    {
     "name": "stdout",
     "output_type": "stream",
     "text": [
      "I am OOO.\n"
     ]
    }
   ],
   "source": [
    "currentStatus(\"OOO\")"
   ]
  },
  {
   "cell_type": "code",
   "execution_count": 34,
   "id": "35e0ca8e-0116-47b7-960b-87db5b9b8d1d",
   "metadata": {},
   "outputs": [
    {
     "name": "stdout",
     "output_type": "stream",
     "text": [
      "I am Busy.\n"
     ]
    }
   ],
   "source": [
    "currentStatus(\"Busy\");"
   ]
  },
  {
   "cell_type": "code",
   "execution_count": 36,
   "id": "d74b195f-e156-4957-a327-74b1abe4d6cb",
   "metadata": {},
   "outputs": [
    {
     "name": "stdout",
     "output_type": "stream",
     "text": [
      "I am in another Call.\n"
     ]
    }
   ],
   "source": [
    "currentStatus(\"in another Call\");"
   ]
  },
  {
   "cell_type": "code",
   "execution_count": 37,
   "id": "38a2f995-f73a-4771-a8d4-f4a10c19ed75",
   "metadata": {},
   "outputs": [],
   "source": [
    "def iterateCartItems(items):\n",
    "    for each in items:\n",
    "        print(each);"
   ]
  },
  {
   "cell_type": "code",
   "execution_count": 38,
   "id": "4d4016dd-dca6-4cc5-9dc6-94957a2aa9ae",
   "metadata": {},
   "outputs": [],
   "source": [
    "items = [\"Phone\", \"Laptop\", \"Charger\", \"Powerbank\"]"
   ]
  },
  {
   "cell_type": "code",
   "execution_count": 40,
   "id": "968d9e23-2eb5-4701-8ed8-788b9a30e06f",
   "metadata": {},
   "outputs": [
    {
     "name": "stdout",
     "output_type": "stream",
     "text": [
      "Phone\n",
      "Laptop\n",
      "Charger\n",
      "Powerbank\n"
     ]
    }
   ],
   "source": [
    "iterateCartItems(items) #Passing List as an Argument"
   ]
  },
  {
   "cell_type": "code",
   "execution_count": 41,
   "id": "4fce2cc8-a090-46b3-b763-397395007e2b",
   "metadata": {},
   "outputs": [],
   "source": [
    "def sumOfTwo(firstNumber, secondNumber):\n",
    "    return firstNumber + secondNumber; #Return Values"
   ]
  },
  {
   "cell_type": "code",
   "execution_count": 43,
   "id": "f703163a-5a46-4c20-97b0-e1a26a5d5f41",
   "metadata": {},
   "outputs": [
    {
     "data": {
      "text/plain": [
       "89"
      ]
     },
     "execution_count": 43,
     "metadata": {},
     "output_type": "execute_result"
    }
   ],
   "source": [
    "sumOfTwo(45,44)"
   ]
  },
  {
   "cell_type": "code",
   "execution_count": 46,
   "id": "ad34dfdd-3792-4fbd-b123-6cd77b52e59f",
   "metadata": {},
   "outputs": [],
   "source": [
    "def emptyFunction(): #function definition cannot be empty, but if you for some reason have a function definition with no content, put in the pass statement to avoid getting an error.\n",
    "    pass"
   ]
  },
  {
   "cell_type": "code",
   "execution_count": 47,
   "id": "d8c813c0-1204-4e25-93ac-f169d6736844",
   "metadata": {},
   "outputs": [],
   "source": [
    "emptyFunction()"
   ]
  },
  {
   "cell_type": "markdown",
   "id": "ff602970-27f1-46e8-b9cf-8030c75afdc4",
   "metadata": {},
   "source": [
    "Position only Arguments"
   ]
  },
  {
   "cell_type": "code",
   "execution_count": 52,
   "id": "7513eb20-31f5-4d5c-ac82-ef0d3d9d2215",
   "metadata": {},
   "outputs": [],
   "source": [
    "#To specify that a function can have only positional arguments, add ', /' after the arguments.\n",
    "\n",
    "def positionalArguments(firstName, /):\n",
    "    print(\"Hello, \" + firstName + \".\")"
   ]
  },
  {
   "cell_type": "code",
   "execution_count": 53,
   "id": "a4f922c3-ee68-4ca9-a1ed-b353f8ad7ac4",
   "metadata": {},
   "outputs": [
    {
     "name": "stdout",
     "output_type": "stream",
     "text": [
      "Hello, Akash.\n"
     ]
    }
   ],
   "source": [
    "positionalArguments('Akash');"
   ]
  },
  {
   "cell_type": "code",
   "execution_count": 54,
   "id": "69137317-bd27-40c4-aeba-e2c0ca880e9f",
   "metadata": {},
   "outputs": [
    {
     "ename": "TypeError",
     "evalue": "positionalArguments() got some positional-only arguments passed as keyword arguments: 'firstName'",
     "output_type": "error",
     "traceback": [
      "\u001b[1;31m---------------------------------------------------------------------------\u001b[0m",
      "\u001b[1;31mTypeError\u001b[0m                                 Traceback (most recent call last)",
      "Cell \u001b[1;32mIn[54], line 1\u001b[0m\n\u001b[1;32m----> 1\u001b[0m \u001b[43mpositionalArguments\u001b[49m\u001b[43m(\u001b[49m\u001b[43mfirstName\u001b[49m\u001b[38;5;241;43m=\u001b[39;49m\u001b[38;5;124;43m\"\u001b[39;49m\u001b[38;5;124;43mAkash\u001b[39;49m\u001b[38;5;124;43m\"\u001b[39;49m\u001b[43m)\u001b[49m;\n",
      "\u001b[1;31mTypeError\u001b[0m: positionalArguments() got some positional-only arguments passed as keyword arguments: 'firstName'"
     ]
    }
   ],
   "source": [
    "positionalArguments(firstName=\"Akash\");"
   ]
  },
  {
   "cell_type": "code",
   "execution_count": 55,
   "id": "08a42b5d-2460-4297-9d24-96619cf39c5b",
   "metadata": {},
   "outputs": [],
   "source": [
    "#To specify that a function can have only keyword arguments, add *, before the arguments:\n",
    "\n",
    "def keywordArguments(*, firstName):\n",
    "    print(\"Hello, \" + firstName + \".\")"
   ]
  },
  {
   "cell_type": "code",
   "execution_count": 56,
   "id": "fe5d549f-1d11-4ba4-a0f3-90db9c368101",
   "metadata": {},
   "outputs": [
    {
     "name": "stdout",
     "output_type": "stream",
     "text": [
      "Hello, Akash.\n"
     ]
    }
   ],
   "source": [
    "keywordArguments(firstName = 'Akash')"
   ]
  },
  {
   "cell_type": "code",
   "execution_count": 58,
   "id": "14d73ae7-80ef-42a2-bb2e-76fe43017346",
   "metadata": {},
   "outputs": [
    {
     "ename": "TypeError",
     "evalue": "keywordArguments() takes 0 positional arguments but 1 was given",
     "output_type": "error",
     "traceback": [
      "\u001b[1;31m---------------------------------------------------------------------------\u001b[0m",
      "\u001b[1;31mTypeError\u001b[0m                                 Traceback (most recent call last)",
      "Cell \u001b[1;32mIn[58], line 1\u001b[0m\n\u001b[1;32m----> 1\u001b[0m \u001b[43mkeywordArguments\u001b[49m\u001b[43m(\u001b[49m\u001b[38;5;124;43m\"\u001b[39;49m\u001b[38;5;124;43mAkash\u001b[39;49m\u001b[38;5;124;43m\"\u001b[39;49m\u001b[43m)\u001b[49m;\n",
      "\u001b[1;31mTypeError\u001b[0m: keywordArguments() takes 0 positional arguments but 1 was given"
     ]
    }
   ],
   "source": [
    "keywordArguments(\"Akash\");"
   ]
  },
  {
   "cell_type": "markdown",
   "id": "8ae08728-2156-48ce-910b-5e67e1d6dc8a",
   "metadata": {},
   "source": [
    "Combine Positional-Only and Keyword-Only Arguments"
   ]
  }
 ],
 "metadata": {
  "kernelspec": {
   "display_name": "Python 3 (ipykernel)",
   "language": "python",
   "name": "python3"
  },
  "language_info": {
   "codemirror_mode": {
    "name": "ipython",
    "version": 3
   },
   "file_extension": ".py",
   "mimetype": "text/x-python",
   "name": "python",
   "nbconvert_exporter": "python",
   "pygments_lexer": "ipython3",
   "version": "3.11.6"
  }
 },
 "nbformat": 4,
 "nbformat_minor": 5
}
