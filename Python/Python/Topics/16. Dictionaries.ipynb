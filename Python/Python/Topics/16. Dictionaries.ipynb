{
 "cells": [
  {
   "cell_type": "markdown",
   "id": "1fb8314e-bc5d-4805-98c9-3bf7ec4903c3",
   "metadata": {},
   "source": [
    "Dictionaries are used to store date in key:value pairs. A Dictionary is a collection which is ordered, changable and do not allow duplicates."
   ]
  },
  {
   "cell_type": "code",
   "execution_count": 1,
   "id": "20c4df34-dcd7-4398-aea7-5154d90b4407",
   "metadata": {},
   "outputs": [],
   "source": [
    "profile = {\n",
    "    \"firstName\": \"Akash\",\n",
    "    \"middleName\": \"\",\n",
    "    \"lastName\":\"Ramasani\"\n",
    "}"
   ]
  },
  {
   "cell_type": "code",
   "execution_count": 2,
   "id": "f32c61f8-927a-47b6-92d8-05afc04386e9",
   "metadata": {},
   "outputs": [
    {
     "name": "stdout",
     "output_type": "stream",
     "text": [
      "<class 'dict'> 3 {'firstName': 'Akash', 'middleName': '', 'lastName': 'Ramasani'}\n"
     ]
    }
   ],
   "source": [
    "print(type(profile), len(profile), profile);"
   ]
  },
  {
   "cell_type": "code",
   "execution_count": 3,
   "id": "ecd7e14d-38aa-4743-9f05-78e9afc36d75",
   "metadata": {},
   "outputs": [
    {
     "name": "stdout",
     "output_type": "stream",
     "text": [
      "Akash  Ramasani\n"
     ]
    }
   ],
   "source": [
    "print(profile[\"firstName\"], profile[\"middleName\"], profile[\"lastName\"]);"
   ]
  },
  {
   "cell_type": "markdown",
   "id": "fad3f449-672b-49a3-9da4-8a01383a1a94",
   "metadata": {},
   "source": [
    "Delete Dictionary"
   ]
  },
  {
   "cell_type": "code",
   "execution_count": 4,
   "id": "c0efecfb-6b26-44f7-b2b6-5181db330f4a",
   "metadata": {},
   "outputs": [],
   "source": [
    "del profile;"
   ]
  },
  {
   "cell_type": "code",
   "execution_count": 5,
   "id": "f23ae3cf-862f-4732-bd05-061aa1133de5",
   "metadata": {},
   "outputs": [
    {
     "ename": "NameError",
     "evalue": "name 'profile' is not defined",
     "output_type": "error",
     "traceback": [
      "\u001b[1;31m---------------------------------------------------------------------------\u001b[0m",
      "\u001b[1;31mNameError\u001b[0m                                 Traceback (most recent call last)",
      "Cell \u001b[1;32mIn[5], line 1\u001b[0m\n\u001b[1;32m----> 1\u001b[0m \u001b[38;5;28mprint\u001b[39m(\u001b[43mprofile\u001b[49m);\n",
      "\u001b[1;31mNameError\u001b[0m: name 'profile' is not defined"
     ]
    }
   ],
   "source": [
    "print(profile);"
   ]
  },
  {
   "cell_type": "markdown",
   "id": "7e0bf944-762a-4ffc-9922-013446c3dc65",
   "metadata": {},
   "source": [
    "Duplicates Not Allowed - Dictionaries cannot have two items with the same key. Duplicate Values will overwrite existing values."
   ]
  },
  {
   "cell_type": "code",
   "execution_count": 7,
   "id": "7d233257-958a-4bae-9648-04f6f67be07c",
   "metadata": {},
   "outputs": [],
   "source": [
    "profile = {\n",
    "    \"monthOfBirth\": \"June\",\n",
    "    \"monthOfBirth\": \"May\",\n",
    "};"
   ]
  },
  {
   "cell_type": "code",
   "execution_count": 8,
   "id": "bb5893c4-5e97-472b-8fe8-d3067a69116e",
   "metadata": {},
   "outputs": [
    {
     "name": "stdout",
     "output_type": "stream",
     "text": [
      "{'monthOfBirth': 'May'}\n"
     ]
    }
   ],
   "source": [
    "print(profile);"
   ]
  },
  {
   "cell_type": "markdown",
   "id": "4b2b82b3-7d0e-47f9-a63e-af7260259602",
   "metadata": {},
   "source": [
    "Dictionary Length - To determine how many items a dictionary has, use the len() function."
   ]
  },
  {
   "cell_type": "code",
   "execution_count": 11,
   "id": "f3f3f6e6-3106-43a1-be5a-99cd597c292a",
   "metadata": {},
   "outputs": [
    {
     "name": "stdout",
     "output_type": "stream",
     "text": [
      "1\n"
     ]
    }
   ],
   "source": [
    "print(len(profile));"
   ]
  },
  {
   "cell_type": "code",
   "execution_count": 13,
   "id": "98376559-df66-45d9-9d71-f5ed40b1678e",
   "metadata": {},
   "outputs": [],
   "source": [
    "del profile;"
   ]
  },
  {
   "cell_type": "markdown",
   "id": "a4638842-6e46-4b3a-9557-f3d48f0ece29",
   "metadata": {},
   "source": [
    "dict() Constructor"
   ]
  },
  {
   "cell_type": "code",
   "execution_count": 14,
   "id": "830334dc-66dc-4d8f-b31f-dd8fed8b06df",
   "metadata": {},
   "outputs": [],
   "source": [
    "profile = dict(firstName = \"Akash\", middleName = \"\", lastName = \"Ramasani\");"
   ]
  },
  {
   "cell_type": "code",
   "execution_count": 15,
   "id": "46c751ca-9d03-4716-8168-3502f9769401",
   "metadata": {},
   "outputs": [
    {
     "name": "stdout",
     "output_type": "stream",
     "text": [
      "<class 'dict'> 3 {'firstName': 'Akash', 'middleName': '', 'lastName': 'Ramasani'}\n"
     ]
    }
   ],
   "source": [
    "print(type(profile), len(profile), profile);"
   ]
  },
  {
   "cell_type": "markdown",
   "id": "96a356c2-9886-425b-9495-5f83ec9747ef",
   "metadata": {},
   "source": [
    "Dictionary Items - Data Types - The values in dictionary items can be of any data type."
   ]
  },
  {
   "cell_type": "code",
   "execution_count": 17,
   "id": "8193e037-008b-4215-a854-9525dc40c832",
   "metadata": {},
   "outputs": [],
   "source": [
    "profile = {\n",
    "    \"firstName\": \"Akash\",\n",
    "    \"middleName\": \"\",\n",
    "    \"lastName\": \"Ramasani\",\n",
    "    \"dateOfBirth\": (27, \"May\", 2001),\n",
    "    'emailVerified': True,\n",
    "};"
   ]
  },
  {
   "cell_type": "code",
   "execution_count": 18,
   "id": "f26fc101-9056-47e8-8335-eb1c402bc55f",
   "metadata": {},
   "outputs": [
    {
     "name": "stdout",
     "output_type": "stream",
     "text": [
      "<class 'dict'> 5\n"
     ]
    }
   ],
   "source": [
    "print(type(profile), len(profile));"
   ]
  },
  {
   "cell_type": "code",
   "execution_count": 20,
   "id": "60c4c77f-53e8-4825-b8c2-12cfeba67f5e",
   "metadata": {},
   "outputs": [
    {
     "name": "stdout",
     "output_type": "stream",
     "text": [
      "<class 'int'>\n"
     ]
    }
   ],
   "source": [
    "print(type(profile['dateOfBirth'][2]));"
   ]
  },
  {
   "cell_type": "code",
   "execution_count": 21,
   "id": "1eab022a-b6c3-4457-bdae-4187c5eb85f2",
   "metadata": {},
   "outputs": [],
   "source": [
    "del profile;"
   ]
  },
  {
   "cell_type": "markdown",
   "id": "b81657a6-8c54-4685-8a9a-b668b38eb5eb",
   "metadata": {},
   "source": [
    "Accessing Items - you can access the items of a dictionary by referring to its key name, inside square brackets."
   ]
  },
  {
   "cell_type": "code",
   "execution_count": 23,
   "id": "212b76f7-2ce0-487d-9a1b-acbc3d5fbbdd",
   "metadata": {},
   "outputs": [],
   "source": [
    "profile = {\n",
    "    \"firstName\": \"Akash\",\n",
    "    \"middleName\": \"\",\n",
    "    \"lastName\": \"\",\n",
    "}"
   ]
  },
  {
   "cell_type": "code",
   "execution_count": 25,
   "id": "e1fc9917-2e9c-43d6-ac1b-9d7f758b057f",
   "metadata": {},
   "outputs": [
    {
     "name": "stdout",
     "output_type": "stream",
     "text": [
      "3 <class 'dict'>\n"
     ]
    }
   ],
   "source": [
    "print(len(profile), type(profile));"
   ]
  },
  {
   "cell_type": "code",
   "execution_count": 26,
   "id": "19d0804b-c446-4320-a764-627e523e86ca",
   "metadata": {},
   "outputs": [
    {
     "name": "stdout",
     "output_type": "stream",
     "text": [
      "Akash\n"
     ]
    }
   ],
   "source": [
    "print(profile[\"firstName\"]);"
   ]
  },
  {
   "cell_type": "code",
   "execution_count": 30,
   "id": "51b6772f-cd6f-4e2d-9e91-af1bf1dd83f2",
   "metadata": {},
   "outputs": [
    {
     "name": "stdout",
     "output_type": "stream",
     "text": [
      "Akash\n"
     ]
    }
   ],
   "source": [
    "print(profile.get(\"firstName\"));"
   ]
  },
  {
   "cell_type": "code",
   "execution_count": 29,
   "id": "758a3a52-959f-4a63-9401-b0193bc339dc",
   "metadata": {},
   "outputs": [
    {
     "name": "stdout",
     "output_type": "stream",
     "text": [
      "<class 'str'>\n"
     ]
    }
   ],
   "source": [
    "print(type(profile[\"firstName\"]));"
   ]
  },
  {
   "cell_type": "code",
   "execution_count": null,
   "id": "e6f45df9-c48e-4421-83b7-6239e1b92db2",
   "metadata": {},
   "outputs": [],
   "source": [
    "keys() Method will return "
   ]
  }
 ],
 "metadata": {
  "kernelspec": {
   "display_name": "Python 3 (ipykernel)",
   "language": "python",
   "name": "python3"
  },
  "language_info": {
   "codemirror_mode": {
    "name": "ipython",
    "version": 3
   },
   "file_extension": ".py",
   "mimetype": "text/x-python",
   "name": "python",
   "nbconvert_exporter": "python",
   "pygments_lexer": "ipython3",
   "version": "3.11.6"
  }
 },
 "nbformat": 4,
 "nbformat_minor": 5
}
