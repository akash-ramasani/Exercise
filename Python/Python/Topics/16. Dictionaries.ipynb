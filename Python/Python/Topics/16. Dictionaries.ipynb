{
 "cells": [
  {
   "cell_type": "markdown",
   "id": "1fb8314e-bc5d-4805-98c9-3bf7ec4903c3",
   "metadata": {},
   "source": [
    "Dictionaries are used to store date in key:value pairs. A Dictionary is a collection which is ordered, changable and do not allow duplicates."
   ]
  },
  {
   "cell_type": "code",
   "execution_count": 8,
   "id": "20c4df34-dcd7-4398-aea7-5154d90b4407",
   "metadata": {},
   "outputs": [],
   "source": [
    "profile = {\n",
    "    \"firstName\": \"Akash\",\n",
    "    \"middleName\": \"\",\n",
    "    \"lastName\":\"Ramasani\"\n",
    "}"
   ]
  },
  {
   "cell_type": "code",
   "execution_count": 9,
   "id": "f32c61f8-927a-47b6-92d8-05afc04386e9",
   "metadata": {},
   "outputs": [
    {
     "name": "stdout",
     "output_type": "stream",
     "text": [
      "<class 'dict'> 3 {'firstName': 'Akash', 'middleName': '', 'lastName': 'Ramasani'}\n"
     ]
    }
   ],
   "source": [
    "print(type(profile), len(profile), profile);"
   ]
  },
  {
   "cell_type": "code",
   "execution_count": 14,
   "id": "ecd7e14d-38aa-4743-9f05-78e9afc36d75",
   "metadata": {},
   "outputs": [
    {
     "name": "stdout",
     "output_type": "stream",
     "text": [
      "Akash  Ramasani\n"
     ]
    }
   ],
   "source": [
    "print(profile[\"firstName\"], profile[\"middleName\"], profile[\"lastName\"]);"
   ]
  },
  {
   "cell_type": "markdown",
   "id": "fad3f449-672b-49a3-9da4-8a01383a1a94",
   "metadata": {},
   "source": [
    "Delete Dictionary"
   ]
  },
  {
   "cell_type": "code",
   "execution_count": 15,
   "id": "c0efecfb-6b26-44f7-b2b6-5181db330f4a",
   "metadata": {},
   "outputs": [],
   "source": [
    "del profile;"
   ]
  },
  {
   "cell_type": "code",
   "execution_count": 16,
   "id": "f23ae3cf-862f-4732-bd05-061aa1133de5",
   "metadata": {},
   "outputs": [
    {
     "ename": "NameError",
     "evalue": "name 'profile' is not defined",
     "output_type": "error",
     "traceback": [
      "\u001b[1;31m---------------------------------------------------------------------------\u001b[0m",
      "\u001b[1;31mNameError\u001b[0m                                 Traceback (most recent call last)",
      "Cell \u001b[1;32mIn[16], line 1\u001b[0m\n\u001b[1;32m----> 1\u001b[0m \u001b[38;5;28mprint\u001b[39m(\u001b[43mprofile\u001b[49m);\n",
      "\u001b[1;31mNameError\u001b[0m: name 'profile' is not defined"
     ]
    }
   ],
   "source": [
    "print(profile);"
   ]
  },
  {
   "cell_type": "code",
   "execution_count": null,
   "id": "8193e037-008b-4215-a854-9525dc40c832",
   "metadata": {},
   "outputs": [],
   "source": [
    "\n",
    "profile = {\n",
    "    \"firstName\": \"Akash\",\n",
    "    \"middleName\": \"\",\n",
    "    \"lastName\": \"Ramasani\",\n",
    "    \"dateOfBirth\": (27, \"May\", 2001),\n",
    "    'emailVerified': True,\n",
    "};"
   ]
  },
  {
   "cell_type": "code",
   "execution_count": null,
   "id": "bb5893c4-5e97-472b-8fe8-d3067a69116e",
   "metadata": {},
   "outputs": [],
   "source": [
    "print(profile);"
   ]
  },
  {
   "cell_type": "code",
   "execution_count": 13,
   "id": "f26fc101-9056-47e8-8335-eb1c402bc55f",
   "metadata": {},
   "outputs": [
    {
     "name": "stdout",
     "output_type": "stream",
     "text": [
      "2001\n"
     ]
    }
   ],
   "source": [
    "print(profile['dateOfBirth'][2]);"
   ]
  }
 ],
 "metadata": {
  "kernelspec": {
   "display_name": "Python 3 (ipykernel)",
   "language": "python",
   "name": "python3"
  },
  "language_info": {
   "codemirror_mode": {
    "name": "ipython",
    "version": 3
   },
   "file_extension": ".py",
   "mimetype": "text/x-python",
   "name": "python",
   "nbconvert_exporter": "python",
   "pygments_lexer": "ipython3",
   "version": "3.11.6"
  }
 },
 "nbformat": 4,
 "nbformat_minor": 5
}
