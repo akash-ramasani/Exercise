{
 "cells": [
  {
   "cell_type": "markdown",
   "id": "1fb8314e-bc5d-4805-98c9-3bf7ec4903c3",
   "metadata": {},
   "source": [
    "Dictionaries are used to store date in key:value pairs. A Dictionary is a collection which is ordered, changable and do not allow duplicates."
   ]
  },
  {
   "cell_type": "code",
   "execution_count": 1,
   "id": "20c4df34-dcd7-4398-aea7-5154d90b4407",
   "metadata": {},
   "outputs": [],
   "source": [
    "profile = {\n",
    "    \"firstName\": \"Akash\",\n",
    "    \"middleName\": \"\",\n",
    "    \"lastName\":\"Ramasani\"\n",
    "}"
   ]
  },
  {
   "cell_type": "code",
   "execution_count": 2,
   "id": "f32c61f8-927a-47b6-92d8-05afc04386e9",
   "metadata": {},
   "outputs": [
    {
     "name": "stdout",
     "output_type": "stream",
     "text": [
      "<class 'dict'> 3 {'firstName': 'Akash', 'middleName': '', 'lastName': 'Ramasani'}\n"
     ]
    }
   ],
   "source": [
    "print(type(profile), len(profile), profile);"
   ]
  },
  {
   "cell_type": "code",
   "execution_count": 3,
   "id": "ecd7e14d-38aa-4743-9f05-78e9afc36d75",
   "metadata": {},
   "outputs": [
    {
     "name": "stdout",
     "output_type": "stream",
     "text": [
      "Akash  Ramasani\n"
     ]
    }
   ],
   "source": [
    "print(profile[\"firstName\"], profile[\"middleName\"], profile[\"lastName\"]);"
   ]
  },
  {
   "cell_type": "markdown",
   "id": "fad3f449-672b-49a3-9da4-8a01383a1a94",
   "metadata": {},
   "source": [
    "Delete Dictionary"
   ]
  },
  {
   "cell_type": "code",
   "execution_count": 4,
   "id": "c0efecfb-6b26-44f7-b2b6-5181db330f4a",
   "metadata": {},
   "outputs": [],
   "source": [
    "del profile;"
   ]
  },
  {
   "cell_type": "code",
   "execution_count": 5,
   "id": "f23ae3cf-862f-4732-bd05-061aa1133de5",
   "metadata": {},
   "outputs": [
    {
     "ename": "NameError",
     "evalue": "name 'profile' is not defined",
     "output_type": "error",
     "traceback": [
      "\u001b[1;31m---------------------------------------------------------------------------\u001b[0m",
      "\u001b[1;31mNameError\u001b[0m                                 Traceback (most recent call last)",
      "Cell \u001b[1;32mIn[5], line 1\u001b[0m\n\u001b[1;32m----> 1\u001b[0m \u001b[38;5;28mprint\u001b[39m(\u001b[43mprofile\u001b[49m);\n",
      "\u001b[1;31mNameError\u001b[0m: name 'profile' is not defined"
     ]
    }
   ],
   "source": [
    "print(profile);"
   ]
  },
  {
   "cell_type": "markdown",
   "id": "7e0bf944-762a-4ffc-9922-013446c3dc65",
   "metadata": {},
   "source": [
    "Duplicates Not Allowed - Dictionaries cannot have two items with the same key. Duplicate Values will overwrite existing values."
   ]
  },
  {
   "cell_type": "code",
   "execution_count": 6,
   "id": "7d233257-958a-4bae-9648-04f6f67be07c",
   "metadata": {},
   "outputs": [],
   "source": [
    "profile = {\n",
    "    \"monthOfBirth\": \"June\",\n",
    "    \"monthOfBirth\": \"May\",\n",
    "};"
   ]
  },
  {
   "cell_type": "code",
   "execution_count": 7,
   "id": "bb5893c4-5e97-472b-8fe8-d3067a69116e",
   "metadata": {},
   "outputs": [
    {
     "name": "stdout",
     "output_type": "stream",
     "text": [
      "{'monthOfBirth': 'May'}\n"
     ]
    }
   ],
   "source": [
    "print(profile);"
   ]
  },
  {
   "cell_type": "markdown",
   "id": "4b2b82b3-7d0e-47f9-a63e-af7260259602",
   "metadata": {},
   "source": [
    "Dictionary Length - To determine how many items a dictionary has, use the len() function."
   ]
  },
  {
   "cell_type": "code",
   "execution_count": 8,
   "id": "f3f3f6e6-3106-43a1-be5a-99cd597c292a",
   "metadata": {},
   "outputs": [
    {
     "name": "stdout",
     "output_type": "stream",
     "text": [
      "1\n"
     ]
    }
   ],
   "source": [
    "print(len(profile));"
   ]
  },
  {
   "cell_type": "code",
   "execution_count": 9,
   "id": "98376559-df66-45d9-9d71-f5ed40b1678e",
   "metadata": {},
   "outputs": [],
   "source": [
    "del profile;"
   ]
  },
  {
   "cell_type": "markdown",
   "id": "a4638842-6e46-4b3a-9557-f3d48f0ece29",
   "metadata": {},
   "source": [
    "dict() Constructor"
   ]
  },
  {
   "cell_type": "code",
   "execution_count": 10,
   "id": "830334dc-66dc-4d8f-b31f-dd8fed8b06df",
   "metadata": {},
   "outputs": [],
   "source": [
    "profile = dict(firstName = \"Akash\", middleName = \"\", lastName = \"Ramasani\");"
   ]
  },
  {
   "cell_type": "code",
   "execution_count": 11,
   "id": "46c751ca-9d03-4716-8168-3502f9769401",
   "metadata": {},
   "outputs": [
    {
     "name": "stdout",
     "output_type": "stream",
     "text": [
      "<class 'dict'> 3 {'firstName': 'Akash', 'middleName': '', 'lastName': 'Ramasani'}\n"
     ]
    }
   ],
   "source": [
    "print(type(profile), len(profile), profile);"
   ]
  },
  {
   "cell_type": "markdown",
   "id": "96a356c2-9886-425b-9495-5f83ec9747ef",
   "metadata": {},
   "source": [
    "Dictionary Items - Data Types - The values in dictionary items can be of any data type."
   ]
  },
  {
   "cell_type": "code",
   "execution_count": 12,
   "id": "8193e037-008b-4215-a854-9525dc40c832",
   "metadata": {},
   "outputs": [],
   "source": [
    "profile = {\n",
    "    \"firstName\": \"Akash\",\n",
    "    \"middleName\": \"\",\n",
    "    \"lastName\": \"Ramasani\",\n",
    "    \"dateOfBirth\": (27, \"May\", 2001),\n",
    "    'emailVerified': True,\n",
    "};"
   ]
  },
  {
   "cell_type": "code",
   "execution_count": 13,
   "id": "f26fc101-9056-47e8-8335-eb1c402bc55f",
   "metadata": {},
   "outputs": [
    {
     "name": "stdout",
     "output_type": "stream",
     "text": [
      "<class 'dict'> 5\n"
     ]
    }
   ],
   "source": [
    "print(type(profile), len(profile));"
   ]
  },
  {
   "cell_type": "code",
   "execution_count": 14,
   "id": "60c4c77f-53e8-4825-b8c2-12cfeba67f5e",
   "metadata": {},
   "outputs": [
    {
     "name": "stdout",
     "output_type": "stream",
     "text": [
      "<class 'int'>\n"
     ]
    }
   ],
   "source": [
    "print(type(profile['dateOfBirth'][2]));"
   ]
  },
  {
   "cell_type": "code",
   "execution_count": 15,
   "id": "1eab022a-b6c3-4457-bdae-4187c5eb85f2",
   "metadata": {},
   "outputs": [],
   "source": [
    "del profile;"
   ]
  },
  {
   "cell_type": "markdown",
   "id": "b81657a6-8c54-4685-8a9a-b668b38eb5eb",
   "metadata": {},
   "source": [
    "Accessing Items - you can access the items of a dictionary by referring to its key name, inside square brackets."
   ]
  },
  {
   "cell_type": "code",
   "execution_count": 16,
   "id": "212b76f7-2ce0-487d-9a1b-acbc3d5fbbdd",
   "metadata": {},
   "outputs": [],
   "source": [
    "profile = {\n",
    "    \"firstName\": \"Akash\",\n",
    "    \"middleName\": \"\",\n",
    "    \"lastName\": \"\",\n",
    "}"
   ]
  },
  {
   "cell_type": "code",
   "execution_count": 17,
   "id": "e1fc9917-2e9c-43d6-ac1b-9d7f758b057f",
   "metadata": {},
   "outputs": [
    {
     "name": "stdout",
     "output_type": "stream",
     "text": [
      "3 <class 'dict'>\n"
     ]
    }
   ],
   "source": [
    "print(len(profile), type(profile));"
   ]
  },
  {
   "cell_type": "code",
   "execution_count": 18,
   "id": "19d0804b-c446-4320-a764-627e523e86ca",
   "metadata": {},
   "outputs": [
    {
     "name": "stdout",
     "output_type": "stream",
     "text": [
      "Akash\n"
     ]
    }
   ],
   "source": [
    "print(profile[\"firstName\"]);"
   ]
  },
  {
   "cell_type": "code",
   "execution_count": 19,
   "id": "51b6772f-cd6f-4e2d-9e91-af1bf1dd83f2",
   "metadata": {},
   "outputs": [
    {
     "name": "stdout",
     "output_type": "stream",
     "text": [
      "Akash\n"
     ]
    }
   ],
   "source": [
    "print(profile.get(\"firstName\"));"
   ]
  },
  {
   "cell_type": "code",
   "execution_count": 20,
   "id": "758a3a52-959f-4a63-9401-b0193bc339dc",
   "metadata": {},
   "outputs": [
    {
     "name": "stdout",
     "output_type": "stream",
     "text": [
      "<class 'str'>\n"
     ]
    }
   ],
   "source": [
    "print(type(profile[\"firstName\"]));"
   ]
  },
  {
   "cell_type": "code",
   "execution_count": 22,
   "id": "e3d60e67-81f2-40c3-8791-82badc2dadaa",
   "metadata": {},
   "outputs": [],
   "source": [
    "del profile;"
   ]
  },
  {
   "cell_type": "markdown",
   "id": "d8d1da88-45c5-48c4-9595-38400be895f7",
   "metadata": {},
   "source": [
    "keys() Method will return a list of all the keys in the dicrionary."
   ]
  },
  {
   "cell_type": "code",
   "execution_count": 23,
   "id": "de9243ec-27bb-47af-8f7f-d2dbc4667737",
   "metadata": {},
   "outputs": [],
   "source": [
    "profile = {\n",
    "    \"firstName\": \"Akash\",\n",
    "    \"middleName\": \"\",\n",
    "    \"lastName\": \"Ramasani\"\n",
    "};"
   ]
  },
  {
   "cell_type": "code",
   "execution_count": 28,
   "id": "a0112593-be85-4850-8a90-901d23f743b1",
   "metadata": {},
   "outputs": [
    {
     "name": "stdout",
     "output_type": "stream",
     "text": [
      "<class 'dict_keys'> dict_keys(['firstName', 'middleName', 'lastName'])\n"
     ]
    }
   ],
   "source": [
    "print(type(profile.keys()), profile.keys());"
   ]
  },
  {
   "cell_type": "code",
   "execution_count": 29,
   "id": "814d5aca-d29d-4367-9b7c-42909dbbd764",
   "metadata": {},
   "outputs": [],
   "source": [
    "keys = profile.keys();"
   ]
  },
  {
   "cell_type": "code",
   "execution_count": 30,
   "id": "a1279a24-71e5-47ee-b48b-9cf3d21ade06",
   "metadata": {},
   "outputs": [
    {
     "name": "stdout",
     "output_type": "stream",
     "text": [
      "dict_keys(['firstName', 'middleName', 'lastName'])\n"
     ]
    }
   ],
   "source": [
    "print(keys);"
   ]
  },
  {
   "cell_type": "code",
   "execution_count": 31,
   "id": "fce925d5-544c-4cac-a2b7-ecab93212f29",
   "metadata": {},
   "outputs": [
    {
     "name": "stdout",
     "output_type": "stream",
     "text": [
      "<class 'dict_keys'>\n"
     ]
    }
   ],
   "source": [
    "print(type(keys));"
   ]
  },
  {
   "cell_type": "code",
   "execution_count": 33,
   "id": "dd053093-5b94-432a-8a2b-eedf961a6f9f",
   "metadata": {},
   "outputs": [],
   "source": [
    "profile[\"country\"] = \"India\";"
   ]
  },
  {
   "cell_type": "markdown",
   "id": "c64cc8bf-9d66-4509-9e2e-2b3ed4fdb5b4",
   "metadata": {},
   "source": [
    "The list of the values is a view of the dictionary, meaning that any changes done to the dictionary will be reflected in the values list."
   ]
  },
  {
   "cell_type": "code",
   "execution_count": 34,
   "id": "075913e9-a36e-4150-b4d0-72f9fe6b96ca",
   "metadata": {},
   "outputs": [
    {
     "name": "stdout",
     "output_type": "stream",
     "text": [
      "{'firstName': 'Akash', 'middleName': '', 'lastName': 'Ramasani', 'country': 'India'}\n"
     ]
    }
   ],
   "source": [
    "print(profile);"
   ]
  },
  {
   "cell_type": "code",
   "execution_count": 35,
   "id": "ad1e1dc7-6739-4e5b-b28b-783988647c58",
   "metadata": {},
   "outputs": [
    {
     "name": "stdout",
     "output_type": "stream",
     "text": [
      "dict_keys(['firstName', 'middleName', 'lastName', 'country'])\n"
     ]
    }
   ],
   "source": [
    "print(keys);"
   ]
  },
  {
   "cell_type": "markdown",
   "id": "4291f572-95f4-4af2-92ea-3b29a03703fc",
   "metadata": {},
   "source": [
    "items() method will return each item in a dictionary, as tuples in a list"
   ]
  },
  {
   "cell_type": "code",
   "execution_count": 37,
   "id": "4bb96ac6-d743-4ea1-a0ad-5638ab9f0b52",
   "metadata": {},
   "outputs": [
    {
     "name": "stdout",
     "output_type": "stream",
     "text": [
      "dict_items([('firstName', 'Akash'), ('middleName', ''), ('lastName', 'Ramasani'), ('country', 'India')])\n"
     ]
    }
   ],
   "source": [
    "print(profile.items());"
   ]
  },
  {
   "cell_type": "code",
   "execution_count": 40,
   "id": "7ad08b6e-9794-4922-a39a-cb166950e6cf",
   "metadata": {},
   "outputs": [
    {
     "name": "stdout",
     "output_type": "stream",
     "text": [
      "<class 'dict_items'>\n"
     ]
    }
   ],
   "source": [
    "print(type(profile.items()));"
   ]
  },
  {
   "cell_type": "code",
   "execution_count": 41,
   "id": "ceb6cfe2-66c7-46f7-9959-41a273ae18af",
   "metadata": {},
   "outputs": [],
   "source": [
    "profile[\"telExtension\"] = \"+91\";"
   ]
  },
  {
   "cell_type": "code",
   "execution_count": 42,
   "id": "339bd280-0276-4286-9340-5f1d29b324f0",
   "metadata": {},
   "outputs": [],
   "source": [
    "items = profile.items();"
   ]
  },
  {
   "cell_type": "code",
   "execution_count": 43,
   "id": "b89d4084-80e1-4b37-82ab-e4a147e41b18",
   "metadata": {},
   "outputs": [
    {
     "name": "stdout",
     "output_type": "stream",
     "text": [
      "dict_items([('firstName', 'Akash'), ('middleName', ''), ('lastName', 'Ramasani'), ('country', 'India'), ('telExtension', '+91')])\n"
     ]
    }
   ],
   "source": [
    "print(items);"
   ]
  },
  {
   "cell_type": "code",
   "execution_count": 44,
   "id": "ddabb060-32af-4546-97c7-73e7edca3137",
   "metadata": {},
   "outputs": [],
   "source": [
    "profile[\"number\"] = 6281287748;"
   ]
  },
  {
   "cell_type": "markdown",
   "id": "50feeb9a-d82a-4803-9196-9d55d3b5c375",
   "metadata": {},
   "source": [
    "The returned list is a view of the items of the dictionary, meaning that any changes done to the dictionary will be reflected in the items list."
   ]
  },
  {
   "cell_type": "code",
   "execution_count": 45,
   "id": "989c5a14-ba74-47ca-8b1c-9e589378e828",
   "metadata": {},
   "outputs": [
    {
     "name": "stdout",
     "output_type": "stream",
     "text": [
      "dict_items([('firstName', 'Akash'), ('middleName', ''), ('lastName', 'Ramasani'), ('country', 'India'), ('telExtension', '+91'), ('number', 6281287748)])\n"
     ]
    }
   ],
   "source": [
    "print(items);"
   ]
  },
  {
   "cell_type": "code",
   "execution_count": 46,
   "id": "5820cfb8-1dc2-457f-a0b1-038a53120ed7",
   "metadata": {},
   "outputs": [],
   "source": [
    "del profile;"
   ]
  },
  {
   "cell_type": "markdown",
   "id": "4cdf3cdc-0755-4b61-a442-e3195b37a362",
   "metadata": {},
   "source": [
    "Change Values"
   ]
  },
  {
   "cell_type": "code",
   "execution_count": 48,
   "id": "e470db68-a93d-43fe-bcc3-8efb82e1baeb",
   "metadata": {},
   "outputs": [],
   "source": [
    "profile = {\n",
    "    \"firstName\": \"Akash\",\n",
    "    \"middleName\": \"\",\n",
    "    \"lastName\": \"Ramasani\"\n",
    "};"
   ]
  },
  {
   "cell_type": "code",
   "execution_count": 49,
   "id": "c927cdd9-4376-4635-a90b-bdd4ec122694",
   "metadata": {},
   "outputs": [
    {
     "name": "stdout",
     "output_type": "stream",
     "text": [
      "{'firstName': 'Akash', 'middleName': '', 'lastName': 'Ramasani'}\n"
     ]
    }
   ],
   "source": [
    "print(profile);"
   ]
  },
  {
   "cell_type": "code",
   "execution_count": 50,
   "id": "4c82b796-cdc2-493e-86eb-3e65850d15a8",
   "metadata": {},
   "outputs": [],
   "source": [
    "profile[\"lastName\"] = \"ramasani\";"
   ]
  },
  {
   "cell_type": "code",
   "execution_count": 51,
   "id": "15f174f1-aed9-4470-af06-1f02bff4d562",
   "metadata": {},
   "outputs": [
    {
     "name": "stdout",
     "output_type": "stream",
     "text": [
      "{'firstName': 'Akash', 'middleName': '', 'lastName': 'ramasani'}\n"
     ]
    }
   ],
   "source": [
    "print(profile);"
   ]
  },
  {
   "cell_type": "code",
   "execution_count": 52,
   "id": "54ed47ef-e590-4974-99c0-3ddf313c5d4b",
   "metadata": {},
   "outputs": [],
   "source": [
    "profile[\"lastName\"] = \"Ramasani\";"
   ]
  },
  {
   "cell_type": "code",
   "execution_count": 53,
   "id": "88c97edc-e854-431d-8348-5ed0c49050c5",
   "metadata": {},
   "outputs": [
    {
     "name": "stdout",
     "output_type": "stream",
     "text": [
      "{'firstName': 'Akash', 'middleName': '', 'lastName': 'Ramasani'}\n"
     ]
    }
   ],
   "source": [
    "print(profile);"
   ]
  },
  {
   "cell_type": "markdown",
   "id": "7b85102e-f865-4ce4-9b74-178a2b26bd4d",
   "metadata": {},
   "source": [
    "Update Dictionary - update() method will update the dictionary items from the given argument."
   ]
  },
  {
   "cell_type": "code",
   "execution_count": 55,
   "id": "cc0d24c2-ba5a-46cf-af36-ef70bd54f0d5",
   "metadata": {},
   "outputs": [],
   "source": [
    "profile.update({\"state\": \"Telangana\"});"
   ]
  },
  {
   "cell_type": "code",
   "execution_count": 56,
   "id": "7e6ce840-dd06-4e56-b930-2541f07260c0",
   "metadata": {},
   "outputs": [
    {
     "name": "stdout",
     "output_type": "stream",
     "text": [
      "{'firstName': 'Akash', 'middleName': '', 'lastName': 'Ramasani', 'state': 'Telangana'}\n"
     ]
    }
   ],
   "source": [
    "print(profile);"
   ]
  },
  {
   "cell_type": "markdown",
   "id": "97256022-bbba-4300-a566-9f30ba2fae26",
   "metadata": {},
   "source": [
    "Adding Items - Adding an item to the dictionary is done by using a new index key and assigning a value to it."
   ]
  },
  {
   "cell_type": "code",
   "execution_count": 58,
   "id": "e428abc1-f4aa-457c-8386-805ccc10899c",
   "metadata": {},
   "outputs": [],
   "source": [
    "profile[\"country\"] =  \"India\";"
   ]
  },
  {
   "cell_type": "code",
   "execution_count": 59,
   "id": "41c58af7-170c-4f18-8e05-d27378b3f234",
   "metadata": {},
   "outputs": [
    {
     "name": "stdout",
     "output_type": "stream",
     "text": [
      "{'firstName': 'Akash', 'middleName': '', 'lastName': 'Ramasani', 'state': 'Telangana', 'country': 'India'}\n"
     ]
    }
   ],
   "source": [
    "print(profile);"
   ]
  },
  {
   "cell_type": "markdown",
   "id": "6c647323-cd23-404d-908e-0f976ede5f5a",
   "metadata": {},
   "source": [
    "Remove Items - Pop() method will remove the item with the specified key name."
   ]
  },
  {
   "cell_type": "code",
   "execution_count": 60,
   "id": "6eef286b-94f1-4543-ba22-dd598cd6b2b5",
   "metadata": {},
   "outputs": [],
   "source": [
    "profile.pop(\"country\");"
   ]
  },
  {
   "cell_type": "code",
   "execution_count": 61,
   "id": "72f875eb-03c4-4086-a348-127fb5afd628",
   "metadata": {},
   "outputs": [
    {
     "name": "stdout",
     "output_type": "stream",
     "text": [
      "{'firstName': 'Akash', 'middleName': '', 'lastName': 'Ramasani', 'state': 'Telangana'}\n"
     ]
    }
   ],
   "source": [
    "print(profile);"
   ]
  },
  {
   "cell_type": "code",
   "execution_count": 62,
   "id": "13587da1-99ba-45c8-994f-b78d909bec80",
   "metadata": {},
   "outputs": [],
   "source": [
    "profile.pop(\"state\");"
   ]
  },
  {
   "cell_type": "code",
   "execution_count": 64,
   "id": "9cf9afc0-3629-4ae8-ace0-dc611e7a45e8",
   "metadata": {},
   "outputs": [
    {
     "name": "stdout",
     "output_type": "stream",
     "text": [
      "{'firstName': 'Akash', 'middleName': '', 'lastName': 'Ramasani'}\n"
     ]
    }
   ],
   "source": [
    "print(profile);"
   ]
  },
  {
   "cell_type": "markdown",
   "id": "1503e819-79cc-4377-8203-745dab4a2ecc",
   "metadata": {},
   "source": [
    "popitem() method will remove the last inserted item."
   ]
  },
  {
   "cell_type": "code",
   "execution_count": 65,
   "id": "263b071c-b9fa-4da1-94d4-8945bd55f369",
   "metadata": {},
   "outputs": [
    {
     "name": "stdout",
     "output_type": "stream",
     "text": [
      "('lastName', 'Ramasani')\n"
     ]
    }
   ],
   "source": [
    "print(profile.popitem());"
   ]
  },
  {
   "cell_type": "code",
   "execution_count": 66,
   "id": "2c6a72dd-ec13-4e5f-963f-5b5d2e4cd9fa",
   "metadata": {},
   "outputs": [
    {
     "name": "stdout",
     "output_type": "stream",
     "text": [
      "{'firstName': 'Akash', 'middleName': ''}\n"
     ]
    }
   ],
   "source": [
    "print(profile);"
   ]
  },
  {
   "cell_type": "code",
   "execution_count": 67,
   "id": "c3897303-6566-449d-9fd3-d63025b3afa5",
   "metadata": {},
   "outputs": [
    {
     "name": "stdout",
     "output_type": "stream",
     "text": [
      "('middleName', '')\n"
     ]
    }
   ],
   "source": [
    "print(profile.popitem());"
   ]
  },
  {
   "cell_type": "code",
   "execution_count": 68,
   "id": "7aae93b3-93ed-4b5a-a2d8-eb5af19e3fe0",
   "metadata": {},
   "outputs": [
    {
     "name": "stdout",
     "output_type": "stream",
     "text": [
      "{'firstName': 'Akash'}\n"
     ]
    }
   ],
   "source": [
    "print(profile);"
   ]
  },
  {
   "cell_type": "code",
   "execution_count": 69,
   "id": "71588d81-216a-4a35-bc5c-4c3eda8b96bb",
   "metadata": {},
   "outputs": [
    {
     "name": "stdout",
     "output_type": "stream",
     "text": [
      "('firstName', 'Akash')\n"
     ]
    }
   ],
   "source": [
    "print(profile.popitem());"
   ]
  },
  {
   "cell_type": "code",
   "execution_count": 71,
   "id": "5fa3470e-e3b0-4489-b675-f2e4545f376a",
   "metadata": {},
   "outputs": [
    {
     "name": "stdout",
     "output_type": "stream",
     "text": [
      "{}\n"
     ]
    }
   ],
   "source": [
    "print(profile);"
   ]
  },
  {
   "cell_type": "code",
   "execution_count": 72,
   "id": "317b55bc-bd97-4302-943b-10a39a40baad",
   "metadata": {},
   "outputs": [],
   "source": [
    "del profile;"
   ]
  },
  {
   "cell_type": "code",
   "execution_count": 73,
   "id": "1a727eb2-cace-46b9-ba6f-0d32bf811edc",
   "metadata": {},
   "outputs": [
    {
     "ename": "NameError",
     "evalue": "name 'profile' is not defined",
     "output_type": "error",
     "traceback": [
      "\u001b[1;31m---------------------------------------------------------------------------\u001b[0m",
      "\u001b[1;31mNameError\u001b[0m                                 Traceback (most recent call last)",
      "Cell \u001b[1;32mIn[73], line 1\u001b[0m\n\u001b[1;32m----> 1\u001b[0m \u001b[38;5;28mprint\u001b[39m(\u001b[43mprofile\u001b[49m);\n",
      "\u001b[1;31mNameError\u001b[0m: name 'profile' is not defined"
     ]
    }
   ],
   "source": [
    "print(profile);"
   ]
  },
  {
   "cell_type": "code",
   "execution_count": 75,
   "id": "ddecde01-3976-48f9-b5c9-1bc925425343",
   "metadata": {},
   "outputs": [],
   "source": [
    "profile = {};"
   ]
  },
  {
   "cell_type": "code",
   "execution_count": 76,
   "id": "3ce08fac-7e3f-4268-b759-09814b79e1b8",
   "metadata": {},
   "outputs": [],
   "source": [
    "profile[\"firstName\"] = \"Akash\";"
   ]
  },
  {
   "cell_type": "code",
   "execution_count": 77,
   "id": "ac3a1a35-74df-4568-8ca2-c6e5fb52987e",
   "metadata": {},
   "outputs": [],
   "source": [
    "profile[\"middleName\"] = \"\";"
   ]
  },
  {
   "cell_type": "code",
   "execution_count": 78,
   "id": "fc171cc5-4073-4a35-84d8-5b8d1ccf752f",
   "metadata": {},
   "outputs": [],
   "source": [
    "profile[\"lastName\"] = \"Ramasani\";"
   ]
  },
  {
   "cell_type": "code",
   "execution_count": 79,
   "id": "a34b0527-3c88-48d5-aa39-b8bcf1b3f66a",
   "metadata": {},
   "outputs": [
    {
     "name": "stdout",
     "output_type": "stream",
     "text": [
      "{'firstName': 'Akash', 'middleName': '', 'lastName': 'Ramasani'}\n"
     ]
    }
   ],
   "source": [
    "print(profile);"
   ]
  },
  {
   "cell_type": "markdown",
   "id": "e99d305f-2466-4be5-8c68-7f8b6a0f9033",
   "metadata": {},
   "source": [
    "clear() method empties the dictionary"
   ]
  },
  {
   "cell_type": "code",
   "execution_count": 80,
   "id": "67efd5af-5743-4a2a-a7e3-31eeede60fb2",
   "metadata": {},
   "outputs": [
    {
     "name": "stdout",
     "output_type": "stream",
     "text": [
      "None\n"
     ]
    }
   ],
   "source": [
    "print(profile.clear());"
   ]
  },
  {
   "cell_type": "code",
   "execution_count": 81,
   "id": "88d578fb-3fd3-444b-b1d3-c81590fa2464",
   "metadata": {},
   "outputs": [
    {
     "name": "stdout",
     "output_type": "stream",
     "text": [
      "{}\n"
     ]
    }
   ],
   "source": [
    "print(profile);"
   ]
  },
  {
   "cell_type": "code",
   "execution_count": 82,
   "id": "bb0fdc0c-6fa5-484d-baac-c47bcdd4e782",
   "metadata": {},
   "outputs": [],
   "source": [
    "del profile;"
   ]
  },
  {
   "cell_type": "markdown",
   "id": "2c13f478-3dd7-403e-b0c2-f5b90b0aee4d",
   "metadata": {},
   "source": [
    "Loop Through a Dictionary - you can loop through a dictionary by using a for loop."
   ]
  },
  {
   "cell_type": "code",
   "execution_count": 84,
   "id": "27c39047-49c4-4074-a201-676a50f14c22",
   "metadata": {},
   "outputs": [],
   "source": [
    "profile = {\n",
    "    \"firstName\": \"Akash\",\n",
    "    \"middleName\": \"\",\n",
    "    \"lastName\": \"Ramasani\"\n",
    "};"
   ]
  },
  {
   "cell_type": "code",
   "execution_count": 85,
   "id": "9331c7c2-2afc-47be-96a6-6dd32a7b24bb",
   "metadata": {},
   "outputs": [
    {
     "name": "stdout",
     "output_type": "stream",
     "text": [
      "firstName\n",
      "middleName\n",
      "lastName\n"
     ]
    }
   ],
   "source": [
    "for eachKey in profile:\n",
    "    print(eachKey);"
   ]
  },
  {
   "cell_type": "code",
   "execution_count": 86,
   "id": "9e3184ea-cee4-4f4a-8646-06949498b6af",
   "metadata": {},
   "outputs": [
    {
     "name": "stdout",
     "output_type": "stream",
     "text": [
      "Akash\n",
      "\n",
      "Ramasani\n"
     ]
    }
   ],
   "source": [
    "for eachKey in profile:\n",
    "    print(profile[eachKey]);"
   ]
  },
  {
   "cell_type": "markdown",
   "id": "eeb1e1b4-d2bd-421d-959c-fe7244dadb8d",
   "metadata": {},
   "source": [
    "you can use the values() method to return values of a dictionary"
   ]
  },
  {
   "cell_type": "code",
   "execution_count": 87,
   "id": "a443e1d4-dd83-48ad-af08-66979e03d8f7",
   "metadata": {},
   "outputs": [
    {
     "name": "stdout",
     "output_type": "stream",
     "text": [
      "Akash\n",
      "\n",
      "Ramasani\n"
     ]
    }
   ],
   "source": [
    "for eachValue in profile.values():\n",
    "    print(eachValue);"
   ]
  },
  {
   "cell_type": "markdown",
   "id": "63d9718a-6ffd-4611-9f5d-921944034728",
   "metadata": {},
   "source": [
    "you can use the keys() method to return the keys of a dictionary."
   ]
  },
  {
   "cell_type": "code",
   "execution_count": 89,
   "id": "4ca3f6fe-01da-462c-a6f8-3461bfa8471d",
   "metadata": {},
   "outputs": [
    {
     "name": "stdout",
     "output_type": "stream",
     "text": [
      "firstName\n",
      "middleName\n",
      "lastName\n"
     ]
    }
   ],
   "source": [
    "for eachKey in profile.keys():\n",
    "    print(eachKey);"
   ]
  },
  {
   "cell_type": "markdown",
   "id": "4ab3a232-48d7-4652-b864-8cb54d34773e",
   "metadata": {},
   "source": [
    "you can loop through both keys and values, by using the items() method."
   ]
  },
  {
   "cell_type": "code",
   "execution_count": 91,
   "id": "c00a871b-9d6c-4a77-8a69-1fac56f3b9cc",
   "metadata": {},
   "outputs": [
    {
     "name": "stdout",
     "output_type": "stream",
     "text": [
      "firstName - Akash\n",
      "middleName - \n",
      "lastName - Ramasani\n"
     ]
    }
   ],
   "source": [
    "for eachKey, eachValue in profile.items():\n",
    "    print(eachKey, \"-\", eachValue);"
   ]
  },
  {
   "cell_type": "code",
   "execution_count": 92,
   "id": "01c68489-8ddd-4c7e-9054-ff400c290027",
   "metadata": {},
   "outputs": [],
   "source": [
    "del profile;"
   ]
  },
  {
   "cell_type": "markdown",
   "id": "9313e279-06eb-4448-a0c5-52ec12afcba9",
   "metadata": {},
   "source": [
    "Copy of a Dictonary"
   ]
  },
  {
   "cell_type": "code",
   "execution_count": null,
   "id": "59f99969-3457-475b-b04a-86cdb066c126",
   "metadata": {},
   "outputs": [],
   "source": []
  }
 ],
 "metadata": {
  "kernelspec": {
   "display_name": "Python 3 (ipykernel)",
   "language": "python",
   "name": "python3"
  },
  "language_info": {
   "codemirror_mode": {
    "name": "ipython",
    "version": 3
   },
   "file_extension": ".py",
   "mimetype": "text/x-python",
   "name": "python",
   "nbconvert_exporter": "python",
   "pygments_lexer": "ipython3",
   "version": "3.11.6"
  }
 },
 "nbformat": 4,
 "nbformat_minor": 5
}
