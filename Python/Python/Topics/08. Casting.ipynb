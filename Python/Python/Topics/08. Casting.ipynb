{
 "cells": [
  {
   "cell_type": "code",
   "execution_count": 1,
   "id": "4214bffd-147b-485c-b0a7-d0059a77dc10",
   "metadata": {},
   "outputs": [],
   "source": [
    "age = int(22);"
   ]
  },
  {
   "cell_type": "code",
   "execution_count": 2,
   "id": "202ab6df-f2d4-4106-9e53-658aca821b2a",
   "metadata": {},
   "outputs": [
    {
     "name": "stdout",
     "output_type": "stream",
     "text": [
      "22\n"
     ]
    }
   ],
   "source": [
    "print(age);"
   ]
  },
  {
   "cell_type": "code",
   "execution_count": 3,
   "id": "bf5181ff-0bb0-48cb-b16c-244b3aba961c",
   "metadata": {},
   "outputs": [],
   "source": [
    "age = int(2.8);"
   ]
  },
  {
   "cell_type": "code",
   "execution_count": 4,
   "id": "18c34b51-3501-422b-9087-949cf17bd176",
   "metadata": {},
   "outputs": [
    {
     "name": "stdout",
     "output_type": "stream",
     "text": [
      "2\n"
     ]
    }
   ],
   "source": [
    "print(age);"
   ]
  },
  {
   "cell_type": "code",
   "execution_count": 5,
   "id": "f4e99d14-1910-4611-b302-0f15390b2ef1",
   "metadata": {},
   "outputs": [],
   "source": [
    "age = int(\"3\");"
   ]
  },
  {
   "cell_type": "code",
   "execution_count": 6,
   "id": "dc65e20c-2731-4479-a41b-d9ef8e3aecae",
   "metadata": {},
   "outputs": [
    {
     "name": "stdout",
     "output_type": "stream",
     "text": [
      "3\n"
     ]
    }
   ],
   "source": [
    "print(age);"
   ]
  },
  {
   "cell_type": "code",
   "execution_count": 7,
   "id": "48a00fa6-21e7-489f-b4cf-d65951ce24aa",
   "metadata": {},
   "outputs": [
    {
     "ename": "ValueError",
     "evalue": "invalid literal for int() with base 10: 'three'",
     "output_type": "error",
     "traceback": [
      "\u001b[1;31m---------------------------------------------------------------------------\u001b[0m",
      "\u001b[1;31mValueError\u001b[0m                                Traceback (most recent call last)",
      "Cell \u001b[1;32mIn[7], line 1\u001b[0m\n\u001b[1;32m----> 1\u001b[0m age \u001b[38;5;241m=\u001b[39m \u001b[38;5;28;43mint\u001b[39;49m\u001b[43m(\u001b[49m\u001b[38;5;124;43m\"\u001b[39;49m\u001b[38;5;124;43mthree\u001b[39;49m\u001b[38;5;124;43m\"\u001b[39;49m\u001b[43m)\u001b[49m;\n",
      "\u001b[1;31mValueError\u001b[0m: invalid literal for int() with base 10: 'three'"
     ]
    }
   ],
   "source": [
    "age = int(\"three\");"
   ]
  },
  {
   "cell_type": "code",
   "execution_count": 8,
   "id": "ecdd8372-88c6-4d8c-b6c9-6c60b9306053",
   "metadata": {},
   "outputs": [],
   "source": [
    "price = float(22);"
   ]
  },
  {
   "cell_type": "code",
   "execution_count": 9,
   "id": "d9176d2a-ea4d-4630-89a7-3139cb58f316",
   "metadata": {},
   "outputs": [
    {
     "name": "stdout",
     "output_type": "stream",
     "text": [
      "22.0\n"
     ]
    }
   ],
   "source": [
    "print(price);"
   ]
  },
  {
   "cell_type": "code",
   "execution_count": 10,
   "id": "cde02d61-f6e9-443c-8e96-610b658cf54f",
   "metadata": {},
   "outputs": [],
   "source": [
    "price = float(22.7);"
   ]
  },
  {
   "cell_type": "code",
   "execution_count": 11,
   "id": "3b0f4ea3-ab4e-4170-a73f-e7e1d2f500c3",
   "metadata": {},
   "outputs": [
    {
     "name": "stdout",
     "output_type": "stream",
     "text": [
      "22.7\n"
     ]
    }
   ],
   "source": [
    "print(price);"
   ]
  },
  {
   "cell_type": "code",
   "execution_count": 12,
   "id": "c4a3343d-6ef1-4212-ae16-ab34550fe85e",
   "metadata": {},
   "outputs": [],
   "source": [
    "price = float(\"99.2\");"
   ]
  },
  {
   "cell_type": "code",
   "execution_count": 13,
   "id": "8d0d7a10-9c8f-4350-bf64-bb0bb274f98d",
   "metadata": {},
   "outputs": [
    {
     "name": "stdout",
     "output_type": "stream",
     "text": [
      "99.2\n"
     ]
    }
   ],
   "source": [
    "print(price);"
   ]
  },
  {
   "cell_type": "code",
   "execution_count": 14,
   "id": "934b98ca-9a5d-4ed3-99eb-3656fcadb4ed",
   "metadata": {},
   "outputs": [],
   "source": [
    "price = float(\"69\");"
   ]
  },
  {
   "cell_type": "code",
   "execution_count": 15,
   "id": "95bfd1df-f942-4e26-a19a-2a924db33eb3",
   "metadata": {},
   "outputs": [
    {
     "name": "stdout",
     "output_type": "stream",
     "text": [
      "69.0\n"
     ]
    }
   ],
   "source": [
    "print(price);"
   ]
  },
  {
   "cell_type": "code",
   "execution_count": 16,
   "id": "9d348626-d26d-4cdd-a3e2-3149ede5281e",
   "metadata": {},
   "outputs": [],
   "source": [
    "firstName = str(\"Akash\");"
   ]
  },
  {
   "cell_type": "code",
   "execution_count": 17,
   "id": "fb4a8651-7324-425e-95f8-fb7b53d27c76",
   "metadata": {},
   "outputs": [
    {
     "name": "stdout",
     "output_type": "stream",
     "text": [
      "Akash\n"
     ]
    }
   ],
   "source": [
    "print(firstName);"
   ]
  },
  {
   "cell_type": "code",
   "execution_count": 19,
   "id": "2b58e8a4-e1ac-4579-b5be-06006e4588bf",
   "metadata": {},
   "outputs": [],
   "source": [
    "firstName = str(2);"
   ]
  },
  {
   "cell_type": "code",
   "execution_count": 20,
   "id": "390b0110-712f-4f65-b181-0c279593c00a",
   "metadata": {},
   "outputs": [
    {
     "name": "stdout",
     "output_type": "stream",
     "text": [
      "2\n"
     ]
    }
   ],
   "source": [
    "print(firstName);"
   ]
  },
  {
   "cell_type": "code",
   "execution_count": 21,
   "id": "27bc7a8c-f6f7-4c2c-a362-8ecce225b80c",
   "metadata": {},
   "outputs": [
    {
     "name": "stdout",
     "output_type": "stream",
     "text": [
      "<class 'str'>\n"
     ]
    }
   ],
   "source": [
    "print(type(firstName));"
   ]
  },
  {
   "cell_type": "code",
   "execution_count": 22,
   "id": "e8109a56-ce80-4893-8522-504ef9ec3140",
   "metadata": {},
   "outputs": [],
   "source": [
    "firstName = str(3.0);"
   ]
  },
  {
   "cell_type": "code",
   "execution_count": 24,
   "id": "31f43a85-2cda-43e4-a27a-9018ddc9373d",
   "metadata": {},
   "outputs": [
    {
     "name": "stdout",
     "output_type": "stream",
     "text": [
      "<class 'str'> 3.0\n"
     ]
    }
   ],
   "source": [
    "print(type(firstName), firstName);"
   ]
  }
 ],
 "metadata": {
  "kernelspec": {
   "display_name": "Python 3 (ipykernel)",
   "language": "python",
   "name": "python3"
  },
  "language_info": {
   "codemirror_mode": {
    "name": "ipython",
    "version": 3
   },
   "file_extension": ".py",
   "mimetype": "text/x-python",
   "name": "python",
   "nbconvert_exporter": "python",
   "pygments_lexer": "ipython3",
   "version": "3.11.6"
  }
 },
 "nbformat": 4,
 "nbformat_minor": 5
}
