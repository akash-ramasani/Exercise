{
 "cells": [
  {
   "cell_type": "code",
   "execution_count": 1,
   "id": "3d913590-6269-4c78-b22f-585d3bd17873",
   "metadata": {},
   "outputs": [],
   "source": [
    "class Profile:\n",
    "    firstName = \"Akash\""
   ]
  },
  {
   "cell_type": "code",
   "execution_count": 2,
   "id": "b2d38498-f228-414c-ab85-89ace90657d0",
   "metadata": {},
   "outputs": [],
   "source": [
    "Akash = Profile();"
   ]
  },
  {
   "cell_type": "code",
   "execution_count": 3,
   "id": "61f4924c-ea63-4542-8bf8-1c8cdca8c844",
   "metadata": {},
   "outputs": [
    {
     "name": "stdout",
     "output_type": "stream",
     "text": [
      "Akash\n"
     ]
    }
   ],
   "source": [
    "print(Akash.firstName);"
   ]
  },
  {
   "cell_type": "code",
   "execution_count": 4,
   "id": "0bf80474-c06a-49c1-8577-fd3612c510f4",
   "metadata": {},
   "outputs": [],
   "source": [
    "class Profile:\n",
    "    def __init__(self, firstName, middleName, lastName):\n",
    "        self.firstName = firstName\n",
    "        self.middleName = middleName\n",
    "        self.lastName =  lastName"
   ]
  },
  {
   "cell_type": "code",
   "execution_count": 6,
   "id": "f0f0c01d-7c38-484d-8fb4-0d0e530c0322",
   "metadata": {},
   "outputs": [],
   "source": [
    "Akash = Profile(\"Akash\", \"\", \"Ramasani\");"
   ]
  },
  {
   "cell_type": "code",
   "execution_count": 7,
   "id": "ffa3fe34-1d7d-4d04-9dcf-734c892c2a4c",
   "metadata": {},
   "outputs": [
    {
     "name": "stdout",
     "output_type": "stream",
     "text": [
      "<__main__.Profile object at 0x000002012AB42590>\n"
     ]
    }
   ],
   "source": [
    "print(Akash);"
   ]
  },
  {
   "cell_type": "code",
   "execution_count": 8,
   "id": "b1955196-7ab8-4eb1-85cd-539a12931392",
   "metadata": {},
   "outputs": [
    {
     "name": "stdout",
     "output_type": "stream",
     "text": [
      "Akash\n"
     ]
    }
   ],
   "source": [
    "print(Akash.firstName);"
   ]
  },
  {
   "cell_type": "code",
   "execution_count": 9,
   "id": "3acb8aa7-3f18-416d-9572-69381f7af56b",
   "metadata": {},
   "outputs": [
    {
     "name": "stdout",
     "output_type": "stream",
     "text": [
      "\n"
     ]
    }
   ],
   "source": [
    "print(Akash.middleName);"
   ]
  },
  {
   "cell_type": "code",
   "execution_count": 10,
   "id": "b86c194f-48d7-4e30-b7f0-be228191c4d1",
   "metadata": {},
   "outputs": [
    {
     "name": "stdout",
     "output_type": "stream",
     "text": [
      "Ramasani\n"
     ]
    }
   ],
   "source": [
    "print(Akash.lastName);"
   ]
  },
  {
   "cell_type": "code",
   "execution_count": 11,
   "id": "822e6b30-223c-4404-9bfe-d9d87e51300c",
   "metadata": {},
   "outputs": [],
   "source": [
    "del Profile;"
   ]
  },
  {
   "cell_type": "code",
   "execution_count": 12,
   "id": "debf7920-d8c8-4cd2-92a0-8edfb4211649",
   "metadata": {},
   "outputs": [
    {
     "name": "stdout",
     "output_type": "stream",
     "text": [
      "<__main__.Profile object at 0x000002012AB42590>\n"
     ]
    }
   ],
   "source": [
    "print(Akash);"
   ]
  },
  {
   "cell_type": "code",
   "execution_count": 25,
   "id": "b4fe8754-f694-4ea7-a2ab-aba2d52fc3a2",
   "metadata": {},
   "outputs": [],
   "source": [
    "class Profile:\n",
    "    def __init__(self, firstName, middleName, lastName):\n",
    "        self.firstName = firstName\n",
    "        self.middleName = middleName\n",
    "        self.lastName = lastName\n",
    "\n",
    "    def __str__(self):\n",
    "        return f\"{self.firstName} -  {self.middleName} - {self.lastName}\"\n",
    "\n",
    "    def fullName(self):\n",
    "        return self.firstName + \" \" + self.lastName if not self.middleName else self.firstName + \" \" + self.middleName + \" \" + self.lastName;"
   ]
  },
  {
   "cell_type": "code",
   "execution_count": 26,
   "id": "9f1cc4dc-d560-4238-a543-a9d32258f28f",
   "metadata": {},
   "outputs": [],
   "source": [
    "Akash = Profile(\"Akash\", \"\", \"Ramasani\");"
   ]
  },
  {
   "cell_type": "code",
   "execution_count": 27,
   "id": "fc151dee-3cf2-47e4-86aa-1d58c87f1846",
   "metadata": {},
   "outputs": [],
   "source": [
    "Elon = Profile(\"Elon\", \"\", \"Musk\");"
   ]
  },
  {
   "cell_type": "code",
   "execution_count": 28,
   "id": "02e72a2d-65ce-4054-be71-dee2a0f5a4f2",
   "metadata": {},
   "outputs": [
    {
     "name": "stdout",
     "output_type": "stream",
     "text": [
      "Akash -   - Ramasani Elon -   - Musk\n"
     ]
    }
   ],
   "source": [
    "print(Akash, Elon);"
   ]
  },
  {
   "cell_type": "code",
   "execution_count": 30,
   "id": "0a410d96-ba7d-426e-8b2f-3e6aa71b5b66",
   "metadata": {},
   "outputs": [
    {
     "name": "stdout",
     "output_type": "stream",
     "text": [
      "Akash Ramasani\n"
     ]
    }
   ],
   "source": [
    "print(Akash.fullName());"
   ]
  },
  {
   "cell_type": "markdown",
   "id": "5a42a7c8-d9ee-4e4d-a602-214ff9cec4c0",
   "metadata": {},
   "source": [
    "Create a Simple Class\n",
    "\n",
    "Define a class named Person with two attributes: name and age.\n",
    "Write a method in the Person class called greet that returns a greeting message including the person's name."
   ]
  },
  {
   "cell_type": "code",
   "execution_count": 31,
   "id": "18867c64-52bc-4145-811f-4b61baf145e9",
   "metadata": {},
   "outputs": [],
   "source": [
    "class Person:\n",
    "    def __init__(self, name, age):\n",
    "        self.name = name\n",
    "        self.age = age\n",
    "\n",
    "    def greet(self):\n",
    "        return f\"Hello, {self.name}\""
   ]
  },
  {
   "cell_type": "code",
   "execution_count": 33,
   "id": "67f41a00-4b53-4451-a649-31a0b96482ad",
   "metadata": {},
   "outputs": [],
   "source": [
    "Akash = Person(\"Akash Ramasani\", 22);"
   ]
  },
  {
   "cell_type": "code",
   "execution_count": 34,
   "id": "990a9ec9-0209-4075-880f-2018a8bf6fb9",
   "metadata": {},
   "outputs": [
    {
     "name": "stdout",
     "output_type": "stream",
     "text": [
      "Hello, Akash Ramasani\n"
     ]
    }
   ],
   "source": [
    "print(Akash.greet());"
   ]
  },
  {
   "cell_type": "markdown",
   "id": "1d04e338-73f7-46cb-9b28-c5ad1ec0c494",
   "metadata": {},
   "source": [
    "Inheritance"
   ]
  },
  {
   "cell_type": "code",
   "execution_count": 36,
   "id": "fdfa6498-87df-4f70-8e68-a007e48783c4",
   "metadata": {},
   "outputs": [],
   "source": [
    "class Person:\n",
    "    def __inti__(self, firstName, middleName, lastName, placeOfBirth, birthDay, birthMonth, birthYear):\n",
    "        self.firstName = firstName\n",
    "        self.middleName = middleName\n",
    "        self.lastName = lastName\n",
    "        self.placeOfBirth = placeOfBirth\n",
    "        self.birthDay = birthDay\n",
    "        self.birthMonth = birthMonth\n",
    "        self.birthYear = birthYear\n",
    "\n",
    "    def fullName(self):\n",
    "        return self.firstName + \" \" + self.lastName if not self.middleName else self.firstName + \" \" + self.middleName + \" \" + self.lastName;\n",
    "\n",
    "    def __str__(self):\n",
    "        return f\"{self.firstName}\";"
   ]
  },
  {
   "cell_type": "code",
   "execution_count": null,
   "id": "65331581-4534-40a6-aaeb-62ae9c757f92",
   "metadata": {},
   "outputs": [],
   "source": [
    "class Student(Person):\n",
    "    def __init__(self, joiningDate):\n",
    "        self.joiningDate = joiningDate\n",
    "\n",
    "    "
   ]
  }
 ],
 "metadata": {
  "kernelspec": {
   "display_name": "Python 3 (ipykernel)",
   "language": "python",
   "name": "python3"
  },
  "language_info": {
   "codemirror_mode": {
    "name": "ipython",
    "version": 3
   },
   "file_extension": ".py",
   "mimetype": "text/x-python",
   "name": "python",
   "nbconvert_exporter": "python",
   "pygments_lexer": "ipython3",
   "version": "3.11.6"
  }
 },
 "nbformat": 4,
 "nbformat_minor": 5
}
