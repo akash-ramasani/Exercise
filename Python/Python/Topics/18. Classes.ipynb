{
 "cells": [
  {
   "cell_type": "code",
   "execution_count": 1,
   "id": "03ea9756-7fb4-44f6-b842-f0bdeecc4b9e",
   "metadata": {},
   "outputs": [],
   "source": [
    "class Profile:\n",
    "    firstName = \"Akash\";"
   ]
  },
  {
   "cell_type": "code",
   "execution_count": 4,
   "id": "6534bd87-f5c0-43f0-b6e0-428dd40b5c02",
   "metadata": {},
   "outputs": [
    {
     "name": "stdout",
     "output_type": "stream",
     "text": [
      "Akash\n"
     ]
    }
   ],
   "source": [
    "print(Profile().firstName);"
   ]
  },
  {
   "cell_type": "code",
   "execution_count": 5,
   "id": "eac39beb-6ed2-444a-ae75-bd466daaa3ae",
   "metadata": {},
   "outputs": [],
   "source": [
    "Profile().firstName = \"Jack\";"
   ]
  },
  {
   "cell_type": "code",
   "execution_count": 6,
   "id": "e0b9b98c-b77f-43f5-9b4a-e0e4ab8bf0f5",
   "metadata": {},
   "outputs": [
    {
     "name": "stdout",
     "output_type": "stream",
     "text": [
      "Akash\n"
     ]
    }
   ],
   "source": [
    "print(Profile().firstName);"
   ]
  },
  {
   "cell_type": "code",
   "execution_count": null,
   "id": "3d913590-6269-4c78-b22f-585d3bd17873",
   "metadata": {},
   "outputs": [],
   "source": []
  }
 ],
 "metadata": {
  "kernelspec": {
   "display_name": "Python 3 (ipykernel)",
   "language": "python",
   "name": "python3"
  },
  "language_info": {
   "codemirror_mode": {
    "name": "ipython",
    "version": 3
   },
   "file_extension": ".py",
   "mimetype": "text/x-python",
   "name": "python",
   "nbconvert_exporter": "python",
   "pygments_lexer": "ipython3",
   "version": "3.11.6"
  }
 },
 "nbformat": 4,
 "nbformat_minor": 5
}
