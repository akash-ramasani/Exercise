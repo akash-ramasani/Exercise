{
 "cells": [
  {
   "cell_type": "code",
   "execution_count": 1,
   "id": "d2a11bca-42f5-449a-a842-354c0596ed5e",
   "metadata": {},
   "outputs": [],
   "source": [
    "names = (\"Akash\", \"\", \"Ramasani\");"
   ]
  },
  {
   "cell_type": "code",
   "execution_count": 2,
   "id": "c8d53d99-44e7-421a-a68b-f4cab7308752",
   "metadata": {},
   "outputs": [
    {
     "name": "stdout",
     "output_type": "stream",
     "text": [
      "('Akash', '', 'Ramasani')\n"
     ]
    }
   ],
   "source": [
    "print(names);"
   ]
  },
  {
   "cell_type": "code",
   "execution_count": 3,
   "id": "482f1734-a20c-4b1f-a165-e194fee924c9",
   "metadata": {},
   "outputs": [
    {
     "name": "stdout",
     "output_type": "stream",
     "text": [
      "Akash\n"
     ]
    }
   ],
   "source": [
    "print(names[0]);"
   ]
  },
  {
   "cell_type": "code",
   "execution_count": 4,
   "id": "ebc5ba00-992f-4eaf-a8e4-6dc613875723",
   "metadata": {},
   "outputs": [
    {
     "name": "stdout",
     "output_type": "stream",
     "text": [
      "Akash  Ramasani\n"
     ]
    }
   ],
   "source": [
    "print(names[0], names[1], names[2]);"
   ]
  },
  {
   "cell_type": "code",
   "execution_count": 5,
   "id": "f42cd38c-8953-491a-ba06-277797abb1ab",
   "metadata": {},
   "outputs": [
    {
     "ename": "TypeError",
     "evalue": "'tuple' object does not support item assignment",
     "output_type": "error",
     "traceback": [
      "\u001b[1;31m---------------------------------------------------------------------------\u001b[0m",
      "\u001b[1;31mTypeError\u001b[0m                                 Traceback (most recent call last)",
      "Cell \u001b[1;32mIn[5], line 1\u001b[0m\n\u001b[1;32m----> 1\u001b[0m \u001b[43mnames\u001b[49m\u001b[43m[\u001b[49m\u001b[38;5;241;43m1\u001b[39;49m\u001b[43m]\u001b[49m \u001b[38;5;241m=\u001b[39m \u001b[38;5;124m\"\u001b[39m\u001b[38;5;124mN\u001b[39m\u001b[38;5;124m\"\u001b[39m;\n",
      "\u001b[1;31mTypeError\u001b[0m: 'tuple' object does not support item assignment"
     ]
    }
   ],
   "source": [
    "names[1] = \"N\";"
   ]
  },
  {
   "cell_type": "code",
   "execution_count": 6,
   "id": "2b069968-ce3b-4463-b098-da93a2dd3442",
   "metadata": {},
   "outputs": [
    {
     "ename": "AttributeError",
     "evalue": "'tuple' object has no attribute 'append'",
     "output_type": "error",
     "traceback": [
      "\u001b[1;31m---------------------------------------------------------------------------\u001b[0m",
      "\u001b[1;31mAttributeError\u001b[0m                            Traceback (most recent call last)",
      "Cell \u001b[1;32mIn[6], line 1\u001b[0m\n\u001b[1;32m----> 1\u001b[0m \u001b[43mnames\u001b[49m\u001b[38;5;241;43m.\u001b[39;49m\u001b[43mappend\u001b[49m(\u001b[38;5;124m\"\u001b[39m\u001b[38;5;124mMale\u001b[39m\u001b[38;5;124m\"\u001b[39m);\n",
      "\u001b[1;31mAttributeError\u001b[0m: 'tuple' object has no attribute 'append'"
     ]
    }
   ],
   "source": [
    "names.append(\"Male\");"
   ]
  },
  {
   "cell_type": "code",
   "execution_count": 7,
   "id": "38b09475-58b1-4f68-b3fd-d10332a87a48",
   "metadata": {},
   "outputs": [
    {
     "name": "stdout",
     "output_type": "stream",
     "text": [
      "3\n"
     ]
    }
   ],
   "source": [
    "print(len(names));"
   ]
  },
  {
   "cell_type": "code",
   "execution_count": 8,
   "id": "d1ccaa22-d767-4766-b494-c01ec68a90ee",
   "metadata": {},
   "outputs": [
    {
     "name": "stdout",
     "output_type": "stream",
     "text": [
      "<class 'tuple'>\n"
     ]
    }
   ],
   "source": [
    "print(type(names));"
   ]
  },
  {
   "cell_type": "markdown",
   "id": "13dbd154-c29d-479a-8fa6-1b9655a27908",
   "metadata": {},
   "source": [
    "Create Tuple with One Item"
   ]
  },
  {
   "cell_type": "code",
   "execution_count": 9,
   "id": "a5587523-d9f6-4691-a30b-007fadef9641",
   "metadata": {},
   "outputs": [],
   "source": [
    "firstName = (\"Akash\");"
   ]
  },
  {
   "cell_type": "code",
   "execution_count": 10,
   "id": "c1917706-9bed-49c7-8936-a0c4342d2496",
   "metadata": {},
   "outputs": [
    {
     "name": "stdout",
     "output_type": "stream",
     "text": [
      "Akash\n"
     ]
    }
   ],
   "source": [
    "print(firstName);"
   ]
  },
  {
   "cell_type": "code",
   "execution_count": 11,
   "id": "6ebcaf0a-5634-49be-8143-4d6255749e0b",
   "metadata": {},
   "outputs": [
    {
     "name": "stdout",
     "output_type": "stream",
     "text": [
      "<class 'str'>\n"
     ]
    }
   ],
   "source": [
    "print(type(firstName));"
   ]
  },
  {
   "cell_type": "code",
   "execution_count": 12,
   "id": "b24fc8eb-1d11-49b9-8ace-500a685f00ec",
   "metadata": {},
   "outputs": [],
   "source": [
    "firstName = (\"Akash\",);"
   ]
  },
  {
   "cell_type": "code",
   "execution_count": 13,
   "id": "bee735c3-a23a-4a04-928d-fb72d81fac8f",
   "metadata": {},
   "outputs": [
    {
     "name": "stdout",
     "output_type": "stream",
     "text": [
      "('Akash',)\n"
     ]
    }
   ],
   "source": [
    "print(firstName);"
   ]
  },
  {
   "cell_type": "code",
   "execution_count": 14,
   "id": "cffef5fd-f008-4721-a709-854330f7e840",
   "metadata": {},
   "outputs": [
    {
     "name": "stdout",
     "output_type": "stream",
     "text": [
      "<class 'tuple'>\n"
     ]
    }
   ],
   "source": [
    "print(type(firstName));"
   ]
  },
  {
   "cell_type": "markdown",
   "id": "35cb5a57-fed4-408f-96a9-578e9ff09db5",
   "metadata": {},
   "source": [
    "Tuple Items - Data Types"
   ]
  },
  {
   "cell_type": "code",
   "execution_count": 15,
   "id": "81565f76-be3f-4063-8866-ccfe9447cedc",
   "metadata": {},
   "outputs": [],
   "source": [
    "stringTuple = (\"Akash\", \"\", \"Ramasani\");\n",
    "intTuple = (21, 5, 87, 99);\n",
    "booleanTuple = (True, False);"
   ]
  },
  {
   "cell_type": "code",
   "execution_count": 16,
   "id": "3c5a531a-62a3-4112-bfdb-0daea7f98f42",
   "metadata": {},
   "outputs": [
    {
     "name": "stdout",
     "output_type": "stream",
     "text": [
      "('Akash', '', 'Ramasani') (21, 5, 87, 99) (True, False)\n"
     ]
    }
   ],
   "source": [
    "print(stringTuple, intTuple, booleanTuple);"
   ]
  },
  {
   "cell_type": "code",
   "execution_count": 17,
   "id": "059d3112-442c-4747-bafb-f722ca4d8da1",
   "metadata": {},
   "outputs": [
    {
     "name": "stdout",
     "output_type": "stream",
     "text": [
      "<class 'tuple'> <class 'tuple'> <class 'tuple'>\n"
     ]
    }
   ],
   "source": [
    "print(type(stringTuple), type(intTuple), type(booleanTuple));"
   ]
  },
  {
   "cell_type": "code",
   "execution_count": 18,
   "id": "ed8f334b-82f7-4dc0-87d8-56b65797ac77",
   "metadata": {},
   "outputs": [],
   "source": [
    "mixedTuple = (\"Akash\", \"\", \"Ramasani\", 27, \"May\", \"2001\", True);"
   ]
  },
  {
   "cell_type": "code",
   "execution_count": 19,
   "id": "8a3f396d-1abb-4a7c-8efe-5e7b6a4bd3bf",
   "metadata": {},
   "outputs": [
    {
     "name": "stdout",
     "output_type": "stream",
     "text": [
      "('Akash', '', 'Ramasani', 27, 'May', '2001', True)\n"
     ]
    }
   ],
   "source": [
    "print(mixedTuple);"
   ]
  },
  {
   "cell_type": "code",
   "execution_count": 20,
   "id": "25c3ab24-e4d4-4cd2-816d-aa5720ce8da9",
   "metadata": {},
   "outputs": [
    {
     "name": "stdout",
     "output_type": "stream",
     "text": [
      "<class 'tuple'>\n"
     ]
    }
   ],
   "source": [
    "print(type(mixedTuple));"
   ]
  },
  {
   "cell_type": "markdown",
   "id": "4ad82b64-9369-44e4-940d-48a1f07c1716",
   "metadata": {},
   "source": [
    "Tuple Constructor"
   ]
  },
  {
   "cell_type": "code",
   "execution_count": 21,
   "id": "87ef3084-c784-4767-8888-b845a01e2915",
   "metadata": {},
   "outputs": [],
   "source": [
    "profile = tuple((\"Akash\", \"Ramasani\", 27, \"May\", 2001, True));"
   ]
  },
  {
   "cell_type": "code",
   "execution_count": 22,
   "id": "8475448f-16e1-4859-8531-20f426ef0f4c",
   "metadata": {},
   "outputs": [
    {
     "name": "stdout",
     "output_type": "stream",
     "text": [
      "('Akash', 'Ramasani', 27, 'May', 2001, True)\n"
     ]
    }
   ],
   "source": [
    "print(profile);"
   ]
  },
  {
   "cell_type": "code",
   "execution_count": 23,
   "id": "d34c2af3-bbfe-4cbe-857a-3309fb9e64de",
   "metadata": {},
   "outputs": [
    {
     "name": "stdout",
     "output_type": "stream",
     "text": [
      "<class 'tuple'>\n"
     ]
    }
   ],
   "source": [
    "print(type(profile));"
   ]
  },
  {
   "cell_type": "markdown",
   "id": "3c95a7e0-6847-4f7c-96f9-9c27da57b858",
   "metadata": {},
   "source": [
    "Access Tuples"
   ]
  },
  {
   "cell_type": "code",
   "execution_count": 24,
   "id": "363b067f-d6fe-4c87-aafa-1adb68ed27f3",
   "metadata": {},
   "outputs": [
    {
     "name": "stdout",
     "output_type": "stream",
     "text": [
      "('Akash', 'Ramasani', 27, 'May', 2001, True)\n"
     ]
    }
   ],
   "source": [
    "print(profile);"
   ]
  },
  {
   "cell_type": "code",
   "execution_count": 25,
   "id": "ae4ae920-75b6-4f94-bb92-c12754208ae1",
   "metadata": {},
   "outputs": [
    {
     "name": "stdout",
     "output_type": "stream",
     "text": [
      "Akash Ramasani\n"
     ]
    }
   ],
   "source": [
    "print(profile[0], profile[1]);"
   ]
  },
  {
   "cell_type": "code",
   "execution_count": 26,
   "id": "9ae0e318-e199-49c2-8567-28b3fbc4b91f",
   "metadata": {},
   "outputs": [
    {
     "name": "stdout",
     "output_type": "stream",
     "text": [
      "27 May 2001\n"
     ]
    }
   ],
   "source": [
    "print(profile[2], profile[3], profile[4]);"
   ]
  },
  {
   "cell_type": "code",
   "execution_count": 27,
   "id": "ce9de5ec-1323-4878-ba1f-8a55c7fed0ff",
   "metadata": {},
   "outputs": [
    {
     "name": "stdout",
     "output_type": "stream",
     "text": [
      "('Akash', 'Ramasani', 27, 'May', 2001, True)\n"
     ]
    }
   ],
   "source": [
    "print(profile);"
   ]
  },
  {
   "cell_type": "markdown",
   "id": "ad48e072-82c7-435b-b6c7-7674c1a6857a",
   "metadata": {},
   "source": [
    "Negative Indexing"
   ]
  },
  {
   "cell_type": "code",
   "execution_count": 28,
   "id": "2ddbafc5-a814-4ae6-911f-5b1b26f36e69",
   "metadata": {},
   "outputs": [
    {
     "name": "stdout",
     "output_type": "stream",
     "text": [
      "True\n"
     ]
    }
   ],
   "source": [
    "print(profile[-1]);"
   ]
  },
  {
   "cell_type": "code",
   "execution_count": 29,
   "id": "293a778b-4440-4fee-a940-7876925610ed",
   "metadata": {},
   "outputs": [
    {
     "name": "stdout",
     "output_type": "stream",
     "text": [
      "2001 May 27\n"
     ]
    }
   ],
   "source": [
    "print(profile[-2], profile[-3], profile[-4]);"
   ]
  },
  {
   "cell_type": "code",
   "execution_count": 30,
   "id": "0e5ad2ac-59ea-47f2-952a-3208fbb6f57d",
   "metadata": {},
   "outputs": [
    {
     "name": "stdout",
     "output_type": "stream",
     "text": [
      "27 May 2001\n"
     ]
    }
   ],
   "source": [
    "print(profile[-4], profile[-3], profile[-2]);"
   ]
  },
  {
   "cell_type": "code",
   "execution_count": 31,
   "id": "13e9936e-6292-4a30-abc4-d50180f10a00",
   "metadata": {},
   "outputs": [
    {
     "name": "stdout",
     "output_type": "stream",
     "text": [
      "Ramasani Akash\n"
     ]
    }
   ],
   "source": [
    "print(profile[-5], profile[-6]);"
   ]
  },
  {
   "cell_type": "code",
   "execution_count": 32,
   "id": "95cdc340-93ab-4ff6-843b-0aca6ae14303",
   "metadata": {},
   "outputs": [
    {
     "name": "stdout",
     "output_type": "stream",
     "text": [
      "Akash Ramasani\n"
     ]
    }
   ],
   "source": [
    "print(profile[-6], profile[-5]);"
   ]
  },
  {
   "cell_type": "markdown",
   "id": "f4d10ca0-2c2b-4cc1-8673-6e106f2c32ec",
   "metadata": {},
   "source": [
    "Range of Indexes"
   ]
  },
  {
   "cell_type": "code",
   "execution_count": 33,
   "id": "f80859b0-91ac-4239-a27d-54691495a2f3",
   "metadata": {},
   "outputs": [
    {
     "name": "stdout",
     "output_type": "stream",
     "text": [
      "('Akash', 'Ramasani', 27, 'May', 2001, True)\n"
     ]
    }
   ],
   "source": [
    "print(profile);"
   ]
  },
  {
   "cell_type": "code",
   "execution_count": 34,
   "id": "329f6054-f278-41ae-abfe-f9241d3b34b6",
   "metadata": {},
   "outputs": [
    {
     "ename": "SyntaxError",
     "evalue": "invalid syntax. Perhaps you forgot a comma? (1597481130.py, line 1)",
     "output_type": "error",
     "traceback": [
      "\u001b[1;36m  Cell \u001b[1;32mIn[34], line 1\u001b[1;36m\u001b[0m\n\u001b[1;33m    print(profile[]);\u001b[0m\n\u001b[1;37m          ^\u001b[0m\n\u001b[1;31mSyntaxError\u001b[0m\u001b[1;31m:\u001b[0m invalid syntax. Perhaps you forgot a comma?\n"
     ]
    }
   ],
   "source": [
    "print(profile[]);"
   ]
  },
  {
   "cell_type": "code",
   "execution_count": 35,
   "id": "3a705bb1-004b-4a68-b1dd-9f6307f9499e",
   "metadata": {},
   "outputs": [
    {
     "name": "stdout",
     "output_type": "stream",
     "text": [
      "('Akash', 'Ramasani', 27, 'May', 2001, True)\n"
     ]
    }
   ],
   "source": [
    "print(profile[:]);"
   ]
  },
  {
   "cell_type": "code",
   "execution_count": 36,
   "id": "96a47e5c-4976-48e3-8c97-7bf1b17f77e9",
   "metadata": {},
   "outputs": [
    {
     "name": "stdout",
     "output_type": "stream",
     "text": [
      "('Akash', 'Ramasani', 27, 'May', 2001, True)\n"
     ]
    }
   ],
   "source": [
    "print(profile[0:]);"
   ]
  },
  {
   "cell_type": "code",
   "execution_count": 37,
   "id": "4ffc44c4-c8c0-4dc8-b76a-77bfcf0d484f",
   "metadata": {},
   "outputs": [
    {
     "name": "stdout",
     "output_type": "stream",
     "text": [
      "('Ramasani', 27, 'May', 2001, True)\n"
     ]
    }
   ],
   "source": [
    "print(profile[1:]);"
   ]
  },
  {
   "cell_type": "code",
   "execution_count": 38,
   "id": "61b7d38d-ff22-4669-a84a-995931bb8ab7",
   "metadata": {},
   "outputs": [
    {
     "name": "stdout",
     "output_type": "stream",
     "text": [
      "(27, 'May', 2001, True)\n"
     ]
    }
   ],
   "source": [
    "print(profile[2:]);"
   ]
  },
  {
   "cell_type": "code",
   "execution_count": 39,
   "id": "30b699f9-4982-44f4-ad1c-31bd919824d6",
   "metadata": {},
   "outputs": [
    {
     "name": "stdout",
     "output_type": "stream",
     "text": [
      "('May', 2001, True)\n"
     ]
    }
   ],
   "source": [
    "print(profile[3:]);"
   ]
  },
  {
   "cell_type": "code",
   "execution_count": 40,
   "id": "a67b2c22-22ef-49b3-9eca-9069e0adcad1",
   "metadata": {},
   "outputs": [
    {
     "name": "stdout",
     "output_type": "stream",
     "text": [
      "(2001, True)\n"
     ]
    }
   ],
   "source": [
    "print(profile[4:]);"
   ]
  },
  {
   "cell_type": "code",
   "execution_count": 41,
   "id": "3f45abd3-2a36-427f-8b31-5f4bc2629eae",
   "metadata": {},
   "outputs": [
    {
     "name": "stdout",
     "output_type": "stream",
     "text": [
      "(True,)\n"
     ]
    }
   ],
   "source": [
    "print(profile[5:]);"
   ]
  },
  {
   "cell_type": "code",
   "execution_count": 42,
   "id": "25dbf43d-7335-4c9c-8583-adc97ea96714",
   "metadata": {},
   "outputs": [
    {
     "name": "stdout",
     "output_type": "stream",
     "text": [
      "('Akash',)\n"
     ]
    }
   ],
   "source": [
    "print(profile[0:1:]);"
   ]
  },
  {
   "cell_type": "code",
   "execution_count": 43,
   "id": "c08feb3c-3de9-473d-aa5e-4b074653d533",
   "metadata": {},
   "outputs": [
    {
     "name": "stdout",
     "output_type": "stream",
     "text": [
      "('Akash', 'Ramasani')\n"
     ]
    }
   ],
   "source": [
    "print(profile[0:2]);"
   ]
  },
  {
   "cell_type": "code",
   "execution_count": 44,
   "id": "f88665a5-155e-4001-8041-9f1a7c23c38c",
   "metadata": {},
   "outputs": [
    {
     "name": "stdout",
     "output_type": "stream",
     "text": [
      "('Akash', 'Ramasani', 27)\n"
     ]
    }
   ],
   "source": [
    "print(profile[0:3]);"
   ]
  },
  {
   "cell_type": "code",
   "execution_count": 45,
   "id": "2b4cd835-aa62-4db2-95f0-84bf0a1c9a78",
   "metadata": {},
   "outputs": [
    {
     "name": "stdout",
     "output_type": "stream",
     "text": [
      "('Akash', 'Ramasani', 27, 'May')\n"
     ]
    }
   ],
   "source": [
    "print(profile[0:4]);"
   ]
  },
  {
   "cell_type": "code",
   "execution_count": 46,
   "id": "b858768c-f277-42e3-8d08-a44184d3ff07",
   "metadata": {},
   "outputs": [
    {
     "name": "stdout",
     "output_type": "stream",
     "text": [
      "('Akash', 'Ramasani', 27, 'May', 2001)\n"
     ]
    }
   ],
   "source": [
    "print(profile[0:5]);"
   ]
  },
  {
   "cell_type": "code",
   "execution_count": 47,
   "id": "feb62a85-3fa7-4f04-9d16-78806112e33e",
   "metadata": {},
   "outputs": [
    {
     "name": "stdout",
     "output_type": "stream",
     "text": [
      "('Akash', 'Ramasani', 27, 'May', 2001, True)\n"
     ]
    }
   ],
   "source": [
    "print(profile[0:6]);"
   ]
  },
  {
   "cell_type": "code",
   "execution_count": 48,
   "id": "affa87a2-05db-4d30-9469-1d54597e3d11",
   "metadata": {},
   "outputs": [
    {
     "name": "stdout",
     "output_type": "stream",
     "text": [
      "('Akash', 'Ramasani', 27, 'May', 2001, True)\n"
     ]
    }
   ],
   "source": [
    "print(profile[0:7]);"
   ]
  },
  {
   "cell_type": "code",
   "execution_count": 49,
   "id": "f3aeb65d-f8ff-4081-8acf-47d99f0b089d",
   "metadata": {},
   "outputs": [
    {
     "name": "stdout",
     "output_type": "stream",
     "text": [
      "('Akash', 'Ramasani', 27, 'May', 2001, True)\n"
     ]
    }
   ],
   "source": [
    "print(profile[0:8]);"
   ]
  },
  {
   "cell_type": "code",
   "execution_count": 50,
   "id": "2a41a6af-e2a3-4c1d-b22e-c0a9af2c2600",
   "metadata": {},
   "outputs": [
    {
     "name": "stdout",
     "output_type": "stream",
     "text": [
      "('Ramasani',)\n"
     ]
    }
   ],
   "source": [
    "print(profile[1:2]);"
   ]
  },
  {
   "cell_type": "code",
   "execution_count": 51,
   "id": "974eabe9-b0a2-4935-a571-f41aadb68823",
   "metadata": {},
   "outputs": [
    {
     "name": "stdout",
     "output_type": "stream",
     "text": [
      "('Akash', 'Ramasani')\n"
     ]
    }
   ],
   "source": [
    "print(profile[0:2]);"
   ]
  },
  {
   "cell_type": "code",
   "execution_count": 52,
   "id": "7bb3704e-6cc5-49db-bd22-0775ee0105ec",
   "metadata": {},
   "outputs": [
    {
     "name": "stdout",
     "output_type": "stream",
     "text": [
      "(27, 'May', 2001)\n"
     ]
    }
   ],
   "source": [
    "print(profile[2:5]);"
   ]
  },
  {
   "cell_type": "code",
   "execution_count": 53,
   "id": "9ed46aeb-bf56-4ab1-9d36-e61d1d141305",
   "metadata": {},
   "outputs": [
    {
     "name": "stdout",
     "output_type": "stream",
     "text": [
      "(True,)\n"
     ]
    }
   ],
   "source": [
    "print(profile[5:]);"
   ]
  },
  {
   "cell_type": "code",
   "execution_count": 54,
   "id": "c0bd1c16-c756-4374-bdaf-26c724eaee00",
   "metadata": {},
   "outputs": [
    {
     "name": "stdout",
     "output_type": "stream",
     "text": [
      "('Akash', 'Ramasani')\n"
     ]
    }
   ],
   "source": [
    "print(profile[:2]);"
   ]
  },
  {
   "cell_type": "code",
   "execution_count": 55,
   "id": "94f92bc2-1ade-41c7-a4f6-b14dc76aab45",
   "metadata": {},
   "outputs": [
    {
     "name": "stdout",
     "output_type": "stream",
     "text": [
      "('Akash', 'Ramasani', 27, 'May', 2001)\n"
     ]
    }
   ],
   "source": [
    "print(profile[:5]);"
   ]
  },
  {
   "cell_type": "markdown",
   "id": "ae4c241e-075b-4d7f-8c50-2e22fe3088d7",
   "metadata": {},
   "source": [
    "Range of Negative Indexes"
   ]
  },
  {
   "cell_type": "code",
   "execution_count": 56,
   "id": "945b0410-b461-4618-aaed-cb3ce7db5842",
   "metadata": {},
   "outputs": [
    {
     "name": "stdout",
     "output_type": "stream",
     "text": [
      "('Akash', 'Ramasani', 27, 'May', 2001, True)\n"
     ]
    }
   ],
   "source": [
    "print(profile);"
   ]
  },
  {
   "cell_type": "code",
   "execution_count": 57,
   "id": "16c941fc-d589-45c2-aadf-74f01504eae2",
   "metadata": {},
   "outputs": [
    {
     "name": "stdout",
     "output_type": "stream",
     "text": [
      "('Akash', 'Ramasani', 27, 'May', 2001, True)\n"
     ]
    }
   ],
   "source": [
    "print(profile[:]);"
   ]
  },
  {
   "cell_type": "code",
   "execution_count": 58,
   "id": "a5f0ea4a-ba6e-4301-a3a7-909bc2fa29f9",
   "metadata": {},
   "outputs": [
    {
     "name": "stdout",
     "output_type": "stream",
     "text": [
      "()\n"
     ]
    }
   ],
   "source": [
    "print(profile[:-0]);"
   ]
  },
  {
   "cell_type": "code",
   "execution_count": 59,
   "id": "53c23c7a-aec3-4546-8f53-1bbe31b5a6c7",
   "metadata": {},
   "outputs": [
    {
     "name": "stdout",
     "output_type": "stream",
     "text": [
      "('Akash', 'Ramasani', 27, 'May', 2001)\n"
     ]
    }
   ],
   "source": [
    "print(profile[:-1]);"
   ]
  },
  {
   "cell_type": "code",
   "execution_count": 60,
   "id": "b79fe1b4-4f02-4b5f-aaea-c0932845b7a1",
   "metadata": {},
   "outputs": [
    {
     "name": "stdout",
     "output_type": "stream",
     "text": [
      "('Akash', 'Ramasani', 27, 'May')\n"
     ]
    }
   ],
   "source": [
    "print(profile[:-2]);"
   ]
  },
  {
   "cell_type": "code",
   "execution_count": 61,
   "id": "92fc5333-376f-4c5b-8102-02120efe8cff",
   "metadata": {},
   "outputs": [
    {
     "name": "stdout",
     "output_type": "stream",
     "text": [
      "('Akash', 'Ramasani', 27)\n"
     ]
    }
   ],
   "source": [
    "print(profile[:-3]);"
   ]
  },
  {
   "cell_type": "code",
   "execution_count": 62,
   "id": "9cd03f2c-e354-4ac4-a7b2-e8affa7b7f7b",
   "metadata": {},
   "outputs": [
    {
     "name": "stdout",
     "output_type": "stream",
     "text": [
      "('Akash', 'Ramasani')\n"
     ]
    }
   ],
   "source": [
    "print(profile[:-4]);"
   ]
  },
  {
   "cell_type": "code",
   "execution_count": 63,
   "id": "ae3bad0b-0605-42a4-a47a-b331d512882b",
   "metadata": {},
   "outputs": [
    {
     "name": "stdout",
     "output_type": "stream",
     "text": [
      "('Akash',)\n"
     ]
    }
   ],
   "source": [
    "print(profile[:-5]);"
   ]
  },
  {
   "cell_type": "code",
   "execution_count": 64,
   "id": "75452288-4c67-484e-90a0-d56b3a608413",
   "metadata": {},
   "outputs": [
    {
     "name": "stdout",
     "output_type": "stream",
     "text": [
      "()\n"
     ]
    }
   ],
   "source": [
    "print(profile[:-6]);"
   ]
  },
  {
   "cell_type": "code",
   "execution_count": 65,
   "id": "bc663f15-5b17-448a-9bcf-d8b185b6cf9b",
   "metadata": {},
   "outputs": [
    {
     "name": "stdout",
     "output_type": "stream",
     "text": [
      "(27, 'May', 2001)\n"
     ]
    }
   ],
   "source": [
    "print(profile[-4:-1]);"
   ]
  },
  {
   "cell_type": "code",
   "execution_count": 66,
   "id": "5b06026e-a492-4bc6-bde7-12ee644a6a5e",
   "metadata": {},
   "outputs": [
    {
     "name": "stdout",
     "output_type": "stream",
     "text": [
      "('Akash', 'Ramasani')\n"
     ]
    }
   ],
   "source": [
    "print(profile[-6:-4]);"
   ]
  },
  {
   "cell_type": "code",
   "execution_count": 67,
   "id": "98702d29-2372-42ab-9fe2-a988f4bfd1df",
   "metadata": {},
   "outputs": [
    {
     "name": "stdout",
     "output_type": "stream",
     "text": [
      "('Akash',)\n"
     ]
    }
   ],
   "source": [
    "print(profile[-6:-5]);"
   ]
  },
  {
   "cell_type": "code",
   "execution_count": 68,
   "id": "d594a8c0-c720-4d52-a4f2-33cb00be667b",
   "metadata": {},
   "outputs": [
    {
     "name": "stdout",
     "output_type": "stream",
     "text": [
      "('Ramasani',)\n"
     ]
    }
   ],
   "source": [
    "print(profile[-5:-4])"
   ]
  },
  {
   "cell_type": "markdown",
   "id": "71324b5b-81d3-49f3-bbb5-335db46e3909",
   "metadata": {},
   "source": [
    "Check if item exists"
   ]
  },
  {
   "cell_type": "code",
   "execution_count": 69,
   "id": "bfdb3644-62bd-452f-a53a-787f952883ba",
   "metadata": {},
   "outputs": [
    {
     "name": "stdout",
     "output_type": "stream",
     "text": [
      "('Akash', 'Ramasani', 27, 'May', 2001, True)\n"
     ]
    }
   ],
   "source": [
    "print(profile);"
   ]
  },
  {
   "cell_type": "code",
   "execution_count": 70,
   "id": "28edd63b-16e9-4dec-8da5-e9e79e34ff2d",
   "metadata": {},
   "outputs": [
    {
     "name": "stdout",
     "output_type": "stream",
     "text": [
      "Akash True\n",
      "Akash True\n"
     ]
    }
   ],
   "source": [
    "if \"Akash\" in profile:\n",
    "    print(\"Akash\", True);\n",
    "    \n",
    "if \"akash\".capitalize() in profile:\n",
    "    print(\"akash\".capitalize(), True);"
   ]
  },
  {
   "cell_type": "markdown",
   "id": "970f4488-f7b2-410f-b272-67f5ccecd9fc",
   "metadata": {},
   "source": [
    "Update Tuples - Tuples are unchangable "
   ]
  },
  {
   "cell_type": "code",
   "execution_count": 71,
   "id": "73bf2c68-9a6e-405b-b911-4434ead41775",
   "metadata": {},
   "outputs": [
    {
     "name": "stdout",
     "output_type": "stream",
     "text": [
      "('Akash', 'Ramasani', 27, 'May', 2001, True)\n"
     ]
    }
   ],
   "source": [
    "print(profile);"
   ]
  },
  {
   "cell_type": "code",
   "execution_count": 72,
   "id": "1d4052c6-5d23-4e47-8995-a6cccbcd95d4",
   "metadata": {},
   "outputs": [],
   "source": [
    "profileInList = list(profile);"
   ]
  },
  {
   "cell_type": "code",
   "execution_count": 73,
   "id": "1c178e87-2fe2-450a-928b-4f5667287c18",
   "metadata": {},
   "outputs": [
    {
     "name": "stdout",
     "output_type": "stream",
     "text": [
      "['Akash', 'Ramasani', 27, 'May', 2001, True]\n"
     ]
    }
   ],
   "source": [
    "print(profileInList);"
   ]
  },
  {
   "cell_type": "code",
   "execution_count": 74,
   "id": "b91f4fbf-d970-4ebd-a730-3b148747e733",
   "metadata": {},
   "outputs": [],
   "source": [
    "profileInList[5] = False;"
   ]
  },
  {
   "cell_type": "code",
   "execution_count": 75,
   "id": "8c6ad79a-c4bc-40b9-9e0d-d9d23dc38fff",
   "metadata": {},
   "outputs": [
    {
     "name": "stdout",
     "output_type": "stream",
     "text": [
      "['Akash', 'Ramasani', 27, 'May', 2001, False]\n"
     ]
    }
   ],
   "source": [
    "print(profileInList);"
   ]
  },
  {
   "cell_type": "code",
   "execution_count": 76,
   "id": "544747c1-d906-45de-8587-5a287b173ac2",
   "metadata": {},
   "outputs": [],
   "source": [
    "profile = tuple(profileInList);"
   ]
  },
  {
   "cell_type": "code",
   "execution_count": 77,
   "id": "f3a5c8fa-0bab-4f4b-95cb-62f5b7f4291b",
   "metadata": {},
   "outputs": [
    {
     "name": "stdout",
     "output_type": "stream",
     "text": [
      "('Akash', 'Ramasani', 27, 'May', 2001, False)\n"
     ]
    }
   ],
   "source": [
    "print(profile);"
   ]
  },
  {
   "cell_type": "markdown",
   "id": "ed87d080-4bde-4a92-be02-46e58e915ba5",
   "metadata": {},
   "source": [
    "Add Items - Since Tuples are immutable, they do not have built-in append() method, but there are other ways to add items to a tuple."
   ]
  },
  {
   "cell_type": "code",
   "execution_count": 78,
   "id": "56ac47d8-9985-4424-948f-06036f692f90",
   "metadata": {},
   "outputs": [
    {
     "name": "stdout",
     "output_type": "stream",
     "text": [
      "('Akash', 'Ramasani', 27, 'May', 2001, False)\n"
     ]
    }
   ],
   "source": [
    "print(profile);"
   ]
  },
  {
   "cell_type": "code",
   "execution_count": 79,
   "id": "f2d4a7ec-be24-4fdf-8823-adda37c34393",
   "metadata": {},
   "outputs": [],
   "source": [
    "profileInList = list(profile);"
   ]
  },
  {
   "cell_type": "code",
   "execution_count": 80,
   "id": "4b256195-c9cc-4e88-8bdf-83cb01cd2fcf",
   "metadata": {},
   "outputs": [
    {
     "name": "stdout",
     "output_type": "stream",
     "text": [
      "['Akash', 'Ramasani', 27, 'May', 2001, False]\n"
     ]
    }
   ],
   "source": [
    "print(profileInList);"
   ]
  },
  {
   "cell_type": "code",
   "execution_count": 81,
   "id": "32afa61f-9d80-423c-948f-f6399e7c44ab",
   "metadata": {},
   "outputs": [],
   "source": [
    "profileInList.append(\"Male\");"
   ]
  },
  {
   "cell_type": "code",
   "execution_count": 82,
   "id": "f773e02e-ae1c-475f-b06e-619559c71f71",
   "metadata": {},
   "outputs": [
    {
     "name": "stdout",
     "output_type": "stream",
     "text": [
      "['Akash', 'Ramasani', 27, 'May', 2001, False, 'Male']\n"
     ]
    }
   ],
   "source": [
    "print(profileInList);"
   ]
  },
  {
   "cell_type": "code",
   "execution_count": 83,
   "id": "9e722696-382e-4568-935c-6fb8ca751d30",
   "metadata": {},
   "outputs": [],
   "source": [
    "profile = tuple(profileInList);"
   ]
  },
  {
   "cell_type": "code",
   "execution_count": 84,
   "id": "f4f70a1a-f419-4c04-972c-25cda1c7a28a",
   "metadata": {},
   "outputs": [
    {
     "name": "stdout",
     "output_type": "stream",
     "text": [
      "('Akash', 'Ramasani', 27, 'May', 2001, False, 'Male')\n"
     ]
    }
   ],
   "source": [
    "print(profile);"
   ]
  },
  {
   "cell_type": "code",
   "execution_count": 85,
   "id": "f3512457-e974-44c1-9244-28f07aaac2a6",
   "metadata": {},
   "outputs": [],
   "source": [
    "del profileInList;"
   ]
  },
  {
   "cell_type": "markdown",
   "id": "d7a6e172-5c25-43c8-81fa-c5e3cd5b2c45",
   "metadata": {},
   "source": [
    "Add Tuple to a Tuple - you are allowed to add tuple to a tuples."
   ]
  },
  {
   "cell_type": "code",
   "execution_count": 86,
   "id": "0a466596-23f0-43ca-b81f-f8bc7816ae79",
   "metadata": {},
   "outputs": [
    {
     "name": "stdout",
     "output_type": "stream",
     "text": [
      "('Akash', 'Ramasani', 27, 'May', 2001, False, 'Male')\n"
     ]
    }
   ],
   "source": [
    "print(profile);"
   ]
  },
  {
   "cell_type": "code",
   "execution_count": 87,
   "id": "b2b6af6e-aa06-4a33-8fb3-70553ab00a55",
   "metadata": {},
   "outputs": [],
   "source": [
    "stateOfBirth = (\"Telangana\");"
   ]
  },
  {
   "cell_type": "code",
   "execution_count": 88,
   "id": "d5692a42-92ce-4903-ab0b-985ace2d8567",
   "metadata": {},
   "outputs": [
    {
     "name": "stdout",
     "output_type": "stream",
     "text": [
      "<class 'str'>\n"
     ]
    }
   ],
   "source": [
    "print(type(stateOfBirth));"
   ]
  },
  {
   "cell_type": "code",
   "execution_count": 89,
   "id": "6f2b4303-b503-4de7-ab31-1db0d67d0836",
   "metadata": {},
   "outputs": [
    {
     "ename": "TypeError",
     "evalue": "can only concatenate tuple (not \"str\") to tuple",
     "output_type": "error",
     "traceback": [
      "\u001b[1;31m---------------------------------------------------------------------------\u001b[0m",
      "\u001b[1;31mTypeError\u001b[0m                                 Traceback (most recent call last)",
      "Cell \u001b[1;32mIn[89], line 1\u001b[0m\n\u001b[1;32m----> 1\u001b[0m \u001b[43mprofile\u001b[49m\u001b[43m \u001b[49m\u001b[38;5;241;43m+\u001b[39;49m\u001b[38;5;241;43m=\u001b[39;49m\u001b[43m \u001b[49m\u001b[43mstateOfBirth\u001b[49m;\n",
      "\u001b[1;31mTypeError\u001b[0m: can only concatenate tuple (not \"str\") to tuple"
     ]
    }
   ],
   "source": [
    "profile += stateOfBirth;"
   ]
  },
  {
   "cell_type": "code",
   "execution_count": 90,
   "id": "21bdfc23-cc4a-49e1-9650-4a58cab5a48e",
   "metadata": {},
   "outputs": [],
   "source": [
    "del stateOfBirth;"
   ]
  },
  {
   "cell_type": "code",
   "execution_count": 91,
   "id": "c0bc12d8-2c94-4b80-be25-68b8f8fa6395",
   "metadata": {},
   "outputs": [],
   "source": [
    "stateOfBirth = (\"Telangana\",);"
   ]
  },
  {
   "cell_type": "code",
   "execution_count": 95,
   "id": "772d1e31-6799-4a96-8ded-fad48ee71447",
   "metadata": {},
   "outputs": [
    {
     "name": "stdout",
     "output_type": "stream",
     "text": [
      "<class 'tuple'>\n"
     ]
    }
   ],
   "source": [
    "print(type(stateOfBirth));"
   ]
  },
  {
   "cell_type": "code",
   "execution_count": 96,
   "id": "aa771f7b-7bcc-4022-8a76-5b2814e5f413",
   "metadata": {},
   "outputs": [
    {
     "name": "stdout",
     "output_type": "stream",
     "text": [
      "('Akash', 'Ramasani', 27, 'May', 2001, False, 'Male', 'Telangana')\n"
     ]
    }
   ],
   "source": [
    "print(profile);"
   ]
  },
  {
   "cell_type": "code",
   "execution_count": 97,
   "id": "e1145222-79fe-4091-b42a-5181c84f9ba4",
   "metadata": {},
   "outputs": [],
   "source": [
    "profile += stateOfBirth;"
   ]
  },
  {
   "cell_type": "code",
   "execution_count": 98,
   "id": "71033f84-a4d2-4b99-b138-7983b7c8bfa0",
   "metadata": {},
   "outputs": [
    {
     "name": "stdout",
     "output_type": "stream",
     "text": [
      "('Akash', 'Ramasani', 27, 'May', 2001, False, 'Male', 'Telangana', 'Telangana')\n"
     ]
    }
   ],
   "source": [
    "print(profile);"
   ]
  },
  {
   "cell_type": "markdown",
   "id": "4cf6ce5c-e125-4550-bf5f-95ea0a4d4688",
   "metadata": {},
   "source": [
    "Remove Items - Tuples are unchangeable, so you cannot remove items from it, but there are some workarounds."
   ]
  },
  {
   "cell_type": "code",
   "execution_count": 99,
   "id": "7ff91d97-f2b8-4f7e-8a23-46a9f2827ea3",
   "metadata": {},
   "outputs": [
    {
     "name": "stdout",
     "output_type": "stream",
     "text": [
      "<class 'tuple'>\n"
     ]
    }
   ],
   "source": [
    "print(type(profile));"
   ]
  },
  {
   "cell_type": "code",
   "execution_count": 100,
   "id": "0173d9b6-569c-4e26-a5b5-f9af6600cf37",
   "metadata": {},
   "outputs": [],
   "source": [
    "profileInList = list(profile);"
   ]
  },
  {
   "cell_type": "code",
   "execution_count": 101,
   "id": "d897b127-9f25-45cd-bf96-af71e173ddda",
   "metadata": {},
   "outputs": [
    {
     "name": "stdout",
     "output_type": "stream",
     "text": [
      "['Akash', 'Ramasani', 27, 'May', 2001, False, 'Male', 'Telangana', 'Telangana']\n"
     ]
    }
   ],
   "source": [
    "print(profileInList);"
   ]
  },
  {
   "cell_type": "code",
   "execution_count": 102,
   "id": "40ad97cc-4aad-4cb4-a263-6052910a8d0c",
   "metadata": {},
   "outputs": [
    {
     "name": "stdout",
     "output_type": "stream",
     "text": [
      "<class 'list'>\n"
     ]
    }
   ],
   "source": [
    "print(type(profileInList));"
   ]
  },
  {
   "cell_type": "code",
   "execution_count": 103,
   "id": "29d25ca3-c216-4be6-9f40-4e954689ed02",
   "metadata": {},
   "outputs": [],
   "source": [
    "profileInList.remove(\"Telangana\");"
   ]
  },
  {
   "cell_type": "code",
   "execution_count": 104,
   "id": "ee1ee1da-eba9-4dbd-9b96-24c26f817523",
   "metadata": {},
   "outputs": [
    {
     "name": "stdout",
     "output_type": "stream",
     "text": [
      "['Akash', 'Ramasani', 27, 'May', 2001, False, 'Male', 'Telangana']\n"
     ]
    }
   ],
   "source": [
    "print(profileInList);"
   ]
  },
  {
   "cell_type": "code",
   "execution_count": 105,
   "id": "63b2aef1-efa2-4cfe-9a9b-06276902b2b0",
   "metadata": {},
   "outputs": [
    {
     "name": "stdout",
     "output_type": "stream",
     "text": [
      "<class 'list'>\n"
     ]
    }
   ],
   "source": [
    "print(type(profileInList));"
   ]
  },
  {
   "cell_type": "code",
   "execution_count": 106,
   "id": "9eb74064-cbc4-4584-87ab-5042c9af1c61",
   "metadata": {},
   "outputs": [],
   "source": [
    "profile = tuple(profileInList);"
   ]
  },
  {
   "cell_type": "code",
   "execution_count": 107,
   "id": "68e220d0-2997-4d84-b81a-74d5ced86bef",
   "metadata": {},
   "outputs": [
    {
     "name": "stdout",
     "output_type": "stream",
     "text": [
      "<class 'tuple'>\n"
     ]
    }
   ],
   "source": [
    "print(type(profile));"
   ]
  },
  {
   "cell_type": "code",
   "execution_count": 108,
   "id": "3081eaff-2639-42c4-ba10-f3862955eb8d",
   "metadata": {},
   "outputs": [
    {
     "name": "stdout",
     "output_type": "stream",
     "text": [
      "('Akash', 'Ramasani', 27, 'May', 2001, False, 'Male', 'Telangana')\n"
     ]
    }
   ],
   "source": [
    "print(profile);"
   ]
  },
  {
   "cell_type": "markdown",
   "id": "46170f40-e007-4795-85ea-dffe197f915c",
   "metadata": {},
   "source": [
    "Delete Profile"
   ]
  },
  {
   "cell_type": "code",
   "execution_count": 109,
   "id": "9ccc28cb-f63f-465c-82db-f660419a9d48",
   "metadata": {},
   "outputs": [],
   "source": [
    "del profile;"
   ]
  },
  {
   "cell_type": "code",
   "execution_count": 110,
   "id": "c21db32f-0829-4933-a496-672497f3a781",
   "metadata": {},
   "outputs": [
    {
     "ename": "NameError",
     "evalue": "name 'profile' is not defined",
     "output_type": "error",
     "traceback": [
      "\u001b[1;31m---------------------------------------------------------------------------\u001b[0m",
      "\u001b[1;31mNameError\u001b[0m                                 Traceback (most recent call last)",
      "Cell \u001b[1;32mIn[110], line 1\u001b[0m\n\u001b[1;32m----> 1\u001b[0m \u001b[38;5;28mprint\u001b[39m(\u001b[43mprofile\u001b[49m);\n",
      "\u001b[1;31mNameError\u001b[0m: name 'profile' is not defined"
     ]
    }
   ],
   "source": [
    "print(profile);"
   ]
  },
  {
   "cell_type": "markdown",
   "id": "0d4d77f7-7150-400e-81e9-274f9c9320c7",
   "metadata": {},
   "source": [
    "Packing - When we create a tuple, we normally assign values to it. This is called \"packing\" a tuple."
   ]
  },
  {
   "cell_type": "code",
   "execution_count": 111,
   "id": "6dd473fd-c3c7-40bc-858a-3879aba5574f",
   "metadata": {},
   "outputs": [],
   "source": [
    "profile = (\"Akash\", \"Ramasani\");"
   ]
  },
  {
   "cell_type": "code",
   "execution_count": 112,
   "id": "9faad53b-c95d-47ec-b101-50559b59d05c",
   "metadata": {},
   "outputs": [
    {
     "name": "stdout",
     "output_type": "stream",
     "text": [
      "<class 'tuple'>\n"
     ]
    }
   ],
   "source": [
    "print(type(profile));"
   ]
  },
  {
   "cell_type": "code",
   "execution_count": 113,
   "id": "3c3598f2-18b9-42a9-a9fa-05e7acaf4898",
   "metadata": {},
   "outputs": [
    {
     "name": "stdout",
     "output_type": "stream",
     "text": [
      "('Akash', 'Ramasani')\n"
     ]
    }
   ],
   "source": [
    "print(profile);"
   ]
  },
  {
   "cell_type": "code",
   "execution_count": 114,
   "id": "5e8e86a7-0337-4ef3-8fc0-5f58528758c2",
   "metadata": {},
   "outputs": [],
   "source": [
    "firstName, lastName = profile;"
   ]
  },
  {
   "cell_type": "code",
   "execution_count": 115,
   "id": "627a19f9-2912-4963-9d50-8046e4955539",
   "metadata": {},
   "outputs": [
    {
     "name": "stdout",
     "output_type": "stream",
     "text": [
      "('Akash', 'Ramasani')\n"
     ]
    }
   ],
   "source": [
    "print(profile);"
   ]
  },
  {
   "cell_type": "code",
   "execution_count": 116,
   "id": "6d5f0a07-e28d-4554-88e7-5ad5a69dc627",
   "metadata": {},
   "outputs": [
    {
     "name": "stdout",
     "output_type": "stream",
     "text": [
      "Akash\n"
     ]
    }
   ],
   "source": [
    "print(firstName);"
   ]
  },
  {
   "cell_type": "code",
   "execution_count": 117,
   "id": "2fb107bb-5bca-445d-9c5f-9a5aa6b036e2",
   "metadata": {},
   "outputs": [
    {
     "name": "stdout",
     "output_type": "stream",
     "text": [
      "Ramasani\n"
     ]
    }
   ],
   "source": [
    "print(lastName);"
   ]
  },
  {
   "cell_type": "code",
   "execution_count": 118,
   "id": "c2e54012-a83f-4af4-b216-9350fe07919e",
   "metadata": {},
   "outputs": [
    {
     "ename": "ValueError",
     "evalue": "not enough values to unpack (expected 3, got 2)",
     "output_type": "error",
     "traceback": [
      "\u001b[1;31m---------------------------------------------------------------------------\u001b[0m",
      "\u001b[1;31mValueError\u001b[0m                                Traceback (most recent call last)",
      "Cell \u001b[1;32mIn[118], line 1\u001b[0m\n\u001b[1;32m----> 1\u001b[0m firstName, middleName, lastName \u001b[38;5;241m=\u001b[39m profile;\n",
      "\u001b[1;31mValueError\u001b[0m: not enough values to unpack (expected 3, got 2)"
     ]
    }
   ],
   "source": [
    "firstName, middleName, lastName = profile;"
   ]
  },
  {
   "cell_type": "markdown",
   "id": "918ef395-47b0-4967-8d92-6f09936101fc",
   "metadata": {},
   "source": [
    "Using Asterisk* - If the number of variables is less than the number of values, you can add an * to the variable name and the values will be assigned to the variable as a list."
   ]
  },
  {
   "cell_type": "code",
   "execution_count": 119,
   "id": "c6f23b00-01b8-440b-b1df-71f9fccb0bb3",
   "metadata": {},
   "outputs": [],
   "source": [
    "profile = (\"Akash\", \"Ramasani\", 27, \"May\", 2001);"
   ]
  },
  {
   "cell_type": "code",
   "execution_count": 120,
   "id": "33a161ba-9a29-46fe-83f3-79e5b258bb2e",
   "metadata": {},
   "outputs": [
    {
     "name": "stdout",
     "output_type": "stream",
     "text": [
      "<class 'tuple'> ('Akash', 'Ramasani', 27, 'May', 2001)\n"
     ]
    }
   ],
   "source": [
    "print(type(profile), profile);"
   ]
  },
  {
   "cell_type": "code",
   "execution_count": 124,
   "id": "d3c7f25c-0bc1-41c3-a6a7-3a889f936e90",
   "metadata": {},
   "outputs": [],
   "source": [
    "firstName, lastName, *dateOfBirth = profile;"
   ]
  },
  {
   "cell_type": "code",
   "execution_count": 125,
   "id": "41da35aa-a62f-49e8-a291-b98099634fd7",
   "metadata": {},
   "outputs": [
    {
     "name": "stdout",
     "output_type": "stream",
     "text": [
      "Akash Ramasani [27, 'May', 2001]\n"
     ]
    }
   ],
   "source": [
    "print(firstName, lastName, dateOfBirth);"
   ]
  },
  {
   "cell_type": "code",
   "execution_count": 127,
   "id": "57e804df-39a2-40a0-b603-e9bca9085e9e",
   "metadata": {},
   "outputs": [
    {
     "name": "stdout",
     "output_type": "stream",
     "text": [
      "<class 'str'> <class 'str'> <class 'list'>\n"
     ]
    }
   ],
   "source": [
    "print(type(firstName), type(lastName), type(dateOfBirth));"
   ]
  },
  {
   "cell_type": "markdown",
   "id": "ce067864-ec39-4c3a-9cc3-5d204cc0758c",
   "metadata": {},
   "source": [
    "If the asterisk is added to another variable name than the last, Python will assign values to the variable untill the number of values left matches the number of variables left."
   ]
  },
  {
   "cell_type": "code",
   "execution_count": 129,
   "id": "2892bf2d-d903-4d99-961b-55b4d1c29d14",
   "metadata": {},
   "outputs": [],
   "source": [
    "first, *middle, last = profile;"
   ]
  },
  {
   "cell_type": "code",
   "execution_count": 130,
   "id": "77e0daab-9c3f-4a2f-ab3b-06a409804f62",
   "metadata": {},
   "outputs": [
    {
     "name": "stdout",
     "output_type": "stream",
     "text": [
      "Akash ['Ramasani', 27, 'May'] 2001\n"
     ]
    }
   ],
   "source": [
    "print(first, middle, last);"
   ]
  },
  {
   "cell_type": "code",
   "execution_count": 131,
   "id": "5caf7c26-ad19-434b-b511-066f0f13b22a",
   "metadata": {},
   "outputs": [
    {
     "name": "stdout",
     "output_type": "stream",
     "text": [
      "<class 'str'> <class 'list'> <class 'int'>\n"
     ]
    }
   ],
   "source": [
    "print(type(first), type(middle), type(last));"
   ]
  },
  {
   "cell_type": "markdown",
   "id": "54cf37ef-86a0-46eb-a412-af539d5b741c",
   "metadata": {},
   "source": [
    "Loop through a Tuple - You can loop through the tuple items by using a for loop."
   ]
  },
  {
   "cell_type": "code",
   "execution_count": 132,
   "id": "67d1d334-9457-4967-83b4-5f7fe2e8aa11",
   "metadata": {},
   "outputs": [
    {
     "name": "stdout",
     "output_type": "stream",
     "text": [
      "('Akash', 'Ramasani', 27, 'May', 2001)\n"
     ]
    }
   ],
   "source": [
    "print(profile);"
   ]
  },
  {
   "cell_type": "code",
   "execution_count": 134,
   "id": "05f2450b-19f1-49b1-9fdb-7c7cb8316f78",
   "metadata": {},
   "outputs": [
    {
     "name": "stdout",
     "output_type": "stream",
     "text": [
      "Akash\n",
      "Ramasani\n",
      "27\n",
      "May\n",
      "2001\n"
     ]
    }
   ],
   "source": [
    "for eachTuple in profile:\n",
    "    print(eachTuple);"
   ]
  },
  {
   "cell_type": "markdown",
   "id": "bd07a629-1b2a-429d-869a-fe9a5f282fbd",
   "metadata": {},
   "source": [
    "Loop through the Index Numbers - You can loop through the tuple items by referring to their Index Number."
   ]
  },
  {
   "cell_type": "code",
   "execution_count": 135,
   "id": "c2d3b743-e87e-4f8e-9ae0-109dee02dae5",
   "metadata": {},
   "outputs": [
    {
     "name": "stdout",
     "output_type": "stream",
     "text": [
      "('Akash', 'Ramasani', 27, 'May', 2001)\n"
     ]
    }
   ],
   "source": [
    "print(profile);"
   ]
  },
  {
   "cell_type": "code",
   "execution_count": 137,
   "id": "197efe4e-f600-429b-a815-1b39b0453057",
   "metadata": {},
   "outputs": [
    {
     "name": "stdout",
     "output_type": "stream",
     "text": [
      "Akash\n",
      "Ramasani\n",
      "27\n",
      "May\n",
      "2001\n"
     ]
    }
   ],
   "source": [
    "for eachIndex in range(len(profile)):\n",
    "    print(profile[eachIndex]);"
   ]
  },
  {
   "cell_type": "markdown",
   "id": "d2380d72-438a-4196-98d2-8b5f028c90a0",
   "metadata": {},
   "source": [
    "Using a While Loop"
   ]
  },
  {
   "cell_type": "code",
   "execution_count": 141,
   "id": "45eeb117-4665-4b94-ab35-f19718064c99",
   "metadata": {},
   "outputs": [
    {
     "name": "stdout",
     "output_type": "stream",
     "text": [
      "Akash\n",
      "Ramasani\n",
      "27\n",
      "May\n",
      "2001\n"
     ]
    }
   ],
   "source": [
    "index = 0;\n",
    "while index < len(profile):\n",
    "    print(profile[index]);\n",
    "    index += 1;"
   ]
  },
  {
   "cell_type": "code",
   "execution_count": 142,
   "id": "5cc0f12a-687a-4a3e-b45e-9a7bad1cf50f",
   "metadata": {},
   "outputs": [],
   "source": [
    "del profile;"
   ]
  },
  {
   "cell_type": "markdown",
   "id": "a9784bce-d8c4-4dc4-b4be-e8f9992b1408",
   "metadata": {},
   "source": [
    "Join Two Tuples"
   ]
  },
  {
   "cell_type": "code",
   "execution_count": 143,
   "id": "8596c3ef-767f-471d-8b9f-2285bfd93cbc",
   "metadata": {},
   "outputs": [],
   "source": [
    "name = (\"Akash\", \"\", \"Ramasani\");\n",
    "dateOfBirth = (27, \"May\", 2001);"
   ]
  },
  {
   "cell_type": "code",
   "execution_count": 144,
   "id": "48642fc0-f7fb-459a-a9e1-ddd419f17b70",
   "metadata": {},
   "outputs": [
    {
     "name": "stdout",
     "output_type": "stream",
     "text": [
      "<class 'tuple'> <class 'tuple'>\n"
     ]
    }
   ],
   "source": [
    "print(type(name), type(dateOfBirth));"
   ]
  },
  {
   "cell_type": "code",
   "execution_count": 145,
   "id": "402b1b03-b588-4f16-a790-adc2f0492f33",
   "metadata": {},
   "outputs": [
    {
     "name": "stdout",
     "output_type": "stream",
     "text": [
      "('Akash', '', 'Ramasani') (27, 'May', 2001)\n"
     ]
    }
   ],
   "source": [
    "print(name, dateOfBirth);"
   ]
  },
  {
   "cell_type": "code",
   "execution_count": 146,
   "id": "84bcee22-395b-4f12-b0fc-9ea3f151481b",
   "metadata": {},
   "outputs": [],
   "source": [
    "profile = name + dateOfBirth;"
   ]
  },
  {
   "cell_type": "code",
   "execution_count": 147,
   "id": "956adf0e-6e22-4a6f-9fe2-beb910aefe55",
   "metadata": {},
   "outputs": [
    {
     "name": "stdout",
     "output_type": "stream",
     "text": [
      "<class 'tuple'> ('Akash', '', 'Ramasani', 27, 'May', 2001)\n"
     ]
    }
   ],
   "source": [
    "print(type(profile), profile);"
   ]
  },
  {
   "cell_type": "code",
   "execution_count": 148,
   "id": "799c156e-ede7-458d-9e12-3931dd9dc975",
   "metadata": {},
   "outputs": [],
   "source": [
    "del name, dateOfBirth, profile;"
   ]
  },
  {
   "cell_type": "code",
   "execution_count": 149,
   "id": "60220d34-59c2-4ed6-bd63-d702fbac72cd",
   "metadata": {},
   "outputs": [
    {
     "ename": "NameError",
     "evalue": "name 'name' is not defined",
     "output_type": "error",
     "traceback": [
      "\u001b[1;31m---------------------------------------------------------------------------\u001b[0m",
      "\u001b[1;31mNameError\u001b[0m                                 Traceback (most recent call last)",
      "Cell \u001b[1;32mIn[149], line 1\u001b[0m\n\u001b[1;32m----> 1\u001b[0m \u001b[38;5;28mprint\u001b[39m(\u001b[43mname\u001b[49m, dateOfBirth, profile);\n",
      "\u001b[1;31mNameError\u001b[0m: name 'name' is not defined"
     ]
    }
   ],
   "source": [
    "print(name, dateOfBirth, profile);"
   ]
  },
  {
   "cell_type": "markdown",
   "id": "8da8b616-0969-4690-b7ca-c5388e58ab0b",
   "metadata": {},
   "source": [
    "Multiply Tuples"
   ]
  },
  {
   "cell_type": "code",
   "execution_count": 150,
   "id": "8744c97a-bdf8-46c7-bb4a-ce82d16406e8",
   "metadata": {},
   "outputs": [],
   "source": [
    "fruits = (\"Apple\", \"Banana\", \"Cherry\");"
   ]
  },
  {
   "cell_type": "code",
   "execution_count": 151,
   "id": "f60d4d31-9171-440f-8b00-0651ca5fb410",
   "metadata": {},
   "outputs": [
    {
     "name": "stdout",
     "output_type": "stream",
     "text": [
      "('Apple', 'Banana', 'Cherry')\n"
     ]
    }
   ],
   "source": [
    "print(fruits);"
   ]
  },
  {
   "cell_type": "code",
   "execution_count": 152,
   "id": "a216e1f0-aa1b-4fa0-a341-78b20952f3bf",
   "metadata": {},
   "outputs": [],
   "source": [
    "doubleOfFruits = fruits * 2;"
   ]
  },
  {
   "cell_type": "code",
   "execution_count": 153,
   "id": "a95fcdee-d10b-430b-afae-40ba347a3840",
   "metadata": {},
   "outputs": [
    {
     "name": "stdout",
     "output_type": "stream",
     "text": [
      "<class 'tuple'> ('Apple', 'Banana', 'Cherry', 'Apple', 'Banana', 'Cherry')\n"
     ]
    }
   ],
   "source": [
    "print(type(fruits), doubleOfFruits);"
   ]
  },
  {
   "cell_type": "code",
   "execution_count": 154,
   "id": "0ff95cec-6333-4a27-8b73-205d278bd4a9",
   "metadata": {},
   "outputs": [],
   "source": [
    "del fruits"
   ]
  },
  {
   "cell_type": "markdown",
   "id": "c800a507-b816-414c-9cac-a80f37f0874d",
   "metadata": {},
   "source": [
    "Tuple Methods"
   ]
  },
  {
   "cell_type": "markdown",
   "id": "fffd0fbb-8e31-4812-9619-7b13651794b4",
   "metadata": {},
   "source": [
    "count() - It returns the number of times the value appears in the tuple."
   ]
  },
  {
   "cell_type": "code",
   "execution_count": 155,
   "id": "5696b6e4-8100-4c12-b52b-b8aabfd48b78",
   "metadata": {},
   "outputs": [],
   "source": [
    "hackers = (\"Jack\", \"Mark\", \"Duke\", \"Jack\");"
   ]
  },
  {
   "cell_type": "code",
   "execution_count": 156,
   "id": "68cf724e-9002-4467-a6e9-c4732951cbca",
   "metadata": {},
   "outputs": [
    {
     "name": "stdout",
     "output_type": "stream",
     "text": [
      "('Jack', 'Mark', 'Duke', 'Jack')\n"
     ]
    }
   ],
   "source": [
    "print(hackers)"
   ]
  },
  {
   "cell_type": "code",
   "execution_count": 158,
   "id": "ed51b700-08b3-41cf-b433-05679b94281f",
   "metadata": {},
   "outputs": [
    {
     "name": "stdout",
     "output_type": "stream",
     "text": [
      "2\n"
     ]
    }
   ],
   "source": [
    "print(hackers.count(\"Jack\"));"
   ]
  },
  {
   "cell_type": "code",
   "execution_count": 159,
   "id": "2feadfb2-3d53-46c1-a95b-d551e63dade9",
   "metadata": {},
   "outputs": [],
   "source": [
    "del hackers;"
   ]
  },
  {
   "cell_type": "code",
   "execution_count": 161,
   "id": "b384ee56-7d94-4a27-8f04-75654e3ca3c9",
   "metadata": {},
   "outputs": [],
   "source": [
    "marks = (25, 48, 79, 12,45, 25, 25,47, 25);"
   ]
  },
  {
   "cell_type": "code",
   "execution_count": 163,
   "id": "a6f4b6a3-4d03-4bf9-8657-c5fe5687683c",
   "metadata": {},
   "outputs": [
    {
     "name": "stdout",
     "output_type": "stream",
     "text": [
      "<class 'tuple'> (25, 48, 79, 12, 45, 25, 25, 47, 25)\n"
     ]
    }
   ],
   "source": [
    "print(type(marks), marks)"
   ]
  },
  {
   "cell_type": "code",
   "execution_count": 164,
   "id": "00926cfd-8295-4278-8194-7d1d6c510a77",
   "metadata": {},
   "outputs": [
    {
     "name": "stdout",
     "output_type": "stream",
     "text": [
      "4\n"
     ]
    }
   ],
   "source": [
    "print(marks.count(25));"
   ]
  },
  {
   "cell_type": "code",
   "execution_count": 165,
   "id": "f04d5188-0ac6-48e5-ad42-bfd9cd68b264",
   "metadata": {},
   "outputs": [],
   "source": [
    "del marks;"
   ]
  },
  {
   "cell_type": "markdown",
   "id": "b0a5f5d9-2bc9-4c05-ac79-4ee3541e8c53",
   "metadata": {},
   "source": [
    "index() - It search for the first occurrence of the value, and returns its position."
   ]
  },
  {
   "cell_type": "code",
   "execution_count": 166,
   "id": "f3364690-866d-4726-a45a-e5d15a93d9e0",
   "metadata": {},
   "outputs": [],
   "source": [
    "name = (\"Akash\", \"\", \"Ramasani\");"
   ]
  },
  {
   "cell_type": "code",
   "execution_count": 168,
   "id": "daa8baae-7923-41a6-b54c-5b8628d25851",
   "metadata": {},
   "outputs": [
    {
     "name": "stdout",
     "output_type": "stream",
     "text": [
      "2\n"
     ]
    }
   ],
   "source": [
    "print(name.index(\"Ramasani\"));"
   ]
  },
  {
   "cell_type": "code",
   "execution_count": 169,
   "id": "701cc5e3-89a7-459b-85de-dbab1047da96",
   "metadata": {},
   "outputs": [
    {
     "name": "stdout",
     "output_type": "stream",
     "text": [
      "1\n"
     ]
    }
   ],
   "source": [
    "print(name.index(\"\"));"
   ]
  },
  {
   "cell_type": "code",
   "execution_count": 170,
   "id": "5f40300b-84e6-46ae-8ce8-792bb003c62a",
   "metadata": {},
   "outputs": [
    {
     "name": "stdout",
     "output_type": "stream",
     "text": [
      "0\n"
     ]
    }
   ],
   "source": [
    "print(name.index(\"Akash\"));"
   ]
  }
 ],
 "metadata": {
  "kernelspec": {
   "display_name": "Python 3 (ipykernel)",
   "language": "python",
   "name": "python3"
  },
  "language_info": {
   "codemirror_mode": {
    "name": "ipython",
    "version": 3
   },
   "file_extension": ".py",
   "mimetype": "text/x-python",
   "name": "python",
   "nbconvert_exporter": "python",
   "pygments_lexer": "ipython3",
   "version": "3.11.5"
  }
 },
 "nbformat": 4,
 "nbformat_minor": 5
}
