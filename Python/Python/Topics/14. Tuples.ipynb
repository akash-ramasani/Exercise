{
 "cells": [
  {
   "cell_type": "code",
   "execution_count": 1,
   "id": "d2a11bca-42f5-449a-a842-354c0596ed5e",
   "metadata": {},
   "outputs": [],
   "source": [
    "names = (\"Akash\", \"\", \"Ramasani\");"
   ]
  },
  {
   "cell_type": "code",
   "execution_count": 2,
   "id": "c8d53d99-44e7-421a-a68b-f4cab7308752",
   "metadata": {},
   "outputs": [
    {
     "name": "stdout",
     "output_type": "stream",
     "text": [
      "('Akash', '', 'Ramasani')\n"
     ]
    }
   ],
   "source": [
    "print(names);"
   ]
  },
  {
   "cell_type": "code",
   "execution_count": 3,
   "id": "482f1734-a20c-4b1f-a165-e194fee924c9",
   "metadata": {},
   "outputs": [
    {
     "name": "stdout",
     "output_type": "stream",
     "text": [
      "Akash\n"
     ]
    }
   ],
   "source": [
    "print(names[0]);"
   ]
  },
  {
   "cell_type": "code",
   "execution_count": 4,
   "id": "ebc5ba00-992f-4eaf-a8e4-6dc613875723",
   "metadata": {},
   "outputs": [
    {
     "name": "stdout",
     "output_type": "stream",
     "text": [
      "Akash  Ramasani\n"
     ]
    }
   ],
   "source": [
    "print(names[0], names[1], names[2]);"
   ]
  },
  {
   "cell_type": "code",
   "execution_count": 5,
   "id": "f42cd38c-8953-491a-ba06-277797abb1ab",
   "metadata": {},
   "outputs": [
    {
     "ename": "TypeError",
     "evalue": "'tuple' object does not support item assignment",
     "output_type": "error",
     "traceback": [
      "\u001b[1;31m---------------------------------------------------------------------------\u001b[0m",
      "\u001b[1;31mTypeError\u001b[0m                                 Traceback (most recent call last)",
      "Cell \u001b[1;32mIn[5], line 1\u001b[0m\n\u001b[1;32m----> 1\u001b[0m \u001b[43mnames\u001b[49m\u001b[43m[\u001b[49m\u001b[38;5;241;43m1\u001b[39;49m\u001b[43m]\u001b[49m \u001b[38;5;241m=\u001b[39m \u001b[38;5;124m\"\u001b[39m\u001b[38;5;124mN\u001b[39m\u001b[38;5;124m\"\u001b[39m;\n",
      "\u001b[1;31mTypeError\u001b[0m: 'tuple' object does not support item assignment"
     ]
    }
   ],
   "source": [
    "names[1] = \"N\";"
   ]
  },
  {
   "cell_type": "code",
   "execution_count": 6,
   "id": "2b069968-ce3b-4463-b098-da93a2dd3442",
   "metadata": {},
   "outputs": [
    {
     "ename": "AttributeError",
     "evalue": "'tuple' object has no attribute 'append'",
     "output_type": "error",
     "traceback": [
      "\u001b[1;31m---------------------------------------------------------------------------\u001b[0m",
      "\u001b[1;31mAttributeError\u001b[0m                            Traceback (most recent call last)",
      "Cell \u001b[1;32mIn[6], line 1\u001b[0m\n\u001b[1;32m----> 1\u001b[0m \u001b[43mnames\u001b[49m\u001b[38;5;241;43m.\u001b[39;49m\u001b[43mappend\u001b[49m(\u001b[38;5;124m\"\u001b[39m\u001b[38;5;124mMale\u001b[39m\u001b[38;5;124m\"\u001b[39m);\n",
      "\u001b[1;31mAttributeError\u001b[0m: 'tuple' object has no attribute 'append'"
     ]
    }
   ],
   "source": [
    "names.append(\"Male\");"
   ]
  },
  {
   "cell_type": "code",
   "execution_count": 7,
   "id": "38b09475-58b1-4f68-b3fd-d10332a87a48",
   "metadata": {},
   "outputs": [
    {
     "name": "stdout",
     "output_type": "stream",
     "text": [
      "3\n"
     ]
    }
   ],
   "source": [
    "print(len(names));"
   ]
  },
  {
   "cell_type": "code",
   "execution_count": 8,
   "id": "d1ccaa22-d767-4766-b494-c01ec68a90ee",
   "metadata": {},
   "outputs": [
    {
     "name": "stdout",
     "output_type": "stream",
     "text": [
      "<class 'tuple'>\n"
     ]
    }
   ],
   "source": [
    "print(type(names));"
   ]
  },
  {
   "cell_type": "markdown",
   "id": "13dbd154-c29d-479a-8fa6-1b9655a27908",
   "metadata": {},
   "source": [
    "Create Tuple with One Item"
   ]
  },
  {
   "cell_type": "code",
   "execution_count": 9,
   "id": "a5587523-d9f6-4691-a30b-007fadef9641",
   "metadata": {},
   "outputs": [],
   "source": [
    "firstName = (\"Akash\");"
   ]
  },
  {
   "cell_type": "code",
   "execution_count": 10,
   "id": "c1917706-9bed-49c7-8936-a0c4342d2496",
   "metadata": {},
   "outputs": [
    {
     "name": "stdout",
     "output_type": "stream",
     "text": [
      "Akash\n"
     ]
    }
   ],
   "source": [
    "print(firstName);"
   ]
  },
  {
   "cell_type": "code",
   "execution_count": 11,
   "id": "6ebcaf0a-5634-49be-8143-4d6255749e0b",
   "metadata": {},
   "outputs": [
    {
     "name": "stdout",
     "output_type": "stream",
     "text": [
      "<class 'str'>\n"
     ]
    }
   ],
   "source": [
    "print(type(firstName));"
   ]
  },
  {
   "cell_type": "code",
   "execution_count": 12,
   "id": "b24fc8eb-1d11-49b9-8ace-500a685f00ec",
   "metadata": {},
   "outputs": [],
   "source": [
    "firstName = (\"Akash\",);"
   ]
  },
  {
   "cell_type": "code",
   "execution_count": 13,
   "id": "bee735c3-a23a-4a04-928d-fb72d81fac8f",
   "metadata": {},
   "outputs": [
    {
     "name": "stdout",
     "output_type": "stream",
     "text": [
      "('Akash',)\n"
     ]
    }
   ],
   "source": [
    "print(firstName);"
   ]
  },
  {
   "cell_type": "code",
   "execution_count": 14,
   "id": "cffef5fd-f008-4721-a709-854330f7e840",
   "metadata": {},
   "outputs": [
    {
     "name": "stdout",
     "output_type": "stream",
     "text": [
      "<class 'tuple'>\n"
     ]
    }
   ],
   "source": [
    "print(type(firstName));"
   ]
  },
  {
   "cell_type": "markdown",
   "id": "35cb5a57-fed4-408f-96a9-578e9ff09db5",
   "metadata": {},
   "source": [
    "Tuple Items - Data Types"
   ]
  },
  {
   "cell_type": "code",
   "execution_count": 15,
   "id": "81565f76-be3f-4063-8866-ccfe9447cedc",
   "metadata": {},
   "outputs": [],
   "source": [
    "stringTuple = (\"Akash\", \"\", \"Ramasani\");\n",
    "intTuple = (21, 5, 87, 99);\n",
    "booleanTuple = (True, False);"
   ]
  },
  {
   "cell_type": "code",
   "execution_count": 16,
   "id": "3c5a531a-62a3-4112-bfdb-0daea7f98f42",
   "metadata": {},
   "outputs": [
    {
     "name": "stdout",
     "output_type": "stream",
     "text": [
      "('Akash', '', 'Ramasani') (21, 5, 87, 99) (True, False)\n"
     ]
    }
   ],
   "source": [
    "print(stringTuple, intTuple, booleanTuple);"
   ]
  },
  {
   "cell_type": "code",
   "execution_count": 17,
   "id": "059d3112-442c-4747-bafb-f722ca4d8da1",
   "metadata": {},
   "outputs": [
    {
     "name": "stdout",
     "output_type": "stream",
     "text": [
      "<class 'tuple'> <class 'tuple'> <class 'tuple'>\n"
     ]
    }
   ],
   "source": [
    "print(type(stringTuple), type(intTuple), type(booleanTuple));"
   ]
  },
  {
   "cell_type": "code",
   "execution_count": 18,
   "id": "ed8f334b-82f7-4dc0-87d8-56b65797ac77",
   "metadata": {},
   "outputs": [],
   "source": [
    "mixedTuple = (\"Akash\", \"\", \"Ramasani\", 27, \"May\", \"2001\", True);"
   ]
  },
  {
   "cell_type": "code",
   "execution_count": 19,
   "id": "8a3f396d-1abb-4a7c-8efe-5e7b6a4bd3bf",
   "metadata": {},
   "outputs": [
    {
     "name": "stdout",
     "output_type": "stream",
     "text": [
      "('Akash', '', 'Ramasani', 27, 'May', '2001', True)\n"
     ]
    }
   ],
   "source": [
    "print(mixedTuple);"
   ]
  },
  {
   "cell_type": "code",
   "execution_count": 20,
   "id": "25c3ab24-e4d4-4cd2-816d-aa5720ce8da9",
   "metadata": {},
   "outputs": [
    {
     "name": "stdout",
     "output_type": "stream",
     "text": [
      "<class 'tuple'>\n"
     ]
    }
   ],
   "source": [
    "print(type(mixedTuple));"
   ]
  },
  {
   "cell_type": "markdown",
   "id": "4ad82b64-9369-44e4-940d-48a1f07c1716",
   "metadata": {},
   "source": [
    "Tuple Constructor"
   ]
  },
  {
   "cell_type": "code",
   "execution_count": 21,
   "id": "87ef3084-c784-4767-8888-b845a01e2915",
   "metadata": {},
   "outputs": [],
   "source": [
    "profile = tuple((\"Akash\", \"Ramasani\", 27, \"May\", 2001, True));"
   ]
  },
  {
   "cell_type": "code",
   "execution_count": 22,
   "id": "8475448f-16e1-4859-8531-20f426ef0f4c",
   "metadata": {},
   "outputs": [
    {
     "name": "stdout",
     "output_type": "stream",
     "text": [
      "('Akash', 'Ramasani', 27, 'May', 2001, True)\n"
     ]
    }
   ],
   "source": [
    "print(profile);"
   ]
  },
  {
   "cell_type": "code",
   "execution_count": 23,
   "id": "d34c2af3-bbfe-4cbe-857a-3309fb9e64de",
   "metadata": {},
   "outputs": [
    {
     "name": "stdout",
     "output_type": "stream",
     "text": [
      "<class 'tuple'>\n"
     ]
    }
   ],
   "source": [
    "print(type(profile));"
   ]
  },
  {
   "cell_type": "markdown",
   "id": "3c95a7e0-6847-4f7c-96f9-9c27da57b858",
   "metadata": {},
   "source": [
    "Access Tuples"
   ]
  },
  {
   "cell_type": "code",
   "execution_count": 24,
   "id": "363b067f-d6fe-4c87-aafa-1adb68ed27f3",
   "metadata": {},
   "outputs": [
    {
     "name": "stdout",
     "output_type": "stream",
     "text": [
      "('Akash', 'Ramasani', 27, 'May', 2001, True)\n"
     ]
    }
   ],
   "source": [
    "print(profile);"
   ]
  },
  {
   "cell_type": "code",
   "execution_count": 25,
   "id": "ae4ae920-75b6-4f94-bb92-c12754208ae1",
   "metadata": {},
   "outputs": [
    {
     "name": "stdout",
     "output_type": "stream",
     "text": [
      "Akash Ramasani\n"
     ]
    }
   ],
   "source": [
    "print(profile[0], profile[1]);"
   ]
  },
  {
   "cell_type": "code",
   "execution_count": 26,
   "id": "9ae0e318-e199-49c2-8567-28b3fbc4b91f",
   "metadata": {},
   "outputs": [
    {
     "name": "stdout",
     "output_type": "stream",
     "text": [
      "27 May 2001\n"
     ]
    }
   ],
   "source": [
    "print(profile[2], profile[3], profile[4]);"
   ]
  },
  {
   "cell_type": "code",
   "execution_count": 27,
   "id": "ce9de5ec-1323-4878-ba1f-8a55c7fed0ff",
   "metadata": {},
   "outputs": [
    {
     "name": "stdout",
     "output_type": "stream",
     "text": [
      "('Akash', 'Ramasani', 27, 'May', 2001, True)\n"
     ]
    }
   ],
   "source": [
    "print(profile);"
   ]
  },
  {
   "cell_type": "markdown",
   "id": "ad48e072-82c7-435b-b6c7-7674c1a6857a",
   "metadata": {},
   "source": [
    "Negative Indexing"
   ]
  },
  {
   "cell_type": "code",
   "execution_count": 28,
   "id": "2ddbafc5-a814-4ae6-911f-5b1b26f36e69",
   "metadata": {},
   "outputs": [
    {
     "name": "stdout",
     "output_type": "stream",
     "text": [
      "True\n"
     ]
    }
   ],
   "source": [
    "print(profile[-1]);"
   ]
  },
  {
   "cell_type": "code",
   "execution_count": 29,
   "id": "293a778b-4440-4fee-a940-7876925610ed",
   "metadata": {},
   "outputs": [
    {
     "name": "stdout",
     "output_type": "stream",
     "text": [
      "2001 May 27\n"
     ]
    }
   ],
   "source": [
    "print(profile[-2], profile[-3], profile[-4]);"
   ]
  },
  {
   "cell_type": "code",
   "execution_count": 30,
   "id": "0e5ad2ac-59ea-47f2-952a-3208fbb6f57d",
   "metadata": {},
   "outputs": [
    {
     "name": "stdout",
     "output_type": "stream",
     "text": [
      "27 May 2001\n"
     ]
    }
   ],
   "source": [
    "print(profile[-4], profile[-3], profile[-2]);"
   ]
  },
  {
   "cell_type": "code",
   "execution_count": 31,
   "id": "13e9936e-6292-4a30-abc4-d50180f10a00",
   "metadata": {},
   "outputs": [
    {
     "name": "stdout",
     "output_type": "stream",
     "text": [
      "Ramasani Akash\n"
     ]
    }
   ],
   "source": [
    "print(profile[-5], profile[-6]);"
   ]
  },
  {
   "cell_type": "code",
   "execution_count": 32,
   "id": "95cdc340-93ab-4ff6-843b-0aca6ae14303",
   "metadata": {},
   "outputs": [
    {
     "name": "stdout",
     "output_type": "stream",
     "text": [
      "Akash Ramasani\n"
     ]
    }
   ],
   "source": [
    "print(profile[-6], profile[-5]);"
   ]
  },
  {
   "cell_type": "markdown",
   "id": "f4d10ca0-2c2b-4cc1-8673-6e106f2c32ec",
   "metadata": {},
   "source": [
    "Range of Indexes"
   ]
  },
  {
   "cell_type": "code",
   "execution_count": 35,
   "id": "f80859b0-91ac-4239-a27d-54691495a2f3",
   "metadata": {},
   "outputs": [
    {
     "name": "stdout",
     "output_type": "stream",
     "text": [
      "('Akash', 'Ramasani', 27, 'May', 2001, True)\n"
     ]
    }
   ],
   "source": [
    "print(profile);"
   ]
  },
  {
   "cell_type": "code",
   "execution_count": 38,
   "id": "329f6054-f278-41ae-abfe-f9241d3b34b6",
   "metadata": {},
   "outputs": [
    {
     "ename": "SyntaxError",
     "evalue": "invalid syntax. Perhaps you forgot a comma? (1597481130.py, line 1)",
     "output_type": "error",
     "traceback": [
      "\u001b[1;36m  Cell \u001b[1;32mIn[38], line 1\u001b[1;36m\u001b[0m\n\u001b[1;33m    print(profile[]);\u001b[0m\n\u001b[1;37m          ^\u001b[0m\n\u001b[1;31mSyntaxError\u001b[0m\u001b[1;31m:\u001b[0m invalid syntax. Perhaps you forgot a comma?\n"
     ]
    }
   ],
   "source": [
    "print(profile[]);"
   ]
  },
  {
   "cell_type": "code",
   "execution_count": 39,
   "id": "3a705bb1-004b-4a68-b1dd-9f6307f9499e",
   "metadata": {},
   "outputs": [
    {
     "name": "stdout",
     "output_type": "stream",
     "text": [
      "('Akash', 'Ramasani', 27, 'May', 2001, True)\n"
     ]
    }
   ],
   "source": [
    "print(profile[:]);"
   ]
  },
  {
   "cell_type": "code",
   "execution_count": 40,
   "id": "96a47e5c-4976-48e3-8c97-7bf1b17f77e9",
   "metadata": {},
   "outputs": [
    {
     "name": "stdout",
     "output_type": "stream",
     "text": [
      "('Akash', 'Ramasani', 27, 'May', 2001, True)\n"
     ]
    }
   ],
   "source": [
    "print(profile[0:]);"
   ]
  },
  {
   "cell_type": "code",
   "execution_count": 41,
   "id": "4ffc44c4-c8c0-4dc8-b76a-77bfcf0d484f",
   "metadata": {},
   "outputs": [
    {
     "name": "stdout",
     "output_type": "stream",
     "text": [
      "('Ramasani', 27, 'May', 2001, True)\n"
     ]
    }
   ],
   "source": [
    "print(profile[1:]);"
   ]
  },
  {
   "cell_type": "code",
   "execution_count": 42,
   "id": "61b7d38d-ff22-4669-a84a-995931bb8ab7",
   "metadata": {},
   "outputs": [
    {
     "name": "stdout",
     "output_type": "stream",
     "text": [
      "(27, 'May', 2001, True)\n"
     ]
    }
   ],
   "source": [
    "print(profile[2:]);"
   ]
  },
  {
   "cell_type": "code",
   "execution_count": 43,
   "id": "30b699f9-4982-44f4-ad1c-31bd919824d6",
   "metadata": {},
   "outputs": [
    {
     "name": "stdout",
     "output_type": "stream",
     "text": [
      "('May', 2001, True)\n"
     ]
    }
   ],
   "source": [
    "print(profile[3:]);"
   ]
  },
  {
   "cell_type": "code",
   "execution_count": 44,
   "id": "a67b2c22-22ef-49b3-9eca-9069e0adcad1",
   "metadata": {},
   "outputs": [
    {
     "name": "stdout",
     "output_type": "stream",
     "text": [
      "(2001, True)\n"
     ]
    }
   ],
   "source": [
    "print(profile[4:]);"
   ]
  },
  {
   "cell_type": "code",
   "execution_count": 45,
   "id": "3f45abd3-2a36-427f-8b31-5f4bc2629eae",
   "metadata": {},
   "outputs": [
    {
     "name": "stdout",
     "output_type": "stream",
     "text": [
      "(True,)\n"
     ]
    }
   ],
   "source": [
    "print(profile[5:]);"
   ]
  },
  {
   "cell_type": "code",
   "execution_count": 46,
   "id": "25dbf43d-7335-4c9c-8583-adc97ea96714",
   "metadata": {},
   "outputs": [
    {
     "name": "stdout",
     "output_type": "stream",
     "text": [
      "('Akash',)\n"
     ]
    }
   ],
   "source": [
    "print(profile[0:1:]);"
   ]
  },
  {
   "cell_type": "code",
   "execution_count": 47,
   "id": "c08feb3c-3de9-473d-aa5e-4b074653d533",
   "metadata": {},
   "outputs": [
    {
     "name": "stdout",
     "output_type": "stream",
     "text": [
      "('Akash', 'Ramasani')\n"
     ]
    }
   ],
   "source": [
    "print(profile[0:2]);"
   ]
  },
  {
   "cell_type": "code",
   "execution_count": 48,
   "id": "f88665a5-155e-4001-8041-9f1a7c23c38c",
   "metadata": {},
   "outputs": [
    {
     "name": "stdout",
     "output_type": "stream",
     "text": [
      "('Akash', 'Ramasani', 27)\n"
     ]
    }
   ],
   "source": [
    "print(profile[0:3]);"
   ]
  },
  {
   "cell_type": "code",
   "execution_count": 49,
   "id": "2b4cd835-aa62-4db2-95f0-84bf0a1c9a78",
   "metadata": {},
   "outputs": [
    {
     "name": "stdout",
     "output_type": "stream",
     "text": [
      "('Akash', 'Ramasani', 27, 'May')\n"
     ]
    }
   ],
   "source": [
    "print(profile[0:4]);"
   ]
  },
  {
   "cell_type": "code",
   "execution_count": 50,
   "id": "b858768c-f277-42e3-8d08-a44184d3ff07",
   "metadata": {},
   "outputs": [
    {
     "name": "stdout",
     "output_type": "stream",
     "text": [
      "('Akash', 'Ramasani', 27, 'May', 2001)\n"
     ]
    }
   ],
   "source": [
    "print(profile[0:5]);"
   ]
  },
  {
   "cell_type": "code",
   "execution_count": 51,
   "id": "feb62a85-3fa7-4f04-9d16-78806112e33e",
   "metadata": {},
   "outputs": [
    {
     "name": "stdout",
     "output_type": "stream",
     "text": [
      "('Akash', 'Ramasani', 27, 'May', 2001, True)\n"
     ]
    }
   ],
   "source": [
    "print(profile[0:6]);"
   ]
  },
  {
   "cell_type": "code",
   "execution_count": 52,
   "id": "affa87a2-05db-4d30-9469-1d54597e3d11",
   "metadata": {},
   "outputs": [
    {
     "name": "stdout",
     "output_type": "stream",
     "text": [
      "('Akash', 'Ramasani', 27, 'May', 2001, True)\n"
     ]
    }
   ],
   "source": [
    "print(profile[0:7]);"
   ]
  },
  {
   "cell_type": "code",
   "execution_count": 54,
   "id": "f3aeb65d-f8ff-4081-8acf-47d99f0b089d",
   "metadata": {},
   "outputs": [
    {
     "name": "stdout",
     "output_type": "stream",
     "text": [
      "('Akash', 'Ramasani', 27, 'May', 2001, True)\n"
     ]
    }
   ],
   "source": [
    "print(profile[0:8]);"
   ]
  },
  {
   "cell_type": "code",
   "execution_count": 55,
   "id": "2a41a6af-e2a3-4c1d-b22e-c0a9af2c2600",
   "metadata": {},
   "outputs": [
    {
     "name": "stdout",
     "output_type": "stream",
     "text": [
      "('Ramasani',)\n"
     ]
    }
   ],
   "source": [
    "print(profile[1:2]);"
   ]
  },
  {
   "cell_type": "code",
   "execution_count": 56,
   "id": "974eabe9-b0a2-4935-a571-f41aadb68823",
   "metadata": {},
   "outputs": [
    {
     "name": "stdout",
     "output_type": "stream",
     "text": [
      "('Akash', 'Ramasani')\n"
     ]
    }
   ],
   "source": [
    "print(profile[0:2]);"
   ]
  },
  {
   "cell_type": "code",
   "execution_count": 57,
   "id": "7bb3704e-6cc5-49db-bd22-0775ee0105ec",
   "metadata": {},
   "outputs": [
    {
     "name": "stdout",
     "output_type": "stream",
     "text": [
      "(27, 'May', 2001)\n"
     ]
    }
   ],
   "source": [
    "print(profile[2:5]);"
   ]
  },
  {
   "cell_type": "code",
   "execution_count": 61,
   "id": "9ed46aeb-bf56-4ab1-9d36-e61d1d141305",
   "metadata": {},
   "outputs": [
    {
     "name": "stdout",
     "output_type": "stream",
     "text": [
      "(True,)\n"
     ]
    }
   ],
   "source": [
    "print(profile[5:]);"
   ]
  },
  {
   "cell_type": "code",
   "execution_count": 62,
   "id": "c0bd1c16-c756-4374-bdaf-26c724eaee00",
   "metadata": {},
   "outputs": [
    {
     "name": "stdout",
     "output_type": "stream",
     "text": [
      "('Akash', 'Ramasani')\n"
     ]
    }
   ],
   "source": [
    "print(profile[:2]);"
   ]
  },
  {
   "cell_type": "code",
   "execution_count": 64,
   "id": "94f92bc2-1ade-41c7-a4f6-b14dc76aab45",
   "metadata": {},
   "outputs": [
    {
     "name": "stdout",
     "output_type": "stream",
     "text": [
      "('Akash', 'Ramasani', 27, 'May', 2001)\n"
     ]
    }
   ],
   "source": [
    "print(profile[:5]);"
   ]
  },
  {
   "cell_type": "markdown",
   "id": "ae4c241e-075b-4d7f-8c50-2e22fe3088d7",
   "metadata": {},
   "source": [
    "Range of Negative Indexes"
   ]
  },
  {
   "cell_type": "code",
   "execution_count": 65,
   "id": "945b0410-b461-4618-aaed-cb3ce7db5842",
   "metadata": {},
   "outputs": [
    {
     "name": "stdout",
     "output_type": "stream",
     "text": [
      "('Akash', 'Ramasani', 27, 'May', 2001, True)\n"
     ]
    }
   ],
   "source": [
    "print(profile);"
   ]
  },
  {
   "cell_type": "code",
   "execution_count": 68,
   "id": "16c941fc-d589-45c2-aadf-74f01504eae2",
   "metadata": {},
   "outputs": [
    {
     "name": "stdout",
     "output_type": "stream",
     "text": [
      "('Akash', 'Ramasani', 27, 'May', 2001, True)\n"
     ]
    }
   ],
   "source": [
    "print(profile[:]);"
   ]
  },
  {
   "cell_type": "code",
   "execution_count": 66,
   "id": "a5f0ea4a-ba6e-4301-a3a7-909bc2fa29f9",
   "metadata": {},
   "outputs": [
    {
     "name": "stdout",
     "output_type": "stream",
     "text": [
      "()\n"
     ]
    }
   ],
   "source": [
    "print(profile[:-0]);"
   ]
  },
  {
   "cell_type": "code",
   "execution_count": 70,
   "id": "53c23c7a-aec3-4546-8f53-1bbe31b5a6c7",
   "metadata": {},
   "outputs": [
    {
     "name": "stdout",
     "output_type": "stream",
     "text": [
      "('Akash', 'Ramasani', 27, 'May', 2001)\n"
     ]
    }
   ],
   "source": [
    "print(profile[:-1]);"
   ]
  },
  {
   "cell_type": "code",
   "execution_count": 71,
   "id": "b79fe1b4-4f02-4b5f-aaea-c0932845b7a1",
   "metadata": {},
   "outputs": [
    {
     "name": "stdout",
     "output_type": "stream",
     "text": [
      "('Akash', 'Ramasani', 27, 'May')\n"
     ]
    }
   ],
   "source": [
    "print(profile[:-2]);"
   ]
  },
  {
   "cell_type": "code",
   "execution_count": 73,
   "id": "92fc5333-376f-4c5b-8102-02120efe8cff",
   "metadata": {},
   "outputs": [
    {
     "name": "stdout",
     "output_type": "stream",
     "text": [
      "('Akash', 'Ramasani', 27)\n"
     ]
    }
   ],
   "source": [
    "print(profile[:-3]);"
   ]
  },
  {
   "cell_type": "code",
   "execution_count": 74,
   "id": "9cd03f2c-e354-4ac4-a7b2-e8affa7b7f7b",
   "metadata": {},
   "outputs": [
    {
     "name": "stdout",
     "output_type": "stream",
     "text": [
      "('Akash', 'Ramasani')\n"
     ]
    }
   ],
   "source": [
    "print(profile[:-4]);"
   ]
  },
  {
   "cell_type": "code",
   "execution_count": 75,
   "id": "ae3bad0b-0605-42a4-a47a-b331d512882b",
   "metadata": {},
   "outputs": [
    {
     "name": "stdout",
     "output_type": "stream",
     "text": [
      "('Akash',)\n"
     ]
    }
   ],
   "source": [
    "print(profile[:-5]);"
   ]
  },
  {
   "cell_type": "code",
   "execution_count": 76,
   "id": "75452288-4c67-484e-90a0-d56b3a608413",
   "metadata": {},
   "outputs": [
    {
     "name": "stdout",
     "output_type": "stream",
     "text": [
      "()\n"
     ]
    }
   ],
   "source": [
    "print(profile[:-6]);"
   ]
  },
  {
   "cell_type": "code",
   "execution_count": 77,
   "id": "bc663f15-5b17-448a-9bcf-d8b185b6cf9b",
   "metadata": {},
   "outputs": [
    {
     "name": "stdout",
     "output_type": "stream",
     "text": [
      "(27, 'May', 2001)\n"
     ]
    }
   ],
   "source": [
    "print(profile[-4:-1]);"
   ]
  },
  {
   "cell_type": "code",
   "execution_count": 78,
   "id": "5b06026e-a492-4bc6-bde7-12ee644a6a5e",
   "metadata": {},
   "outputs": [
    {
     "name": "stdout",
     "output_type": "stream",
     "text": [
      "('Akash', 'Ramasani')\n"
     ]
    }
   ],
   "source": [
    "print(profile[-6:-4]);"
   ]
  },
  {
   "cell_type": "code",
   "execution_count": 81,
   "id": "98702d29-2372-42ab-9fe2-a988f4bfd1df",
   "metadata": {},
   "outputs": [
    {
     "name": "stdout",
     "output_type": "stream",
     "text": [
      "('Akash',)\n"
     ]
    }
   ],
   "source": [
    "print(profile[-6:-5]);"
   ]
  },
  {
   "cell_type": "code",
   "execution_count": 82,
   "id": "d594a8c0-c720-4d52-a4f2-33cb00be667b",
   "metadata": {},
   "outputs": [
    {
     "name": "stdout",
     "output_type": "stream",
     "text": [
      "('Ramasani',)\n"
     ]
    }
   ],
   "source": [
    "print(profile[-5:-4])"
   ]
  },
  {
   "cell_type": "markdown",
   "id": "71324b5b-81d3-49f3-bbb5-335db46e3909",
   "metadata": {},
   "source": [
    "Check if item exists"
   ]
  },
  {
   "cell_type": "code",
   "execution_count": 83,
   "id": "bfdb3644-62bd-452f-a53a-787f952883ba",
   "metadata": {},
   "outputs": [
    {
     "name": "stdout",
     "output_type": "stream",
     "text": [
      "('Akash', 'Ramasani', 27, 'May', 2001, True)\n"
     ]
    }
   ],
   "source": [
    "print(profile);"
   ]
  },
  {
   "cell_type": "code",
   "execution_count": 94,
   "id": "28edd63b-16e9-4dec-8da5-e9e79e34ff2d",
   "metadata": {},
   "outputs": [
    {
     "name": "stdout",
     "output_type": "stream",
     "text": [
      "Akash True\n",
      "Akash True\n"
     ]
    }
   ],
   "source": [
    "if \"Akash\" in profile:\n",
    "    print(\"Akash\", True);\n",
    "    \n",
    "if \"akash\".capitalize() in profile:\n",
    "    print(\"akash\".capitalize(), True);"
   ]
  },
  {
   "cell_type": "code",
   "execution_count": null,
   "id": "8379167a-ca66-4641-9c17-dff1684b3a8f",
   "metadata": {},
   "outputs": [],
   "source": []
  }
 ],
 "metadata": {
  "kernelspec": {
   "display_name": "Python 3 (ipykernel)",
   "language": "python",
   "name": "python3"
  },
  "language_info": {
   "codemirror_mode": {
    "name": "ipython",
    "version": 3
   },
   "file_extension": ".py",
   "mimetype": "text/x-python",
   "name": "python",
   "nbconvert_exporter": "python",
   "pygments_lexer": "ipython3",
   "version": "3.11.6"
  }
 },
 "nbformat": 4,
 "nbformat_minor": 5
}
