{
 "cells": [
  {
   "cell_type": "code",
   "execution_count": 1,
   "id": "aa3aef46-afc7-46d3-9360-e6666747ec6f",
   "metadata": {},
   "outputs": [],
   "source": [
    "import platform"
   ]
  },
  {
   "cell_type": "code",
   "execution_count": 2,
   "id": "b563a9f9-68cf-4d86-b00c-dbe8ea2ac4b1",
   "metadata": {},
   "outputs": [
    {
     "name": "stdout",
     "output_type": "stream",
     "text": [
      "Windows\n"
     ]
    }
   ],
   "source": [
    "print(platform.system());"
   ]
  },
  {
   "cell_type": "code",
   "execution_count": 3,
   "id": "f919589d-de5d-4481-b3f6-e52496e87d7d",
   "metadata": {},
   "outputs": [
    {
     "name": "stdout",
     "output_type": "stream",
     "text": [
      "<module 'os' (frozen)>\n"
     ]
    }
   ],
   "source": [
    "print(platform.os);"
   ]
  },
  {
   "cell_type": "code",
   "execution_count": 4,
   "id": "873ed6ca-1249-472d-b2df-8c69713f5cc6",
   "metadata": {},
   "outputs": [
    {
     "name": "stdout",
     "output_type": "stream",
     "text": [
      "_Processor\n",
      "_WIN32_CLIENT_RELEASES\n",
      "_WIN32_SERVER_RELEASES\n",
      "__builtins__\n",
      "__cached__\n",
      "__copyright__\n",
      "__doc__\n",
      "__file__\n",
      "__loader__\n",
      "__name__\n",
      "__package__\n",
      "__spec__\n",
      "__version__\n",
      "_comparable_version\n",
      "_component_re\n",
      "_default_architecture\n",
      "_follow_symlinks\n",
      "_get_machine_win32\n",
      "_ironpython26_sys_version_parser\n",
      "_ironpython_sys_version_parser\n",
      "_java_getprop\n",
      "_libc_search\n",
      "_mac_ver_xml\n",
      "_node\n",
      "_norm_version\n",
      "_os_release_cache\n",
      "_os_release_candidates\n",
      "_os_release_line\n",
      "_os_release_unescape\n",
      "_parse_os_release\n",
      "_platform\n",
      "_platform_cache\n",
      "_pypy_sys_version_parser\n",
      "_sys_version\n",
      "_sys_version_cache\n",
      "_sys_version_parser\n",
      "_syscmd_file\n",
      "_syscmd_ver\n",
      "_uname_cache\n",
      "_unknown_as_blank\n",
      "_ver_output\n",
      "_ver_stages\n",
      "architecture\n",
      "collections\n",
      "freedesktop_os_release\n",
      "functools\n",
      "itertools\n",
      "java_ver\n",
      "libc_ver\n",
      "mac_ver\n",
      "machine\n",
      "node\n",
      "os\n",
      "platform\n",
      "processor\n",
      "python_branch\n",
      "python_build\n",
      "python_compiler\n",
      "python_implementation\n",
      "python_revision\n",
      "python_version\n",
      "python_version_tuple\n",
      "re\n",
      "release\n",
      "sys\n",
      "system\n",
      "system_alias\n",
      "uname\n",
      "uname_result\n",
      "version\n",
      "win32_edition\n",
      "win32_is_iot\n",
      "win32_ver\n"
     ]
    }
   ],
   "source": [
    "for each in dir(platform):\n",
    "    print(each);"
   ]
  },
  {
   "cell_type": "code",
   "execution_count": 4,
   "id": "9fa6c9ad-1ef2-4534-8874-a6ac1993a01e",
   "metadata": {},
   "outputs": [
    {
     "name": "stdout",
     "output_type": "stream",
     "text": [
      "<class 'platform._Processor'>\n"
     ]
    }
   ],
   "source": [
    "print(platform._Processor);"
   ]
  }
 ],
 "metadata": {
  "kernelspec": {
   "display_name": "Python 3 (ipykernel)",
   "language": "python",
   "name": "python3"
  },
  "language_info": {
   "codemirror_mode": {
    "name": "ipython",
    "version": 3
   },
   "file_extension": ".py",
   "mimetype": "text/x-python",
   "name": "python",
   "nbconvert_exporter": "python",
   "pygments_lexer": "ipython3",
   "version": "3.11.6"
  }
 },
 "nbformat": 4,
 "nbformat_minor": 5
}
