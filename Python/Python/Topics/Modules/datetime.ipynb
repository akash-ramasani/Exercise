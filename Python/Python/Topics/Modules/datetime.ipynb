{
 "cells": [
  {
   "cell_type": "code",
   "execution_count": 1,
   "id": "b93120e5-8638-4a8a-b111-389ba90794a7",
   "metadata": {},
   "outputs": [],
   "source": [
    "import datetime"
   ]
  },
  {
   "cell_type": "code",
   "execution_count": 2,
   "id": "61ceac3a-75b3-489a-86ae-f7421d925fd3",
   "metadata": {},
   "outputs": [
    {
     "name": "stdout",
     "output_type": "stream",
     "text": [
      "<module 'datetime' from 'C:\\\\Users\\\\PC-14\\\\AppData\\\\Local\\\\Programs\\\\Python\\\\Python311\\\\Lib\\\\datetime.py'>\n"
     ]
    }
   ],
   "source": [
    "print(datetime);"
   ]
  },
  {
   "cell_type": "code",
   "execution_count": 3,
   "id": "b05615f8-fa35-49fb-ac25-c4270733e033",
   "metadata": {},
   "outputs": [
    {
     "name": "stdout",
     "output_type": "stream",
     "text": [
      "<class 'datetime.datetime'>\n"
     ]
    }
   ],
   "source": [
    "print(datetime.datetime);"
   ]
  },
  {
   "cell_type": "code",
   "execution_count": 5,
   "id": "e99535d3-7557-4a23-8c16-4ed116582c18",
   "metadata": {},
   "outputs": [
    {
     "name": "stdout",
     "output_type": "stream",
     "text": [
      "2024-03-26 15:51:09.593825\n"
     ]
    }
   ],
   "source": [
    "print(datetime.datetime.now());"
   ]
  },
  {
   "cell_type": "code",
   "execution_count": 6,
   "id": "d4258f51-2085-47d8-826c-ff7bf73da713",
   "metadata": {},
   "outputs": [],
   "source": [
    "from datetime import datetime"
   ]
  },
  {
   "cell_type": "code",
   "execution_count": 7,
   "id": "85b48a36-1571-4734-a42f-23ef195eed58",
   "metadata": {},
   "outputs": [
    {
     "ename": "AttributeError",
     "evalue": "'method_descriptor' object has no attribute 'noe'",
     "output_type": "error",
     "traceback": [
      "\u001b[1;31m---------------------------------------------------------------------------\u001b[0m",
      "\u001b[1;31mAttributeError\u001b[0m                            Traceback (most recent call last)",
      "Cell \u001b[1;32mIn[7], line 1\u001b[0m\n\u001b[1;32m----> 1\u001b[0m \u001b[38;5;28mprint\u001b[39m(\u001b[43mdatetime\u001b[49m\u001b[38;5;241;43m.\u001b[39;49m\u001b[43mdate\u001b[49m\u001b[38;5;241;43m.\u001b[39;49m\u001b[43mnoe\u001b[49m());\n",
      "\u001b[1;31mAttributeError\u001b[0m: 'method_descriptor' object has no attribute 'noe'"
     ]
    }
   ],
   "source": [
    "print(datetime.date.noe());"
   ]
  }
 ],
 "metadata": {
  "kernelspec": {
   "display_name": "Python 3 (ipykernel)",
   "language": "python",
   "name": "python3"
  },
  "language_info": {
   "codemirror_mode": {
    "name": "ipython",
    "version": 3
   },
   "file_extension": ".py",
   "mimetype": "text/x-python",
   "name": "python",
   "nbconvert_exporter": "python",
   "pygments_lexer": "ipython3",
   "version": "3.11.6"
  }
 },
 "nbformat": 4,
 "nbformat_minor": 5
}
