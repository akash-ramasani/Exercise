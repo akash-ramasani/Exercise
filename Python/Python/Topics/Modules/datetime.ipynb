{
 "cells": [
  {
   "cell_type": "code",
   "execution_count": 1,
   "id": "8c28009f-ebec-4b2f-b45e-4d1fdcdb61ae",
   "metadata": {},
   "outputs": [],
   "source": [
    "import datetime"
   ]
  },
  {
   "cell_type": "code",
   "execution_count": 2,
   "id": "ed1bbf27-7a8a-4b6f-8fe6-10291f525679",
   "metadata": {},
   "outputs": [
    {
     "name": "stdout",
     "output_type": "stream",
     "text": [
      "2024-03-07 13:07:39.789325\n"
     ]
    }
   ],
   "source": [
    "print(datetime.datetime.now());"
   ]
  },
  {
   "cell_type": "code",
   "execution_count": 6,
   "id": "7784abb7-1ff0-4a9a-83da-e43b0bf7323e",
   "metadata": {},
   "outputs": [
    {
     "name": "stdout",
     "output_type": "stream",
     "text": [
      "2024-03-07 13:08:49.932332\n"
     ]
    }
   ],
   "source": [
    "print(datetime.datetime.now());"
   ]
  },
  {
   "cell_type": "code",
   "execution_count": 12,
   "id": "0b8acccf-6150-4eab-bce1-02ddafc935b5",
   "metadata": {},
   "outputs": [
    {
     "name": "stdout",
     "output_type": "stream",
     "text": [
      "2024\n"
     ]
    }
   ],
   "source": [
    "print(datetime.date.today().year);"
   ]
  }
 ],
 "metadata": {
  "kernelspec": {
   "display_name": "Python 3 (ipykernel)",
   "language": "python",
   "name": "python3"
  },
  "language_info": {
   "codemirror_mode": {
    "name": "ipython",
    "version": 3
   },
   "file_extension": ".py",
   "mimetype": "text/x-python",
   "name": "python",
   "nbconvert_exporter": "python",
   "pygments_lexer": "ipython3",
   "version": "3.11.6"
  }
 },
 "nbformat": 4,
 "nbformat_minor": 5
}
