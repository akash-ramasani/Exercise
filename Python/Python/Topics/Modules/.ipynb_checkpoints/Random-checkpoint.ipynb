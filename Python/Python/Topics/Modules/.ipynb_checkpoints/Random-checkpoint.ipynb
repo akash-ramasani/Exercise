{
 "cells": [
  {
   "cell_type": "code",
   "execution_count": 2,
   "id": "120fba44-e969-4299-977d-a526d84c9565",
   "metadata": {},
   "outputs": [],
   "source": [
    "import random; #Importing Random Module."
   ]
  },
  {
   "cell_type": "code",
   "execution_count": 4,
   "id": "a4f11ce3-1351-4139-b5f4-c63f01b996d2",
   "metadata": {},
   "outputs": [
    {
     "name": "stdout",
     "output_type": "stream",
     "text": [
      "85\n"
     ]
    }
   ],
   "source": [
    "print(random.randrange(10, 100));"
   ]
  },
  {
   "cell_type": "code",
   "execution_count": null,
   "id": "525b1fac-19e5-4c1e-afb2-26a504bcec60",
   "metadata": {},
   "outputs": [],
   "source": []
  }
 ],
 "metadata": {
  "kernelspec": {
   "display_name": "Python 3 (ipykernel)",
   "language": "python",
   "name": "python3"
  },
  "language_info": {
   "codemirror_mode": {
    "name": "ipython",
    "version": 3
   },
   "file_extension": ".py",
   "mimetype": "text/x-python",
   "name": "python",
   "nbconvert_exporter": "python",
   "pygments_lexer": "ipython3",
   "version": "3.11.6"
  }
 },
 "nbformat": 4,
 "nbformat_minor": 5
}
