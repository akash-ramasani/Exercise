{
 "cells": [
  {
   "cell_type": "code",
   "execution_count": 1,
   "id": "32af6c1d-7b8a-4083-80f9-3d3e4270f91e",
   "metadata": {},
   "outputs": [],
   "source": [
    "fruits = [\"Apple\", \"Banana\", \"Cherry\", \"Dragon Fruit\"];"
   ]
  },
  {
   "cell_type": "code",
   "execution_count": 2,
   "id": "f3d29231-c8f2-462a-addb-7b69f314dc40",
   "metadata": {},
   "outputs": [
    {
     "name": "stdout",
     "output_type": "stream",
     "text": [
      "['Apple', 'Banana', 'Cherry', 'Dragon Fruit']\n"
     ]
    }
   ],
   "source": [
    "print(fruits);"
   ]
  },
  {
   "cell_type": "markdown",
   "id": "94b3a2e5-1042-4ecb-af26-1e9dcb04e0f1",
   "metadata": {},
   "source": [
    "Lists are Ordered, Changable and Allow Duplicate Values."
   ]
  },
  {
   "cell_type": "code",
   "execution_count": 3,
   "id": "10c92216-42cd-4d9d-b6ae-a03074b1f22d",
   "metadata": {},
   "outputs": [
    {
     "name": "stdout",
     "output_type": "stream",
     "text": [
      "Apple\n"
     ]
    }
   ],
   "source": [
    "print(fruits[0]);"
   ]
  },
  {
   "cell_type": "code",
   "execution_count": 4,
   "id": "95afeacf-21e7-4529-b174-10a14d5f2efb",
   "metadata": {},
   "outputs": [
    {
     "name": "stdout",
     "output_type": "stream",
     "text": [
      "Banana\n"
     ]
    }
   ],
   "source": [
    "print(fruits[1]);"
   ]
  },
  {
   "cell_type": "code",
   "execution_count": 5,
   "id": "dcb19ff3-4238-4b04-93b7-3e70f7556c27",
   "metadata": {},
   "outputs": [
    {
     "name": "stdout",
     "output_type": "stream",
     "text": [
      "Cherry\n"
     ]
    }
   ],
   "source": [
    "print(fruits[2]);"
   ]
  },
  {
   "cell_type": "code",
   "execution_count": 6,
   "id": "42b94e5e-33d5-40ff-b40d-303f1f59eadb",
   "metadata": {},
   "outputs": [
    {
     "name": "stdout",
     "output_type": "stream",
     "text": [
      "Dragon Fruit\n"
     ]
    }
   ],
   "source": [
    "print(fruits[3]);"
   ]
  },
  {
   "cell_type": "code",
   "execution_count": 7,
   "id": "4de88e81-d69e-4be0-aedd-fd93924658f4",
   "metadata": {},
   "outputs": [
    {
     "ename": "IndexError",
     "evalue": "list index out of range",
     "output_type": "error",
     "traceback": [
      "\u001b[1;31m---------------------------------------------------------------------------\u001b[0m",
      "\u001b[1;31mIndexError\u001b[0m                                Traceback (most recent call last)",
      "Cell \u001b[1;32mIn[7], line 1\u001b[0m\n\u001b[1;32m----> 1\u001b[0m \u001b[38;5;28mprint\u001b[39m(\u001b[43mfruits\u001b[49m\u001b[43m[\u001b[49m\u001b[38;5;241;43m4\u001b[39;49m\u001b[43m]\u001b[49m);\n",
      "\u001b[1;31mIndexError\u001b[0m: list index out of range"
     ]
    }
   ],
   "source": [
    "print(fruits[4]);"
   ]
  },
  {
   "cell_type": "markdown",
   "id": "df44c0d9-c00c-4958-8cdc-f140407a4c59",
   "metadata": {},
   "source": [
    "Ordered\n",
    "\n",
    "When we say that lists are ordered, it means that the items have a defined order, and that order will not change. If you add new items to a list, the new items will be placed at the end of the list."
   ]
  },
  {
   "cell_type": "code",
   "execution_count": 8,
   "id": "bbbd7072-6d92-4d83-9cce-728ba3d532b5",
   "metadata": {},
   "outputs": [
    {
     "name": "stdout",
     "output_type": "stream",
     "text": [
      "['Apple', 'Banana', 'Cherry', 'Dragon Fruit']\n"
     ]
    }
   ],
   "source": [
    "print(fruits);"
   ]
  },
  {
   "cell_type": "code",
   "execution_count": 9,
   "id": "d80bc304-2f20-4bbf-a387-60b0f6df8c0f",
   "metadata": {},
   "outputs": [
    {
     "name": "stdout",
     "output_type": "stream",
     "text": [
      "['Apple', 'Banana', 'Cherry', 'Dragon Fruit']\n"
     ]
    }
   ],
   "source": [
    "print(fruits);"
   ]
  },
  {
   "cell_type": "code",
   "execution_count": 10,
   "id": "1c7ffd6c-edf6-4aa2-a20e-eb972cfb3397",
   "metadata": {},
   "outputs": [
    {
     "name": "stdout",
     "output_type": "stream",
     "text": [
      "['Apple', 'Banana', 'Cherry', 'Dragon Fruit']\n"
     ]
    }
   ],
   "source": [
    "print(fruits);"
   ]
  },
  {
   "cell_type": "markdown",
   "id": "844a69f0-e934-4613-9007-f3db0dd831ba",
   "metadata": {},
   "source": [
    "Changable - The list is changeable, meaning that we can change, add, and remove items in a list after it has been created."
   ]
  },
  {
   "cell_type": "markdown",
   "id": "76a799a4-6c94-4f32-81b2-59c985eb45a7",
   "metadata": {},
   "source": [
    "Change List Items"
   ]
  },
  {
   "cell_type": "markdown",
   "id": "e9672bae-8c0d-46c2-91fd-17f7ed71f501",
   "metadata": {},
   "source": [
    "Add List Items"
   ]
  },
  {
   "cell_type": "markdown",
   "id": "a8d3e183-99be-4b74-b7e1-64d6dc3c5d76",
   "metadata": {},
   "source": [
    "Remove List Items"
   ]
  },
  {
   "cell_type": "markdown",
   "id": "1100ca72-4487-48be-9df3-66957bc7136c",
   "metadata": {},
   "source": [
    "Allow Duplicates"
   ]
  },
  {
   "cell_type": "code",
   "execution_count": 11,
   "id": "ded7f86e-dff0-4e19-9a2b-b81cb76e7181",
   "metadata": {},
   "outputs": [],
   "source": [
    "students = [\"Akash\", \"Mark\", \"Elon\", \"Akash\", \"Elon\", \"Sundar\"];"
   ]
  },
  {
   "cell_type": "code",
   "execution_count": 12,
   "id": "536110cc-3fe6-4888-9bef-85504842339b",
   "metadata": {},
   "outputs": [
    {
     "name": "stdout",
     "output_type": "stream",
     "text": [
      "['Akash', 'Mark', 'Elon', 'Akash', 'Elon', 'Sundar']\n"
     ]
    }
   ],
   "source": [
    "print(students);"
   ]
  },
  {
   "cell_type": "markdown",
   "id": "7fcf8a8e-94cc-445b-a26b-4fac5189dc8e",
   "metadata": {},
   "source": [
    "List Length"
   ]
  },
  {
   "cell_type": "code",
   "execution_count": 13,
   "id": "ae393867-910f-4420-9511-5be5fa868296",
   "metadata": {},
   "outputs": [
    {
     "name": "stdout",
     "output_type": "stream",
     "text": [
      "6\n"
     ]
    }
   ],
   "source": [
    "print(len(students));"
   ]
  },
  {
   "cell_type": "markdown",
   "id": "7cce2f9a-dce9-4763-b23a-467c9b3f36fb",
   "metadata": {},
   "source": [
    "List Items - Data Types"
   ]
  },
  {
   "cell_type": "code",
   "execution_count": 14,
   "id": "2db48cc6-ff13-475f-a604-b0018cc90068",
   "metadata": {},
   "outputs": [],
   "source": [
    "stringList = [\"Akash\", \"Elon\", \"Mark\"];"
   ]
  },
  {
   "cell_type": "code",
   "execution_count": 15,
   "id": "6e7a5d4a-7a89-4b1b-84aa-9fcaa7a6abb4",
   "metadata": {},
   "outputs": [],
   "source": [
    "intList = [22, 56, 77, 88];"
   ]
  },
  {
   "cell_type": "code",
   "execution_count": 16,
   "id": "bbdf3101-91bc-47a8-8ce1-3623ad8c9008",
   "metadata": {},
   "outputs": [],
   "source": [
    "booleanList = [True, False, False, True, False];"
   ]
  },
  {
   "cell_type": "code",
   "execution_count": 17,
   "id": "96ce5052-e260-414c-a742-1ba86bbef0a7",
   "metadata": {},
   "outputs": [],
   "source": [
    "mixedList = [\"Akash\", \"Ramasani\", 22, True];"
   ]
  },
  {
   "cell_type": "code",
   "execution_count": 18,
   "id": "241fd784-912c-49b4-96ae-b55d5f35ddec",
   "metadata": {},
   "outputs": [
    {
     "name": "stdout",
     "output_type": "stream",
     "text": [
      "['Akash', 'Elon', 'Mark'] [22, 56, 77, 88] [True, False, False, True, False] ['Akash', 'Ramasani', 22, True]\n"
     ]
    }
   ],
   "source": [
    "print(stringList, intList, booleanList, mixedList);"
   ]
  },
  {
   "cell_type": "markdown",
   "id": "afaa0770-0ba3-4cc5-84d9-47a6f6d07879",
   "metadata": {},
   "source": [
    "type()"
   ]
  },
  {
   "cell_type": "code",
   "execution_count": 19,
   "id": "738054dc-c7ee-4b83-8810-414829d5a56b",
   "metadata": {},
   "outputs": [
    {
     "name": "stdout",
     "output_type": "stream",
     "text": [
      "<class 'list'>\n"
     ]
    }
   ],
   "source": [
    "print(type(stringList));"
   ]
  },
  {
   "cell_type": "code",
   "execution_count": 20,
   "id": "ac3daaef-5670-426e-8d12-b86fd65574f7",
   "metadata": {},
   "outputs": [
    {
     "name": "stdout",
     "output_type": "stream",
     "text": [
      "<class 'list'>\n"
     ]
    }
   ],
   "source": [
    "print(type(intList));"
   ]
  },
  {
   "cell_type": "code",
   "execution_count": 21,
   "id": "9ba8d0cf-10a5-4c43-be8f-9876eafbd9f0",
   "metadata": {},
   "outputs": [
    {
     "name": "stdout",
     "output_type": "stream",
     "text": [
      "<class 'list'> <class 'list'>\n"
     ]
    }
   ],
   "source": [
    "print(type(booleanList), type(mixedList));"
   ]
  },
  {
   "cell_type": "markdown",
   "id": "fc6713e7-375a-4ee4-89e6-3b240f4de61c",
   "metadata": {},
   "source": [
    "list() constructor"
   ]
  },
  {
   "cell_type": "code",
   "execution_count": 22,
   "id": "221f613d-26a2-4769-a0d8-e9c1c16e38ba",
   "metadata": {},
   "outputs": [],
   "source": [
    "profile = list((\"Akash\", \"\", \"Ramasani\", 22, True));"
   ]
  },
  {
   "cell_type": "code",
   "execution_count": 23,
   "id": "b68b91bd-771e-4d77-a937-347fd317eab9",
   "metadata": {},
   "outputs": [
    {
     "name": "stdout",
     "output_type": "stream",
     "text": [
      "['Akash', '', 'Ramasani', 22, True]\n"
     ]
    }
   ],
   "source": [
    "print(profile);"
   ]
  },
  {
   "cell_type": "code",
   "execution_count": 24,
   "id": "f9cac7a8-173d-421d-9e41-ddb16145b79f",
   "metadata": {},
   "outputs": [
    {
     "name": "stdout",
     "output_type": "stream",
     "text": [
      "5\n"
     ]
    }
   ],
   "source": [
    "print(len(profile));"
   ]
  },
  {
   "cell_type": "code",
   "execution_count": 25,
   "id": "00f43780-f095-46da-985d-2a67f51527bf",
   "metadata": {},
   "outputs": [
    {
     "name": "stdout",
     "output_type": "stream",
     "text": [
      "<class 'list'>\n"
     ]
    }
   ],
   "source": [
    "print(type(profile));"
   ]
  },
  {
   "cell_type": "markdown",
   "id": "dc34a41b-2a83-4378-8c3f-9849ff3a5237",
   "metadata": {},
   "source": [
    "Python - Access List Items"
   ]
  },
  {
   "cell_type": "markdown",
   "id": "dc6db4fa-7aef-4194-af15-4b02348eea82",
   "metadata": {},
   "source": [
    "List Items are indexed and you can access them by referring to the index number"
   ]
  },
  {
   "cell_type": "code",
   "execution_count": 27,
   "id": "abc22b3e-3e1b-4f83-bb05-95d306554311",
   "metadata": {},
   "outputs": [],
   "source": [
    "fruits = [\"Apple\", \"Banana\", \"Cherry\", \"Dragon Fruit\", \"Elephant Apple\", \"Fig\"];"
   ]
  },
  {
   "cell_type": "code",
   "execution_count": 28,
   "id": "b92b4738-8ed6-49f1-988a-c4fff5fd170f",
   "metadata": {},
   "outputs": [
    {
     "name": "stdout",
     "output_type": "stream",
     "text": [
      "Apple Banana Cherry Dragon Fruit Elephant Apple Fig\n"
     ]
    }
   ],
   "source": [
    "print(fruits[0], fruits[1], fruits[2], fruits[3], fruits[4], fruits[5]);"
   ]
  },
  {
   "cell_type": "markdown",
   "id": "5db78323-7309-4bc9-8758-d9e4fc6da047",
   "metadata": {},
   "source": [
    "Negative Indexing - -1 refers to the last item, -2 refers to the second last item."
   ]
  },
  {
   "cell_type": "code",
   "execution_count": 29,
   "id": "601fdb1b-e29c-4429-8c62-cad976d2c133",
   "metadata": {},
   "outputs": [
    {
     "name": "stdout",
     "output_type": "stream",
     "text": [
      "Fig Elephant Apple Dragon Fruit Cherry Banana Apple\n"
     ]
    }
   ],
   "source": [
    "print(fruits[-1], fruits[-2], fruits[-3], fruits[-4], fruits[-5], fruits[-6]);"
   ]
  },
  {
   "cell_type": "markdown",
   "id": "111c2c85-4ddf-4fb6-bf3c-3ea8e0fcc5d9",
   "metadata": {},
   "source": [
    "Range of Indexes"
   ]
  },
  {
   "cell_type": "code",
   "execution_count": 30,
   "id": "267f5efb-6531-430e-bd4f-c68a0abc74dc",
   "metadata": {},
   "outputs": [
    {
     "name": "stdout",
     "output_type": "stream",
     "text": [
      "['Banana', 'Cherry', 'Dragon Fruit']\n"
     ]
    }
   ],
   "source": [
    "print(fruits[1:4]);"
   ]
  },
  {
   "cell_type": "code",
   "execution_count": 31,
   "id": "42affce4-97d7-4bbc-9713-a1315d39253e",
   "metadata": {},
   "outputs": [
    {
     "name": "stdout",
     "output_type": "stream",
     "text": [
      "['Apple', 'Banana', 'Cherry', 'Dragon Fruit']\n"
     ]
    }
   ],
   "source": [
    "print(fruits[:4]);"
   ]
  },
  {
   "cell_type": "code",
   "execution_count": 32,
   "id": "fef202b2-3f65-4e84-aeae-63bfee26c0d4",
   "metadata": {},
   "outputs": [
    {
     "name": "stdout",
     "output_type": "stream",
     "text": [
      "['Apple', 'Banana', 'Cherry', 'Dragon Fruit', 'Elephant Apple', 'Fig']\n"
     ]
    }
   ],
   "source": [
    "print(fruits[:]);"
   ]
  },
  {
   "cell_type": "code",
   "execution_count": 33,
   "id": "b08ff5f4-7717-4c49-86ba-e5f17e574e18",
   "metadata": {},
   "outputs": [
    {
     "name": "stdout",
     "output_type": "stream",
     "text": [
      "['Apple', 'Banana', 'Cherry', 'Dragon Fruit', 'Elephant Apple', 'Fig']\n"
     ]
    }
   ],
   "source": [
    "print(fruits[0:]);"
   ]
  },
  {
   "cell_type": "code",
   "execution_count": 34,
   "id": "8fa6b09b-e9f0-4498-90a2-55aa05321e01",
   "metadata": {},
   "outputs": [
    {
     "name": "stdout",
     "output_type": "stream",
     "text": [
      "['Banana', 'Cherry', 'Dragon Fruit', 'Elephant Apple', 'Fig']\n"
     ]
    }
   ],
   "source": [
    "print(fruits[1:]);"
   ]
  },
  {
   "cell_type": "code",
   "execution_count": 35,
   "id": "6b4e3e10-6464-4423-8c7e-90e561689ebf",
   "metadata": {},
   "outputs": [
    {
     "name": "stdout",
     "output_type": "stream",
     "text": [
      "['Cherry', 'Dragon Fruit', 'Elephant Apple', 'Fig']\n"
     ]
    }
   ],
   "source": [
    "print(fruits[2:]);"
   ]
  },
  {
   "cell_type": "code",
   "execution_count": 36,
   "id": "14186d32-b0a8-4931-8c15-91fa7bb894be",
   "metadata": {},
   "outputs": [
    {
     "name": "stdout",
     "output_type": "stream",
     "text": [
      "['Dragon Fruit', 'Elephant Apple', 'Fig']\n"
     ]
    }
   ],
   "source": [
    "print(fruits[3:]);"
   ]
  },
  {
   "cell_type": "code",
   "execution_count": 37,
   "id": "02a8bf97-f31e-491d-a217-3d02d5bbaf2b",
   "metadata": {},
   "outputs": [
    {
     "name": "stdout",
     "output_type": "stream",
     "text": [
      "['Elephant Apple', 'Fig']\n"
     ]
    }
   ],
   "source": [
    "print(fruits[4:]);"
   ]
  },
  {
   "cell_type": "code",
   "execution_count": 38,
   "id": "a62bf907-f4a1-4751-86e5-f218e91f1eb9",
   "metadata": {},
   "outputs": [
    {
     "name": "stdout",
     "output_type": "stream",
     "text": [
      "['Fig']\n"
     ]
    }
   ],
   "source": [
    "print(fruits[5:]);"
   ]
  },
  {
   "cell_type": "code",
   "execution_count": 39,
   "id": "96f5d0a1-bc08-425a-8f24-8f982d112ca4",
   "metadata": {},
   "outputs": [
    {
     "name": "stdout",
     "output_type": "stream",
     "text": [
      "[]\n"
     ]
    }
   ],
   "source": [
    "print(fruits[6:]);"
   ]
  },
  {
   "cell_type": "code",
   "execution_count": 40,
   "id": "ef97a5a4-9978-4fc7-8201-37d0031fd174",
   "metadata": {},
   "outputs": [
    {
     "name": "stdout",
     "output_type": "stream",
     "text": [
      "['Apple', 'Banana', 'Cherry', 'Dragon Fruit', 'Elephant Apple', 'Fig']\n"
     ]
    }
   ],
   "source": [
    "print(fruits[:]);"
   ]
  },
  {
   "cell_type": "code",
   "execution_count": 41,
   "id": "92c7c666-bcb0-478c-a6fc-d0f89deff6bb",
   "metadata": {},
   "outputs": [
    {
     "name": "stdout",
     "output_type": "stream",
     "text": [
      "['Apple', 'Banana', 'Cherry', 'Dragon Fruit', 'Elephant Apple']\n"
     ]
    }
   ],
   "source": [
    "print(fruits[:-1]);"
   ]
  },
  {
   "cell_type": "code",
   "execution_count": 42,
   "id": "11b38c92-ab86-45e8-844f-132a61730156",
   "metadata": {},
   "outputs": [
    {
     "name": "stdout",
     "output_type": "stream",
     "text": [
      "['Apple', 'Banana', 'Cherry', 'Dragon Fruit']\n"
     ]
    }
   ],
   "source": [
    "print(fruits[:-2]);"
   ]
  },
  {
   "cell_type": "code",
   "execution_count": 43,
   "id": "19a79049-315b-4a9b-85eb-19edc9ca80b1",
   "metadata": {},
   "outputs": [
    {
     "name": "stdout",
     "output_type": "stream",
     "text": [
      "['Apple', 'Banana', 'Cherry']\n"
     ]
    }
   ],
   "source": [
    "print(fruits[:-3]);"
   ]
  },
  {
   "cell_type": "code",
   "execution_count": 44,
   "id": "b0f25ff3-3edb-4dcd-b6b1-3f1f4affa387",
   "metadata": {},
   "outputs": [
    {
     "name": "stdout",
     "output_type": "stream",
     "text": [
      "['Apple', 'Banana']\n"
     ]
    }
   ],
   "source": [
    "print(fruits[:-4]);"
   ]
  },
  {
   "cell_type": "code",
   "execution_count": 45,
   "id": "78179f4d-450d-4aec-beb1-2d7af9e78435",
   "metadata": {},
   "outputs": [
    {
     "name": "stdout",
     "output_type": "stream",
     "text": [
      "['Apple']\n"
     ]
    }
   ],
   "source": [
    "print(fruits[:-5]);"
   ]
  },
  {
   "cell_type": "code",
   "execution_count": 46,
   "id": "cd69c125-fbc3-4cc6-907f-1bcdc39d3448",
   "metadata": {},
   "outputs": [
    {
     "name": "stdout",
     "output_type": "stream",
     "text": [
      "[]\n"
     ]
    }
   ],
   "source": [
    "print(fruits[:-6]);"
   ]
  },
  {
   "cell_type": "code",
   "execution_count": 47,
   "id": "cd6b6763-05d4-470b-a198-a0858d152080",
   "metadata": {},
   "outputs": [
    {
     "name": "stdout",
     "output_type": "stream",
     "text": [
      "False\n"
     ]
    }
   ],
   "source": [
    "if \"apple\" in fruits:\n",
    "    print(True);\n",
    "else:\n",
    "    print(False);"
   ]
  },
  {
   "cell_type": "code",
   "execution_count": 48,
   "id": "05ebae61-a1a4-4c6d-aae9-ca180ed17133",
   "metadata": {},
   "outputs": [
    {
     "name": "stdout",
     "output_type": "stream",
     "text": [
      "Apple\n"
     ]
    }
   ],
   "source": [
    "if \"apple\".capitalize() in fruits:\n",
    "    print(\"apple\".capitalize());"
   ]
  },
  {
   "cell_type": "markdown",
   "id": "15a9d0d1-7468-4a2e-a3eb-6a0959e4bb23",
   "metadata": {},
   "source": [
    "Change List Items"
   ]
  },
  {
   "cell_type": "code",
   "execution_count": 49,
   "id": "69a47c63-9ecc-4dd3-b89d-d5037948351a",
   "metadata": {},
   "outputs": [
    {
     "name": "stdout",
     "output_type": "stream",
     "text": [
      "['Apple', 'Banana', 'Cherry', 'Dragon Fruit', 'Elephant Apple', 'Fig']\n"
     ]
    }
   ],
   "source": [
    "print(fruits);"
   ]
  },
  {
   "cell_type": "code",
   "execution_count": 50,
   "id": "32f6510e-e427-44d4-88a9-f1da604ead70",
   "metadata": {},
   "outputs": [
    {
     "name": "stdout",
     "output_type": "stream",
     "text": [
      "Apple\n"
     ]
    }
   ],
   "source": [
    "print(fruits[0]);"
   ]
  },
  {
   "cell_type": "code",
   "execution_count": 51,
   "id": "6904fbcb-6fd9-46d6-b3f4-45607adda9a1",
   "metadata": {},
   "outputs": [],
   "source": [
    "fruits[0] = \"Apricot\";"
   ]
  },
  {
   "cell_type": "code",
   "execution_count": 52,
   "id": "e912a4d2-afe0-49f2-a58f-781ae5cf6396",
   "metadata": {},
   "outputs": [
    {
     "name": "stdout",
     "output_type": "stream",
     "text": [
      "Apricot\n"
     ]
    }
   ],
   "source": [
    "print(fruits[0]);"
   ]
  },
  {
   "cell_type": "code",
   "execution_count": 53,
   "id": "3c494cc0-91b6-4929-8650-bcf5c65d0473",
   "metadata": {},
   "outputs": [
    {
     "name": "stdout",
     "output_type": "stream",
     "text": [
      "['Apricot', 'Banana', 'Cherry', 'Dragon Fruit', 'Elephant Apple', 'Fig']\n"
     ]
    }
   ],
   "source": [
    "print(fruits);"
   ]
  },
  {
   "cell_type": "code",
   "execution_count": 54,
   "id": "8e40d11d-d7e1-4ad9-b851-c49885769dfe",
   "metadata": {},
   "outputs": [
    {
     "name": "stdout",
     "output_type": "stream",
     "text": [
      "['Elephant Apple', 'Fig']\n"
     ]
    }
   ],
   "source": [
    "print(fruits[4:6]);"
   ]
  },
  {
   "cell_type": "code",
   "execution_count": 56,
   "id": "9e4b467d-2356-4f7e-9cef-5e516b88ecb2",
   "metadata": {},
   "outputs": [],
   "source": [
    "fruits[4:6] = [\"E\", \"F\"];"
   ]
  },
  {
   "cell_type": "code",
   "execution_count": 57,
   "id": "cbd6b061-3e54-4ec4-9b55-243638fd8eea",
   "metadata": {},
   "outputs": [
    {
     "name": "stdout",
     "output_type": "stream",
     "text": [
      "['E', 'F']\n"
     ]
    }
   ],
   "source": [
    "print(fruits[4:6]);"
   ]
  },
  {
   "cell_type": "code",
   "execution_count": 58,
   "id": "f0133572-bf8b-4312-a111-37108ca67524",
   "metadata": {},
   "outputs": [
    {
     "name": "stdout",
     "output_type": "stream",
     "text": [
      "['Apricot', 'Banana', 'Cherry', 'Dragon Fruit', 'E', 'F']\n"
     ]
    }
   ],
   "source": [
    "print(fruits);"
   ]
  },
  {
   "cell_type": "code",
   "execution_count": 59,
   "id": "911e97f3-b6c5-48bf-afcd-13f7b8cbd4e6",
   "metadata": {},
   "outputs": [
    {
     "name": "stdout",
     "output_type": "stream",
     "text": [
      "['Apricot', 'Banana', 'Cherry']\n"
     ]
    }
   ],
   "source": [
    "print(fruits[0:3]);"
   ]
  },
  {
   "cell_type": "code",
   "execution_count": 60,
   "id": "ed547c49-3991-4ae8-b98d-cc42aa0b5011",
   "metadata": {},
   "outputs": [],
   "source": [
    "fruits[0:3] = [\"A\", \"a\", \"B\", \"b\", \"C\", \"c\"];"
   ]
  },
  {
   "cell_type": "code",
   "execution_count": 61,
   "id": "09a4039c-c673-41df-96bd-a57743138085",
   "metadata": {},
   "outputs": [
    {
     "name": "stdout",
     "output_type": "stream",
     "text": [
      "['A', 'a', 'B', 'b', 'C', 'c', 'Dragon Fruit', 'E', 'F']\n"
     ]
    }
   ],
   "source": [
    "print(fruits);"
   ]
  },
  {
   "cell_type": "code",
   "execution_count": 62,
   "id": "2d31f1cf-2add-4e73-8df8-e717bbc97948",
   "metadata": {},
   "outputs": [
    {
     "name": "stdout",
     "output_type": "stream",
     "text": [
      "['Dragon Fruit', 'E', 'F']\n"
     ]
    }
   ],
   "source": [
    "print(fruits[6:]);"
   ]
  },
  {
   "cell_type": "code",
   "execution_count": 63,
   "id": "745f05d1-3191-422f-8a42-3c714e10a552",
   "metadata": {},
   "outputs": [],
   "source": [
    "fruits[6:] = [\"D\", \"d\", \"E\", \"e\", \"F\", \"f\"];"
   ]
  },
  {
   "cell_type": "code",
   "execution_count": 64,
   "id": "caede780-a832-4f5a-867b-b91e2b4a8fb1",
   "metadata": {},
   "outputs": [
    {
     "name": "stdout",
     "output_type": "stream",
     "text": [
      "['A', 'a', 'B', 'b', 'C', 'c', 'D', 'd', 'E', 'e', 'F', 'f']\n"
     ]
    }
   ],
   "source": [
    "print(fruits);"
   ]
  },
  {
   "cell_type": "code",
   "execution_count": 65,
   "id": "f7822982-ebe2-44f5-9462-02670a4e9462",
   "metadata": {},
   "outputs": [
    {
     "name": "stdout",
     "output_type": "stream",
     "text": [
      "12\n"
     ]
    }
   ],
   "source": [
    "print(len(fruits));"
   ]
  },
  {
   "cell_type": "code",
   "execution_count": 66,
   "id": "5c99f6c1-fed1-4b44-b107-330267150c6c",
   "metadata": {},
   "outputs": [
    {
     "name": "stdout",
     "output_type": "stream",
     "text": [
      "['A', 'a', 'B', 'b', 'C', 'c', 'D', 'd', 'E', 'e', 'F', 'f']\n"
     ]
    }
   ],
   "source": [
    "print(fruits);"
   ]
  },
  {
   "cell_type": "code",
   "execution_count": 67,
   "id": "e6bcf2b4-8bb3-4101-93c9-bd1cc3e6b2c5",
   "metadata": {},
   "outputs": [],
   "source": [
    "fruits[:] = [\"Apple\", \"Banana\", \"Cherry\"];"
   ]
  },
  {
   "cell_type": "code",
   "execution_count": 68,
   "id": "fedea576-0df2-435c-874c-1c7573f588b9",
   "metadata": {},
   "outputs": [
    {
     "name": "stdout",
     "output_type": "stream",
     "text": [
      "['Apple', 'Banana', 'Cherry']\n"
     ]
    }
   ],
   "source": [
    "print(fruits);"
   ]
  },
  {
   "cell_type": "markdown",
   "id": "d54673ac-4cf4-42c1-8bd5-ad24b478d72d",
   "metadata": {},
   "source": [
    "Insert Items"
   ]
  },
  {
   "cell_type": "code",
   "execution_count": 69,
   "id": "58a25369-f2fe-447a-ad46-f982e1b1fb75",
   "metadata": {},
   "outputs": [],
   "source": [
    "fruits.insert(3, \"Dragon Fruit\");"
   ]
  },
  {
   "cell_type": "code",
   "execution_count": 70,
   "id": "9a3e6102-dd74-40c4-a9bb-c39919e5d635",
   "metadata": {},
   "outputs": [
    {
     "name": "stdout",
     "output_type": "stream",
     "text": [
      "['Apple', 'Banana', 'Cherry', 'Dragon Fruit']\n"
     ]
    }
   ],
   "source": [
    "print(fruits);"
   ]
  },
  {
   "cell_type": "code",
   "execution_count": 71,
   "id": "4b547f6f-b0b6-451d-af74-9eb5e17c5602",
   "metadata": {},
   "outputs": [],
   "source": [
    "fruits.insert(0, \"Apricot\");"
   ]
  },
  {
   "cell_type": "code",
   "execution_count": 72,
   "id": "5f7cba1f-e3cf-41fa-b03e-bf7bbba5ebd2",
   "metadata": {},
   "outputs": [
    {
     "name": "stdout",
     "output_type": "stream",
     "text": [
      "['Apricot', 'Apple', 'Banana', 'Cherry', 'Dragon Fruit']\n"
     ]
    }
   ],
   "source": [
    "print(fruits);"
   ]
  },
  {
   "cell_type": "markdown",
   "id": "064b9f84-b2e5-4445-a443-fe62f181b82a",
   "metadata": {},
   "source": [
    "Append"
   ]
  },
  {
   "cell_type": "code",
   "execution_count": 73,
   "id": "694a7e75-30e2-485f-8028-eb005a118313",
   "metadata": {},
   "outputs": [
    {
     "name": "stdout",
     "output_type": "stream",
     "text": [
      "['Apricot', 'Apple', 'Banana', 'Cherry', 'Dragon Fruit']\n"
     ]
    }
   ],
   "source": [
    "print(fruits);"
   ]
  },
  {
   "cell_type": "code",
   "execution_count": 74,
   "id": "8e625de5-2994-4d47-a6e5-ee465e548530",
   "metadata": {},
   "outputs": [],
   "source": [
    "fruits.append(\"Elephant Apple\");"
   ]
  },
  {
   "cell_type": "code",
   "execution_count": 75,
   "id": "89239bea-611b-4899-b4f8-2c9107511571",
   "metadata": {},
   "outputs": [
    {
     "name": "stdout",
     "output_type": "stream",
     "text": [
      "['Apricot', 'Apple', 'Banana', 'Cherry', 'Dragon Fruit', 'Elephant Apple']\n"
     ]
    }
   ],
   "source": [
    "print(fruits);"
   ]
  },
  {
   "cell_type": "markdown",
   "id": "f89b9c72-fdfe-4556-82a4-66bc327051df",
   "metadata": {},
   "source": [
    "Insert Items - To insert a list item at a specified index, we can use index() method."
   ]
  },
  {
   "cell_type": "code",
   "execution_count": 76,
   "id": "afa1d441-b6a7-493e-887c-abf62cd7e54f",
   "metadata": {},
   "outputs": [
    {
     "name": "stdout",
     "output_type": "stream",
     "text": [
      "['Apricot', 'Apple', 'Banana', 'Cherry', 'Dragon Fruit', 'Elephant Apple']\n"
     ]
    }
   ],
   "source": [
    "print(fruits);"
   ]
  },
  {
   "cell_type": "code",
   "execution_count": 77,
   "id": "a69238d3-96e8-4146-b619-69457e659e45",
   "metadata": {},
   "outputs": [],
   "source": [
    "fruits.insert(0, \"A\");"
   ]
  },
  {
   "cell_type": "code",
   "execution_count": 78,
   "id": "2e73919c-35cf-4f9e-8737-2c13917dd231",
   "metadata": {},
   "outputs": [
    {
     "name": "stdout",
     "output_type": "stream",
     "text": [
      "['A', 'Apricot', 'Apple', 'Banana', 'Cherry', 'Dragon Fruit', 'Elephant Apple']\n"
     ]
    }
   ],
   "source": [
    "print(fruits);"
   ]
  },
  {
   "cell_type": "markdown",
   "id": "48789419-89e6-4a89-affa-7a155f794997",
   "metadata": {},
   "source": [
    "Extend List - To append elements from another list to the current list. we can extend any iterable object like Lists, Tuples, Sets Dictionaries etc. "
   ]
  },
  {
   "cell_type": "code",
   "execution_count": 79,
   "id": "a2351654-333c-4b44-a9e7-078fa11a7b7f",
   "metadata": {},
   "outputs": [],
   "source": [
    "profile = [\"Akash\", \"Ramasani\", \"Male\", 22, True];\n",
    "undergradDetails = [\"K L University Hyderabad\", \"Bachelor of Technology\", \"Computer Science and Engineering\", \"CSE\", 8.32];"
   ]
  },
  {
   "cell_type": "code",
   "execution_count": 80,
   "id": "08de8869-e81c-4036-af6d-25afd6e1ebc6",
   "metadata": {},
   "outputs": [
    {
     "name": "stdout",
     "output_type": "stream",
     "text": [
      "['Akash', 'Ramasani', 'Male', 22, True] ['K L University Hyderabad', 'Bachelor of Technology', 'Computer Science and Engineering', 'CSE', 8.32]\n"
     ]
    }
   ],
   "source": [
    "print(profile, undergradDetails);"
   ]
  },
  {
   "cell_type": "code",
   "execution_count": 81,
   "id": "72311884-562e-47f1-96d5-907bc84241a7",
   "metadata": {},
   "outputs": [],
   "source": [
    "profile.extend(undergradDetails);"
   ]
  },
  {
   "cell_type": "code",
   "execution_count": 82,
   "id": "ae99d634-f3b8-47c3-8d12-3ef6cc313cab",
   "metadata": {},
   "outputs": [
    {
     "name": "stdout",
     "output_type": "stream",
     "text": [
      "['Akash', 'Ramasani', 'Male', 22, True, 'K L University Hyderabad', 'Bachelor of Technology', 'Computer Science and Engineering', 'CSE', 8.32]\n"
     ]
    }
   ],
   "source": [
    "print(profile);"
   ]
  },
  {
   "cell_type": "code",
   "execution_count": 83,
   "id": "4acd789d-3486-4b73-a864-1eb71fbdfbd1",
   "metadata": {},
   "outputs": [],
   "source": [
    "dateOfBirth = (27, \"May\", 2001);"
   ]
  },
  {
   "cell_type": "code",
   "execution_count": 84,
   "id": "2fbccd49-0627-434e-877a-5b110ac2b188",
   "metadata": {},
   "outputs": [],
   "source": [
    "profile.extend(dateOfBirth);"
   ]
  },
  {
   "cell_type": "code",
   "execution_count": 85,
   "id": "149040c5-fb58-440c-9307-82f381002258",
   "metadata": {},
   "outputs": [
    {
     "name": "stdout",
     "output_type": "stream",
     "text": [
      "['Akash', 'Ramasani', 'Male', 22, True, 'K L University Hyderabad', 'Bachelor of Technology', 'Computer Science and Engineering', 'CSE', 8.32, 27, 'May', 2001]\n"
     ]
    }
   ],
   "source": [
    "print(profile);"
   ]
  },
  {
   "cell_type": "markdown",
   "id": "534c1f1d-97b8-4c65-bfc2-922ae891b5c9",
   "metadata": {},
   "source": [
    "Remove List Items"
   ]
  },
  {
   "cell_type": "markdown",
   "id": "0aba982d-b5ae-4962-aa79-be95cc18aba0",
   "metadata": {},
   "source": [
    "Remove Specified Item"
   ]
  },
  {
   "cell_type": "code",
   "execution_count": 86,
   "id": "59f52ca3-cc02-4542-8748-18be7299876f",
   "metadata": {},
   "outputs": [
    {
     "name": "stdout",
     "output_type": "stream",
     "text": [
      "['Akash', 'Ramasani', 'Male', 22, True, 'K L University Hyderabad', 'Bachelor of Technology', 'Computer Science and Engineering', 'CSE', 8.32, 27, 'May', 2001]\n"
     ]
    }
   ],
   "source": [
    "print(profile);"
   ]
  },
  {
   "cell_type": "code",
   "execution_count": 87,
   "id": "d97d1077-1dac-4b88-a8d3-6a31df168150",
   "metadata": {},
   "outputs": [
    {
     "ename": "TypeError",
     "evalue": "list.remove() takes exactly one argument (3 given)",
     "output_type": "error",
     "traceback": [
      "\u001b[1;31m---------------------------------------------------------------------------\u001b[0m",
      "\u001b[1;31mTypeError\u001b[0m                                 Traceback (most recent call last)",
      "Cell \u001b[1;32mIn[87], line 1\u001b[0m\n\u001b[1;32m----> 1\u001b[0m \u001b[43mprofile\u001b[49m\u001b[38;5;241;43m.\u001b[39;49m\u001b[43mremove\u001b[49m\u001b[43m(\u001b[49m\u001b[38;5;241;43m27\u001b[39;49m\u001b[43m,\u001b[49m\u001b[43m \u001b[49m\u001b[38;5;124;43m\"\u001b[39;49m\u001b[38;5;124;43mMay\u001b[39;49m\u001b[38;5;124;43m\"\u001b[39;49m\u001b[43m,\u001b[49m\u001b[43m \u001b[49m\u001b[38;5;241;43m2001\u001b[39;49m\u001b[43m)\u001b[49m;\n",
      "\u001b[1;31mTypeError\u001b[0m: list.remove() takes exactly one argument (3 given)"
     ]
    }
   ],
   "source": [
    "profile.remove(27, \"May\", 2001);"
   ]
  },
  {
   "cell_type": "code",
   "execution_count": 88,
   "id": "94daaba6-0724-4bfb-9e2a-775c293712a9",
   "metadata": {},
   "outputs": [],
   "source": [
    "profile.remove(2001);"
   ]
  },
  {
   "cell_type": "code",
   "execution_count": 89,
   "id": "3802e2ce-1d36-4dee-907d-d4e3c4209f06",
   "metadata": {},
   "outputs": [
    {
     "name": "stdout",
     "output_type": "stream",
     "text": [
      "['Akash', 'Ramasani', 'Male', 22, True, 'K L University Hyderabad', 'Bachelor of Technology', 'Computer Science and Engineering', 'CSE', 8.32, 27, 'May']\n"
     ]
    }
   ],
   "source": [
    "print(profile);"
   ]
  },
  {
   "cell_type": "code",
   "execution_count": 90,
   "id": "dd90db1a-19eb-48eb-b287-0c4af7e6d401",
   "metadata": {},
   "outputs": [],
   "source": [
    "profile.remove(\"CSE\");"
   ]
  },
  {
   "cell_type": "code",
   "execution_count": 91,
   "id": "b56c92ab-c480-40f4-a2ba-eaa26d621743",
   "metadata": {},
   "outputs": [
    {
     "name": "stdout",
     "output_type": "stream",
     "text": [
      "['Akash', 'Ramasani', 'Male', 22, True, 'K L University Hyderabad', 'Bachelor of Technology', 'Computer Science and Engineering', 8.32, 27, 'May']\n"
     ]
    }
   ],
   "source": [
    "print(profile);"
   ]
  },
  {
   "cell_type": "markdown",
   "id": "f54fd265-f555-4df2-a305-a95c52549ae6",
   "metadata": {},
   "source": [
    "Removed Specified Index - pop() method removes the list item from the specified index."
   ]
  },
  {
   "cell_type": "code",
   "execution_count": 92,
   "id": "c7791d52-afc6-464f-8c4b-46d8359c6cf4",
   "metadata": {},
   "outputs": [
    {
     "name": "stdout",
     "output_type": "stream",
     "text": [
      "['Akash', 'Ramasani', 'Male', 22, True, 'K L University Hyderabad', 'Bachelor of Technology', 'Computer Science and Engineering', 8.32, 27, 'May']\n"
     ]
    }
   ],
   "source": [
    "print(profile);"
   ]
  },
  {
   "cell_type": "code",
   "execution_count": 93,
   "id": "f4a3db24-92dd-4840-a43c-701603b901fc",
   "metadata": {},
   "outputs": [
    {
     "name": "stdout",
     "output_type": "stream",
     "text": [
      "11\n"
     ]
    }
   ],
   "source": [
    "print(len(profile));"
   ]
  },
  {
   "cell_type": "code",
   "execution_count": 94,
   "id": "a381ac1c-a00b-4687-9a0c-4608c828f2ca",
   "metadata": {},
   "outputs": [
    {
     "data": {
      "text/plain": [
       "'May'"
      ]
     },
     "execution_count": 94,
     "metadata": {},
     "output_type": "execute_result"
    }
   ],
   "source": [
    "profile.pop(len(profile)-1)"
   ]
  },
  {
   "cell_type": "code",
   "execution_count": 95,
   "id": "a49736ea-1140-46a5-977c-09b3b04f718f",
   "metadata": {},
   "outputs": [
    {
     "name": "stdout",
     "output_type": "stream",
     "text": [
      "['Akash', 'Ramasani', 'Male', 22, True, 'K L University Hyderabad', 'Bachelor of Technology', 'Computer Science and Engineering', 8.32, 27]\n"
     ]
    }
   ],
   "source": [
    "print(profile)"
   ]
  },
  {
   "cell_type": "code",
   "execution_count": 96,
   "id": "82a44dfc-9cda-4396-825f-d29525513d82",
   "metadata": {},
   "outputs": [],
   "source": [
    "profile.pop(len(profile)-1);"
   ]
  },
  {
   "cell_type": "code",
   "execution_count": 97,
   "id": "c249e30c-7c3e-41d1-a3cf-cc73293372a5",
   "metadata": {},
   "outputs": [
    {
     "name": "stdout",
     "output_type": "stream",
     "text": [
      "['Akash', 'Ramasani', 'Male', 22, True, 'K L University Hyderabad', 'Bachelor of Technology', 'Computer Science and Engineering', 8.32]\n"
     ]
    }
   ],
   "source": [
    "print(profile);"
   ]
  },
  {
   "cell_type": "markdown",
   "id": "b038e2e1-3b97-4d2a-9bb4-4109602c21c3",
   "metadata": {},
   "source": [
    "If you do not specify the index, the pop() method removes the last item."
   ]
  },
  {
   "cell_type": "code",
   "execution_count": 98,
   "id": "1bd885ea-5b8a-4bf3-a32b-dc4aa5315634",
   "metadata": {},
   "outputs": [
    {
     "name": "stdout",
     "output_type": "stream",
     "text": [
      "['Akash', 'Ramasani', 'Male', 22, True, 'K L University Hyderabad', 'Bachelor of Technology', 'Computer Science and Engineering', 8.32]\n"
     ]
    }
   ],
   "source": [
    "print(profile);"
   ]
  },
  {
   "cell_type": "code",
   "execution_count": 99,
   "id": "8796ca0c-a933-4dd8-a72e-c4ae28408f6c",
   "metadata": {},
   "outputs": [],
   "source": [
    "profile.pop();"
   ]
  },
  {
   "cell_type": "code",
   "execution_count": 100,
   "id": "9220e2ab-848d-4895-b9f7-2aeb8fe881c2",
   "metadata": {},
   "outputs": [
    {
     "name": "stdout",
     "output_type": "stream",
     "text": [
      "['Akash', 'Ramasani', 'Male', 22, True, 'K L University Hyderabad', 'Bachelor of Technology', 'Computer Science and Engineering']\n"
     ]
    }
   ],
   "source": [
    "print(profile);"
   ]
  },
  {
   "cell_type": "markdown",
   "id": "ecb3c17b-8bd8-4da4-b2d2-0efc981eaefa",
   "metadata": {},
   "source": [
    "The del keyword also removes the specified index."
   ]
  },
  {
   "cell_type": "code",
   "execution_count": 101,
   "id": "6ef8f283-b638-43dc-8a9b-5eec8a57c3c6",
   "metadata": {},
   "outputs": [
    {
     "name": "stdout",
     "output_type": "stream",
     "text": [
      "['Akash', 'Ramasani', 'Male', 22, True, 'K L University Hyderabad', 'Bachelor of Technology', 'Computer Science and Engineering']\n"
     ]
    }
   ],
   "source": [
    "print(profile);"
   ]
  },
  {
   "cell_type": "code",
   "execution_count": 102,
   "id": "b98546f5-ac6b-4f95-94b7-bd162262b18e",
   "metadata": {},
   "outputs": [],
   "source": [
    "del profile[len(profile)-1];"
   ]
  },
  {
   "cell_type": "code",
   "execution_count": 103,
   "id": "293c3258-b82c-42c6-ba09-5211391e928e",
   "metadata": {},
   "outputs": [
    {
     "name": "stdout",
     "output_type": "stream",
     "text": [
      "['Akash', 'Ramasani', 'Male', 22, True, 'K L University Hyderabad', 'Bachelor of Technology']\n"
     ]
    }
   ],
   "source": [
    "print(profile);"
   ]
  },
  {
   "cell_type": "markdown",
   "id": "ec610c2e-4841-4bad-a012-16eb9a73c473",
   "metadata": {},
   "source": [
    "The del keyword can also delete the list completely."
   ]
  },
  {
   "cell_type": "code",
   "execution_count": 104,
   "id": "f0ebda56-c211-48f1-83fa-468b18acebcf",
   "metadata": {},
   "outputs": [
    {
     "name": "stdout",
     "output_type": "stream",
     "text": [
      "['Akash', 'Ramasani', 'Male', 22, True, 'K L University Hyderabad', 'Bachelor of Technology']\n"
     ]
    }
   ],
   "source": [
    "print(profile);"
   ]
  },
  {
   "cell_type": "code",
   "execution_count": 105,
   "id": "c052676a-e396-4c74-a14c-aecb6ea2271a",
   "metadata": {},
   "outputs": [],
   "source": [
    "del profile;"
   ]
  },
  {
   "cell_type": "code",
   "execution_count": 106,
   "id": "8c2c21d6-1794-4fa9-a425-909c984e0ed6",
   "metadata": {},
   "outputs": [
    {
     "ename": "NameError",
     "evalue": "name 'profile' is not defined",
     "output_type": "error",
     "traceback": [
      "\u001b[1;31m---------------------------------------------------------------------------\u001b[0m",
      "\u001b[1;31mNameError\u001b[0m                                 Traceback (most recent call last)",
      "Cell \u001b[1;32mIn[106], line 1\u001b[0m\n\u001b[1;32m----> 1\u001b[0m \u001b[38;5;28mprint\u001b[39m(\u001b[43mprofile\u001b[49m);\n",
      "\u001b[1;31mNameError\u001b[0m: name 'profile' is not defined"
     ]
    }
   ],
   "source": [
    "print(profile);"
   ]
  },
  {
   "cell_type": "markdown",
   "id": "563a423b-965b-4897-a831-0dabfd5c68c9",
   "metadata": {},
   "source": [
    "Clear the List - The clear() method empties the list."
   ]
  },
  {
   "cell_type": "code",
   "execution_count": 107,
   "id": "b60d82fa-3c1e-4797-adf0-69c8b6c31151",
   "metadata": {},
   "outputs": [],
   "source": [
    "fruits = [\"Apple\", \"Banana\", \"Cherry\"];"
   ]
  },
  {
   "cell_type": "code",
   "execution_count": 108,
   "id": "505befd9-108c-40c7-827c-6b598df1655c",
   "metadata": {},
   "outputs": [
    {
     "name": "stdout",
     "output_type": "stream",
     "text": [
      "['Apple', 'Banana', 'Cherry']\n"
     ]
    }
   ],
   "source": [
    "print(fruits);"
   ]
  },
  {
   "cell_type": "code",
   "execution_count": 109,
   "id": "609eea55-1e44-475d-812e-1f7cd5adbbf4",
   "metadata": {},
   "outputs": [
    {
     "name": "stdout",
     "output_type": "stream",
     "text": [
      "3\n"
     ]
    }
   ],
   "source": [
    "print(len(fruits));"
   ]
  },
  {
   "cell_type": "code",
   "execution_count": 110,
   "id": "55c283b9-dbf6-458a-82c8-24b88b97da0f",
   "metadata": {},
   "outputs": [
    {
     "data": {
      "text/plain": [
       "['Apple', 'Banana', 'Cherry']"
      ]
     },
     "execution_count": 110,
     "metadata": {},
     "output_type": "execute_result"
    }
   ],
   "source": [
    "fruits"
   ]
  },
  {
   "cell_type": "code",
   "execution_count": 111,
   "id": "f48282d5-f1f8-4545-8b2d-e6f58f6d7d24",
   "metadata": {},
   "outputs": [],
   "source": [
    "fruits.clear();"
   ]
  },
  {
   "cell_type": "code",
   "execution_count": 112,
   "id": "efd46cbb-f4d1-460b-8e20-87afccd74432",
   "metadata": {},
   "outputs": [
    {
     "name": "stdout",
     "output_type": "stream",
     "text": [
      "[]\n"
     ]
    }
   ],
   "source": [
    "print(fruits);"
   ]
  },
  {
   "cell_type": "code",
   "execution_count": 113,
   "id": "9b14c144-7e42-4b19-bca5-8074111de21c",
   "metadata": {},
   "outputs": [
    {
     "name": "stdout",
     "output_type": "stream",
     "text": [
      "0\n"
     ]
    }
   ],
   "source": [
    "print(len(fruits));"
   ]
  },
  {
   "cell_type": "markdown",
   "id": "013e8764-e1f1-4e6e-9e9b-818994712f59",
   "metadata": {},
   "source": [
    "Python - Loop Lists"
   ]
  },
  {
   "cell_type": "code",
   "execution_count": 114,
   "id": "ea625f7f-032c-405c-a8e5-9318c3cadfa6",
   "metadata": {},
   "outputs": [],
   "source": [
    "fruits = [\"Apple\", \"Banana\", \"Cherry\", \"Dragon Fruit\", \"Elephant Apple\", \"Fig\", \"Guava\"];"
   ]
  },
  {
   "cell_type": "code",
   "execution_count": 115,
   "id": "ff705112-88f6-40e2-8b9b-30f096e5bdd1",
   "metadata": {},
   "outputs": [
    {
     "name": "stdout",
     "output_type": "stream",
     "text": [
      "['Apple', 'Banana', 'Cherry', 'Dragon Fruit', 'Elephant Apple', 'Fig', 'Guava']\n"
     ]
    }
   ],
   "source": [
    "print(fruits);"
   ]
  },
  {
   "cell_type": "code",
   "execution_count": 116,
   "id": "1747b3f5-aaa0-4dff-8d13-747a253f3959",
   "metadata": {},
   "outputs": [
    {
     "name": "stdout",
     "output_type": "stream",
     "text": [
      "Apple\n",
      "Banana\n",
      "Cherry\n",
      "Dragon Fruit\n",
      "Elephant Apple\n",
      "Fig\n",
      "Guava\n"
     ]
    }
   ],
   "source": [
    "for eachFruit in fruits:\n",
    "    print(eachFruit);"
   ]
  },
  {
   "cell_type": "markdown",
   "id": "8e92f2ff-79ff-4cfc-94ca-b986b981c21f",
   "metadata": {},
   "source": [
    "Loop through the index numbers"
   ]
  },
  {
   "cell_type": "code",
   "execution_count": 117,
   "id": "fd564921-6f36-4e3a-b8da-0c6decb823d8",
   "metadata": {},
   "outputs": [
    {
     "name": "stdout",
     "output_type": "stream",
     "text": [
      "Apple\n",
      "Banana\n",
      "Cherry\n",
      "Dragon Fruit\n",
      "Elephant Apple\n",
      "Fig\n",
      "Guava\n"
     ]
    }
   ],
   "source": [
    "for indexOfFruits in range(len(fruits)):\n",
    "    print(fruits[indexOfFruits]);"
   ]
  },
  {
   "cell_type": "code",
   "execution_count": 118,
   "id": "e7948ec4-1f6a-425e-9ca6-aa6b9a951f63",
   "metadata": {},
   "outputs": [
    {
     "name": "stdout",
     "output_type": "stream",
     "text": [
      "Apple\n",
      "Banana\n",
      "Cherry\n",
      "Dragon Fruit\n",
      "Elephant Apple\n",
      "Fig\n",
      "Guava\n"
     ]
    }
   ],
   "source": [
    "startigIndexOfFruits = 0;\n",
    "while startigIndexOfFruits < len(fruits):\n",
    "    print(fruits[startigIndexOfFruits]);\n",
    "    startigIndexOfFruits += 1;"
   ]
  },
  {
   "cell_type": "code",
   "execution_count": 119,
   "id": "290be21b-c89b-484e-b1b1-bb9ab1173f55",
   "metadata": {},
   "outputs": [
    {
     "name": "stdout",
     "output_type": "stream",
     "text": [
      "Apple\n",
      "Banana\n",
      "Cherry\n",
      "Dragon Fruit\n",
      "Elephant Apple\n",
      "Fig\n",
      "Guava\n"
     ]
    },
    {
     "ename": "IndexError",
     "evalue": "list index out of range",
     "output_type": "error",
     "traceback": [
      "\u001b[1;31m---------------------------------------------------------------------------\u001b[0m",
      "\u001b[1;31mIndexError\u001b[0m                                Traceback (most recent call last)",
      "Cell \u001b[1;32mIn[119], line 3\u001b[0m\n\u001b[0;32m      1\u001b[0m startigIndexOfFruits \u001b[38;5;241m=\u001b[39m \u001b[38;5;241m0\u001b[39m;\n\u001b[0;32m      2\u001b[0m \u001b[38;5;28;01mwhile\u001b[39;00m startigIndexOfFruits \u001b[38;5;241m<\u001b[39m\u001b[38;5;241m=\u001b[39m \u001b[38;5;28mlen\u001b[39m(fruits):\n\u001b[1;32m----> 3\u001b[0m     \u001b[38;5;28mprint\u001b[39m(\u001b[43mfruits\u001b[49m\u001b[43m[\u001b[49m\u001b[43mstartigIndexOfFruits\u001b[49m\u001b[43m]\u001b[49m);\n\u001b[0;32m      4\u001b[0m     startigIndexOfFruits \u001b[38;5;241m+\u001b[39m\u001b[38;5;241m=\u001b[39m \u001b[38;5;241m1\u001b[39m;\n",
      "\u001b[1;31mIndexError\u001b[0m: list index out of range"
     ]
    }
   ],
   "source": [
    "startigIndexOfFruits = 0;\n",
    "while startigIndexOfFruits <= len(fruits):\n",
    "    print(fruits[startigIndexOfFruits]);\n",
    "    startigIndexOfFruits += 1;"
   ]
  },
  {
   "cell_type": "markdown",
   "id": "d710aae4-d157-4070-8416-eb6ed32b6153",
   "metadata": {},
   "source": [
    "Looping Using List Comprehension"
   ]
  },
  {
   "cell_type": "code",
   "execution_count": 120,
   "id": "e502193b-117f-4ec5-891e-09caca0ba392",
   "metadata": {},
   "outputs": [
    {
     "name": "stdout",
     "output_type": "stream",
     "text": [
      "['Apple', 'Banana', 'Cherry', 'Dragon Fruit', 'Elephant Apple', 'Fig', 'Guava']\n"
     ]
    }
   ],
   "source": [
    "print(fruits);"
   ]
  },
  {
   "cell_type": "code",
   "execution_count": 121,
   "id": "00228e1c-622d-4589-9885-0bca169b0312",
   "metadata": {},
   "outputs": [
    {
     "name": "stdout",
     "output_type": "stream",
     "text": [
      "Apple\n",
      "Banana\n",
      "Cherry\n",
      "Dragon Fruit\n",
      "Elephant Apple\n",
      "Fig\n",
      "Guava\n"
     ]
    },
    {
     "data": {
      "text/plain": [
       "[None, None, None, None, None, None, None]"
      ]
     },
     "execution_count": 121,
     "metadata": {},
     "output_type": "execute_result"
    }
   ],
   "source": [
    "[print(eachFruit) for eachFruit in fruits]"
   ]
  },
  {
   "cell_type": "code",
   "execution_count": 124,
   "id": "09bbb246-7d52-4984-ab93-aa2e1029377d",
   "metadata": {},
   "outputs": [
    {
     "name": "stdout",
     "output_type": "stream",
     "text": [
      "Apple\n",
      "Banana\n",
      "Cherry\n",
      "Dragon Fruit\n",
      "Elephant Apple\n",
      "Fig\n",
      "Guava\n"
     ]
    },
    {
     "data": {
      "text/plain": [
       "[None, None, None, None, None, None, None]"
      ]
     },
     "execution_count": 124,
     "metadata": {},
     "output_type": "execute_result"
    }
   ],
   "source": [
    "[print(fruits[eachIndex]) for eachIndex in range(len(fruits))]"
   ]
  },
  {
   "cell_type": "code",
   "execution_count": 125,
   "id": "59003f87-de7d-410a-8af2-fa00738bcb70",
   "metadata": {},
   "outputs": [
    {
     "name": "stdout",
     "output_type": "stream",
     "text": [
      "['Apple', 'Banana', 'Cherry', 'Dragon Fruit', 'Elephant Apple', 'Fig', 'Guava']\n"
     ]
    }
   ],
   "source": [
    "print(fruits);"
   ]
  },
  {
   "cell_type": "code",
   "execution_count": 126,
   "id": "b6a5d1df-0448-48ec-923a-3545067ebcfe",
   "metadata": {},
   "outputs": [
    {
     "name": "stdout",
     "output_type": "stream",
     "text": [
      "Banana\n",
      "Dragon Fruit\n",
      "Elephant Apple\n",
      "Guava\n"
     ]
    }
   ],
   "source": [
    "for eachFruit in fruits:\n",
    "    if \"a\" in eachFruit:\n",
    "        print(eachFruit);"
   ]
  },
  {
   "cell_type": "markdown",
   "id": "3f22560b-113d-4316-862c-d13c5a0d8460",
   "metadata": {},
   "source": [
    "[expression for item in iterable if condition == True]"
   ]
  },
  {
   "cell_type": "code",
   "execution_count": 127,
   "id": "3fb93ff9-ff7c-4099-b9e6-a0f90ff977c7",
   "metadata": {},
   "outputs": [
    {
     "name": "stdout",
     "output_type": "stream",
     "text": [
      "Banana\n",
      "Dragon Fruit\n",
      "Elephant Apple\n",
      "Guava\n"
     ]
    }
   ],
   "source": [
    "[print(eachFruit) for eachFruit in fruits if \"a\" in eachFruit];"
   ]
  },
  {
   "cell_type": "code",
   "execution_count": 130,
   "id": "fed9ed2d-66ef-44aa-84ed-f1c3e431d379",
   "metadata": {},
   "outputs": [
    {
     "name": "stdout",
     "output_type": "stream",
     "text": [
      "['Apple', 'Banana', 'Cherry', 'Dragon Fruit', 'Elephant Apple', 'Fig', 'Guava']\n"
     ]
    }
   ],
   "source": [
    "print(fruits);"
   ]
  },
  {
   "cell_type": "code",
   "execution_count": 133,
   "id": "20317e5d-7428-4629-a318-35b5c52bae65",
   "metadata": {},
   "outputs": [
    {
     "name": "stdout",
     "output_type": "stream",
     "text": [
      "Banana\n",
      "Cherry\n",
      "Dragon Fruit\n",
      "Elephant Apple\n",
      "Fig\n",
      "Guava\n"
     ]
    }
   ],
   "source": [
    "[print(eachFruit) for eachFruit in fruits if eachFruit != \"Apple\"];"
   ]
  },
  {
   "cell_type": "code",
   "execution_count": 134,
   "id": "b53de6ad-a5a7-4d41-baf8-a28792e9432f",
   "metadata": {},
   "outputs": [
    {
     "name": "stdout",
     "output_type": "stream",
     "text": [
      "Guava\n"
     ]
    }
   ],
   "source": [
    "print(eachFruit);"
   ]
  },
  {
   "cell_type": "code",
   "execution_count": 136,
   "id": "87f6f11a-b359-4b2f-af2b-e9758483ded6",
   "metadata": {},
   "outputs": [
    {
     "name": "stdout",
     "output_type": "stream",
     "text": [
      "APPLE\n",
      "BANANA\n",
      "CHERRY\n",
      "DRAGON FRUIT\n",
      "ELEPHANT APPLE\n",
      "FIG\n",
      "GUAVA\n"
     ]
    }
   ],
   "source": [
    "[print(eachFruit.upper()) for eachFruit in fruits];"
   ]
  },
  {
   "cell_type": "code",
   "execution_count": 137,
   "id": "b5a5edef-336f-4fc7-80fc-6d5446b6ddc6",
   "metadata": {},
   "outputs": [
    {
     "name": "stdout",
     "output_type": "stream",
     "text": [
      "APPLE\n",
      "BANANA\n",
      "CHERRY\n",
      "DRAGON FRUIT\n",
      "ELEPHANT APPLE\n",
      "FIG\n",
      "GUAVA\n"
     ]
    },
    {
     "data": {
      "text/plain": [
       "[None, None, None, None, None, None, None]"
      ]
     },
     "execution_count": 137,
     "metadata": {},
     "output_type": "execute_result"
    }
   ],
   "source": [
    "[print(eachFruit.upper()) for eachFruit in fruits]"
   ]
  },
  {
   "cell_type": "code",
   "execution_count": 138,
   "id": "7564fd01-2834-4c54-b92e-5d7db2155ef0",
   "metadata": {},
   "outputs": [
    {
     "name": "stdout",
     "output_type": "stream",
     "text": [
      "Apple\n",
      "Banana\n",
      "Cherry\n",
      "Dragon fruit\n",
      "Elephant apple\n",
      "Fig\n",
      "Guava\n"
     ]
    }
   ],
   "source": [
    "[print(eachFruit.capitalize()) for eachFruit in fruits];"
   ]
  },
  {
   "cell_type": "code",
   "execution_count": 139,
   "id": "222caf89-970e-4058-ab35-f91325fd8911",
   "metadata": {},
   "outputs": [
    {
     "name": "stdout",
     "output_type": "stream",
     "text": [
      "apple\n",
      "banana\n",
      "cherry\n",
      "dragon fruit\n",
      "elephant apple\n",
      "fig\n",
      "guava\n"
     ]
    }
   ],
   "source": [
    "[print(eachFruit.lower()) for eachFruit in fruits];"
   ]
  },
  {
   "cell_type": "code",
   "execution_count": 140,
   "id": "3a33b00a-0801-4273-ae19-1988ddef42c3",
   "metadata": {},
   "outputs": [
    {
     "name": "stdout",
     "output_type": "stream",
     "text": [
      "Guava\n"
     ]
    }
   ],
   "source": [
    "print(eachFruit);"
   ]
  },
  {
   "cell_type": "code",
   "execution_count": 142,
   "id": "b24030e5-da19-46ae-8fc3-385b480879b8",
   "metadata": {},
   "outputs": [
    {
     "ename": "SyntaxError",
     "evalue": "invalid syntax (584834449.py, line 1)",
     "output_type": "error",
     "traceback": [
      "\u001b[1;36m  Cell \u001b[1;32mIn[142], line 1\u001b[1;36m\u001b[0m\n\u001b[1;33m    [print(eachFruit) for eachFruit in fruits if eachFruit != \"Banana\" else \"B\"];\u001b[0m\n\u001b[1;37m                                                                       ^\u001b[0m\n\u001b[1;31mSyntaxError\u001b[0m\u001b[1;31m:\u001b[0m invalid syntax\n"
     ]
    }
   ],
   "source": [
    "[print(eachFruit) for eachFruit in fruits if eachFruit != \"Banana\" else \"B\"];"
   ]
  },
  {
   "cell_type": "code",
   "execution_count": 149,
   "id": "caf41beb-7eea-46a4-81cb-91291fc62a2e",
   "metadata": {},
   "outputs": [
    {
     "name": "stdout",
     "output_type": "stream",
     "text": [
      "Apple\n",
      "B\n",
      "Cherry\n",
      "Dragon Fruit\n",
      "Elephant Apple\n",
      "Fig\n",
      "Guava\n"
     ]
    }
   ],
   "source": [
    "newFruit = [print(eachFruit) if eachFruit != \"Banana\" else print(\"B\") for eachFruit in fruits];"
   ]
  },
  {
   "cell_type": "code",
   "execution_count": 151,
   "id": "3f57d927-607a-4797-9931-203f3ae22faf",
   "metadata": {},
   "outputs": [
    {
     "name": "stdout",
     "output_type": "stream",
     "text": [
      "Apple\n",
      "B\n",
      "Cherry\n",
      "Dragon Fruit\n",
      "Elephant Apple\n",
      "Fig\n",
      "Guava\n",
      "[None, None, None, None, None, None, None]\n"
     ]
    }
   ],
   "source": [
    "newFruit = [print(eachFruit) if eachFruit != \"Banana\" else print(\"B\") for eachFruit in fruits];\n",
    "print(newFruit);"
   ]
  },
  {
   "cell_type": "code",
   "execution_count": 152,
   "id": "a7da21e8-7839-4840-96de-1136256a7742",
   "metadata": {},
   "outputs": [],
   "source": [
    "del newFruit"
   ]
  },
  {
   "cell_type": "code",
   "execution_count": 153,
   "id": "1f4038ef-5238-4eb9-b9b5-eb7fa18c2bf1",
   "metadata": {},
   "outputs": [
    {
     "ename": "NameError",
     "evalue": "name 'newFruit' is not defined",
     "output_type": "error",
     "traceback": [
      "\u001b[1;31m---------------------------------------------------------------------------\u001b[0m",
      "\u001b[1;31mNameError\u001b[0m                                 Traceback (most recent call last)",
      "Cell \u001b[1;32mIn[153], line 1\u001b[0m\n\u001b[1;32m----> 1\u001b[0m \u001b[38;5;28mprint\u001b[39m(\u001b[43mnewFruit\u001b[49m);\n",
      "\u001b[1;31mNameError\u001b[0m: name 'newFruit' is not defined"
     ]
    }
   ],
   "source": [
    "print(newFruit);"
   ]
  },
  {
   "cell_type": "markdown",
   "id": "f71b5d89-9a71-44da-b7a9-717097ea0e14",
   "metadata": {},
   "source": [
    "Sort Lists"
   ]
  },
  {
   "cell_type": "code",
   "execution_count": 154,
   "id": "efbc787f-aadb-4252-bd5c-88d684f58c44",
   "metadata": {},
   "outputs": [
    {
     "name": "stdout",
     "output_type": "stream",
     "text": [
      "['Apple', 'Banana', 'Cherry', 'Dragon Fruit', 'Elephant Apple', 'Fig', 'Guava']\n"
     ]
    }
   ],
   "source": [
    "print(fruits)"
   ]
  },
  {
   "cell_type": "code",
   "execution_count": 157,
   "id": "7d208632-ec7f-458c-86c6-fef3665b0d53",
   "metadata": {},
   "outputs": [],
   "source": [
    "fruits.sort()"
   ]
  },
  {
   "cell_type": "code",
   "execution_count": 158,
   "id": "0db34faf-7d68-4bba-a4b2-6f26978b91e5",
   "metadata": {},
   "outputs": [
    {
     "name": "stdout",
     "output_type": "stream",
     "text": [
      "['Apple', 'Banana', 'Cherry', 'Dragon Fruit', 'Elephant Apple', 'Fig', 'Guava']\n"
     ]
    }
   ],
   "source": [
    "print(fruits);"
   ]
  },
  {
   "cell_type": "code",
   "execution_count": 159,
   "id": "d3a73c03-8ddf-49b7-89f4-0a31c1727a8c",
   "metadata": {},
   "outputs": [],
   "source": [
    "fruits.append(\"Apricot\");"
   ]
  },
  {
   "cell_type": "code",
   "execution_count": 160,
   "id": "28bbdcc9-a754-4537-8fb4-14449a196fd0",
   "metadata": {},
   "outputs": [
    {
     "name": "stdout",
     "output_type": "stream",
     "text": [
      "['Apple', 'Banana', 'Cherry', 'Dragon Fruit', 'Elephant Apple', 'Fig', 'Guava', 'Apricot']\n"
     ]
    }
   ],
   "source": [
    "print(fruits);"
   ]
  },
  {
   "cell_type": "code",
   "execution_count": 161,
   "id": "55c7d0a1-b18a-4fa9-9144-6e99da95fda6",
   "metadata": {},
   "outputs": [],
   "source": [
    "fruits.sort();"
   ]
  },
  {
   "cell_type": "code",
   "execution_count": 162,
   "id": "9726ce66-b723-4d20-af07-5bbad4450597",
   "metadata": {},
   "outputs": [
    {
     "name": "stdout",
     "output_type": "stream",
     "text": [
      "['Apple', 'Apricot', 'Banana', 'Cherry', 'Dragon Fruit', 'Elephant Apple', 'Fig', 'Guava']\n"
     ]
    }
   ],
   "source": [
    "print(fruits);"
   ]
  },
  {
   "cell_type": "code",
   "execution_count": 163,
   "id": "1e615183-f12a-4925-8462-aab2a883e210",
   "metadata": {},
   "outputs": [],
   "source": [
    "fruits.sort(reverse = True);"
   ]
  },
  {
   "cell_type": "code",
   "execution_count": 164,
   "id": "b93d2bfd-4ea3-4931-b4a6-26638c3d5f4e",
   "metadata": {},
   "outputs": [
    {
     "name": "stdout",
     "output_type": "stream",
     "text": [
      "['Guava', 'Fig', 'Elephant Apple', 'Dragon Fruit', 'Cherry', 'Banana', 'Apricot', 'Apple']\n"
     ]
    }
   ],
   "source": [
    "print(fruits);"
   ]
  },
  {
   "cell_type": "code",
   "execution_count": 165,
   "id": "3ad29898-c048-4dc3-bd25-12eb9db337c7",
   "metadata": {},
   "outputs": [
    {
     "name": "stdout",
     "output_type": "stream",
     "text": [
      "['Guava', 'Fig', 'Elephant Apple', 'Dragon Fruit', 'Cherry', 'Banana', 'Apricot', 'Apple']\n"
     ]
    }
   ],
   "source": [
    "print(fruits);"
   ]
  },
  {
   "cell_type": "code",
   "execution_count": 166,
   "id": "bf1453ef-0331-49db-970b-b396b38830a5",
   "metadata": {},
   "outputs": [],
   "source": [
    "fruits.sort();"
   ]
  },
  {
   "cell_type": "code",
   "execution_count": 167,
   "id": "e177cbae-7c1d-4985-8a52-5ea618119ccd",
   "metadata": {},
   "outputs": [
    {
     "name": "stdout",
     "output_type": "stream",
     "text": [
      "['Apple', 'Apricot', 'Banana', 'Cherry', 'Dragon Fruit', 'Elephant Apple', 'Fig', 'Guava']\n"
     ]
    }
   ],
   "source": [
    "print(fruits);"
   ]
  },
  {
   "cell_type": "code",
   "execution_count": 173,
   "id": "5220772d-132a-4ac8-b6e5-073e08c19bc7",
   "metadata": {},
   "outputs": [],
   "source": [
    "fruits.append(\"apple\");"
   ]
  },
  {
   "cell_type": "code",
   "execution_count": 174,
   "id": "5e67ad0c-548c-485b-949a-af4454c2156b",
   "metadata": {},
   "outputs": [
    {
     "name": "stdout",
     "output_type": "stream",
     "text": [
      "['Apple', 'Apricot', 'Banana', 'Cherry', 'Dragon Fruit', 'Elephant Apple', 'Fig', 'Guava', 'apple']\n"
     ]
    }
   ],
   "source": [
    "print(fruits);"
   ]
  },
  {
   "cell_type": "code",
   "execution_count": 175,
   "id": "3a5e79a4-4365-4003-8a9e-86ad4e10d9f7",
   "metadata": {},
   "outputs": [],
   "source": [
    "fruits.sort();"
   ]
  },
  {
   "cell_type": "code",
   "execution_count": 176,
   "id": "202c05b0-7c66-47d3-ab8e-6c9fd252e811",
   "metadata": {},
   "outputs": [
    {
     "name": "stdout",
     "output_type": "stream",
     "text": [
      "['Apple', 'Apricot', 'Banana', 'Cherry', 'Dragon Fruit', 'Elephant Apple', 'Fig', 'Guava', 'apple']\n"
     ]
    }
   ],
   "source": [
    "print(fruits);"
   ]
  },
  {
   "cell_type": "code",
   "execution_count": 177,
   "id": "9c584e07-661d-4f95-8417-13645a745d84",
   "metadata": {},
   "outputs": [],
   "source": [
    "fruits.sort(key = str.lower);"
   ]
  },
  {
   "cell_type": "code",
   "execution_count": 178,
   "id": "e74d659c-8a74-4059-b286-26b43b300e43",
   "metadata": {},
   "outputs": [
    {
     "name": "stdout",
     "output_type": "stream",
     "text": [
      "['Apple', 'apple', 'Apricot', 'Banana', 'Cherry', 'Dragon Fruit', 'Elephant Apple', 'Fig', 'Guava']\n"
     ]
    }
   ],
   "source": [
    "print(fruits);"
   ]
  },
  {
   "cell_type": "code",
   "execution_count": 179,
   "id": "24358917-54e8-46e8-b566-34f34a92b3ec",
   "metadata": {},
   "outputs": [],
   "source": [
    "fruits.reverse();"
   ]
  },
  {
   "cell_type": "code",
   "execution_count": 181,
   "id": "d8887231-9ef2-4e59-b092-4d04d40ad390",
   "metadata": {},
   "outputs": [
    {
     "name": "stdout",
     "output_type": "stream",
     "text": [
      "['Guava', 'Fig', 'Elephant Apple', 'Dragon Fruit', 'Cherry', 'Banana', 'Apricot', 'apple', 'Apple']\n"
     ]
    }
   ],
   "source": [
    "print(fruits);"
   ]
  },
  {
   "cell_type": "markdown",
   "id": "638646af-d6ba-422e-93af-a7916094be75",
   "metadata": {},
   "source": [
    "Copy Lists"
   ]
  },
  {
   "cell_type": "code",
   "execution_count": 198,
   "id": "ef11f7f1-4f18-437c-bc7e-c62b55e75781",
   "metadata": {},
   "outputs": [],
   "source": [
    "profile = [\"Akash\", \"Ramasani\"];"
   ]
  },
  {
   "cell_type": "code",
   "execution_count": 199,
   "id": "08e4975b-973c-4456-9c2c-c90c06d2e5a1",
   "metadata": {},
   "outputs": [
    {
     "name": "stdout",
     "output_type": "stream",
     "text": [
      "['Akash', 'Ramasani']\n"
     ]
    }
   ],
   "source": [
    "print(profile);"
   ]
  },
  {
   "cell_type": "code",
   "execution_count": 200,
   "id": "09e9a3fb-29ba-4076-91e0-068b17876680",
   "metadata": {},
   "outputs": [],
   "source": [
    "dummyProfile = profile;"
   ]
  },
  {
   "cell_type": "code",
   "execution_count": 201,
   "id": "b7d2d062-a636-4033-a89b-c41edf395e32",
   "metadata": {},
   "outputs": [
    {
     "name": "stdout",
     "output_type": "stream",
     "text": [
      "['Akash', 'Ramasani']\n"
     ]
    }
   ],
   "source": [
    "print(profile);"
   ]
  },
  {
   "cell_type": "code",
   "execution_count": 202,
   "id": "de56dcbc-b800-4563-8e87-a30f1b186e5e",
   "metadata": {},
   "outputs": [
    {
     "name": "stdout",
     "output_type": "stream",
     "text": [
      "['Akash', 'Ramasani']\n"
     ]
    }
   ],
   "source": [
    "print(dummyProfile);"
   ]
  },
  {
   "cell_type": "code",
   "execution_count": 206,
   "id": "549d6d47-5a80-40a7-b42c-55a00ccad848",
   "metadata": {},
   "outputs": [
    {
     "name": "stdout",
     "output_type": "stream",
     "text": [
      "Profile: ['Akash', 'Ramasani']\n",
      "Dummy Profile: ['Akash', 'Ramasani']\n"
     ]
    }
   ],
   "source": [
    "print(\"Profile: {}\".format(profile));\n",
    "print(\"Dummy Profile: {}\".format(dummyProfile));"
   ]
  },
  {
   "cell_type": "code",
   "execution_count": 207,
   "id": "ca0fc1f5-ae45-44ed-bfa2-4a76438e17c2",
   "metadata": {},
   "outputs": [],
   "source": [
    "profile.append(\"Male\");"
   ]
  },
  {
   "cell_type": "code",
   "execution_count": 209,
   "id": "7aa361d4-d357-4d1e-92ad-fd4832a664a6",
   "metadata": {},
   "outputs": [
    {
     "name": "stdout",
     "output_type": "stream",
     "text": [
      "profile: ['Akash', 'Ramasani', 'Male']\n",
      "Dummy Profile: ['Akash', 'Ramasani', 'Male']\n"
     ]
    }
   ],
   "source": [
    "print(\"profile: {}\".format(profile));\n",
    "print(\"Dummy Profile: {}\".format(dummyProfile));"
   ]
  },
  {
   "cell_type": "code",
   "execution_count": 215,
   "id": "40d5fec5-f178-4ad0-8aca-b68c4da64271",
   "metadata": {},
   "outputs": [],
   "source": [
    "dummyProfile.append(\"Hyderabad\");"
   ]
  },
  {
   "cell_type": "code",
   "execution_count": 217,
   "id": "1180dd5a-bcf7-4aee-9e30-7479e8246fc4",
   "metadata": {},
   "outputs": [
    {
     "name": "stdout",
     "output_type": "stream",
     "text": [
      "Profile: ['Akash', 'Ramasani', 'Male', 'Hyderabad']\n",
      "Dummy Profile: ['Akash', 'Ramasani', 'Male', 'Hyderabad']\n"
     ]
    }
   ],
   "source": [
    "print(\"Profile: {}\".format(profile));\n",
    "print(\"Dummy Profile: {}\".format(dummyProfile));"
   ]
  },
  {
   "cell_type": "code",
   "execution_count": 218,
   "id": "dea68321-e8d5-4ac4-b5a9-55059721c4bf",
   "metadata": {},
   "outputs": [],
   "source": [
    "anotherDummyProfile = profile.copy();"
   ]
  },
  {
   "cell_type": "code",
   "execution_count": 219,
   "id": "fa76ce32-d483-4668-94b7-0bb7658e2b63",
   "metadata": {},
   "outputs": [
    {
     "name": "stdout",
     "output_type": "stream",
     "text": [
      "Profile: ['Akash', 'Ramasani', 'Male', 'Hyderabad']\n",
      "Dummy Profile: ['Akash', 'Ramasani', 'Male', 'Hyderabad']\n",
      "Another Dummy Profile: ['Akash', 'Ramasani', 'Male', 'Hyderabad']\n"
     ]
    }
   ],
   "source": [
    "print(\"Profile: {}\".format(profile));\n",
    "print(\"Dummy Profile: {}\".format(dummyProfile));\n",
    "print(\"Another Dummy Profile: {}\".format(anotherDummyProfile));"
   ]
  },
  {
   "cell_type": "code",
   "execution_count": 220,
   "id": "28c1a1ae-9ea9-4d0f-8b75-52a15c3da73e",
   "metadata": {},
   "outputs": [],
   "source": [
    "anotherDummyProfile.append(\"Telangana\");"
   ]
  },
  {
   "cell_type": "code",
   "execution_count": 226,
   "id": "77bc2080-e959-4821-84e7-e1d17f1f14fa",
   "metadata": {},
   "outputs": [
    {
     "name": "stdout",
     "output_type": "stream",
     "text": [
      "Profile: ['Akash', 'Ramasani', 'Male', 'Hyderabad']\n",
      "Dummy Profile: ['Akash', 'Ramasani', 'Male', 'Hyderabad']\n",
      "Another Dummy Profile: ['Akash', 'Ramasani', 'Male', 'Hyderabad', 'Telangana']\n"
     ]
    }
   ],
   "source": [
    "print(\"Profile: {}\".format(profile));\n",
    "print(\"Dummy Profile: {}\".format(dummyProfile));\n",
    "print(\"Another Dummy Profile: {}\".format(anotherDummyProfile));"
   ]
  },
  {
   "cell_type": "code",
   "execution_count": 240,
   "id": "2d862fd0-dd05-4019-b90c-e642a24627ea",
   "metadata": {},
   "outputs": [],
   "source": [
    "yetAnotherDummyProfile = list(anotherDummyProfile);"
   ]
  },
  {
   "cell_type": "code",
   "execution_count": 241,
   "id": "04e508fb-4290-443a-bb45-ee61fc0e619e",
   "metadata": {},
   "outputs": [
    {
     "name": "stdout",
     "output_type": "stream",
     "text": [
      "Yet another Dummy Profile: ['Akash', 'Ramasani', 'Male', 'Hyderabad', 'Telangana']\n"
     ]
    }
   ],
   "source": [
    "print(\"Yet another Dummy Profile: {}\".format(yetAnotherDummyProfile));"
   ]
  },
  {
   "cell_type": "code",
   "execution_count": 242,
   "id": "9c2eb381-907c-4a08-b6f2-9e93487c9d75",
   "metadata": {},
   "outputs": [],
   "source": [
    "yetAnotherDummyProfile.append(\"India\");"
   ]
  },
  {
   "cell_type": "code",
   "execution_count": 243,
   "id": "c8b35221-be9b-47e8-bf3d-933893c9879d",
   "metadata": {},
   "outputs": [
    {
     "name": "stdout",
     "output_type": "stream",
     "text": [
      "Profile: ['Akash', 'Ramasani', 'Male', 'Hyderabad']\n",
      "Dummy Profile: ['Akash', 'Ramasani', 'Male', 'Hyderabad']\n",
      "Another Dummy Profile: ['Akash', 'Ramasani', 'Male', 'Hyderabad', 'Telangana']\n",
      "Yet another Dummy Profile: ['Akash', 'Ramasani', 'Male', 'Hyderabad', 'Telangana', 'India']\n"
     ]
    }
   ],
   "source": [
    "print(\"Profile: {}\".format(profile));\n",
    "print(\"Dummy Profile: {}\".format(dummyProfile));\n",
    "print(\"Another Dummy Profile: {}\".format(anotherDummyProfile));\n",
    "print(\"Yet another Dummy Profile: {}\".format(yetAnotherDummyProfile));"
   ]
  },
  {
   "cell_type": "markdown",
   "id": "c7235604-3c5e-44da-ab31-d03be66248eb",
   "metadata": {},
   "source": []
  }
 ],
 "metadata": {
  "kernelspec": {
   "display_name": "Python 3 (ipykernel)",
   "language": "python",
   "name": "python3"
  },
  "language_info": {
   "codemirror_mode": {
    "name": "ipython",
    "version": 3
   },
   "file_extension": ".py",
   "mimetype": "text/x-python",
   "name": "python",
   "nbconvert_exporter": "python",
   "pygments_lexer": "ipython3",
   "version": "3.11.6"
  }
 },
 "nbformat": 4,
 "nbformat_minor": 5
}
