{
 "cells": [
  {
   "cell_type": "code",
   "execution_count": 14,
   "id": "32af6c1d-7b8a-4083-80f9-3d3e4270f91e",
   "metadata": {},
   "outputs": [],
   "source": [
    "fruits = [\"Apple\", \"Banana\", \"Cherry\", \"Dragon Fruit\"];"
   ]
  },
  {
   "cell_type": "code",
   "execution_count": 15,
   "id": "f3d29231-c8f2-462a-addb-7b69f314dc40",
   "metadata": {},
   "outputs": [
    {
     "name": "stdout",
     "output_type": "stream",
     "text": [
      "['Apple', 'Banana', 'Cherry', 'Dragon Fruit']\n"
     ]
    }
   ],
   "source": [
    "print(fruits);"
   ]
  },
  {
   "cell_type": "markdown",
   "id": "94b3a2e5-1042-4ecb-af26-1e9dcb04e0f1",
   "metadata": {},
   "source": [
    "Lists are Ordered, Changable and Allow Duplicate Values."
   ]
  },
  {
   "cell_type": "code",
   "execution_count": 16,
   "id": "10c92216-42cd-4d9d-b6ae-a03074b1f22d",
   "metadata": {},
   "outputs": [
    {
     "name": "stdout",
     "output_type": "stream",
     "text": [
      "Apple\n"
     ]
    }
   ],
   "source": [
    "print(fruits[0]);"
   ]
  },
  {
   "cell_type": "code",
   "execution_count": 17,
   "id": "95afeacf-21e7-4529-b174-10a14d5f2efb",
   "metadata": {},
   "outputs": [
    {
     "name": "stdout",
     "output_type": "stream",
     "text": [
      "Banana\n"
     ]
    }
   ],
   "source": [
    "print(fruits[1]);"
   ]
  },
  {
   "cell_type": "code",
   "execution_count": 18,
   "id": "dcb19ff3-4238-4b04-93b7-3e70f7556c27",
   "metadata": {},
   "outputs": [
    {
     "name": "stdout",
     "output_type": "stream",
     "text": [
      "Cherry\n"
     ]
    }
   ],
   "source": [
    "print(fruits[2]);"
   ]
  },
  {
   "cell_type": "code",
   "execution_count": 19,
   "id": "42b94e5e-33d5-40ff-b40d-303f1f59eadb",
   "metadata": {},
   "outputs": [
    {
     "name": "stdout",
     "output_type": "stream",
     "text": [
      "Dragon Fruit\n"
     ]
    }
   ],
   "source": [
    "print(fruits[3]);"
   ]
  },
  {
   "cell_type": "code",
   "execution_count": 20,
   "id": "4de88e81-d69e-4be0-aedd-fd93924658f4",
   "metadata": {},
   "outputs": [
    {
     "ename": "IndexError",
     "evalue": "list index out of range",
     "output_type": "error",
     "traceback": [
      "\u001b[1;31m---------------------------------------------------------------------------\u001b[0m",
      "\u001b[1;31mIndexError\u001b[0m                                Traceback (most recent call last)",
      "Cell \u001b[1;32mIn[20], line 1\u001b[0m\n\u001b[1;32m----> 1\u001b[0m \u001b[38;5;28mprint\u001b[39m(\u001b[43mfruits\u001b[49m\u001b[43m[\u001b[49m\u001b[38;5;241;43m4\u001b[39;49m\u001b[43m]\u001b[49m);\n",
      "\u001b[1;31mIndexError\u001b[0m: list index out of range"
     ]
    }
   ],
   "source": [
    "print(fruits[4]);"
   ]
  },
  {
   "cell_type": "markdown",
   "id": "df44c0d9-c00c-4958-8cdc-f140407a4c59",
   "metadata": {},
   "source": [
    "Ordered\n",
    "\n",
    "When we say that lists are ordered, it means that the items have a defined order, and that order will not change. If you add new items to a list, the new items will be placed at the end of the list."
   ]
  },
  {
   "cell_type": "code",
   "execution_count": 22,
   "id": "bbbd7072-6d92-4d83-9cce-728ba3d532b5",
   "metadata": {},
   "outputs": [
    {
     "name": "stdout",
     "output_type": "stream",
     "text": [
      "['Apple', 'Banana', 'Cherry', 'Dragon Fruit']\n"
     ]
    }
   ],
   "source": [
    "print(fruits);"
   ]
  },
  {
   "cell_type": "code",
   "execution_count": 23,
   "id": "d80bc304-2f20-4bbf-a387-60b0f6df8c0f",
   "metadata": {},
   "outputs": [
    {
     "name": "stdout",
     "output_type": "stream",
     "text": [
      "['Apple', 'Banana', 'Cherry', 'Dragon Fruit']\n"
     ]
    }
   ],
   "source": [
    "print(fruits);"
   ]
  },
  {
   "cell_type": "code",
   "execution_count": 24,
   "id": "1c7ffd6c-edf6-4aa2-a20e-eb972cfb3397",
   "metadata": {},
   "outputs": [
    {
     "name": "stdout",
     "output_type": "stream",
     "text": [
      "['Apple', 'Banana', 'Cherry', 'Dragon Fruit']\n"
     ]
    }
   ],
   "source": [
    "print(fruits);"
   ]
  },
  {
   "cell_type": "markdown",
   "id": "844a69f0-e934-4613-9007-f3db0dd831ba",
   "metadata": {},
   "source": [
    "Changable - The list is changeable, meaning that we can change, add, and remove items in a list after it has been created."
   ]
  },
  {
   "cell_type": "markdown",
   "id": "76a799a4-6c94-4f32-81b2-59c985eb45a7",
   "metadata": {},
   "source": [
    "Change List Items"
   ]
  },
  {
   "cell_type": "markdown",
   "id": "e9672bae-8c0d-46c2-91fd-17f7ed71f501",
   "metadata": {},
   "source": [
    "Add List Items"
   ]
  },
  {
   "cell_type": "markdown",
   "id": "a8d3e183-99be-4b74-b7e1-64d6dc3c5d76",
   "metadata": {},
   "source": [
    "Remove List Items"
   ]
  },
  {
   "cell_type": "markdown",
   "id": "1100ca72-4487-48be-9df3-66957bc7136c",
   "metadata": {},
   "source": [
    "Allow Duplicates"
   ]
  },
  {
   "cell_type": "code",
   "execution_count": 7,
   "id": "ded7f86e-dff0-4e19-9a2b-b81cb76e7181",
   "metadata": {},
   "outputs": [],
   "source": [
    "students = [\"Akash\", \"Mark\", \"Elon\", \"Akash\", \"Elon\", \"Sundar\"];"
   ]
  },
  {
   "cell_type": "code",
   "execution_count": 8,
   "id": "536110cc-3fe6-4888-9bef-85504842339b",
   "metadata": {},
   "outputs": [
    {
     "name": "stdout",
     "output_type": "stream",
     "text": [
      "['Akash', 'Mark', 'Elon', 'Akash', 'Elon', 'Sundar']\n"
     ]
    }
   ],
   "source": [
    "print(students);"
   ]
  },
  {
   "cell_type": "markdown",
   "id": "7fcf8a8e-94cc-445b-a26b-4fac5189dc8e",
   "metadata": {},
   "source": [
    "List Length"
   ]
  },
  {
   "cell_type": "code",
   "execution_count": 10,
   "id": "ae393867-910f-4420-9511-5be5fa868296",
   "metadata": {},
   "outputs": [
    {
     "name": "stdout",
     "output_type": "stream",
     "text": [
      "6\n"
     ]
    }
   ],
   "source": [
    "print(len(students));"
   ]
  },
  {
   "cell_type": "markdown",
   "id": "7cce2f9a-dce9-4763-b23a-467c9b3f36fb",
   "metadata": {},
   "source": [
    "List Items - Data Types"
   ]
  },
  {
   "cell_type": "code",
   "execution_count": 12,
   "id": "2db48cc6-ff13-475f-a604-b0018cc90068",
   "metadata": {},
   "outputs": [],
   "source": [
    "stringList = [\"Akash\", \"Elon\", \"Mark\"];"
   ]
  },
  {
   "cell_type": "code",
   "execution_count": 14,
   "id": "6e7a5d4a-7a89-4b1b-84aa-9fcaa7a6abb4",
   "metadata": {},
   "outputs": [],
   "source": [
    "intList = [22, 56, 77, 88];"
   ]
  },
  {
   "cell_type": "code",
   "execution_count": 15,
   "id": "bbdf3101-91bc-47a8-8ce1-3623ad8c9008",
   "metadata": {},
   "outputs": [],
   "source": [
    "booleanList = [True, False, False, True, False];"
   ]
  },
  {
   "cell_type": "code",
   "execution_count": 16,
   "id": "96ce5052-e260-414c-a742-1ba86bbef0a7",
   "metadata": {},
   "outputs": [],
   "source": [
    "mixedList = [\"Akash\", \"Ramasani\", 22, True];"
   ]
  },
  {
   "cell_type": "code",
   "execution_count": 18,
   "id": "241fd784-912c-49b4-96ae-b55d5f35ddec",
   "metadata": {},
   "outputs": [
    {
     "name": "stdout",
     "output_type": "stream",
     "text": [
      "['Akash', 'Elon', 'Mark'] [22, 56, 77, 88] [True, False, False, True, False] ['Akash', 'Ramasani', 22, True]\n"
     ]
    }
   ],
   "source": [
    "print(stringList, intList, booleanList, mixedList);"
   ]
  },
  {
   "cell_type": "markdown",
   "id": "afaa0770-0ba3-4cc5-84d9-47a6f6d07879",
   "metadata": {},
   "source": [
    "type()"
   ]
  },
  {
   "cell_type": "code",
   "execution_count": 19,
   "id": "738054dc-c7ee-4b83-8810-414829d5a56b",
   "metadata": {},
   "outputs": [
    {
     "name": "stdout",
     "output_type": "stream",
     "text": [
      "<class 'list'>\n"
     ]
    }
   ],
   "source": [
    "print(type(stringList));"
   ]
  },
  {
   "cell_type": "code",
   "execution_count": 20,
   "id": "ac3daaef-5670-426e-8d12-b86fd65574f7",
   "metadata": {},
   "outputs": [
    {
     "name": "stdout",
     "output_type": "stream",
     "text": [
      "<class 'list'>\n"
     ]
    }
   ],
   "source": [
    "print(type(intList));"
   ]
  },
  {
   "cell_type": "code",
   "execution_count": 21,
   "id": "9ba8d0cf-10a5-4c43-be8f-9876eafbd9f0",
   "metadata": {},
   "outputs": [
    {
     "name": "stdout",
     "output_type": "stream",
     "text": [
      "<class 'list'> <class 'list'>\n"
     ]
    }
   ],
   "source": [
    "print(type(booleanList), type(mixedList));"
   ]
  },
  {
   "cell_type": "markdown",
   "id": "fc6713e7-375a-4ee4-89e6-3b240f4de61c",
   "metadata": {},
   "source": [
    "list() constructor"
   ]
  },
  {
   "cell_type": "code",
   "execution_count": 23,
   "id": "221f613d-26a2-4769-a0d8-e9c1c16e38ba",
   "metadata": {},
   "outputs": [],
   "source": [
    "profile = list((\"Akash\", \"\", \"Ramasani\", 22, True));"
   ]
  },
  {
   "cell_type": "code",
   "execution_count": 24,
   "id": "b68b91bd-771e-4d77-a937-347fd317eab9",
   "metadata": {},
   "outputs": [
    {
     "name": "stdout",
     "output_type": "stream",
     "text": [
      "['Akash', '', 'Ramasani', 22, True]\n"
     ]
    }
   ],
   "source": [
    "print(profile);"
   ]
  },
  {
   "cell_type": "code",
   "execution_count": 25,
   "id": "f9cac7a8-173d-421d-9e41-ddb16145b79f",
   "metadata": {},
   "outputs": [
    {
     "name": "stdout",
     "output_type": "stream",
     "text": [
      "5\n"
     ]
    }
   ],
   "source": [
    "print(len(profile));"
   ]
  },
  {
   "cell_type": "code",
   "execution_count": 26,
   "id": "00f43780-f095-46da-985d-2a67f51527bf",
   "metadata": {},
   "outputs": [
    {
     "name": "stdout",
     "output_type": "stream",
     "text": [
      "<class 'list'>\n"
     ]
    }
   ],
   "source": [
    "print(type(profile));"
   ]
  },
  {
   "cell_type": "markdown",
   "id": "dc34a41b-2a83-4378-8c3f-9849ff3a5237",
   "metadata": {},
   "source": [
    "Python - Access List Items"
   ]
  },
  {
   "cell_type": "markdown",
   "id": "dc6db4fa-7aef-4194-af15-4b02348eea82",
   "metadata": {},
   "source": [
    "List Items are indexed and you can access them by referring to the index number"
   ]
  },
  {
   "cell_type": "code",
   "execution_count": 28,
   "id": "abc22b3e-3e1b-4f83-bb05-95d306554311",
   "metadata": {},
   "outputs": [],
   "source": [
    "fruits = [\"Apple\", \"Banana\", \"Cherry\", \"Dragon Fruit\", \"Elephant Apple\", \"Fig\"];"
   ]
  },
  {
   "cell_type": "code",
   "execution_count": 34,
   "id": "b92b4738-8ed6-49f1-988a-c4fff5fd170f",
   "metadata": {},
   "outputs": [
    {
     "name": "stdout",
     "output_type": "stream",
     "text": [
      "Apple Banana Cherry Dragon Fruit Elephant Apple Fig\n"
     ]
    }
   ],
   "source": [
    "print(fruits[0], fruits[1], fruits[2], fruits[3], fruits[4], fruits[5]);"
   ]
  },
  {
   "cell_type": "markdown",
   "id": "5db78323-7309-4bc9-8758-d9e4fc6da047",
   "metadata": {},
   "source": [
    "Negative Indexing - -1 refers to the last item, -2 refers to the second last item."
   ]
  },
  {
   "cell_type": "code",
   "execution_count": 36,
   "id": "601fdb1b-e29c-4429-8c62-cad976d2c133",
   "metadata": {},
   "outputs": [
    {
     "name": "stdout",
     "output_type": "stream",
     "text": [
      "Fig Elephant Apple Dragon Fruit Cherry Banana Apple\n"
     ]
    }
   ],
   "source": [
    "print(fruits[-1], fruits[-2], fruits[-3], fruits[-4], fruits[-5], fruits[-6]);"
   ]
  },
  {
   "cell_type": "markdown",
   "id": "111c2c85-4ddf-4fb6-bf3c-3ea8e0fcc5d9",
   "metadata": {},
   "source": [
    "Range of Indexes"
   ]
  },
  {
   "cell_type": "code",
   "execution_count": 37,
   "id": "267f5efb-6531-430e-bd4f-c68a0abc74dc",
   "metadata": {},
   "outputs": [
    {
     "name": "stdout",
     "output_type": "stream",
     "text": [
      "['Banana', 'Cherry', 'Dragon Fruit']\n"
     ]
    }
   ],
   "source": [
    "print(fruits[1:4]);"
   ]
  },
  {
   "cell_type": "code",
   "execution_count": 38,
   "id": "42affce4-97d7-4bbc-9713-a1315d39253e",
   "metadata": {},
   "outputs": [
    {
     "name": "stdout",
     "output_type": "stream",
     "text": [
      "['Apple', 'Banana', 'Cherry', 'Dragon Fruit']\n"
     ]
    }
   ],
   "source": [
    "print(fruits[:4]);"
   ]
  },
  {
   "cell_type": "code",
   "execution_count": 39,
   "id": "fef202b2-3f65-4e84-aeae-63bfee26c0d4",
   "metadata": {},
   "outputs": [
    {
     "name": "stdout",
     "output_type": "stream",
     "text": [
      "['Apple', 'Banana', 'Cherry', 'Dragon Fruit', 'Elephant Apple', 'Fig']\n"
     ]
    }
   ],
   "source": [
    "print(fruits[:]);"
   ]
  },
  {
   "cell_type": "code",
   "execution_count": 42,
   "id": "b08ff5f4-7717-4c49-86ba-e5f17e574e18",
   "metadata": {},
   "outputs": [
    {
     "name": "stdout",
     "output_type": "stream",
     "text": [
      "['Apple', 'Banana', 'Cherry', 'Dragon Fruit', 'Elephant Apple', 'Fig']\n"
     ]
    }
   ],
   "source": [
    "print(fruits[0:]);"
   ]
  },
  {
   "cell_type": "code",
   "execution_count": 43,
   "id": "8fa6b09b-e9f0-4498-90a2-55aa05321e01",
   "metadata": {},
   "outputs": [
    {
     "name": "stdout",
     "output_type": "stream",
     "text": [
      "['Banana', 'Cherry', 'Dragon Fruit', 'Elephant Apple', 'Fig']\n"
     ]
    }
   ],
   "source": [
    "print(fruits[1:]);"
   ]
  },
  {
   "cell_type": "code",
   "execution_count": 45,
   "id": "6b4e3e10-6464-4423-8c7e-90e561689ebf",
   "metadata": {},
   "outputs": [
    {
     "name": "stdout",
     "output_type": "stream",
     "text": [
      "['Cherry', 'Dragon Fruit', 'Elephant Apple', 'Fig']\n"
     ]
    }
   ],
   "source": [
    "print(fruits[2:]);"
   ]
  },
  {
   "cell_type": "code",
   "execution_count": 46,
   "id": "14186d32-b0a8-4931-8c15-91fa7bb894be",
   "metadata": {},
   "outputs": [
    {
     "name": "stdout",
     "output_type": "stream",
     "text": [
      "['Dragon Fruit', 'Elephant Apple', 'Fig']\n"
     ]
    }
   ],
   "source": [
    "print(fruits[3:]);"
   ]
  },
  {
   "cell_type": "code",
   "execution_count": 47,
   "id": "02a8bf97-f31e-491d-a217-3d02d5bbaf2b",
   "metadata": {},
   "outputs": [
    {
     "name": "stdout",
     "output_type": "stream",
     "text": [
      "['Elephant Apple', 'Fig']\n"
     ]
    }
   ],
   "source": [
    "print(fruits[4:]);"
   ]
  },
  {
   "cell_type": "code",
   "execution_count": 48,
   "id": "a62bf907-f4a1-4751-86e5-f218e91f1eb9",
   "metadata": {},
   "outputs": [
    {
     "name": "stdout",
     "output_type": "stream",
     "text": [
      "['Fig']\n"
     ]
    }
   ],
   "source": [
    "print(fruits[5:]);"
   ]
  },
  {
   "cell_type": "code",
   "execution_count": 49,
   "id": "96f5d0a1-bc08-425a-8f24-8f982d112ca4",
   "metadata": {},
   "outputs": [
    {
     "name": "stdout",
     "output_type": "stream",
     "text": [
      "[]\n"
     ]
    }
   ],
   "source": [
    "print(fruits[6:]);"
   ]
  },
  {
   "cell_type": "code",
   "execution_count": 51,
   "id": "ef97a5a4-9978-4fc7-8201-37d0031fd174",
   "metadata": {},
   "outputs": [
    {
     "name": "stdout",
     "output_type": "stream",
     "text": [
      "['Apple', 'Banana', 'Cherry', 'Dragon Fruit', 'Elephant Apple', 'Fig']\n"
     ]
    }
   ],
   "source": [
    "print(fruits[:]);"
   ]
  },
  {
   "cell_type": "code",
   "execution_count": 52,
   "id": "92c7c666-bcb0-478c-a6fc-d0f89deff6bb",
   "metadata": {},
   "outputs": [
    {
     "name": "stdout",
     "output_type": "stream",
     "text": [
      "['Apple', 'Banana', 'Cherry', 'Dragon Fruit', 'Elephant Apple']\n"
     ]
    }
   ],
   "source": [
    "print(fruits[:-1]);"
   ]
  },
  {
   "cell_type": "code",
   "execution_count": 53,
   "id": "11b38c92-ab86-45e8-844f-132a61730156",
   "metadata": {},
   "outputs": [
    {
     "name": "stdout",
     "output_type": "stream",
     "text": [
      "['Apple', 'Banana', 'Cherry', 'Dragon Fruit']\n"
     ]
    }
   ],
   "source": [
    "print(fruits[:-2]);"
   ]
  },
  {
   "cell_type": "code",
   "execution_count": 54,
   "id": "19a79049-315b-4a9b-85eb-19edc9ca80b1",
   "metadata": {},
   "outputs": [
    {
     "name": "stdout",
     "output_type": "stream",
     "text": [
      "['Apple', 'Banana', 'Cherry']\n"
     ]
    }
   ],
   "source": [
    "print(fruits[:-3]);"
   ]
  },
  {
   "cell_type": "code",
   "execution_count": 55,
   "id": "b0f25ff3-3edb-4dcd-b6b1-3f1f4affa387",
   "metadata": {},
   "outputs": [
    {
     "name": "stdout",
     "output_type": "stream",
     "text": [
      "['Apple', 'Banana']\n"
     ]
    }
   ],
   "source": [
    "print(fruits[:-4]);"
   ]
  },
  {
   "cell_type": "code",
   "execution_count": 57,
   "id": "78179f4d-450d-4aec-beb1-2d7af9e78435",
   "metadata": {},
   "outputs": [
    {
     "name": "stdout",
     "output_type": "stream",
     "text": [
      "['Apple']\n"
     ]
    }
   ],
   "source": [
    "print(fruits[:-5]);"
   ]
  },
  {
   "cell_type": "code",
   "execution_count": 58,
   "id": "cd69c125-fbc3-4cc6-907f-1bcdc39d3448",
   "metadata": {},
   "outputs": [
    {
     "name": "stdout",
     "output_type": "stream",
     "text": [
      "[]\n"
     ]
    }
   ],
   "source": [
    "print(fruits[:-6]);"
   ]
  },
  {
   "cell_type": "code",
   "execution_count": 68,
   "id": "cd6b6763-05d4-470b-a198-a0858d152080",
   "metadata": {},
   "outputs": [
    {
     "name": "stdout",
     "output_type": "stream",
     "text": [
      "False\n"
     ]
    }
   ],
   "source": [
    "if \"apple\" in fruits:\n",
    "    print(True);\n",
    "else:\n",
    "    print(False);"
   ]
  },
  {
   "cell_type": "code",
   "execution_count": 71,
   "id": "05ebae61-a1a4-4c6d-aae9-ca180ed17133",
   "metadata": {},
   "outputs": [
    {
     "name": "stdout",
     "output_type": "stream",
     "text": [
      "Apple\n"
     ]
    }
   ],
   "source": [
    "if \"apple\".capitalize() in fruits:\n",
    "    print(\"apple\".capitalize());"
   ]
  },
  {
   "cell_type": "markdown",
   "id": "15a9d0d1-7468-4a2e-a3eb-6a0959e4bb23",
   "metadata": {},
   "source": [
    "Change List Items"
   ]
  },
  {
   "cell_type": "code",
   "execution_count": 72,
   "id": "69a47c63-9ecc-4dd3-b89d-d5037948351a",
   "metadata": {},
   "outputs": [
    {
     "name": "stdout",
     "output_type": "stream",
     "text": [
      "['Apple', 'Banana', 'Cherry', 'Dragon Fruit', 'Elephant Apple', 'Fig']\n"
     ]
    }
   ],
   "source": [
    "print(fruits);"
   ]
  },
  {
   "cell_type": "code",
   "execution_count": 73,
   "id": "32f6510e-e427-44d4-88a9-f1da604ead70",
   "metadata": {},
   "outputs": [
    {
     "name": "stdout",
     "output_type": "stream",
     "text": [
      "Apple\n"
     ]
    }
   ],
   "source": [
    "print(fruits[0]);"
   ]
  },
  {
   "cell_type": "code",
   "execution_count": 74,
   "id": "6904fbcb-6fd9-46d6-b3f4-45607adda9a1",
   "metadata": {},
   "outputs": [],
   "source": [
    "fruits[0] = \"Apricot\";"
   ]
  },
  {
   "cell_type": "code",
   "execution_count": 75,
   "id": "e912a4d2-afe0-49f2-a58f-781ae5cf6396",
   "metadata": {},
   "outputs": [
    {
     "name": "stdout",
     "output_type": "stream",
     "text": [
      "Apricot\n"
     ]
    }
   ],
   "source": [
    "print(fruits[0]);"
   ]
  },
  {
   "cell_type": "code",
   "execution_count": 76,
   "id": "3c494cc0-91b6-4929-8650-bcf5c65d0473",
   "metadata": {},
   "outputs": [
    {
     "name": "stdout",
     "output_type": "stream",
     "text": [
      "['Apricot', 'Banana', 'Cherry', 'Dragon Fruit', 'Elephant Apple', 'Fig']\n"
     ]
    }
   ],
   "source": [
    "print(fruits);"
   ]
  },
  {
   "cell_type": "code",
   "execution_count": 77,
   "id": "8e40d11d-d7e1-4ad9-b851-c49885769dfe",
   "metadata": {},
   "outputs": [
    {
     "name": "stdout",
     "output_type": "stream",
     "text": [
      "['Elephant Apple', 'Fig']\n"
     ]
    }
   ],
   "source": [
    "print(fruits[4:6]);"
   ]
  },
  {
   "cell_type": "code",
   "execution_count": 78,
   "id": "9e4b467d-2356-4f7e-9cef-5e516b88ecb2",
   "metadata": {},
   "outputs": [],
   "source": [
    "fruits[4:6] = [\"E\", \"F\"];"
   ]
  },
  {
   "cell_type": "code",
   "execution_count": 79,
   "id": "cbd6b061-3e54-4ec4-9b55-243638fd8eea",
   "metadata": {},
   "outputs": [
    {
     "name": "stdout",
     "output_type": "stream",
     "text": [
      "['E', 'F']\n"
     ]
    }
   ],
   "source": [
    "print(fruits[4:6]);"
   ]
  },
  {
   "cell_type": "code",
   "execution_count": 80,
   "id": "f0133572-bf8b-4312-a111-37108ca67524",
   "metadata": {},
   "outputs": [
    {
     "name": "stdout",
     "output_type": "stream",
     "text": [
      "['Apricot', 'Banana', 'Cherry', 'Dragon Fruit', 'E', 'F']\n"
     ]
    }
   ],
   "source": [
    "print(fruits);"
   ]
  },
  {
   "cell_type": "code",
   "execution_count": 81,
   "id": "911e97f3-b6c5-48bf-afcd-13f7b8cbd4e6",
   "metadata": {},
   "outputs": [
    {
     "name": "stdout",
     "output_type": "stream",
     "text": [
      "['Apricot', 'Banana', 'Cherry']\n"
     ]
    }
   ],
   "source": [
    "print(fruits[0:3]);"
   ]
  },
  {
   "cell_type": "code",
   "execution_count": 82,
   "id": "ed547c49-3991-4ae8-b98d-cc42aa0b5011",
   "metadata": {},
   "outputs": [],
   "source": [
    "fruits[0:3] = [\"A\", \"a\", \"B\", \"b\", \"C\", \"c\"];"
   ]
  },
  {
   "cell_type": "code",
   "execution_count": 83,
   "id": "09a4039c-c673-41df-96bd-a57743138085",
   "metadata": {},
   "outputs": [
    {
     "name": "stdout",
     "output_type": "stream",
     "text": [
      "['A', 'a', 'B', 'b', 'C', 'c', 'Dragon Fruit', 'E', 'F']\n"
     ]
    }
   ],
   "source": [
    "print(fruits);"
   ]
  },
  {
   "cell_type": "code",
   "execution_count": 84,
   "id": "2d31f1cf-2add-4e73-8df8-e717bbc97948",
   "metadata": {},
   "outputs": [
    {
     "name": "stdout",
     "output_type": "stream",
     "text": [
      "['Dragon Fruit', 'E', 'F']\n"
     ]
    }
   ],
   "source": [
    "print(fruits[6:]);"
   ]
  },
  {
   "cell_type": "code",
   "execution_count": 87,
   "id": "745f05d1-3191-422f-8a42-3c714e10a552",
   "metadata": {},
   "outputs": [],
   "source": [
    "fruits[6:] = [\"D\", \"d\", \"E\", \"e\", \"F\", \"f\"];"
   ]
  },
  {
   "cell_type": "code",
   "execution_count": 88,
   "id": "caede780-a832-4f5a-867b-b91e2b4a8fb1",
   "metadata": {},
   "outputs": [
    {
     "name": "stdout",
     "output_type": "stream",
     "text": [
      "['A', 'a', 'B', 'b', 'C', 'c', 'D', 'd', 'E', 'e', 'F', 'f']\n"
     ]
    }
   ],
   "source": [
    "print(fruits);"
   ]
  },
  {
   "cell_type": "code",
   "execution_count": 89,
   "id": "f7822982-ebe2-44f5-9462-02670a4e9462",
   "metadata": {},
   "outputs": [
    {
     "name": "stdout",
     "output_type": "stream",
     "text": [
      "12\n"
     ]
    }
   ],
   "source": [
    "print(len(fruits));"
   ]
  },
  {
   "cell_type": "code",
   "execution_count": 90,
   "id": "5c99f6c1-fed1-4b44-b107-330267150c6c",
   "metadata": {},
   "outputs": [
    {
     "name": "stdout",
     "output_type": "stream",
     "text": [
      "['A', 'a', 'B', 'b', 'C', 'c', 'D', 'd', 'E', 'e', 'F', 'f']\n"
     ]
    }
   ],
   "source": [
    "print(fruits);"
   ]
  },
  {
   "cell_type": "code",
   "execution_count": 92,
   "id": "e6bcf2b4-8bb3-4101-93c9-bd1cc3e6b2c5",
   "metadata": {},
   "outputs": [],
   "source": [
    "fruits[:] = [\"Apple\", \"Banana\", \"Cherry\"];"
   ]
  },
  {
   "cell_type": "code",
   "execution_count": 93,
   "id": "fedea576-0df2-435c-874c-1c7573f588b9",
   "metadata": {},
   "outputs": [
    {
     "name": "stdout",
     "output_type": "stream",
     "text": [
      "['Apple', 'Banana', 'Cherry']\n"
     ]
    }
   ],
   "source": [
    "print(fruits);"
   ]
  },
  {
   "cell_type": "markdown",
   "id": "d54673ac-4cf4-42c1-8bd5-ad24b478d72d",
   "metadata": {},
   "source": [
    "Insert Items"
   ]
  },
  {
   "cell_type": "code",
   "execution_count": 94,
   "id": "58a25369-f2fe-447a-ad46-f982e1b1fb75",
   "metadata": {},
   "outputs": [],
   "source": [
    "fruits.insert(3, \"Dragon Fruit\");"
   ]
  },
  {
   "cell_type": "code",
   "execution_count": 95,
   "id": "9a3e6102-dd74-40c4-a9bb-c39919e5d635",
   "metadata": {},
   "outputs": [
    {
     "name": "stdout",
     "output_type": "stream",
     "text": [
      "['Apple', 'Banana', 'Cherry', 'Dragon Fruit']\n"
     ]
    }
   ],
   "source": [
    "print(fruits);"
   ]
  },
  {
   "cell_type": "code",
   "execution_count": 96,
   "id": "4b547f6f-b0b6-451d-af74-9eb5e17c5602",
   "metadata": {},
   "outputs": [],
   "source": [
    "fruits.insert(0, \"Apricot\");"
   ]
  },
  {
   "cell_type": "code",
   "execution_count": 97,
   "id": "5f7cba1f-e3cf-41fa-b03e-bf7bbba5ebd2",
   "metadata": {},
   "outputs": [
    {
     "name": "stdout",
     "output_type": "stream",
     "text": [
      "['Apricot', 'Apple', 'Banana', 'Cherry', 'Dragon Fruit']\n"
     ]
    }
   ],
   "source": [
    "print(fruits);"
   ]
  },
  {
   "cell_type": "markdown",
   "id": "064b9f84-b2e5-4445-a443-fe62f181b82a",
   "metadata": {},
   "source": [
    "Append"
   ]
  },
  {
   "cell_type": "code",
   "execution_count": 99,
   "id": "694a7e75-30e2-485f-8028-eb005a118313",
   "metadata": {},
   "outputs": [
    {
     "name": "stdout",
     "output_type": "stream",
     "text": [
      "['Apricot', 'Apple', 'Banana', 'Cherry', 'Dragon Fruit']\n"
     ]
    }
   ],
   "source": [
    "print(fruits);"
   ]
  },
  {
   "cell_type": "code",
   "execution_count": 100,
   "id": "8e625de5-2994-4d47-a6e5-ee465e548530",
   "metadata": {},
   "outputs": [],
   "source": [
    "fruits.append(\"Elephant Apple\");"
   ]
  },
  {
   "cell_type": "code",
   "execution_count": 101,
   "id": "89239bea-611b-4899-b4f8-2c9107511571",
   "metadata": {},
   "outputs": [
    {
     "name": "stdout",
     "output_type": "stream",
     "text": [
      "['Apricot', 'Apple', 'Banana', 'Cherry', 'Dragon Fruit', 'Elephant Apple']\n"
     ]
    }
   ],
   "source": [
    "print(fruits);"
   ]
  },
  {
   "cell_type": "markdown",
   "id": "f89b9c72-fdfe-4556-82a4-66bc327051df",
   "metadata": {},
   "source": [
    "Insert Items - To insert a list item at a specified index, we can use index() method."
   ]
  },
  {
   "cell_type": "code",
   "execution_count": 102,
   "id": "afa1d441-b6a7-493e-887c-abf62cd7e54f",
   "metadata": {},
   "outputs": [
    {
     "name": "stdout",
     "output_type": "stream",
     "text": [
      "['Apricot', 'Apple', 'Banana', 'Cherry', 'Dragon Fruit', 'Elephant Apple']\n"
     ]
    }
   ],
   "source": [
    "print(fruits);"
   ]
  },
  {
   "cell_type": "code",
   "execution_count": 103,
   "id": "a69238d3-96e8-4146-b619-69457e659e45",
   "metadata": {},
   "outputs": [],
   "source": [
    "fruits.insert(0, \"A\");"
   ]
  },
  {
   "cell_type": "code",
   "execution_count": 104,
   "id": "2e73919c-35cf-4f9e-8737-2c13917dd231",
   "metadata": {},
   "outputs": [
    {
     "name": "stdout",
     "output_type": "stream",
     "text": [
      "['A', 'Apricot', 'Apple', 'Banana', 'Cherry', 'Dragon Fruit', 'Elephant Apple']\n"
     ]
    }
   ],
   "source": [
    "print(fruits);"
   ]
  },
  {
   "cell_type": "markdown",
   "id": "48789419-89e6-4a89-affa-7a155f794997",
   "metadata": {},
   "source": [
    "Extend List - To append elements from another list to the current list. we can extend any iterable object like Lists, Tuples, Sets Dictionaries etc. "
   ]
  },
  {
   "cell_type": "code",
   "execution_count": 106,
   "id": "a2351654-333c-4b44-a9e7-078fa11a7b7f",
   "metadata": {},
   "outputs": [],
   "source": [
    "profile = [\"Akash\", \"Ramasani\", \"Male\", 22, True];\n",
    "undergradDetails = [\"K L University Hyderabad\", \"Bachelor of Technology\", \"Computer Science and Engineering\", \"CSE\", 8.32];"
   ]
  },
  {
   "cell_type": "code",
   "execution_count": 108,
   "id": "08de8869-e81c-4036-af6d-25afd6e1ebc6",
   "metadata": {},
   "outputs": [
    {
     "name": "stdout",
     "output_type": "stream",
     "text": [
      "['Akash', 'Ramasani', 'Male', 22, True] ['K L University Hyderabad', 'Bachelor of Technology', 'Computer Science and Engineering', 'CSE', 8.32]\n"
     ]
    }
   ],
   "source": [
    "print(profile, undergradDetails);"
   ]
  },
  {
   "cell_type": "code",
   "execution_count": 109,
   "id": "72311884-562e-47f1-96d5-907bc84241a7",
   "metadata": {},
   "outputs": [],
   "source": [
    "profile.extend(undergradDetails);"
   ]
  },
  {
   "cell_type": "code",
   "execution_count": 110,
   "id": "ae99d634-f3b8-47c3-8d12-3ef6cc313cab",
   "metadata": {},
   "outputs": [
    {
     "name": "stdout",
     "output_type": "stream",
     "text": [
      "['Akash', 'Ramasani', 'Male', 22, True, 'K L University Hyderabad', 'Bachelor of Technology', 'Computer Science and Engineering', 'CSE', 8.32]\n"
     ]
    }
   ],
   "source": [
    "print(profile);"
   ]
  },
  {
   "cell_type": "code",
   "execution_count": 112,
   "id": "4acd789d-3486-4b73-a864-1eb71fbdfbd1",
   "metadata": {},
   "outputs": [],
   "source": [
    "dateOfBirth = (27, \"May\", 2001);"
   ]
  },
  {
   "cell_type": "code",
   "execution_count": 113,
   "id": "2fbccd49-0627-434e-877a-5b110ac2b188",
   "metadata": {},
   "outputs": [],
   "source": [
    "profile.extend(dateOfBirth);"
   ]
  },
  {
   "cell_type": "code",
   "execution_count": 114,
   "id": "149040c5-fb58-440c-9307-82f381002258",
   "metadata": {},
   "outputs": [
    {
     "name": "stdout",
     "output_type": "stream",
     "text": [
      "['Akash', 'Ramasani', 'Male', 22, True, 'K L University Hyderabad', 'Bachelor of Technology', 'Computer Science and Engineering', 'CSE', 8.32, 27, 'May', 2001]\n"
     ]
    }
   ],
   "source": [
    "print(profile);"
   ]
  },
  {
   "cell_type": "code",
   "execution_count": null,
   "id": "98bfa5b5-7438-4b96-90a0-96241c6628fa",
   "metadata": {},
   "outputs": [],
   "source": []
  }
 ],
 "metadata": {
  "kernelspec": {
   "display_name": "Python 3 (ipykernel)",
   "language": "python",
   "name": "python3"
  },
  "language_info": {
   "codemirror_mode": {
    "name": "ipython",
    "version": 3
   },
   "file_extension": ".py",
   "mimetype": "text/x-python",
   "name": "python",
   "nbconvert_exporter": "python",
   "pygments_lexer": "ipython3",
   "version": "3.11.6"
  }
 },
 "nbformat": 4,
 "nbformat_minor": 5
}
