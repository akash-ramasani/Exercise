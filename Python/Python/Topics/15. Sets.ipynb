{
 "cells": [
  {
   "cell_type": "markdown",
   "id": "94ba775d-26fa-4466-bf35-693a5e1e2208",
   "metadata": {},
   "source": [
    "Set is a collection which is Unordered, Unchangable and Uninexed. Set Items are Unchangable, but you can remove items and add new items. "
   ]
  },
  {
   "cell_type": "code",
   "execution_count": 2,
   "id": "523dc99e-a244-4d8d-bafe-89b78fcf1888",
   "metadata": {},
   "outputs": [],
   "source": [
    "fruits = {\"Apple\", \"Banana\"};"
   ]
  },
  {
   "cell_type": "code",
   "execution_count": 3,
   "id": "97942c32-5646-4dd5-a242-e6f6aab79d90",
   "metadata": {},
   "outputs": [
    {
     "name": "stdout",
     "output_type": "stream",
     "text": [
      "<class 'set'> {'Apple', 'Banana'}\n"
     ]
    }
   ],
   "source": [
    "print(type(fruits), fruits);"
   ]
  },
  {
   "cell_type": "code",
   "execution_count": 4,
   "id": "1805ad86-9a9b-43bc-8c95-69e9214ccabd",
   "metadata": {},
   "outputs": [
    {
     "name": "stdout",
     "output_type": "stream",
     "text": [
      "{'Apple', 'Banana'}\n"
     ]
    }
   ],
   "source": [
    "print(fruits);"
   ]
  },
  {
   "cell_type": "code",
   "execution_count": 5,
   "id": "6d141466-57e8-453c-a85d-e1d5fa898020",
   "metadata": {},
   "outputs": [
    {
     "name": "stdout",
     "output_type": "stream",
     "text": [
      "{'Apple', 'Banana'}\n"
     ]
    }
   ],
   "source": [
    "print(fruits);"
   ]
  },
  {
   "cell_type": "code",
   "execution_count": 6,
   "id": "85170326-81f7-41e3-9b9b-54d208f2c117",
   "metadata": {},
   "outputs": [
    {
     "name": "stdout",
     "output_type": "stream",
     "text": [
      "{'Apple', 'Banana'}\n"
     ]
    }
   ],
   "source": [
    "print(fruits);"
   ]
  },
  {
   "cell_type": "code",
   "execution_count": 7,
   "id": "c21dff9f-05e4-40d0-9cc7-506ce37a34b6",
   "metadata": {},
   "outputs": [
    {
     "ename": "TypeError",
     "evalue": "'set' object is not subscriptable",
     "output_type": "error",
     "traceback": [
      "\u001b[1;31m---------------------------------------------------------------------------\u001b[0m",
      "\u001b[1;31mTypeError\u001b[0m                                 Traceback (most recent call last)",
      "Cell \u001b[1;32mIn[7], line 1\u001b[0m\n\u001b[1;32m----> 1\u001b[0m \u001b[38;5;28mprint\u001b[39m(\u001b[43mfruits\u001b[49m\u001b[43m[\u001b[49m\u001b[38;5;241;43m1\u001b[39;49m\u001b[43m]\u001b[49m);\n",
      "\u001b[1;31mTypeError\u001b[0m: 'set' object is not subscriptable"
     ]
    }
   ],
   "source": [
    "print(fruits[1]);"
   ]
  },
  {
   "cell_type": "code",
   "execution_count": 8,
   "id": "da4ba2b3-7c4a-498f-b5f5-df44e3e2bd25",
   "metadata": {},
   "outputs": [],
   "source": [
    "del fruits;"
   ]
  },
  {
   "cell_type": "code",
   "execution_count": 9,
   "id": "93020614-a176-4aa7-be45-36a750765fa4",
   "metadata": {},
   "outputs": [
    {
     "ename": "NameError",
     "evalue": "name 'fruits' is not defined",
     "output_type": "error",
     "traceback": [
      "\u001b[1;31m---------------------------------------------------------------------------\u001b[0m",
      "\u001b[1;31mNameError\u001b[0m                                 Traceback (most recent call last)",
      "Cell \u001b[1;32mIn[9], line 1\u001b[0m\n\u001b[1;32m----> 1\u001b[0m \u001b[38;5;28mprint\u001b[39m(\u001b[43mfruits\u001b[49m);\n",
      "\u001b[1;31mNameError\u001b[0m: name 'fruits' is not defined"
     ]
    }
   ],
   "source": [
    "print(fruits);"
   ]
  },
  {
   "cell_type": "markdown",
   "id": "3235cb80-2de2-4b81-a0f7-ccdca65061d7",
   "metadata": {},
   "source": [
    "Duplicates Not Allowed"
   ]
  },
  {
   "cell_type": "code",
   "execution_count": 10,
   "id": "f69593d7-d48f-4fb1-a3db-edc2583b82d2",
   "metadata": {},
   "outputs": [],
   "source": [
    "fruits = {\"Apple\", \"Banana\"};"
   ]
  },
  {
   "cell_type": "code",
   "execution_count": 11,
   "id": "6c506f26-1dd0-4c69-b2d1-253464d83a5e",
   "metadata": {},
   "outputs": [
    {
     "name": "stdout",
     "output_type": "stream",
     "text": [
      "{'Apple', 'Banana'}\n"
     ]
    }
   ],
   "source": [
    "print(fruits);"
   ]
  },
  {
   "cell_type": "code",
   "execution_count": 12,
   "id": "0d3f2732-6ba4-4b05-a673-46e46e23c34f",
   "metadata": {},
   "outputs": [],
   "source": [
    "del fruits;"
   ]
  },
  {
   "cell_type": "code",
   "execution_count": 13,
   "id": "c4f16897-3ede-4f55-927e-59579f182501",
   "metadata": {},
   "outputs": [],
   "source": [
    "fruits = {\"Apple\", \"Banna\", \"Apple\"};"
   ]
  },
  {
   "cell_type": "code",
   "execution_count": 14,
   "id": "5a32801b-1898-497f-8b92-02d4f910b1fb",
   "metadata": {},
   "outputs": [
    {
     "name": "stdout",
     "output_type": "stream",
     "text": [
      "{'Apple', 'Banna'}\n"
     ]
    }
   ],
   "source": [
    "print(fruits);"
   ]
  },
  {
   "cell_type": "code",
   "execution_count": 15,
   "id": "2721dfc7-6886-4418-ae36-bec0f46feb7e",
   "metadata": {},
   "outputs": [
    {
     "name": "stdout",
     "output_type": "stream",
     "text": [
      "<class 'set'>\n"
     ]
    }
   ],
   "source": [
    "print(type(fruits));"
   ]
  },
  {
   "cell_type": "code",
   "execution_count": 16,
   "id": "ba51b63d-7515-4582-93ae-ffdcd192ac5a",
   "metadata": {},
   "outputs": [],
   "source": [
    "del fruits;"
   ]
  },
  {
   "cell_type": "code",
   "execution_count": 18,
   "id": "faf5da45-3978-4000-b164-1e3edb131bc1",
   "metadata": {},
   "outputs": [],
   "source": [
    "tempSet = {True, 1, False, 0};"
   ]
  },
  {
   "cell_type": "code",
   "execution_count": 19,
   "id": "b8bbb26e-c09e-48ea-a295-82febe33fdb4",
   "metadata": {},
   "outputs": [
    {
     "name": "stdout",
     "output_type": "stream",
     "text": [
      "{False, True}\n"
     ]
    }
   ],
   "source": [
    "print(tempSet);"
   ]
  },
  {
   "cell_type": "code",
   "execution_count": 21,
   "id": "cf7aea66-7fbb-415e-a9a7-12bc4ed951a3",
   "metadata": {},
   "outputs": [],
   "source": [
    "del tempSet;"
   ]
  },
  {
   "cell_type": "markdown",
   "id": "1d21d62a-0a37-4256-b103-75da1612d3df",
   "metadata": {},
   "source": [
    "Length of a Set"
   ]
  },
  {
   "cell_type": "code",
   "execution_count": 22,
   "id": "69d9c946-d2e9-4be1-b1b1-ae0468f98580",
   "metadata": {},
   "outputs": [],
   "source": [
    "fruits = {\"Apple\", \"Banana\"};"
   ]
  },
  {
   "cell_type": "code",
   "execution_count": 25,
   "id": "c1fc3c53-6fdc-48fb-a9c7-0550f25c3c2e",
   "metadata": {},
   "outputs": [
    {
     "name": "stdout",
     "output_type": "stream",
     "text": [
      "<class 'set'> {'Apple', 'Banana'}\n"
     ]
    }
   ],
   "source": [
    "print(type(fruits), fruits);"
   ]
  },
  {
   "cell_type": "code",
   "execution_count": 26,
   "id": "2fead1ca-3cf2-40c3-9634-e901df756b33",
   "metadata": {},
   "outputs": [
    {
     "name": "stdout",
     "output_type": "stream",
     "text": [
      "2\n"
     ]
    }
   ],
   "source": [
    "print(len(fruits));"
   ]
  },
  {
   "cell_type": "markdown",
   "id": "e2336834-b19a-4a2b-aee0-e7db5fb8895b",
   "metadata": {},
   "source": [
    "Data Types - Set Items can be of any data type."
   ]
  },
  {
   "cell_type": "code",
   "execution_count": 28,
   "id": "3f9f9f88-74cd-425d-b32e-06aa6f83cd54",
   "metadata": {},
   "outputs": [],
   "source": [
    "stringSet = {\"Apple\", \"Banana\", \"Cherry\"};"
   ]
  },
  {
   "cell_type": "code",
   "execution_count": 29,
   "id": "380741d4-8e34-4f5c-ab46-1c14ac49d6d5",
   "metadata": {},
   "outputs": [
    {
     "name": "stdout",
     "output_type": "stream",
     "text": [
      "<class 'set'> 3 {'Apple', 'Cherry', 'Banana'}\n"
     ]
    }
   ],
   "source": [
    "print(type(stringSet), len(stringSet), stringSet);"
   ]
  },
  {
   "cell_type": "code",
   "execution_count": 30,
   "id": "99aaf678-1e2b-4a64-9f41-591e497e029d",
   "metadata": {},
   "outputs": [],
   "source": [
    "del stringSet;"
   ]
  },
  {
   "cell_type": "code",
   "execution_count": 31,
   "id": "60fff17e-fb9d-4c85-939b-47c2f4ca260a",
   "metadata": {},
   "outputs": [],
   "source": [
    "intSet = {24, 89, 78};"
   ]
  },
  {
   "cell_type": "code",
   "execution_count": 32,
   "id": "b42b3e3d-0b1b-40d9-a7c2-8457c6d531f7",
   "metadata": {},
   "outputs": [
    {
     "name": "stdout",
     "output_type": "stream",
     "text": [
      "<class 'set'> 3 {24, 89, 78}\n"
     ]
    }
   ],
   "source": [
    "print(type(intSet), len(intSet), intSet);"
   ]
  },
  {
   "cell_type": "code",
   "execution_count": 33,
   "id": "161a7de7-97cb-4bc2-852f-7e02ba77c3b4",
   "metadata": {},
   "outputs": [],
   "source": [
    "del intSet;"
   ]
  },
  {
   "cell_type": "code",
   "execution_count": 35,
   "id": "8a86e40c-8383-42ec-b406-d8e4a0e71d84",
   "metadata": {},
   "outputs": [],
   "source": [
    "booleanSet = {True, False, True, True};"
   ]
  },
  {
   "cell_type": "code",
   "execution_count": 36,
   "id": "ebf6d389-f35a-4e41-99e9-e8d934cfa413",
   "metadata": {},
   "outputs": [
    {
     "name": "stdout",
     "output_type": "stream",
     "text": [
      "<class 'set'> 2 {False, True}\n"
     ]
    }
   ],
   "source": [
    "print(type(booleanSet), len(booleanSet), booleanSet);"
   ]
  },
  {
   "cell_type": "code",
   "execution_count": 37,
   "id": "33728fc2-8573-43a1-92d0-d6821a6f8f94",
   "metadata": {},
   "outputs": [],
   "source": [
    "del booleanSet;"
   ]
  },
  {
   "cell_type": "code",
   "execution_count": 38,
   "id": "097735b8-76a5-45b9-8f60-8f0d7f65867c",
   "metadata": {},
   "outputs": [],
   "source": [
    "mixedSet = {\"Apple\", 24, True};"
   ]
  },
  {
   "cell_type": "code",
   "execution_count": 39,
   "id": "5af38257-7056-4171-8fa5-41e0ce6426e8",
   "metadata": {},
   "outputs": [
    {
     "name": "stdout",
     "output_type": "stream",
     "text": [
      "<class 'set'> 3 {'Apple', 24, True}\n"
     ]
    }
   ],
   "source": [
    "print(type(mixedSet), len(mixedSet), mixedSet);"
   ]
  },
  {
   "cell_type": "code",
   "execution_count": 40,
   "id": "81647ad7-3ad4-4430-8f42-b1568b9dd941",
   "metadata": {},
   "outputs": [],
   "source": [
    "del mixedSet;"
   ]
  },
  {
   "cell_type": "markdown",
   "id": "2fb75b6c-8592-4e8e-bd75-a4760a3087da",
   "metadata": {},
   "source": [
    "Set Constructor - It is possible to use the set() constructor to make set."
   ]
  },
  {
   "cell_type": "code",
   "execution_count": 41,
   "id": "6ed950e1-6eb4-4a73-bc9f-80b85b1cf94f",
   "metadata": {},
   "outputs": [],
   "source": [
    "fruits = set((\"Apple\", \"Banana\", \"Cherry\"));"
   ]
  },
  {
   "cell_type": "code",
   "execution_count": 42,
   "id": "1cc599c9-c062-42fe-aab8-61162262e3a9",
   "metadata": {},
   "outputs": [
    {
     "name": "stdout",
     "output_type": "stream",
     "text": [
      "<class 'set'> 3 {'Apple', 'Cherry', 'Banana'}\n"
     ]
    }
   ],
   "source": [
    "print(type(fruits), len(fruits), fruits);"
   ]
  },
  {
   "cell_type": "code",
   "execution_count": null,
   "id": "c5ac0327-ebb0-49b4-b4ed-d618fee1cdb8",
   "metadata": {},
   "outputs": [],
   "source": []
  }
 ],
 "metadata": {
  "kernelspec": {
   "display_name": "Python 3 (ipykernel)",
   "language": "python",
   "name": "python3"
  },
  "language_info": {
   "codemirror_mode": {
    "name": "ipython",
    "version": 3
   },
   "file_extension": ".py",
   "mimetype": "text/x-python",
   "name": "python",
   "nbconvert_exporter": "python",
   "pygments_lexer": "ipython3",
   "version": "3.11.5"
  }
 },
 "nbformat": 4,
 "nbformat_minor": 5
}
