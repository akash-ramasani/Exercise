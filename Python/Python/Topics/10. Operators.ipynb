{
 "cells": [
  {
   "cell_type": "markdown",
   "id": "88518188-ac36-4389-bd14-aa71bbd4df7f",
   "metadata": {},
   "source": [
    "Operators are used to perform operations on Variables and Values."
   ]
  },
  {
   "cell_type": "markdown",
   "id": "3cdf9c9a-b190-4c36-91b1-a7177688e37a",
   "metadata": {},
   "source": [
    "Arithmetic Operators\n",
    "\n",
    "Arithmetic Operators are used with Numeric Values to perform common Mathematical Operations."
   ]
  },
  {
   "cell_type": "code",
   "execution_count": 1,
   "id": "d1eff55a-2c3d-4548-a67b-c1aca8cffc5b",
   "metadata": {},
   "outputs": [],
   "source": [
    "firstNumber, secondNumber = 45, 77;"
   ]
  },
  {
   "cell_type": "code",
   "execution_count": 8,
   "id": "0e794156-835a-4189-80c0-4e2f728022c6",
   "metadata": {},
   "outputs": [
    {
     "name": "stdout",
     "output_type": "stream",
     "text": [
      "Addition value of 45 and 77 is 122.\n"
     ]
    }
   ],
   "source": [
    "print(\"Addition value of {} and {} is {}.\".format(firstNumber, secondNumber, firstNumber+secondNumber));"
   ]
  },
  {
   "cell_type": "code",
   "execution_count": 9,
   "id": "845ff41a-4914-44c1-ae83-74ff3f46ec7d",
   "metadata": {},
   "outputs": [
    {
     "name": "stdout",
     "output_type": "stream",
     "text": [
      "Subtraction value of 45 and 77 is -32.\n"
     ]
    }
   ],
   "source": [
    "print(\"Subtraction value of {} and {} is {}.\".format(firstNumber, secondNumber, firstNumber-secondNumber));"
   ]
  },
  {
   "cell_type": "code",
   "execution_count": 10,
   "id": "6fb74c49-e8e7-4b62-b558-25fcaacb2f1b",
   "metadata": {},
   "outputs": [
    {
     "name": "stdout",
     "output_type": "stream",
     "text": [
      "Mulitiplied value of 45 and 77 is 3465.\n"
     ]
    }
   ],
   "source": [
    "print(\"Mulitiplied value of {} and {} is {}.\".format(firstNumber, secondNumber, firstNumber*secondNumber));"
   ]
  },
  {
   "cell_type": "code",
   "execution_count": 11,
   "id": "4fe77629-6079-48e1-ae04-0f224b0f9d39",
   "metadata": {},
   "outputs": [
    {
     "name": "stdout",
     "output_type": "stream",
     "text": [
      "Divison value of 45 and 77 is 0.5844155844155844.\n"
     ]
    }
   ],
   "source": [
    "print(\"Divison value of {} and {} is {}.\".format(firstNumber, secondNumber, firstNumber/secondNumber));"
   ]
  },
  {
   "cell_type": "code",
   "execution_count": 12,
   "id": "acb80568-1aec-4374-b421-6d37e5d58666",
   "metadata": {},
   "outputs": [
    {
     "name": "stdout",
     "output_type": "stream",
     "text": [
      "Reminder after the division operation is performed on 45 and 77 is 45.\n"
     ]
    }
   ],
   "source": [
    "print(\"Reminder after the division operation is performed on {} and {} is {}.\".format(firstNumber, secondNumber, firstNumber%secondNumber));"
   ]
  },
  {
   "cell_type": "code",
   "execution_count": 13,
   "id": "d7eeee95-c4bf-4ca2-91a0-ee3cd81393f6",
   "metadata": {},
   "outputs": [],
   "source": [
    "base, power = 2, 3;"
   ]
  },
  {
   "cell_type": "code",
   "execution_count": 16,
   "id": "c3af9815-9023-4045-832d-d815dc394c91",
   "metadata": {},
   "outputs": [
    {
     "name": "stdout",
     "output_type": "stream",
     "text": [
      "Exponentiation value of 2 and 3 is 8.\n"
     ]
    }
   ],
   "source": [
    "print(\"Exponentiation value of {} and {} is {}.\".format(base, power, base**power)); ##It is same as 2 * 2 * 2;"
   ]
  },
  {
   "cell_type": "code",
   "execution_count": 17,
   "id": "93e1863e-8253-4302-94a8-cc3063d48845",
   "metadata": {},
   "outputs": [],
   "source": [
    "firstNumber, secondNumber = 100, 3;"
   ]
  },
  {
   "cell_type": "code",
   "execution_count": 18,
   "id": "9ea4550b-ed08-4869-bd81-b67252b5c2e2",
   "metadata": {},
   "outputs": [
    {
     "name": "stdout",
     "output_type": "stream",
     "text": [
      "Floor Division value of 100 and 3 is 33.\n"
     ]
    }
   ],
   "source": [
    "print(\"Floor Division value of {} and {} is {}.\".format(firstNumber, secondNumber, firstNumber // secondNumber));"
   ]
  },
  {
   "cell_type": "markdown",
   "id": "3d2dc3e5-3a16-4aa0-9a61-93c5209cd42a",
   "metadata": {},
   "source": [
    "Assignment Operators are used to assign values to variables."
   ]
  },
  {
   "cell_type": "code",
   "execution_count": null,
   "id": "b54b7ca3-b981-496f-a106-fbe53eb32df1",
   "metadata": {},
   "outputs": [],
   "source": []
  }
 ],
 "metadata": {
  "kernelspec": {
   "display_name": "Python 3 (ipykernel)",
   "language": "python",
   "name": "python3"
  },
  "language_info": {
   "codemirror_mode": {
    "name": "ipython",
    "version": 3
   },
   "file_extension": ".py",
   "mimetype": "text/x-python",
   "name": "python",
   "nbconvert_exporter": "python",
   "pygments_lexer": "ipython3",
   "version": "3.11.6"
  }
 },
 "nbformat": 4,
 "nbformat_minor": 5
}
