{
 "cells": [
  {
   "cell_type": "code",
   "execution_count": 9,
   "id": "c13c22c8-9428-46aa-861c-9fefd3c2ecba",
   "metadata": {},
   "outputs": [
    {
     "name": "stdout",
     "output_type": "stream",
     "text": [
      "Renamed 'TOAS_19307_Time_Series_47_0554_8.txt' to 'PJTSAU_0554_8.txt'\n",
      "Renamed 'TOAS_19307_Time_Series_47_74848.txt' to 'PJTSAU_74848.txt'\n"
     ]
    }
   ],
   "source": [
    "import os\n",
    "\n",
    "def rename_files(folder_path):\n",
    "    for filename in os.listdir(folder_path):\n",
    "        if filename.endswith(\".txt\"):\n",
    "            old_filepath = os.path.join(folder_path, filename)\n",
    "            new_filename = filename.replace(\"TOAS_19307_Time_Series_47_\", \"PJTSAU_\")\n",
    "            new_filepath = os.path.join(folder_path, new_filename)\n",
    "\n",
    "            os.rename(old_filepath, new_filepath)\n",
    "            print(f\"Renamed '{filename}' to '{new_filename}'\")\n",
    "\n",
    "folder_path = \"C:\\\\Users\\\\PC-14\\\\Desktop\\\\Something\"\n",
    "\n",
    "rename_files(folder_path)"
   ]
  }
 ],
 "metadata": {
  "kernelspec": {
   "display_name": "Python 3 (ipykernel)",
   "language": "python",
   "name": "python3"
  },
  "language_info": {
   "codemirror_mode": {
    "name": "ipython",
    "version": 3
   },
   "file_extension": ".py",
   "mimetype": "text/x-python",
   "name": "python",
   "nbconvert_exporter": "python",
   "pygments_lexer": "ipython3",
   "version": "3.11.6"
  }
 },
 "nbformat": 4,
 "nbformat_minor": 5
}
