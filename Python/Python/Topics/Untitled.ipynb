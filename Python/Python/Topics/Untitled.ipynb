{
 "cells": [
  {
   "cell_type": "code",
   "execution_count": 11,
   "id": "5633bcad-320d-461b-ab05-68ab96a56c5d",
   "metadata": {},
   "outputs": [
    {
     "name": "stderr",
     "output_type": "stream",
     "text": [
      "C:\\Users\\PC-14\\AppData\\Local\\Temp\\ipykernel_8544\\1168181493.py:18: DtypeWarning: Columns (16) have mixed types. Specify dtype option on import or set low_memory=False.\n",
      "  data = pd.read_csv(source_file_path, skiprows=4)\n"
     ]
    }
   ],
   "source": [
    "import os\n",
    "import pandas as pd\n",
    "\n",
    "# Source folder path\n",
    "source_folder_path = r\"C:\\Users\\PC-14\\Desktop\\temp\"\n",
    "\n",
    "# Destination folder path\n",
    "destination_folder_path = r\"C:\\Users\\PC-14\\Desktop\\test\"\n",
    "\n",
    "# Get list of .dat files in the source folder\n",
    "dat_files = [file for file in os.listdir(source_folder_path) if file.endswith('.dat')]\n",
    "\n",
    "# Loop through each .dat file\n",
    "for file in dat_files:\n",
    "    source_file_path = os.path.join(source_folder_path, file)\n",
    "    \n",
    "    # Read the data into a DataFrame skipping the first 4 rows and the first column\n",
    "    data = pd.read_csv(source_file_path, skiprows=4)\n",
    "    data = data.iloc[:, 1:]  # Exclude the first column\n",
    "    \n",
    "    # Save the modified DataFrame to the destination folder with .dat extension\n",
    "    destination_file_path = os.path.join(destination_folder_path, os.path.splitext(file)[0] + '_modified.dat')\n",
    "    data.to_csv(destination_file_path, index=False, sep='\\t')"
   ]
  },
  {
   "cell_type": "code",
   "execution_count": 15,
   "id": "46d8039e-60ab-41fe-a318-f9c6dba19ecd",
   "metadata": {},
   "outputs": [
    {
     "name": "stdout",
     "output_type": "stream",
     "text": [
      "Renamed PJTSAU_PJTSAU_2023-01-01_0030.dat to PJTSAU_2023-01-01_0030.dat\n",
      "Renamed PJTSAU_PJTSAU_2023-01-01_0100.dat to PJTSAU_2023-01-01_0100.dat\n",
      "Renamed PJTSAU_PJTSAU_2023-01-01_0130.dat to PJTSAU_2023-01-01_0130.dat\n",
      "Renamed PJTSAU_PJTSAU_2023-01-01_0200.dat to PJTSAU_2023-01-01_0200.dat\n",
      "Renamed PJTSAU_PJTSAU_2023-01-01_0230.dat to PJTSAU_2023-01-01_0230.dat\n",
      "Renamed PJTSAU_PJTSAU_2023-01-01_0300.dat to PJTSAU_2023-01-01_0300.dat\n",
      "Renamed PJTSAU_PJTSAU_2023-01-01_0330.dat to PJTSAU_2023-01-01_0330.dat\n",
      "Renamed PJTSAU_PJTSAU_2023-01-01_0400.dat to PJTSAU_2023-01-01_0400.dat\n",
      "Renamed PJTSAU_PJTSAU_2023-01-01_0430.dat to PJTSAU_2023-01-01_0430.dat\n",
      "Renamed PJTSAU_PJTSAU_2023-01-01_0500.dat to PJTSAU_2023-01-01_0500.dat\n",
      "Renamed PJTSAU_PJTSAU_2023-01-01_0530.dat to PJTSAU_2023-01-01_0530.dat\n",
      "Renamed PJTSAU_PJTSAU_2023-01-01_0600.dat to PJTSAU_2023-01-01_0600.dat\n",
      "Renamed PJTSAU_PJTSAU_2023-01-01_0630.dat to PJTSAU_2023-01-01_0630.dat\n",
      "Renamed PJTSAU_PJTSAU_2023-01-01_0700.dat to PJTSAU_2023-01-01_0700.dat\n",
      "Renamed PJTSAU_PJTSAU_2023-01-01_0730.dat to PJTSAU_2023-01-01_0730.dat\n",
      "Renamed PJTSAU_PJTSAU_2023-01-01_0800.dat to PJTSAU_2023-01-01_0800.dat\n",
      "Renamed PJTSAU_PJTSAU_2023-01-01_0830.dat to PJTSAU_2023-01-01_0830.dat\n",
      "Renamed PJTSAU_PJTSAU_2023-01-01_0900.dat to PJTSAU_2023-01-01_0900.dat\n",
      "Renamed PJTSAU_PJTSAU_2023-01-01_0930.dat to PJTSAU_2023-01-01_0930.dat\n",
      "Renamed PJTSAU_PJTSAU_2023-01-01_1000.dat to PJTSAU_2023-01-01_1000.dat\n",
      "Renamed PJTSAU_PJTSAU_2023-01-01_1030.dat to PJTSAU_2023-01-01_1030.dat\n",
      "Renamed PJTSAU_PJTSAU_2023-01-01_1100.dat to PJTSAU_2023-01-01_1100.dat\n",
      "Renamed PJTSAU_PJTSAU_2023-01-01_1130.dat to PJTSAU_2023-01-01_1130.dat\n",
      "Renamed PJTSAU_PJTSAU_2023-01-01_1200.dat to PJTSAU_2023-01-01_1200.dat\n",
      "Renamed PJTSAU_PJTSAU_2023-01-01_1230.dat to PJTSAU_2023-01-01_1230.dat\n",
      "Renamed PJTSAU_PJTSAU_2023-01-01_1300.dat to PJTSAU_2023-01-01_1300.dat\n",
      "Renamed PJTSAU_PJTSAU_2023-01-01_1330.dat to PJTSAU_2023-01-01_1330.dat\n",
      "Renamed PJTSAU_PJTSAU_2023-01-01_1400.dat to PJTSAU_2023-01-01_1400.dat\n",
      "Renamed PJTSAU_PJTSAU_2023-01-01_1430.dat to PJTSAU_2023-01-01_1430.dat\n",
      "Renamed PJTSAU_PJTSAU_2023-01-01_1500.dat to PJTSAU_2023-01-01_1500.dat\n",
      "Renamed PJTSAU_PJTSAU_2023-01-01_1530.dat to PJTSAU_2023-01-01_1530.dat\n",
      "Renamed PJTSAU_PJTSAU_2023-01-01_1600.dat to PJTSAU_2023-01-01_1600.dat\n",
      "Renamed PJTSAU_PJTSAU_2023-01-01_1630.dat to PJTSAU_2023-01-01_1630.dat\n",
      "Renamed PJTSAU_PJTSAU_2023-01-01_1700.dat to PJTSAU_2023-01-01_1700.dat\n",
      "Renamed PJTSAU_PJTSAU_2023-01-01_1730.dat to PJTSAU_2023-01-01_1730.dat\n",
      "Renamed PJTSAU_PJTSAU_2023-01-01_1800.dat to PJTSAU_2023-01-01_1800.dat\n",
      "Renamed PJTSAU_PJTSAU_2023-01-01_1830.dat to PJTSAU_2023-01-01_1830.dat\n",
      "Renamed PJTSAU_PJTSAU_2023-01-01_1900.dat to PJTSAU_2023-01-01_1900.dat\n",
      "Renamed PJTSAU_PJTSAU_2023-01-01_1930.dat to PJTSAU_2023-01-01_1930.dat\n",
      "Renamed PJTSAU_PJTSAU_2023-01-01_2000.dat to PJTSAU_2023-01-01_2000.dat\n",
      "Renamed PJTSAU_PJTSAU_2023-01-01_2030.dat to PJTSAU_2023-01-01_2030.dat\n",
      "Renamed PJTSAU_PJTSAU_2023-01-01_2100.dat to PJTSAU_2023-01-01_2100.dat\n",
      "Renamed PJTSAU_PJTSAU_2023-01-01_2130.dat to PJTSAU_2023-01-01_2130.dat\n",
      "Renamed PJTSAU_PJTSAU_2023-01-01_2200.dat to PJTSAU_2023-01-01_2200.dat\n",
      "Renamed PJTSAU_PJTSAU_2023-01-01_2230.dat to PJTSAU_2023-01-01_2230.dat\n",
      "Renamed PJTSAU_PJTSAU_2023-01-01_2300.dat to PJTSAU_2023-01-01_2300.dat\n",
      "Renamed PJTSAU_PJTSAU_2023-01-01_2330.dat to PJTSAU_2023-01-01_2330.dat\n"
     ]
    }
   ],
   "source": [
    "import os\n",
    "\n",
    "def remove_modified(directory):\n",
    "    files = os.listdir(directory)\n",
    "    \n",
    "    for filename in files:\n",
    "        if \"PJTSAU_PJTSAU_\" in filename:\n",
    "            new_filename = filename.replace(\"PJTSAU_PJTSAU_\", \"PJTSAU_\")\n",
    "            \n",
    "            # Rename the file\n",
    "            os.rename(os.path.join(directory, filename), os.path.join(directory, new_filename))\n",
    "            print(f\"Renamed {filename} to {new_filename}\")\n",
    "\n",
    "# Specify the directory containing the files\n",
    "directory_path = r\"C:\\Users\\PC-14\\Desktop\\test\"\n",
    "\n",
    "remove_modified(directory_path)"
   ]
  },
  {
   "cell_type": "code",
   "execution_count": null,
   "id": "6df7c999-71f3-4703-a303-c40d17bcef0c",
   "metadata": {},
   "outputs": [],
   "source": [
    "import os\n",
    "import pandas as pd\n",
    "\n",
    "# Source folder containing all folders with .dat files\n",
    "source_parent_folder = r\"C:\\Users\\PC-14\\Desktop\\parent_folder\"\n",
    "\n",
    "# Destination folder for saving modified files\n",
    "destination_parent_folder = r\"C:\\Users\\PC-14\\Desktop\\modified_parent_folder\"\n",
    "\n",
    "# Iterate through each folder in the source parent folder\n",
    "for folder_name in os.listdir(source_parent_folder):\n",
    "    # Construct full paths for source and destination folders\n",
    "    source_folder_path = os.path.join(source_parent_folder, folder_name)\n",
    "    destination_folder_path = os.path.join(destination_parent_folder, folder_name)\n",
    "    \n",
    "    # Create destination folder if it doesn't exist\n",
    "    if not os.path.exists(destination_folder_path):\n",
    "        os.makedirs(destination_folder_path)\n",
    "    \n",
    "    # Get list of .dat files in the source folder\n",
    "    dat_files = [file for file in os.listdir(source_folder_path) if file.endswith('.dat')]\n",
    "    \n",
    "    # Loop through each .dat file\n",
    "    for file in dat_files:\n",
    "        source_file_path = os.path.join(source_folder_path, file)\n",
    "        \n",
    "        # Read the data into a DataFrame skipping the first 4 rows and the first column\n",
    "        data = pd.read_csv(source_file_path, skiprows=4)\n",
    "        data = data.iloc[:, 1:]  # Exclude the first column\n",
    "        \n",
    "        # Save the modified DataFrame to the destination folder with .dat extension\n",
    "        destination_file_path = os.path.join(destination_folder_path, os.path.splitext(file)[0] + '_modified.dat')\n",
    "        data.to_csv(destination_file_path, index=False, sep='\\t')"
   ]
  }
 ],
 "metadata": {
  "kernelspec": {
   "display_name": "Python 3 (ipykernel)",
   "language": "python",
   "name": "python3"
  },
  "language_info": {
   "codemirror_mode": {
    "name": "ipython",
    "version": 3
   },
   "file_extension": ".py",
   "mimetype": "text/x-python",
   "name": "python",
   "nbconvert_exporter": "python",
   "pygments_lexer": "ipython3",
   "version": "3.11.6"
  }
 },
 "nbformat": 4,
 "nbformat_minor": 5
}
