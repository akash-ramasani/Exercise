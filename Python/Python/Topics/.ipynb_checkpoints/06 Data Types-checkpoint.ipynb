{
 "cells": [
  {
   "cell_type": "markdown",
   "id": "567fe313-b2e5-41a2-9aef-44c4a8cf3807",
   "metadata": {},
   "source": [
    "String"
   ]
  },
  {
   "cell_type": "code",
   "execution_count": 1,
   "id": "6388d6ff-6ee7-40f4-8f98-2ca30cdb4141",
   "metadata": {},
   "outputs": [],
   "source": [
    "firstName = \"Akash\";"
   ]
  },
  {
   "cell_type": "code",
   "execution_count": 2,
   "id": "098b1651-017d-4da4-b5e2-108710604b5c",
   "metadata": {},
   "outputs": [
    {
     "name": "stdout",
     "output_type": "stream",
     "text": [
      "Akash\n"
     ]
    }
   ],
   "source": [
    "print(firstName);"
   ]
  },
  {
   "cell_type": "code",
   "execution_count": 3,
   "id": "7d665546-69e9-425e-99c9-d23600cc2ed0",
   "metadata": {},
   "outputs": [
    {
     "name": "stdout",
     "output_type": "stream",
     "text": [
      "<class 'str'>\n"
     ]
    }
   ],
   "source": [
    "print(type(firstName));"
   ]
  },
  {
   "cell_type": "markdown",
   "id": "17cf5909-49d7-457c-944c-0e279151e500",
   "metadata": {},
   "source": [
    "Numeric Types - Int"
   ]
  },
  {
   "cell_type": "code",
   "execution_count": 4,
   "id": "e5d70b98-a8b4-42a7-8d06-9ff481b29620",
   "metadata": {},
   "outputs": [],
   "source": [
    "age = 22;"
   ]
  },
  {
   "cell_type": "code",
   "execution_count": 5,
   "id": "6cd29621-574b-4c27-99ea-f2cc1094994d",
   "metadata": {},
   "outputs": [
    {
     "name": "stdout",
     "output_type": "stream",
     "text": [
      "22\n"
     ]
    }
   ],
   "source": [
    "print(age);"
   ]
  },
  {
   "cell_type": "code",
   "execution_count": 6,
   "id": "83cdcc5b-3efe-4e85-8da6-d0ad4574cc02",
   "metadata": {},
   "outputs": [
    {
     "name": "stdout",
     "output_type": "stream",
     "text": [
      "<class 'int'>\n"
     ]
    }
   ],
   "source": [
    "print(type(age));"
   ]
  },
  {
   "cell_type": "markdown",
   "id": "1ef6c557-d171-4046-afaa-429c213efefa",
   "metadata": {},
   "source": [
    "Numeric Types - Float"
   ]
  },
  {
   "cell_type": "code",
   "execution_count": 8,
   "id": "ef46e057-64d2-4209-89b2-dd412e2850b8",
   "metadata": {},
   "outputs": [],
   "source": [
    "value = 85.6;"
   ]
  },
  {
   "cell_type": "code",
   "execution_count": 9,
   "id": "f63590ac-68af-4cc1-856f-6ccb0daf11b4",
   "metadata": {},
   "outputs": [
    {
     "name": "stdout",
     "output_type": "stream",
     "text": [
      "85.6\n"
     ]
    }
   ],
   "source": [
    "print(value);"
   ]
  },
  {
   "cell_type": "code",
   "execution_count": 10,
   "id": "7b38430e-1ee2-40f7-be92-ca286acbad52",
   "metadata": {},
   "outputs": [
    {
     "name": "stdout",
     "output_type": "stream",
     "text": [
      "<class 'float'>\n"
     ]
    }
   ],
   "source": [
    "print(type(value));"
   ]
  },
  {
   "cell_type": "markdown",
   "id": "ffa32d98-bc5b-4259-8ac7-51e653c723d6",
   "metadata": {},
   "source": [
    "Numeric Types - Complex"
   ]
  },
  {
   "cell_type": "code",
   "execution_count": 12,
   "id": "716f6869-7757-48e1-808a-d2c85c578248",
   "metadata": {},
   "outputs": [],
   "source": [
    "complex = 7j;"
   ]
  },
  {
   "cell_type": "code",
   "execution_count": 13,
   "id": "f4fe58ab-4019-4363-9820-8bce7e5c0c42",
   "metadata": {},
   "outputs": [
    {
     "name": "stdout",
     "output_type": "stream",
     "text": [
      "7j\n"
     ]
    }
   ],
   "source": [
    "print(complex);"
   ]
  },
  {
   "cell_type": "code",
   "execution_count": 14,
   "id": "9d83378d-693a-45b0-9bad-22b12a268487",
   "metadata": {},
   "outputs": [
    {
     "name": "stdout",
     "output_type": "stream",
     "text": [
      "<class 'complex'>\n"
     ]
    }
   ],
   "source": [
    "print(type(complex));"
   ]
  },
  {
   "cell_type": "markdown",
   "id": "d4c63ec8-12e2-4b43-87f7-b43af5e9884a",
   "metadata": {},
   "source": [
    "Sequence Types - List"
   ]
  },
  {
   "cell_type": "code",
   "execution_count": 15,
   "id": "771ef405-15c8-4d91-9d94-bbcecfa9e583",
   "metadata": {},
   "outputs": [],
   "source": [
    "fruits = [\"Apple\", \"Banana\", \"Cherry\"];"
   ]
  },
  {
   "cell_type": "code",
   "execution_count": 16,
   "id": "f38278cf-9a91-428a-91c5-cfc8a9a32f0f",
   "metadata": {},
   "outputs": [
    {
     "name": "stdout",
     "output_type": "stream",
     "text": [
      "['Apple', 'Banana', 'Cherry']\n"
     ]
    }
   ],
   "source": [
    "print(fruits);"
   ]
  },
  {
   "cell_type": "code",
   "execution_count": 17,
   "id": "71c7c162-f4fb-43bb-bc1b-d6d383890e90",
   "metadata": {},
   "outputs": [
    {
     "name": "stdout",
     "output_type": "stream",
     "text": [
      "<class 'list'>\n"
     ]
    }
   ],
   "source": [
    "print(type(fruits));"
   ]
  },
  {
   "cell_type": "markdown",
   "id": "8d552836-32b9-4fee-8cad-02b1cf9424a8",
   "metadata": {},
   "source": [
    "Sequence Types - Tuple"
   ]
  },
  {
   "cell_type": "code",
   "execution_count": 18,
   "id": "8d7a26f1-ea8e-4235-a28c-d1e194f01d75",
   "metadata": {},
   "outputs": [],
   "source": [
    "fruits = (\"Apple\", \"Banana\", \"Cherry\");"
   ]
  },
  {
   "cell_type": "code",
   "execution_count": 19,
   "id": "18db28fb-3110-41b3-935f-580a01d461ae",
   "metadata": {},
   "outputs": [
    {
     "name": "stdout",
     "output_type": "stream",
     "text": [
      "('Apple', 'Banana', 'Cherry')\n"
     ]
    }
   ],
   "source": [
    "print(fruits);"
   ]
  },
  {
   "cell_type": "code",
   "execution_count": 20,
   "id": "df70867d-9939-462e-9acb-6802622186f5",
   "metadata": {},
   "outputs": [
    {
     "name": "stdout",
     "output_type": "stream",
     "text": [
      "<class 'tuple'>\n"
     ]
    }
   ],
   "source": [
    "print(type(fruits));"
   ]
  },
  {
   "cell_type": "markdown",
   "id": "03f092ac-db57-4389-ba52-6b56c99c6099",
   "metadata": {},
   "source": [
    "Sequence Types - Range"
   ]
  },
  {
   "cell_type": "code",
   "execution_count": 22,
   "id": "41327b8c-6054-48c8-94b0-336e3cf2e383",
   "metadata": {},
   "outputs": [],
   "source": [
    "num = range(6);"
   ]
  },
  {
   "cell_type": "code",
   "execution_count": 23,
   "id": "1b9ba459-e5fb-438a-91e6-7e2bbcc685f6",
   "metadata": {},
   "outputs": [
    {
     "name": "stdout",
     "output_type": "stream",
     "text": [
      "range(0, 6)\n"
     ]
    }
   ],
   "source": [
    "print(num);"
   ]
  },
  {
   "cell_type": "code",
   "execution_count": 24,
   "id": "0ddf1b8c-e111-4f07-896c-2ac516fdf6a0",
   "metadata": {},
   "outputs": [
    {
     "name": "stdout",
     "output_type": "stream",
     "text": [
      "<class 'type'>\n"
     ]
    }
   ],
   "source": [
    "print(type(range));"
   ]
  },
  {
   "cell_type": "markdown",
   "id": "1fb9d96d-a532-4a3f-967e-348362b9a4ef",
   "metadata": {},
   "source": [
    "Mapping Type - Dict"
   ]
  },
  {
   "cell_type": "code",
   "execution_count": 26,
   "id": "c58acdc2-f4f3-4d21-bbad-179115a332dc",
   "metadata": {},
   "outputs": [],
   "source": [
    "profile = {\"firstName\" : \"Akash\", \"middleName\": \"\", \"lastName\": \"Ramasani\", \"bornYear\": 2001};"
   ]
  },
  {
   "cell_type": "code",
   "execution_count": 27,
   "id": "924b781e-0f0a-44d0-8246-5b05716821d8",
   "metadata": {},
   "outputs": [
    {
     "name": "stdout",
     "output_type": "stream",
     "text": [
      "{'firstName': 'Akash', 'middleName': '', 'lastName': 'Ramasani', 'bornYear': 2001}\n"
     ]
    }
   ],
   "source": [
    "print(profile);"
   ]
  },
  {
   "cell_type": "code",
   "execution_count": 30,
   "id": "9732e439-17e0-4df4-8e3c-82a0c0c258f9",
   "metadata": {},
   "outputs": [
    {
     "name": "stdout",
     "output_type": "stream",
     "text": [
      "<class 'dict'>\n"
     ]
    }
   ],
   "source": [
    "print(type(profile));"
   ]
  },
  {
   "cell_type": "markdown",
   "id": "c5d6589b-193a-41ea-b4dc-2cd31537ccb1",
   "metadata": {},
   "source": [
    "Set Types - Set"
   ]
  },
  {
   "cell_type": "code",
   "execution_count": 33,
   "id": "0e0b5c2f-a730-4c30-856e-8fd1ea14cc0d",
   "metadata": {},
   "outputs": [],
   "source": [
    "name = {\"Akash\", \"Ramasani\"};"
   ]
  },
  {
   "cell_type": "code",
   "execution_count": 34,
   "id": "62c4fadf-4559-47b9-bea8-f9ee58fa2eab",
   "metadata": {},
   "outputs": [
    {
     "name": "stdout",
     "output_type": "stream",
     "text": [
      "{'Akash', 'Ramasani'}\n"
     ]
    }
   ],
   "source": [
    "print(name);"
   ]
  },
  {
   "cell_type": "code",
   "execution_count": 35,
   "id": "b746e025-d7d2-463e-9a1a-e64525ba5f14",
   "metadata": {},
   "outputs": [
    {
     "name": "stdout",
     "output_type": "stream",
     "text": [
      "<class 'set'>\n"
     ]
    }
   ],
   "source": [
    "print(type(name));"
   ]
  },
  {
   "cell_type": "markdown",
   "id": "b072ce44-1546-466b-8482-cfdb420581d5",
   "metadata": {},
   "source": [
    "Set Types - Frozenset"
   ]
  },
  {
   "cell_type": "code",
   "execution_count": 37,
   "id": "38955d9c-6284-43be-b5f3-807c50540232",
   "metadata": {},
   "outputs": [],
   "source": [
    "fruits = frozenset({\"apple\", \"banana\", \"cherry\"})"
   ]
  },
  {
   "cell_type": "code",
   "execution_count": 39,
   "id": "d6c89002-01a7-4328-9fb0-5f573cf9afbb",
   "metadata": {},
   "outputs": [
    {
     "name": "stdout",
     "output_type": "stream",
     "text": [
      "frozenset({'banana', 'apple', 'cherry'})\n"
     ]
    }
   ],
   "source": [
    "print(fruits);"
   ]
  },
  {
   "cell_type": "code",
   "execution_count": 38,
   "id": "f79e27e1-32b6-423d-bdb5-45892823699c",
   "metadata": {},
   "outputs": [
    {
     "name": "stdout",
     "output_type": "stream",
     "text": [
      "<class 'frozenset'>\n"
     ]
    }
   ],
   "source": [
    "print(type(fruits));"
   ]
  },
  {
   "cell_type": "markdown",
   "id": "3058622f-ddb7-449a-b522-36ae0a77c8e1",
   "metadata": {},
   "source": [
    "Boolean Type - bool"
   ]
  },
  {
   "cell_type": "code",
   "execution_count": 41,
   "id": "08fa7b58-1224-4808-af89-e8723ce17050",
   "metadata": {},
   "outputs": [],
   "source": [
    "emailVerified = True;"
   ]
  },
  {
   "cell_type": "code",
   "execution_count": 42,
   "id": "51053ae7-4ac0-4669-a1f7-f5ae7a4558d8",
   "metadata": {},
   "outputs": [
    {
     "name": "stdout",
     "output_type": "stream",
     "text": [
      "True\n"
     ]
    }
   ],
   "source": [
    "print(emailVerified);"
   ]
  },
  {
   "cell_type": "code",
   "execution_count": 43,
   "id": "58a75cc7-ad4d-4c1b-923e-138653f4df5e",
   "metadata": {},
   "outputs": [
    {
     "name": "stdout",
     "output_type": "stream",
     "text": [
      "<class 'bool'>\n"
     ]
    }
   ],
   "source": [
    "print(type(emailVerified));"
   ]
  }
 ],
 "metadata": {
  "kernelspec": {
   "display_name": "Python 3 (ipykernel)",
   "language": "python",
   "name": "python3"
  },
  "language_info": {
   "codemirror_mode": {
    "name": "ipython",
    "version": 3
   },
   "file_extension": ".py",
   "mimetype": "text/x-python",
   "name": "python",
   "nbconvert_exporter": "python",
   "pygments_lexer": "ipython3",
   "version": "3.11.6"
  }
 },
 "nbformat": 4,
 "nbformat_minor": 5
}
