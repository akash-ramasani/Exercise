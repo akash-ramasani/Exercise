{
 "cells": [
  {
   "cell_type": "code",
   "execution_count": 1,
   "id": "11dbafc6-fe7f-4c84-b72d-8fb3be155691",
   "metadata": {},
   "outputs": [],
   "source": [
    "def firstFunction():\n",
    "    print(\"First function called.\")"
   ]
  },
  {
   "cell_type": "code",
   "execution_count": 2,
   "id": "f906d5cd-d62e-409b-9eda-731ba457aef4",
   "metadata": {},
   "outputs": [
    {
     "name": "stdout",
     "output_type": "stream",
     "text": [
      "First function called.\n"
     ]
    }
   ],
   "source": [
    "firstFunction()"
   ]
  },
  {
   "cell_type": "code",
   "execution_count": 3,
   "id": "5abb1193-6cee-407e-b9ea-b7a9a044929d",
   "metadata": {},
   "outputs": [
    {
     "name": "stdout",
     "output_type": "stream",
     "text": [
      "First function called.\n"
     ]
    }
   ],
   "source": [
    "firstFunction();"
   ]
  },
  {
   "cell_type": "code",
   "execution_count": 4,
   "id": "b4697543-2172-4709-9428-d9b8857a8b17",
   "metadata": {},
   "outputs": [],
   "source": [
    "def firstFunction():\n",
    "    print(\"First function called.\");"
   ]
  },
  {
   "cell_type": "code",
   "execution_count": 5,
   "id": "04f11984-2765-4c72-8ead-15727b1aa15c",
   "metadata": {},
   "outputs": [
    {
     "name": "stdout",
     "output_type": "stream",
     "text": [
      "First function called.\n"
     ]
    }
   ],
   "source": [
    "firstFunction()"
   ]
  },
  {
   "cell_type": "code",
   "execution_count": 6,
   "id": "979c0627-34d0-4409-a7bf-03a5b87fef8a",
   "metadata": {},
   "outputs": [
    {
     "name": "stdout",
     "output_type": "stream",
     "text": [
      "First function called.\n"
     ]
    }
   ],
   "source": [
    "firstFunction();"
   ]
  },
  {
   "cell_type": "code",
   "execution_count": 7,
   "id": "4a1176ee-6afc-4eb7-a968-97bcfda81508",
   "metadata": {},
   "outputs": [],
   "source": [
    "def greeting(firstName):\n",
    "    print(\"Hello, \" + firstName + \".\")"
   ]
  },
  {
   "cell_type": "code",
   "execution_count": 8,
   "id": "83a1b720-6fc3-4bae-a56c-e4c6f5b42301",
   "metadata": {},
   "outputs": [
    {
     "ename": "TypeError",
     "evalue": "greeting() takes 1 positional argument but 2 were given",
     "output_type": "error",
     "traceback": [
      "\u001b[1;31m---------------------------------------------------------------------------\u001b[0m",
      "\u001b[1;31mTypeError\u001b[0m                                 Traceback (most recent call last)",
      "Cell \u001b[1;32mIn[8], line 1\u001b[0m\n\u001b[1;32m----> 1\u001b[0m \u001b[43mgreeting\u001b[49m\u001b[43m(\u001b[49m\u001b[38;5;124;43m'\u001b[39;49m\u001b[38;5;124;43mAkash\u001b[39;49m\u001b[38;5;124;43m'\u001b[39;49m\u001b[43m,\u001b[49m\u001b[43m \u001b[49m\u001b[38;5;124;43m'\u001b[39;49m\u001b[38;5;124;43mRamasani\u001b[39;49m\u001b[38;5;124;43m'\u001b[39;49m\u001b[43m)\u001b[49m\n",
      "\u001b[1;31mTypeError\u001b[0m: greeting() takes 1 positional argument but 2 were given"
     ]
    }
   ],
   "source": [
    "greeting('Akash', 'Ramasani')"
   ]
  },
  {
   "cell_type": "code",
   "execution_count": 9,
   "id": "f024539d-bfba-471b-9481-423a7f2325bf",
   "metadata": {},
   "outputs": [
    {
     "ename": "TypeError",
     "evalue": "greeting() takes 1 positional argument but 2 were given",
     "output_type": "error",
     "traceback": [
      "\u001b[1;31m---------------------------------------------------------------------------\u001b[0m",
      "\u001b[1;31mTypeError\u001b[0m                                 Traceback (most recent call last)",
      "Cell \u001b[1;32mIn[9], line 1\u001b[0m\n\u001b[1;32m----> 1\u001b[0m \u001b[43mgreeting\u001b[49m\u001b[43m(\u001b[49m\u001b[38;5;124;43m\"\u001b[39;49m\u001b[38;5;124;43mAkash\u001b[39;49m\u001b[38;5;124;43m\"\u001b[39;49m\u001b[43m,\u001b[49m\u001b[43m \u001b[49m\u001b[38;5;124;43m\"\u001b[39;49m\u001b[38;5;124;43mRamasani\u001b[39;49m\u001b[38;5;124;43m\"\u001b[39;49m\u001b[43m)\u001b[49m\n",
      "\u001b[1;31mTypeError\u001b[0m: greeting() takes 1 positional argument but 2 were given"
     ]
    }
   ],
   "source": [
    "greeting(\"Akash\", \"Ramasani\")"
   ]
  },
  {
   "cell_type": "code",
   "execution_count": 10,
   "id": "a4176b3a-5f7c-4d00-9e04-ab9a116a7b44",
   "metadata": {},
   "outputs": [
    {
     "name": "stdout",
     "output_type": "stream",
     "text": [
      "Hello, Akash.\n"
     ]
    }
   ],
   "source": [
    "greeting('Akash')"
   ]
  },
  {
   "cell_type": "code",
   "execution_count": 11,
   "id": "0388085f-1549-4b96-9d99-775337a852f2",
   "metadata": {},
   "outputs": [
    {
     "name": "stdout",
     "output_type": "stream",
     "text": [
      "Hello, Akash.\n"
     ]
    }
   ],
   "source": [
    "greeting('Akash');"
   ]
  },
  {
   "cell_type": "code",
   "execution_count": 12,
   "id": "e8770846-2c92-44fb-ba1a-25373daf0ea8",
   "metadata": {},
   "outputs": [
    {
     "name": "stdout",
     "output_type": "stream",
     "text": [
      "Hello, Akash.\n"
     ]
    }
   ],
   "source": [
    "greeting(\"Akash\")"
   ]
  },
  {
   "cell_type": "code",
   "execution_count": 13,
   "id": "f3fae695-a2e9-42ab-927c-26666f2216aa",
   "metadata": {},
   "outputs": [
    {
     "name": "stdout",
     "output_type": "stream",
     "text": [
      "Hello, Akash.\n"
     ]
    }
   ],
   "source": [
    "greeting(\"Akash\");"
   ]
  },
  {
   "cell_type": "markdown",
   "id": "070f7223-9caf-4bb6-a50a-0e5166601251",
   "metadata": {},
   "source": [
    "Arbitrary Arguments, *args\n",
    "\n",
    "If you don't know how many arguments that will be passed into your function, add a * before the parameter name in the function definition. This way the function will receive a tuple of arguments, and can access the items accordingly:"
   ]
  },
  {
   "cell_type": "code",
   "execution_count": 14,
   "id": "c9720313-a4ef-488b-8656-e5d3cc74499d",
   "metadata": {},
   "outputs": [],
   "source": [
    "def youngestChild(*children):\n",
    "    print(children)\n",
    "    print(\"Youngest child is \" + children[-1] + \".\")"
   ]
  },
  {
   "cell_type": "code",
   "execution_count": 15,
   "id": "06f8671f-f911-4701-98d4-bcf127d494ea",
   "metadata": {},
   "outputs": [
    {
     "name": "stdout",
     "output_type": "stream",
     "text": [
      "('Mukesh', 'Anant')\n",
      "Youngest child is Anant.\n"
     ]
    }
   ],
   "source": [
    "youngestChild('Mukesh', 'Anant')"
   ]
  },
  {
   "cell_type": "markdown",
   "id": "3fe10a8a-bf1a-4f6a-9d50-9d7ee7224e11",
   "metadata": {},
   "source": [
    "Kewword Arguments"
   ]
  },
  {
   "cell_type": "code",
   "execution_count": 16,
   "id": "41a52cc2-f4d0-48cd-bb32-28b515552b13",
   "metadata": {},
   "outputs": [],
   "source": [
    "def fullName (firstName, middleName, lastName):\n",
    "    print(firstName + \" \" + middleName + \" \" + lastName if middleName else firstName + \" \" + lastName);"
   ]
  },
  {
   "cell_type": "code",
   "execution_count": 17,
   "id": "9a7db8f9-0a61-4820-b5c9-18afc627969a",
   "metadata": {},
   "outputs": [
    {
     "name": "stdout",
     "output_type": "stream",
     "text": [
      "Akash N Ramasani\n"
     ]
    }
   ],
   "source": [
    "fullName(firstName = \"Akash\", middleName=\"N\", lastName=\"Ramasani\")"
   ]
  },
  {
   "cell_type": "markdown",
   "id": "00ea7100-99c9-4e58-b7cf-104ba6c92f6c",
   "metadata": {},
   "source": [
    "Arbitrary Keyword Arguments, **kwargs\n",
    "\n",
    "If you do not know how many keyword arguments that will be passed into your function, add two asterisk: ** before the parameter name in the function definition. This way the function will receive a dictionary of arguments, and can access the items accordingly:"
   ]
  },
  {
   "cell_type": "code",
   "execution_count": 18,
   "id": "941812ac-0126-449a-a793-106e9b5e31ae",
   "metadata": {},
   "outputs": [],
   "source": [
    "def fullName (**names):\n",
    "    print(names)\n",
    "    print(names[\"firstName\"] + \" \" + names[\"middleName\"] + \" \" + names[\"lastName\"] if names[\"middleName\"] else names[\"firstName\"] + \" \" + names[\"lastName\"]);"
   ]
  },
  {
   "cell_type": "code",
   "execution_count": 19,
   "id": "e68f55bb-b69f-487b-a8a9-6b152f107e56",
   "metadata": {},
   "outputs": [
    {
     "name": "stdout",
     "output_type": "stream",
     "text": [
      "{'firstName': 'Akash', 'middleName': '', 'lastName': 'Ramasani'}\n",
      "Akash Ramasani\n"
     ]
    }
   ],
   "source": [
    "fullName(firstName = \"Akash\", middleName=\"\", lastName=\"Ramasani\")"
   ]
  },
  {
   "cell_type": "markdown",
   "id": "4f2635cc-f32a-4d6d-8798-7785d5195e32",
   "metadata": {},
   "source": [
    "Default Parameter Value"
   ]
  },
  {
   "cell_type": "code",
   "execution_count": 20,
   "id": "996463d9-623c-4bda-8b13-02c06f7aab20",
   "metadata": {},
   "outputs": [],
   "source": [
    "def currentStatus(status = \"Online\"):\n",
    "    print(\"I am \" + status + \".\")"
   ]
  },
  {
   "cell_type": "code",
   "execution_count": 21,
   "id": "c445ba7f-0ea5-4eb1-9508-7f773c1d9381",
   "metadata": {},
   "outputs": [
    {
     "name": "stdout",
     "output_type": "stream",
     "text": [
      "I am Online.\n"
     ]
    }
   ],
   "source": [
    "currentStatus()"
   ]
  },
  {
   "cell_type": "code",
   "execution_count": 22,
   "id": "8c3c196e-c586-4732-a294-015e6bd21a05",
   "metadata": {},
   "outputs": [
    {
     "name": "stdout",
     "output_type": "stream",
     "text": [
      "I am OOO.\n"
     ]
    }
   ],
   "source": [
    "currentStatus(\"OOO\")"
   ]
  },
  {
   "cell_type": "code",
   "execution_count": 23,
   "id": "35e0ca8e-0116-47b7-960b-87db5b9b8d1d",
   "metadata": {},
   "outputs": [
    {
     "name": "stdout",
     "output_type": "stream",
     "text": [
      "I am Busy.\n"
     ]
    }
   ],
   "source": [
    "currentStatus(\"Busy\");"
   ]
  },
  {
   "cell_type": "code",
   "execution_count": 24,
   "id": "d74b195f-e156-4957-a327-74b1abe4d6cb",
   "metadata": {},
   "outputs": [
    {
     "name": "stdout",
     "output_type": "stream",
     "text": [
      "I am in another Call.\n"
     ]
    }
   ],
   "source": [
    "currentStatus(\"in another Call\");"
   ]
  },
  {
   "cell_type": "markdown",
   "id": "05028b7b-dd87-4607-a5ee-444b5ae2fdbc",
   "metadata": {},
   "source": [
    "Passing a List as an Argument\n",
    "\n",
    "You can send any data types of argument to a function (string, number, list, dictionary etc.), and it will be treated as the same data type inside the function."
   ]
  },
  {
   "cell_type": "code",
   "execution_count": 25,
   "id": "38a2f995-f73a-4771-a8d4-f4a10c19ed75",
   "metadata": {},
   "outputs": [],
   "source": [
    "def iterateCartItems(items):\n",
    "    print(items)\n",
    "    for each in items:\n",
    "        print(each);"
   ]
  },
  {
   "cell_type": "code",
   "execution_count": 26,
   "id": "4d4016dd-dca6-4cc5-9dc6-94957a2aa9ae",
   "metadata": {},
   "outputs": [],
   "source": [
    "items = [\"Phone\", \"Laptop\", \"Charger\", \"Powerbank\"]"
   ]
  },
  {
   "cell_type": "code",
   "execution_count": 27,
   "id": "968d9e23-2eb5-4701-8ed8-788b9a30e06f",
   "metadata": {},
   "outputs": [
    {
     "name": "stdout",
     "output_type": "stream",
     "text": [
      "['Phone', 'Laptop', 'Charger', 'Powerbank']\n",
      "Phone\n",
      "Laptop\n",
      "Charger\n",
      "Powerbank\n"
     ]
    }
   ],
   "source": [
    "iterateCartItems(items)"
   ]
  },
  {
   "cell_type": "code",
   "execution_count": 28,
   "id": "4fe102c8-6f6e-4284-bc38-c8a6a950956f",
   "metadata": {},
   "outputs": [],
   "source": [
    "def iterateName(name):\n",
    "    print(name.items());\n",
    "    for key,value in name.items():\n",
    "        print(key+ \" - \" +value);"
   ]
  },
  {
   "cell_type": "code",
   "execution_count": 29,
   "id": "098bf53b-e6c0-4175-b131-ef80166cf644",
   "metadata": {},
   "outputs": [],
   "source": [
    "name = {'firstName': 'Akash', 'middleName': '', 'lastName': 'Ramasani'}"
   ]
  },
  {
   "cell_type": "code",
   "execution_count": 30,
   "id": "52f8b654-77de-48c2-8979-95eb7a02e761",
   "metadata": {},
   "outputs": [
    {
     "name": "stdout",
     "output_type": "stream",
     "text": [
      "dict_items([('firstName', 'Akash'), ('middleName', ''), ('lastName', 'Ramasani')])\n",
      "firstName - Akash\n",
      "middleName - \n",
      "lastName - Ramasani\n"
     ]
    }
   ],
   "source": [
    "iterateName(name)"
   ]
  },
  {
   "cell_type": "code",
   "execution_count": 31,
   "id": "77f29ead-b27f-4725-97ca-9e9c615fd0bf",
   "metadata": {},
   "outputs": [],
   "source": [
    "def petNames(petName):\n",
    "    print(petName);\n",
    "    for each in petName:\n",
    "        print(each);"
   ]
  },
  {
   "cell_type": "code",
   "execution_count": 32,
   "id": "8e0da6e4-fc76-42e7-bfbd-1ca8452f7b63",
   "metadata": {},
   "outputs": [],
   "source": [
    "petName = ('Choco', 'Goldee')"
   ]
  },
  {
   "cell_type": "code",
   "execution_count": 33,
   "id": "56e7fc3e-f6ea-404b-b70f-46c56a247a5e",
   "metadata": {},
   "outputs": [
    {
     "name": "stdout",
     "output_type": "stream",
     "text": [
      "('Choco', 'Goldee')\n",
      "Choco\n",
      "Goldee\n"
     ]
    }
   ],
   "source": [
    "petNames(petName)"
   ]
  },
  {
   "cell_type": "code",
   "execution_count": 34,
   "id": "1212dccc-50c8-421a-985c-4aed378d91bb",
   "metadata": {},
   "outputs": [],
   "source": [
    "def iterateSet(fruits):\n",
    "    print(fruits);\n",
    "    for each in fruits:\n",
    "        print(each);"
   ]
  },
  {
   "cell_type": "code",
   "execution_count": 35,
   "id": "79a3132b-2719-4a9a-9dc2-03d9acfa1a5e",
   "metadata": {},
   "outputs": [],
   "source": [
    "thisset = {\"apple\", \"banana\", \"cherry\"}"
   ]
  },
  {
   "cell_type": "code",
   "execution_count": 36,
   "id": "f5bc5eaa-86c3-4ad4-9eb4-5eeb8fbad5f1",
   "metadata": {},
   "outputs": [
    {
     "name": "stdout",
     "output_type": "stream",
     "text": [
      "{'apple', 'cherry', 'banana'}\n",
      "apple\n",
      "cherry\n",
      "banana\n"
     ]
    }
   ],
   "source": [
    "iterateSet(thisset)"
   ]
  },
  {
   "cell_type": "markdown",
   "id": "aad68458-2a1f-4f94-9013-44490610f3df",
   "metadata": {},
   "source": [
    "Return Values"
   ]
  },
  {
   "cell_type": "code",
   "execution_count": 37,
   "id": "4fce2cc8-a090-46b3-b763-397395007e2b",
   "metadata": {},
   "outputs": [],
   "source": [
    "def sumOfTwo(firstNumber, secondNumber):\n",
    "    return firstNumber + secondNumber;"
   ]
  },
  {
   "cell_type": "code",
   "execution_count": 38,
   "id": "f703163a-5a46-4c20-97b0-e1a26a5d5f41",
   "metadata": {},
   "outputs": [
    {
     "data": {
      "text/plain": [
       "89"
      ]
     },
     "execution_count": 38,
     "metadata": {},
     "output_type": "execute_result"
    }
   ],
   "source": [
    "sumOfTwo(45,44)"
   ]
  },
  {
   "cell_type": "markdown",
   "id": "c90a2b68-e6b4-44ad-a124-ff4915e32f13",
   "metadata": {},
   "source": [
    "Pass Statement\n",
    "\n",
    "function definition cannot be empty, but if you for some reason have a function definition with no content, put in the pass statement to avoid getting an error."
   ]
  },
  {
   "cell_type": "code",
   "execution_count": 39,
   "id": "ad34dfdd-3792-4fbd-b123-6cd77b52e59f",
   "metadata": {},
   "outputs": [],
   "source": [
    "def emptyFunction():\n",
    "    pass"
   ]
  },
  {
   "cell_type": "code",
   "execution_count": 40,
   "id": "d8c813c0-1204-4e25-93ac-f169d6736844",
   "metadata": {},
   "outputs": [],
   "source": [
    "emptyFunction()"
   ]
  },
  {
   "cell_type": "markdown",
   "id": "472df0c4-b347-48ef-82a6-02adc0fe62c8",
   "metadata": {},
   "source": [
    "Position only Arguments\n",
    "\n",
    "To specify that a function can have only positional arguments, add ', /' after the arguments."
   ]
  },
  {
   "cell_type": "code",
   "execution_count": 41,
   "id": "7513eb20-31f5-4d5c-ac82-ef0d3d9d2215",
   "metadata": {},
   "outputs": [],
   "source": [
    "def positionalArguments(firstName, /):\n",
    "    print(\"Hello, \" + firstName + \".\")"
   ]
  },
  {
   "cell_type": "code",
   "execution_count": 42,
   "id": "a4f922c3-ee68-4ca9-a1ed-b353f8ad7ac4",
   "metadata": {},
   "outputs": [
    {
     "name": "stdout",
     "output_type": "stream",
     "text": [
      "Hello, Akash.\n"
     ]
    }
   ],
   "source": [
    "positionalArguments('Akash');"
   ]
  },
  {
   "cell_type": "code",
   "execution_count": 43,
   "id": "69137317-bd27-40c4-aeba-e2c0ca880e9f",
   "metadata": {},
   "outputs": [
    {
     "ename": "TypeError",
     "evalue": "positionalArguments() got some positional-only arguments passed as keyword arguments: 'firstName'",
     "output_type": "error",
     "traceback": [
      "\u001b[1;31m---------------------------------------------------------------------------\u001b[0m",
      "\u001b[1;31mTypeError\u001b[0m                                 Traceback (most recent call last)",
      "Cell \u001b[1;32mIn[43], line 1\u001b[0m\n\u001b[1;32m----> 1\u001b[0m \u001b[43mpositionalArguments\u001b[49m\u001b[43m(\u001b[49m\u001b[43mfirstName\u001b[49m\u001b[38;5;241;43m=\u001b[39;49m\u001b[38;5;124;43m\"\u001b[39;49m\u001b[38;5;124;43mAkash\u001b[39;49m\u001b[38;5;124;43m\"\u001b[39;49m\u001b[43m)\u001b[49m;\n",
      "\u001b[1;31mTypeError\u001b[0m: positionalArguments() got some positional-only arguments passed as keyword arguments: 'firstName'"
     ]
    }
   ],
   "source": [
    "positionalArguments(firstName=\"Akash\");"
   ]
  },
  {
   "cell_type": "markdown",
   "id": "ec519b25-5dde-4151-b30a-b06c1d537628",
   "metadata": {},
   "source": [
    "Keyword-Only Arguments\n",
    "\n",
    "To specify that a function can have only keyword arguments, add *, before the arguments"
   ]
  },
  {
   "cell_type": "code",
   "execution_count": 44,
   "id": "08a42b5d-2460-4297-9d24-96619cf39c5b",
   "metadata": {},
   "outputs": [],
   "source": [
    "def keywordArguments(*, firstName):\n",
    "    print(\"Hello, \" + firstName + \".\")"
   ]
  },
  {
   "cell_type": "code",
   "execution_count": 45,
   "id": "fe5d549f-1d11-4ba4-a0f3-90db9c368101",
   "metadata": {},
   "outputs": [
    {
     "name": "stdout",
     "output_type": "stream",
     "text": [
      "Hello, Akash.\n"
     ]
    }
   ],
   "source": [
    "keywordArguments(firstName = \"Akash\");"
   ]
  },
  {
   "cell_type": "code",
   "execution_count": 46,
   "id": "14d73ae7-80ef-42a2-bb2e-76fe43017346",
   "metadata": {},
   "outputs": [
    {
     "ename": "TypeError",
     "evalue": "keywordArguments() takes 0 positional arguments but 1 was given",
     "output_type": "error",
     "traceback": [
      "\u001b[1;31m---------------------------------------------------------------------------\u001b[0m",
      "\u001b[1;31mTypeError\u001b[0m                                 Traceback (most recent call last)",
      "Cell \u001b[1;32mIn[46], line 1\u001b[0m\n\u001b[1;32m----> 1\u001b[0m \u001b[43mkeywordArguments\u001b[49m\u001b[43m(\u001b[49m\u001b[38;5;124;43m\"\u001b[39;49m\u001b[38;5;124;43mAkash\u001b[39;49m\u001b[38;5;124;43m\"\u001b[39;49m\u001b[43m)\u001b[49m;\n",
      "\u001b[1;31mTypeError\u001b[0m: keywordArguments() takes 0 positional arguments but 1 was given"
     ]
    }
   ],
   "source": [
    "keywordArguments(\"Akash\");"
   ]
  }
 ],
 "metadata": {
  "kernelspec": {
   "display_name": "Python 3 (ipykernel)",
   "language": "python",
   "name": "python3"
  },
  "language_info": {
   "codemirror_mode": {
    "name": "ipython",
    "version": 3
   },
   "file_extension": ".py",
   "mimetype": "text/x-python",
   "name": "python",
   "nbconvert_exporter": "python",
   "pygments_lexer": "ipython3",
   "version": "3.11.6"
  }
 },
 "nbformat": 4,
 "nbformat_minor": 5
}
