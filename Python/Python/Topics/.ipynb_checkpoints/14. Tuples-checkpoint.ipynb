{
 "cells": [
  {
   "cell_type": "code",
   "execution_count": 1,
   "id": "d2a11bca-42f5-449a-a842-354c0596ed5e",
   "metadata": {},
   "outputs": [],
   "source": [
    "names = (\"Akash\", \"\", \"Ramasani\");"
   ]
  },
  {
   "cell_type": "code",
   "execution_count": 2,
   "id": "c8d53d99-44e7-421a-a68b-f4cab7308752",
   "metadata": {},
   "outputs": [
    {
     "name": "stdout",
     "output_type": "stream",
     "text": [
      "('Akash', '', 'Ramasani')\n"
     ]
    }
   ],
   "source": [
    "print(names);"
   ]
  },
  {
   "cell_type": "code",
   "execution_count": 3,
   "id": "482f1734-a20c-4b1f-a165-e194fee924c9",
   "metadata": {},
   "outputs": [
    {
     "name": "stdout",
     "output_type": "stream",
     "text": [
      "Akash\n"
     ]
    }
   ],
   "source": [
    "print(names[0]);"
   ]
  },
  {
   "cell_type": "code",
   "execution_count": 4,
   "id": "ebc5ba00-992f-4eaf-a8e4-6dc613875723",
   "metadata": {},
   "outputs": [
    {
     "name": "stdout",
     "output_type": "stream",
     "text": [
      "Akash  Ramasani\n"
     ]
    }
   ],
   "source": [
    "print(names[0], names[1], names[2]);"
   ]
  },
  {
   "cell_type": "code",
   "execution_count": 6,
   "id": "f42cd38c-8953-491a-ba06-277797abb1ab",
   "metadata": {},
   "outputs": [
    {
     "ename": "TypeError",
     "evalue": "'tuple' object does not support item assignment",
     "output_type": "error",
     "traceback": [
      "\u001b[1;31m---------------------------------------------------------------------------\u001b[0m",
      "\u001b[1;31mTypeError\u001b[0m                                 Traceback (most recent call last)",
      "Cell \u001b[1;32mIn[6], line 1\u001b[0m\n\u001b[1;32m----> 1\u001b[0m \u001b[43mnames\u001b[49m\u001b[43m[\u001b[49m\u001b[38;5;241;43m1\u001b[39;49m\u001b[43m]\u001b[49m \u001b[38;5;241m=\u001b[39m \u001b[38;5;124m\"\u001b[39m\u001b[38;5;124mN\u001b[39m\u001b[38;5;124m\"\u001b[39m;\n",
      "\u001b[1;31mTypeError\u001b[0m: 'tuple' object does not support item assignment"
     ]
    }
   ],
   "source": [
    "names[1] = \"N\";"
   ]
  },
  {
   "cell_type": "code",
   "execution_count": 7,
   "id": "2b069968-ce3b-4463-b098-da93a2dd3442",
   "metadata": {},
   "outputs": [
    {
     "ename": "AttributeError",
     "evalue": "'tuple' object has no attribute 'append'",
     "output_type": "error",
     "traceback": [
      "\u001b[1;31m---------------------------------------------------------------------------\u001b[0m",
      "\u001b[1;31mAttributeError\u001b[0m                            Traceback (most recent call last)",
      "Cell \u001b[1;32mIn[7], line 1\u001b[0m\n\u001b[1;32m----> 1\u001b[0m \u001b[43mnames\u001b[49m\u001b[38;5;241;43m.\u001b[39;49m\u001b[43mappend\u001b[49m(\u001b[38;5;124m\"\u001b[39m\u001b[38;5;124mMale\u001b[39m\u001b[38;5;124m\"\u001b[39m);\n",
      "\u001b[1;31mAttributeError\u001b[0m: 'tuple' object has no attribute 'append'"
     ]
    }
   ],
   "source": [
    "names.append(\"Male\");"
   ]
  },
  {
   "cell_type": "code",
   "execution_count": 8,
   "id": "38b09475-58b1-4f68-b3fd-d10332a87a48",
   "metadata": {},
   "outputs": [
    {
     "name": "stdout",
     "output_type": "stream",
     "text": [
      "3\n"
     ]
    }
   ],
   "source": [
    "print(len(names));"
   ]
  },
  {
   "cell_type": "code",
   "execution_count": 10,
   "id": "d1ccaa22-d767-4766-b494-c01ec68a90ee",
   "metadata": {},
   "outputs": [
    {
     "name": "stdout",
     "output_type": "stream",
     "text": [
      "<class 'tuple'>\n"
     ]
    }
   ],
   "source": [
    "print(type(names));"
   ]
  },
  {
   "cell_type": "markdown",
   "id": "13dbd154-c29d-479a-8fa6-1b9655a27908",
   "metadata": {},
   "source": [
    "Create Tuple with One Item"
   ]
  },
  {
   "cell_type": "code",
   "execution_count": 11,
   "id": "a5587523-d9f6-4691-a30b-007fadef9641",
   "metadata": {},
   "outputs": [],
   "source": [
    "firstName = (\"Akash\");"
   ]
  },
  {
   "cell_type": "code",
   "execution_count": 12,
   "id": "c1917706-9bed-49c7-8936-a0c4342d2496",
   "metadata": {},
   "outputs": [
    {
     "name": "stdout",
     "output_type": "stream",
     "text": [
      "Akash\n"
     ]
    }
   ],
   "source": [
    "print(firstName);"
   ]
  },
  {
   "cell_type": "code",
   "execution_count": 14,
   "id": "6ebcaf0a-5634-49be-8143-4d6255749e0b",
   "metadata": {},
   "outputs": [
    {
     "name": "stdout",
     "output_type": "stream",
     "text": [
      "<class 'str'>\n"
     ]
    }
   ],
   "source": [
    "print(type(firstName));"
   ]
  },
  {
   "cell_type": "code",
   "execution_count": 15,
   "id": "b24fc8eb-1d11-49b9-8ace-500a685f00ec",
   "metadata": {},
   "outputs": [],
   "source": [
    "firstName = (\"Akash\",);"
   ]
  },
  {
   "cell_type": "code",
   "execution_count": 16,
   "id": "bee735c3-a23a-4a04-928d-fb72d81fac8f",
   "metadata": {},
   "outputs": [
    {
     "name": "stdout",
     "output_type": "stream",
     "text": [
      "('Akash',)\n"
     ]
    }
   ],
   "source": [
    "print(firstName);"
   ]
  },
  {
   "cell_type": "code",
   "execution_count": 17,
   "id": "cffef5fd-f008-4721-a709-854330f7e840",
   "metadata": {},
   "outputs": [
    {
     "name": "stdout",
     "output_type": "stream",
     "text": [
      "<class 'tuple'>\n"
     ]
    }
   ],
   "source": [
    "print(type(firstName));"
   ]
  },
  {
   "cell_type": "markdown",
   "id": "35cb5a57-fed4-408f-96a9-578e9ff09db5",
   "metadata": {},
   "source": [
    "Tuple Items - Data Types"
   ]
  },
  {
   "cell_type": "code",
   "execution_count": 20,
   "id": "81565f76-be3f-4063-8866-ccfe9447cedc",
   "metadata": {},
   "outputs": [],
   "source": [
    "stringTuple = (\"Akash\", \"\", \"Ramasani\");\n",
    "intTuple = (21, 5, 87, 99);\n",
    "booleanTuple = (True, False);"
   ]
  },
  {
   "cell_type": "code",
   "execution_count": 21,
   "id": "3c5a531a-62a3-4112-bfdb-0daea7f98f42",
   "metadata": {},
   "outputs": [
    {
     "name": "stdout",
     "output_type": "stream",
     "text": [
      "('Akash', '', 'Ramasani') (21, 5, 87, 99) (True, False)\n"
     ]
    }
   ],
   "source": [
    "print(stringTuple, intTuple, booleanTuple);"
   ]
  },
  {
   "cell_type": "code",
   "execution_count": 24,
   "id": "059d3112-442c-4747-bafb-f722ca4d8da1",
   "metadata": {},
   "outputs": [
    {
     "name": "stdout",
     "output_type": "stream",
     "text": [
      "<class 'tuple'> <class 'tuple'> <class 'tuple'>\n"
     ]
    }
   ],
   "source": [
    "print(type(stringTuple), type(intTuple), type(booleanTuple));"
   ]
  },
  {
   "cell_type": "code",
   "execution_count": 22,
   "id": "ed8f334b-82f7-4dc0-87d8-56b65797ac77",
   "metadata": {},
   "outputs": [],
   "source": [
    "mixedTuple = (\"Akash\", \"\", \"Ramasani\", 27, \"May\", \"2001\", True);"
   ]
  },
  {
   "cell_type": "code",
   "execution_count": 23,
   "id": "8a3f396d-1abb-4a7c-8efe-5e7b6a4bd3bf",
   "metadata": {},
   "outputs": [
    {
     "name": "stdout",
     "output_type": "stream",
     "text": [
      "('Akash', '', 'Ramasani', 27, 'May', '2001', True)\n"
     ]
    }
   ],
   "source": [
    "print(mixedTuple);"
   ]
  },
  {
   "cell_type": "code",
   "execution_count": 25,
   "id": "25c3ab24-e4d4-4cd2-816d-aa5720ce8da9",
   "metadata": {},
   "outputs": [
    {
     "name": "stdout",
     "output_type": "stream",
     "text": [
      "<class 'tuple'>\n"
     ]
    }
   ],
   "source": [
    "print(type(mixedTuple));"
   ]
  },
  {
   "cell_type": "markdown",
   "id": "4ad82b64-9369-44e4-940d-48a1f07c1716",
   "metadata": {},
   "source": [
    "Tuple Constructor"
   ]
  },
  {
   "cell_type": "code",
   "execution_count": 26,
   "id": "87ef3084-c784-4767-8888-b845a01e2915",
   "metadata": {},
   "outputs": [],
   "source": [
    "profile = tuple((\"Akash\", \"Ramasani\", 27, \"May\", 2001, True));"
   ]
  },
  {
   "cell_type": "code",
   "execution_count": 31,
   "id": "8475448f-16e1-4859-8531-20f426ef0f4c",
   "metadata": {},
   "outputs": [
    {
     "name": "stdout",
     "output_type": "stream",
     "text": [
      "('Akash', 'Ramasani', 27, 'May', 2001, True)\n"
     ]
    }
   ],
   "source": [
    "print(profile);"
   ]
  },
  {
   "cell_type": "code",
   "execution_count": 32,
   "id": "d34c2af3-bbfe-4cbe-857a-3309fb9e64de",
   "metadata": {},
   "outputs": [
    {
     "name": "stdout",
     "output_type": "stream",
     "text": [
      "<class 'tuple'>\n"
     ]
    }
   ],
   "source": [
    "print(type(profile));"
   ]
  },
  {
   "cell_type": "markdown",
   "id": "3c95a7e0-6847-4f7c-96f9-9c27da57b858",
   "metadata": {},
   "source": [
    "Access Tuples"
   ]
  },
  {
   "cell_type": "code",
   "execution_count": 33,
   "id": "363b067f-d6fe-4c87-aafa-1adb68ed27f3",
   "metadata": {},
   "outputs": [
    {
     "name": "stdout",
     "output_type": "stream",
     "text": [
      "('Akash', 'Ramasani', 27, 'May', 2001, True)\n"
     ]
    }
   ],
   "source": [
    "print(profile);"
   ]
  },
  {
   "cell_type": "code",
   "execution_count": 34,
   "id": "ae4ae920-75b6-4f94-bb92-c12754208ae1",
   "metadata": {},
   "outputs": [
    {
     "name": "stdout",
     "output_type": "stream",
     "text": [
      "Akash Ramasani\n"
     ]
    }
   ],
   "source": [
    "print(profile[0], profile[1]);"
   ]
  },
  {
   "cell_type": "code",
   "execution_count": 35,
   "id": "9ae0e318-e199-49c2-8567-28b3fbc4b91f",
   "metadata": {},
   "outputs": [
    {
     "name": "stdout",
     "output_type": "stream",
     "text": [
      "27 May 2001\n"
     ]
    }
   ],
   "source": [
    "print(profile[2], profile[3], profile[4]);"
   ]
  },
  {
   "cell_type": "code",
   "execution_count": 36,
   "id": "ce9de5ec-1323-4878-ba1f-8a55c7fed0ff",
   "metadata": {},
   "outputs": [
    {
     "name": "stdout",
     "output_type": "stream",
     "text": [
      "('Akash', 'Ramasani', 27, 'May', 2001, True)\n"
     ]
    }
   ],
   "source": [
    "print(profile);"
   ]
  },
  {
   "cell_type": "markdown",
   "id": "ad48e072-82c7-435b-b6c7-7674c1a6857a",
   "metadata": {},
   "source": [
    "Negative Indexing"
   ]
  },
  {
   "cell_type": "code",
   "execution_count": 37,
   "id": "2ddbafc5-a814-4ae6-911f-5b1b26f36e69",
   "metadata": {},
   "outputs": [
    {
     "name": "stdout",
     "output_type": "stream",
     "text": [
      "True\n"
     ]
    }
   ],
   "source": [
    "print(profile[-1]);"
   ]
  },
  {
   "cell_type": "code",
   "execution_count": 38,
   "id": "293a778b-4440-4fee-a940-7876925610ed",
   "metadata": {},
   "outputs": [
    {
     "name": "stdout",
     "output_type": "stream",
     "text": [
      "2001 May 27\n"
     ]
    }
   ],
   "source": [
    "print(profile[-2], profile[-3], profile[-4]);"
   ]
  },
  {
   "cell_type": "code",
   "execution_count": 39,
   "id": "0e5ad2ac-59ea-47f2-952a-3208fbb6f57d",
   "metadata": {},
   "outputs": [
    {
     "name": "stdout",
     "output_type": "stream",
     "text": [
      "27 May 2001\n"
     ]
    }
   ],
   "source": [
    "print(profile[-4], profile[-3], profile[-2]);"
   ]
  },
  {
   "cell_type": "code",
   "execution_count": 40,
   "id": "13e9936e-6292-4a30-abc4-d50180f10a00",
   "metadata": {},
   "outputs": [
    {
     "name": "stdout",
     "output_type": "stream",
     "text": [
      "Ramasani Akash\n"
     ]
    }
   ],
   "source": [
    "print(profile[-5], profile[-6]);"
   ]
  },
  {
   "cell_type": "code",
   "execution_count": 41,
   "id": "95cdc340-93ab-4ff6-843b-0aca6ae14303",
   "metadata": {},
   "outputs": [
    {
     "name": "stdout",
     "output_type": "stream",
     "text": [
      "Akash Ramasani\n"
     ]
    }
   ],
   "source": [
    "print(profile[-6], profile[-5]);"
   ]
  },
  {
   "cell_type": "code",
   "execution_count": null,
   "id": "eeb8eba3-4b93-4c7e-a16f-825fb7afe412",
   "metadata": {},
   "outputs": [],
   "source": [
    "Range of Indexes"
   ]
  }
 ],
 "metadata": {
  "kernelspec": {
   "display_name": "Python 3 (ipykernel)",
   "language": "python",
   "name": "python3"
  },
  "language_info": {
   "codemirror_mode": {
    "name": "ipython",
    "version": 3
   },
   "file_extension": ".py",
   "mimetype": "text/x-python",
   "name": "python",
   "nbconvert_exporter": "python",
   "pygments_lexer": "ipython3",
   "version": "3.11.6"
  }
 },
 "nbformat": 4,
 "nbformat_minor": 5
}
