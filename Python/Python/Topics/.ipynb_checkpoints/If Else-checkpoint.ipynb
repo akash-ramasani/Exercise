{
 "cells": [
  {
   "cell_type": "markdown",
   "id": "124c9ddc-b941-4e4c-9871-cac09e1a34ec",
   "metadata": {},
   "source": [
    "Python supports the usual logical conditions from mathematics."
   ]
  },
  {
   "cell_type": "markdown",
   "id": "7a33a08f-eb3d-45e5-b702-32e29c19de32",
   "metadata": {},
   "source": [
    "Equals: a == b\n",
    "\n",
    "Not Equals: a != b\n",
    "\n",
    "Less than: a < b\n",
    "\n",
    "Less than or equal to: a <= b\n",
    "\n",
    "Greater than: a > b\n",
    "\n",
    "Greater than or equal to: a >= b"
   ]
  },
  {
   "cell_type": "code",
   "execution_count": 1,
   "id": "24f95b41-8b28-4abf-acee-7ff03d27faa3",
   "metadata": {},
   "outputs": [
    {
     "name": "stdout",
     "output_type": "stream",
     "text": [
      "100 is greater than 70.\n"
     ]
    }
   ],
   "source": [
    "if 100 > 70:\n",
    "    print(\"100 is greater than 70.\");"
   ]
  },
  {
   "cell_type": "code",
   "execution_count": 3,
   "id": "e71f82d4-bba3-4cba-b5ef-272d7d9dfd01",
   "metadata": {},
   "outputs": [
    {
     "ename": "IndentationError",
     "evalue": "expected an indented block after 'if' statement on line 1 (983201397.py, line 2)",
     "output_type": "error",
     "traceback": [
      "\u001b[1;36m  Cell \u001b[1;32mIn[3], line 2\u001b[1;36m\u001b[0m\n\u001b[1;33m    print(\"100 is greater than 70.\");\u001b[0m\n\u001b[1;37m    ^\u001b[0m\n\u001b[1;31mIndentationError\u001b[0m\u001b[1;31m:\u001b[0m expected an indented block after 'if' statement on line 1\n"
     ]
    }
   ],
   "source": [
    "if 100 > 70:\n",
    "print(\"100 is greater than 70.\");"
   ]
  },
  {
   "cell_type": "code",
   "execution_count": 2,
   "id": "b119f369-1cbd-4345-b5d2-a92ffded7b95",
   "metadata": {},
   "outputs": [
    {
     "name": "stdout",
     "output_type": "stream",
     "text": [
      "Akash is older than Paul.\n"
     ]
    }
   ],
   "source": [
    "akashAge = 23;\n",
    "paulAge = 17;\n",
    "if akashAge > paulAge:\n",
    "    print(\"Akash is older than Paul.\");"
   ]
  },
  {
   "cell_type": "code",
   "execution_count": 4,
   "id": "1c5bff4d-e715-4fa5-80e7-32a3523b3425",
   "metadata": {},
   "outputs": [
    {
     "name": "stdout",
     "output_type": "stream",
     "text": [
      "Akash is older than Paul.\n"
     ]
    }
   ],
   "source": [
    "if akashAge > paulAge:\n",
    "    print(\"Akash is older than Paul.\");\n",
    "elif paulAge > akashAge:\n",
    "    print(\"Paul is older than Akash\");"
   ]
  },
  {
   "cell_type": "code",
   "execution_count": 7,
   "id": "0e6d6db7-04cf-428c-84ff-e8c9f4c6e2a0",
   "metadata": {},
   "outputs": [],
   "source": [
    "akashAge = 23;\n",
    "paulAge = 23;"
   ]
  },
  {
   "cell_type": "code",
   "execution_count": 9,
   "id": "24efedf4-7c44-43d4-b778-676ae4115c57",
   "metadata": {},
   "outputs": [
    {
     "name": "stdout",
     "output_type": "stream",
     "text": [
      "Akash and Paul are the same age.\n"
     ]
    }
   ],
   "source": [
    "if akashAge > paulAge:\n",
    "    print(\"Akash is older than Paul.\");\n",
    "elif paulAge > akashAge:\n",
    "    print(\"Paul is oldern than Akash.\");\n",
    "else:\n",
    "    print(\"Akash and Paul are the same age.\");"
   ]
  },
  {
   "cell_type": "code",
   "execution_count": 11,
   "id": "691225a3-d438-404f-b211-1991e4d21e29",
   "metadata": {},
   "outputs": [
    {
     "name": "stdout",
     "output_type": "stream",
     "text": [
      "Akash and Paul are the same age.\n"
     ]
    }
   ],
   "source": [
    "if akashAge == paulAge: print(\"Akash and Paul are the same age.\");"
   ]
  },
  {
   "cell_type": "code",
   "execution_count": 12,
   "id": "16b3f097-7117-4cbc-b073-32868edf7aef",
   "metadata": {},
   "outputs": [
    {
     "name": "stdout",
     "output_type": "stream",
     "text": [
      "Akash and Paul are the same age.\n"
     ]
    }
   ],
   "source": [
    "print(\"Akash and Paul are the same age.\") if akashAge == paulAge else print(\"Akash and Paul have different ages.\")"
   ]
  },
  {
   "cell_type": "markdown",
   "id": "aa5d3786-5ebf-496e-aeb3-0b826ef84063",
   "metadata": {},
   "source": [
    "Logical Operators:\n",
    "\n",
    "And: The And keyword is a logical operator, and is used to combine conditional statements.\n",
    "\n",
    "Or: The Or keyword is a logical operator, and is used to combine conditional statements.\n",
    "\n",
    "Not: The Not keyword is a logical operator, and is used to reverse the result of the conditional statements."
   ]
  },
  {
   "cell_type": "code",
   "execution_count": 13,
   "id": "1f787d22-459a-416e-aee6-018e9e183d8a",
   "metadata": {},
   "outputs": [],
   "source": [
    "akashAge = 23;\n",
    "paulAge = 17;\n",
    "smithAge = 12;"
   ]
  },
  {
   "cell_type": "code",
   "execution_count": 14,
   "id": "2415301a-d9da-46cc-b120-f83f2536cd94",
   "metadata": {},
   "outputs": [
    {
     "name": "stdout",
     "output_type": "stream",
     "text": [
      "Akash is the oldest among all.\n"
     ]
    }
   ],
   "source": [
    "if akashAge > paulAge and akashAge > smithAge:\n",
    "    print(\"Akash is the oldest among all.\");"
   ]
  },
  {
   "cell_type": "code",
   "execution_count": 15,
   "id": "f5e39c79-af70-4f7d-962a-2c50622afe09",
   "metadata": {},
   "outputs": [
    {
     "name": "stdout",
     "output_type": "stream",
     "text": [
      "At least Paul is not the youngest among all.\n"
     ]
    }
   ],
   "source": [
    "if paulAge > smithAge or paulAge > akashAge:\n",
    "    print(\"At least Paul is not the youngest among all.\");"
   ]
  },
  {
   "cell_type": "code",
   "execution_count": 16,
   "id": "95006433-7699-4a74-a427-44c6d90f1eb9",
   "metadata": {},
   "outputs": [
    {
     "name": "stdout",
     "output_type": "stream",
     "text": [
      "Akash is older than Paul.\n"
     ]
    }
   ],
   "source": [
    "if not akashAge < paulAge:\n",
    "    print(\"Akash is older than Paul.\");"
   ]
  },
  {
   "cell_type": "code",
   "execution_count": 17,
   "id": "50c5507e-584c-4f6b-82d0-937f531f0d89",
   "metadata": {},
   "outputs": [],
   "source": [
    "if smithAge > akashAge:\n",
    "    pass"
   ]
  }
 ],
 "metadata": {
  "kernelspec": {
   "display_name": "Python 3 (ipykernel)",
   "language": "python",
   "name": "python3"
  },
  "language_info": {
   "codemirror_mode": {
    "name": "ipython",
    "version": 3
   },
   "file_extension": ".py",
   "mimetype": "text/x-python",
   "name": "python",
   "nbconvert_exporter": "python",
   "pygments_lexer": "ipython3",
   "version": "3.11.6"
  }
 },
 "nbformat": 4,
 "nbformat_minor": 5
}
