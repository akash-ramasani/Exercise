{
 "cells": [
  {
   "cell_type": "markdown",
   "id": "94ba775d-26fa-4466-bf35-693a5e1e2208",
   "metadata": {},
   "source": [
    "Set is a collection which is Unordered, Unchangable and Uninexed. Set Items are Unchangable, but you can remove items and add new items. "
   ]
  },
  {
   "cell_type": "code",
   "execution_count": 1,
   "id": "523dc99e-a244-4d8d-bafe-89b78fcf1888",
   "metadata": {},
   "outputs": [],
   "source": [
    "fruits = {\"Apple\", \"Banana\"};"
   ]
  },
  {
   "cell_type": "code",
   "execution_count": 2,
   "id": "97942c32-5646-4dd5-a242-e6f6aab79d90",
   "metadata": {},
   "outputs": [
    {
     "name": "stdout",
     "output_type": "stream",
     "text": [
      "<class 'set'> {'Banana', 'Apple'}\n"
     ]
    }
   ],
   "source": [
    "print(type(fruits), fruits);"
   ]
  },
  {
   "cell_type": "code",
   "execution_count": 3,
   "id": "1805ad86-9a9b-43bc-8c95-69e9214ccabd",
   "metadata": {},
   "outputs": [
    {
     "name": "stdout",
     "output_type": "stream",
     "text": [
      "{'Banana', 'Apple'}\n"
     ]
    }
   ],
   "source": [
    "print(fruits);"
   ]
  },
  {
   "cell_type": "code",
   "execution_count": 4,
   "id": "6d141466-57e8-453c-a85d-e1d5fa898020",
   "metadata": {},
   "outputs": [
    {
     "name": "stdout",
     "output_type": "stream",
     "text": [
      "{'Banana', 'Apple'}\n"
     ]
    }
   ],
   "source": [
    "print(fruits);"
   ]
  },
  {
   "cell_type": "code",
   "execution_count": 5,
   "id": "85170326-81f7-41e3-9b9b-54d208f2c117",
   "metadata": {},
   "outputs": [
    {
     "name": "stdout",
     "output_type": "stream",
     "text": [
      "{'Banana', 'Apple'}\n"
     ]
    }
   ],
   "source": [
    "print(fruits);"
   ]
  },
  {
   "cell_type": "code",
   "execution_count": 6,
   "id": "c21dff9f-05e4-40d0-9cc7-506ce37a34b6",
   "metadata": {},
   "outputs": [
    {
     "ename": "TypeError",
     "evalue": "'set' object is not subscriptable",
     "output_type": "error",
     "traceback": [
      "\u001b[1;31m---------------------------------------------------------------------------\u001b[0m",
      "\u001b[1;31mTypeError\u001b[0m                                 Traceback (most recent call last)",
      "Cell \u001b[1;32mIn[6], line 1\u001b[0m\n\u001b[1;32m----> 1\u001b[0m \u001b[38;5;28mprint\u001b[39m(\u001b[43mfruits\u001b[49m\u001b[43m[\u001b[49m\u001b[38;5;241;43m1\u001b[39;49m\u001b[43m]\u001b[49m);\n",
      "\u001b[1;31mTypeError\u001b[0m: 'set' object is not subscriptable"
     ]
    }
   ],
   "source": [
    "print(fruits[1]);"
   ]
  },
  {
   "cell_type": "code",
   "execution_count": 7,
   "id": "da4ba2b3-7c4a-498f-b5f5-df44e3e2bd25",
   "metadata": {},
   "outputs": [],
   "source": [
    "del fruits;"
   ]
  },
  {
   "cell_type": "code",
   "execution_count": 8,
   "id": "93020614-a176-4aa7-be45-36a750765fa4",
   "metadata": {},
   "outputs": [
    {
     "ename": "NameError",
     "evalue": "name 'fruits' is not defined",
     "output_type": "error",
     "traceback": [
      "\u001b[1;31m---------------------------------------------------------------------------\u001b[0m",
      "\u001b[1;31mNameError\u001b[0m                                 Traceback (most recent call last)",
      "Cell \u001b[1;32mIn[8], line 1\u001b[0m\n\u001b[1;32m----> 1\u001b[0m \u001b[38;5;28mprint\u001b[39m(\u001b[43mfruits\u001b[49m);\n",
      "\u001b[1;31mNameError\u001b[0m: name 'fruits' is not defined"
     ]
    }
   ],
   "source": [
    "print(fruits);"
   ]
  },
  {
   "cell_type": "markdown",
   "id": "3235cb80-2de2-4b81-a0f7-ccdca65061d7",
   "metadata": {},
   "source": [
    "Duplicates Not Allowed"
   ]
  },
  {
   "cell_type": "code",
   "execution_count": 9,
   "id": "f69593d7-d48f-4fb1-a3db-edc2583b82d2",
   "metadata": {},
   "outputs": [],
   "source": [
    "fruits = {\"Apple\", \"Banana\"};"
   ]
  },
  {
   "cell_type": "code",
   "execution_count": 10,
   "id": "6c506f26-1dd0-4c69-b2d1-253464d83a5e",
   "metadata": {},
   "outputs": [
    {
     "name": "stdout",
     "output_type": "stream",
     "text": [
      "{'Banana', 'Apple'}\n"
     ]
    }
   ],
   "source": [
    "print(fruits);"
   ]
  },
  {
   "cell_type": "code",
   "execution_count": 11,
   "id": "0d3f2732-6ba4-4b05-a673-46e46e23c34f",
   "metadata": {},
   "outputs": [],
   "source": [
    "del fruits;"
   ]
  },
  {
   "cell_type": "code",
   "execution_count": 12,
   "id": "c4f16897-3ede-4f55-927e-59579f182501",
   "metadata": {},
   "outputs": [],
   "source": [
    "fruits = {\"Apple\", \"Banna\", \"Apple\"};"
   ]
  },
  {
   "cell_type": "code",
   "execution_count": 13,
   "id": "5a32801b-1898-497f-8b92-02d4f910b1fb",
   "metadata": {},
   "outputs": [
    {
     "name": "stdout",
     "output_type": "stream",
     "text": [
      "{'Banna', 'Apple'}\n"
     ]
    }
   ],
   "source": [
    "print(fruits);"
   ]
  },
  {
   "cell_type": "code",
   "execution_count": 14,
   "id": "2721dfc7-6886-4418-ae36-bec0f46feb7e",
   "metadata": {},
   "outputs": [
    {
     "name": "stdout",
     "output_type": "stream",
     "text": [
      "<class 'set'>\n"
     ]
    }
   ],
   "source": [
    "print(type(fruits));"
   ]
  },
  {
   "cell_type": "code",
   "execution_count": 15,
   "id": "ba51b63d-7515-4582-93ae-ffdcd192ac5a",
   "metadata": {},
   "outputs": [],
   "source": [
    "del fruits;"
   ]
  },
  {
   "cell_type": "code",
   "execution_count": 16,
   "id": "faf5da45-3978-4000-b164-1e3edb131bc1",
   "metadata": {},
   "outputs": [],
   "source": [
    "tempSet = {True, 1, False, 0};"
   ]
  },
  {
   "cell_type": "code",
   "execution_count": 17,
   "id": "b8bbb26e-c09e-48ea-a295-82febe33fdb4",
   "metadata": {},
   "outputs": [
    {
     "name": "stdout",
     "output_type": "stream",
     "text": [
      "{False, True}\n"
     ]
    }
   ],
   "source": [
    "print(tempSet);"
   ]
  },
  {
   "cell_type": "code",
   "execution_count": 18,
   "id": "cf7aea66-7fbb-415e-a9a7-12bc4ed951a3",
   "metadata": {},
   "outputs": [],
   "source": [
    "del tempSet;"
   ]
  },
  {
   "cell_type": "markdown",
   "id": "1d21d62a-0a37-4256-b103-75da1612d3df",
   "metadata": {},
   "source": [
    "Length of a Set"
   ]
  },
  {
   "cell_type": "code",
   "execution_count": 19,
   "id": "69d9c946-d2e9-4be1-b1b1-ae0468f98580",
   "metadata": {},
   "outputs": [],
   "source": [
    "fruits = {\"Apple\", \"Banana\"};"
   ]
  },
  {
   "cell_type": "code",
   "execution_count": 20,
   "id": "c1fc3c53-6fdc-48fb-a9c7-0550f25c3c2e",
   "metadata": {},
   "outputs": [
    {
     "name": "stdout",
     "output_type": "stream",
     "text": [
      "<class 'set'> {'Banana', 'Apple'}\n"
     ]
    }
   ],
   "source": [
    "print(type(fruits), fruits);"
   ]
  },
  {
   "cell_type": "code",
   "execution_count": 21,
   "id": "2fead1ca-3cf2-40c3-9634-e901df756b33",
   "metadata": {},
   "outputs": [
    {
     "name": "stdout",
     "output_type": "stream",
     "text": [
      "2\n"
     ]
    }
   ],
   "source": [
    "print(len(fruits));"
   ]
  },
  {
   "cell_type": "markdown",
   "id": "e2336834-b19a-4a2b-aee0-e7db5fb8895b",
   "metadata": {},
   "source": [
    "Data Types - Set Items can be of any data type."
   ]
  },
  {
   "cell_type": "code",
   "execution_count": 22,
   "id": "3f9f9f88-74cd-425d-b32e-06aa6f83cd54",
   "metadata": {},
   "outputs": [],
   "source": [
    "stringSet = {\"Apple\", \"Banana\", \"Cherry\"};"
   ]
  },
  {
   "cell_type": "code",
   "execution_count": 23,
   "id": "380741d4-8e34-4f5c-ab46-1c14ac49d6d5",
   "metadata": {},
   "outputs": [
    {
     "name": "stdout",
     "output_type": "stream",
     "text": [
      "<class 'set'> 3 {'Cherry', 'Apple', 'Banana'}\n"
     ]
    }
   ],
   "source": [
    "print(type(stringSet), len(stringSet), stringSet);"
   ]
  },
  {
   "cell_type": "code",
   "execution_count": 24,
   "id": "99aaf678-1e2b-4a64-9f41-591e497e029d",
   "metadata": {},
   "outputs": [],
   "source": [
    "del stringSet;"
   ]
  },
  {
   "cell_type": "code",
   "execution_count": 25,
   "id": "60fff17e-fb9d-4c85-939b-47c2f4ca260a",
   "metadata": {},
   "outputs": [],
   "source": [
    "intSet = {24, 89, 78};"
   ]
  },
  {
   "cell_type": "code",
   "execution_count": 26,
   "id": "b42b3e3d-0b1b-40d9-a7c2-8457c6d531f7",
   "metadata": {},
   "outputs": [
    {
     "name": "stdout",
     "output_type": "stream",
     "text": [
      "<class 'set'> 3 {24, 89, 78}\n"
     ]
    }
   ],
   "source": [
    "print(type(intSet), len(intSet), intSet);"
   ]
  },
  {
   "cell_type": "code",
   "execution_count": 27,
   "id": "161a7de7-97cb-4bc2-852f-7e02ba77c3b4",
   "metadata": {},
   "outputs": [],
   "source": [
    "del intSet;"
   ]
  },
  {
   "cell_type": "code",
   "execution_count": 28,
   "id": "8a86e40c-8383-42ec-b406-d8e4a0e71d84",
   "metadata": {},
   "outputs": [],
   "source": [
    "booleanSet = {True, False, True, True};"
   ]
  },
  {
   "cell_type": "code",
   "execution_count": 29,
   "id": "ebf6d389-f35a-4e41-99e9-e8d934cfa413",
   "metadata": {},
   "outputs": [
    {
     "name": "stdout",
     "output_type": "stream",
     "text": [
      "<class 'set'> 2 {False, True}\n"
     ]
    }
   ],
   "source": [
    "print(type(booleanSet), len(booleanSet), booleanSet);"
   ]
  },
  {
   "cell_type": "code",
   "execution_count": 30,
   "id": "33728fc2-8573-43a1-92d0-d6821a6f8f94",
   "metadata": {},
   "outputs": [],
   "source": [
    "del booleanSet;"
   ]
  },
  {
   "cell_type": "code",
   "execution_count": 31,
   "id": "097735b8-76a5-45b9-8f60-8f0d7f65867c",
   "metadata": {},
   "outputs": [],
   "source": [
    "mixedSet = {\"Apple\", 24, True};"
   ]
  },
  {
   "cell_type": "code",
   "execution_count": 32,
   "id": "5af38257-7056-4171-8fa5-41e0ce6426e8",
   "metadata": {},
   "outputs": [
    {
     "name": "stdout",
     "output_type": "stream",
     "text": [
      "<class 'set'> 3 {24, True, 'Apple'}\n"
     ]
    }
   ],
   "source": [
    "print(type(mixedSet), len(mixedSet), mixedSet);"
   ]
  },
  {
   "cell_type": "code",
   "execution_count": 33,
   "id": "81647ad7-3ad4-4430-8f42-b1568b9dd941",
   "metadata": {},
   "outputs": [],
   "source": [
    "del mixedSet;"
   ]
  },
  {
   "cell_type": "markdown",
   "id": "2fb75b6c-8592-4e8e-bd75-a4760a3087da",
   "metadata": {},
   "source": [
    "Set Constructor - It is possible to use the set() constructor to make set."
   ]
  },
  {
   "cell_type": "code",
   "execution_count": 34,
   "id": "6ed950e1-6eb4-4a73-bc9f-80b85b1cf94f",
   "metadata": {},
   "outputs": [],
   "source": [
    "fruits = set((\"Apple\", \"Banana\", \"Cherry\"));"
   ]
  },
  {
   "cell_type": "code",
   "execution_count": 35,
   "id": "1cc599c9-c062-42fe-aab8-61162262e3a9",
   "metadata": {},
   "outputs": [
    {
     "name": "stdout",
     "output_type": "stream",
     "text": [
      "<class 'set'> 3 {'Cherry', 'Banana', 'Apple'}\n"
     ]
    }
   ],
   "source": [
    "print(type(fruits), len(fruits), fruits);"
   ]
  },
  {
   "cell_type": "code",
   "execution_count": 36,
   "id": "d1a71410-1d0c-4857-ae36-4c7eecb4f107",
   "metadata": {},
   "outputs": [],
   "source": [
    "del fruits;"
   ]
  },
  {
   "cell_type": "markdown",
   "id": "5de336fd-fb04-4a84-b599-d5c3110ae1c1",
   "metadata": {},
   "source": [
    "Access Set Items - You cannot access items in a set by referring to an index or a key."
   ]
  },
  {
   "cell_type": "code",
   "execution_count": 37,
   "id": "fd3a7ef5-38fc-4f26-abc0-b24b0d4514c6",
   "metadata": {},
   "outputs": [],
   "source": [
    "fruits = {\"Apple\", \"Banana\", \"Cherry\"};"
   ]
  },
  {
   "cell_type": "code",
   "execution_count": 38,
   "id": "46a02720-0c8b-4dfc-86c9-bbfb4bc5984a",
   "metadata": {},
   "outputs": [
    {
     "name": "stdout",
     "output_type": "stream",
     "text": [
      "<class 'set'> 3 {'Banana', 'Apple', 'Cherry'}\n"
     ]
    }
   ],
   "source": [
    "print(type(fruits), len(fruits), fruits);"
   ]
  },
  {
   "cell_type": "code",
   "execution_count": 40,
   "id": "6a7b65d0-6635-4c3f-8d81-22a674c68ad8",
   "metadata": {},
   "outputs": [
    {
     "ename": "TypeError",
     "evalue": "'set' object is not subscriptable",
     "output_type": "error",
     "traceback": [
      "\u001b[1;31m---------------------------------------------------------------------------\u001b[0m",
      "\u001b[1;31mTypeError\u001b[0m                                 Traceback (most recent call last)",
      "Cell \u001b[1;32mIn[40], line 1\u001b[0m\n\u001b[1;32m----> 1\u001b[0m \u001b[38;5;28mprint\u001b[39m(\u001b[43mfruits\u001b[49m\u001b[43m[\u001b[49m\u001b[38;5;241;43m0\u001b[39;49m\u001b[43m]\u001b[49m);\n",
      "\u001b[1;31mTypeError\u001b[0m: 'set' object is not subscriptable"
     ]
    }
   ],
   "source": [
    "print(fruits[0]);"
   ]
  },
  {
   "cell_type": "code",
   "execution_count": 41,
   "id": "61727fd5-07d8-43d2-80d1-62b3929d3ac8",
   "metadata": {},
   "outputs": [
    {
     "name": "stdout",
     "output_type": "stream",
     "text": [
      "Banana\n",
      "Apple\n",
      "Cherry\n"
     ]
    }
   ],
   "source": [
    "for eachFruit in fruits:\n",
    "    print(eachFruit);"
   ]
  },
  {
   "cell_type": "code",
   "execution_count": 42,
   "id": "daeeacb3-458a-4ddf-ae8b-9f65a9d15c81",
   "metadata": {},
   "outputs": [
    {
     "name": "stdout",
     "output_type": "stream",
     "text": [
      "True\n"
     ]
    }
   ],
   "source": [
    "if \"Banana\" in fruits:\n",
    "    print(\"Banana\" in fruits);\n",
    "else:\n",
    "    print(\"Banana\" in fruits);"
   ]
  },
  {
   "cell_type": "code",
   "execution_count": 43,
   "id": "2f75d1e2-307d-4c12-a0de-06ea74243a12",
   "metadata": {},
   "outputs": [
    {
     "name": "stdout",
     "output_type": "stream",
     "text": [
      "False\n"
     ]
    }
   ],
   "source": [
    "if \"banana\" in fruits:\n",
    "    print(\"banana\" in fruits);\n",
    "else:\n",
    "    print(\"banana\" in fruits);"
   ]
  },
  {
   "cell_type": "code",
   "execution_count": 45,
   "id": "d8792120-e577-44d9-9a5d-09a7ce1e1653",
   "metadata": {},
   "outputs": [
    {
     "name": "stdout",
     "output_type": "stream",
     "text": [
      "True\n"
     ]
    }
   ],
   "source": [
    "if \"apple\".capitalize() in fruits:\n",
    "    print(\"apple\".capitalize() in fruits);\n",
    "else:\n",
    "    print(\"apple\" in fruits);"
   ]
  },
  {
   "cell_type": "code",
   "execution_count": 47,
   "id": "a208cd76-25e5-404b-8212-4c37a0c8e6e5",
   "metadata": {},
   "outputs": [],
   "source": [
    "del fruits;"
   ]
  },
  {
   "cell_type": "markdown",
   "id": "944ffb4f-2111-41b6-9846-1ff295453a4a",
   "metadata": {},
   "source": [
    "Once set is created, you cannot change its items, but you can add new items."
   ]
  },
  {
   "cell_type": "markdown",
   "id": "ef60e880-ce14-41e5-8eee-dbaefaf6b7ad",
   "metadata": {},
   "source": [
    "Add Set Items - Once a set is created, you cannot change its items, but you can add new items. To add one item to a set use the add() method."
   ]
  },
  {
   "cell_type": "code",
   "execution_count": 48,
   "id": "3554e133-06fd-46e6-9d05-becc473754c9",
   "metadata": {},
   "outputs": [],
   "source": [
    "fruits = {\"Apple\", \"Banana\", \"Cherry\"};"
   ]
  },
  {
   "cell_type": "code",
   "execution_count": 49,
   "id": "16c2344e-750d-4355-bba1-938d2b3d1cd2",
   "metadata": {},
   "outputs": [],
   "source": [
    "fruits.add(\"Dragon Fruit\");"
   ]
  },
  {
   "cell_type": "code",
   "execution_count": 50,
   "id": "c0bce92e-ee36-47b9-8e03-ae9d4e5b7241",
   "metadata": {},
   "outputs": [
    {
     "name": "stdout",
     "output_type": "stream",
     "text": [
      "<class 'set'> 4 {'Dragon Fruit', 'Cherry', 'Apple', 'Banana'}\n"
     ]
    }
   ],
   "source": [
    "print(type(fruits), len(fruits), fruits);"
   ]
  },
  {
   "cell_type": "code",
   "execution_count": 51,
   "id": "d9ba9bc5-a720-4153-a660-c94a62b04459",
   "metadata": {},
   "outputs": [],
   "source": [
    "del fruits;"
   ]
  },
  {
   "cell_type": "markdown",
   "id": "dd9463ec-722a-4cc0-8082-4a7d4270c3a8",
   "metadata": {},
   "source": [
    "To add items from another set into the current set, use the update() method."
   ]
  },
  {
   "cell_type": "code",
   "execution_count": 52,
   "id": "f43d27e2-b160-49db-9433-f518d6617d1c",
   "metadata": {},
   "outputs": [],
   "source": [
    "name = {\"Akash\", \"\", \"Ramasani\"};\n",
    "dateOfBirth = {27, \"May\", 2001};"
   ]
  },
  {
   "cell_type": "code",
   "execution_count": 53,
   "id": "d2264595-062d-4bd3-9271-84e3ff753f57",
   "metadata": {},
   "outputs": [],
   "source": [
    "name.update(dateOfBirth); #update() method will exclude any duplicate items"
   ]
  },
  {
   "cell_type": "code",
   "execution_count": 54,
   "id": "05bde711-213c-42ec-ac90-37b1be3c6439",
   "metadata": {},
   "outputs": [
    {
     "name": "stdout",
     "output_type": "stream",
     "text": [
      "<class 'set'> 6 {'', 'Akash', 2001, 'May', 27, 'Ramasani'}\n"
     ]
    }
   ],
   "source": [
    "print(type(name), len(name), name);"
   ]
  },
  {
   "cell_type": "code",
   "execution_count": 56,
   "id": "15dcc29f-ecd4-4dbb-bc1c-867d10a822b7",
   "metadata": {},
   "outputs": [],
   "source": [
    "del name, dateOfBirth;"
   ]
  },
  {
   "cell_type": "markdown",
   "id": "d14dbaf0-ce8a-41a6-b390-aa72d7173e99",
   "metadata": {},
   "source": [
    "Add any iterable - The object in the update() method does not have to be set, it can be any iterable object(Tuples, List, Dictionaries);"
   ]
  },
  {
   "cell_type": "code",
   "execution_count": 57,
   "id": "4378774d-5d19-4eb0-91ff-0d960fef9eac",
   "metadata": {},
   "outputs": [],
   "source": [
    "name = [\"Akash\", \"\", \"Ramasani\"];\n",
    "placeOfBirth = {\"Suryapet\",};"
   ]
  },
  {
   "cell_type": "code",
   "execution_count": 58,
   "id": "3d963ba4-0a10-43c6-99bc-169b40515204",
   "metadata": {},
   "outputs": [],
   "source": [
    "placeOfBirth.update(name);"
   ]
  },
  {
   "cell_type": "code",
   "execution_count": 60,
   "id": "ebee0c10-d6e1-4fb0-8dcb-0d1dd36d6d67",
   "metadata": {},
   "outputs": [
    {
     "name": "stdout",
     "output_type": "stream",
     "text": [
      "<class 'set'> 4 {'', 'Akash', 'Ramasani', 'Suryapet'}\n"
     ]
    }
   ],
   "source": [
    "print(type(placeOfBirth), len(placeOfBirth), placeOfBirth);"
   ]
  },
  {
   "cell_type": "code",
   "execution_count": 61,
   "id": "0a2c7fa6-4b06-4fe6-8ce0-abfbc4f71c7c",
   "metadata": {},
   "outputs": [],
   "source": [
    "del name, placeOfBirth;"
   ]
  },
  {
   "cell_type": "markdown",
   "id": "6e79317c-74bc-47ee-a139-6c6630fd689c",
   "metadata": {},
   "source": [
    "Remove Set Items - To remove an item in a set, use the remove(), or the discord() method."
   ]
  },
  {
   "cell_type": "code",
   "execution_count": 62,
   "id": "577087bb-0524-41fb-96b0-e6fd390adda0",
   "metadata": {},
   "outputs": [],
   "source": [
    "fruits = {\"Apple\", \"Banana\", \"Cherry\"};"
   ]
  },
  {
   "cell_type": "code",
   "execution_count": 63,
   "id": "19da2453-af57-4d1d-8af4-d92a21e88ab3",
   "metadata": {},
   "outputs": [],
   "source": [
    "fruits.remove(\"Apple\");"
   ]
  },
  {
   "cell_type": "code",
   "execution_count": 64,
   "id": "58880058-a6d3-4695-8548-92c7f25bea8f",
   "metadata": {},
   "outputs": [
    {
     "name": "stdout",
     "output_type": "stream",
     "text": [
      "<class 'set'> 2 {'Cherry', 'Banana'}\n"
     ]
    }
   ],
   "source": [
    "print(type(fruits), len(fruits), fruits);"
   ]
  },
  {
   "cell_type": "code",
   "execution_count": 65,
   "id": "36089883-ff19-46e1-9fee-18f19a40387f",
   "metadata": {},
   "outputs": [
    {
     "ename": "KeyError",
     "evalue": "'Apple'",
     "output_type": "error",
     "traceback": [
      "\u001b[1;31m---------------------------------------------------------------------------\u001b[0m",
      "\u001b[1;31mKeyError\u001b[0m                                  Traceback (most recent call last)",
      "Cell \u001b[1;32mIn[65], line 1\u001b[0m\n\u001b[1;32m----> 1\u001b[0m \u001b[43mfruits\u001b[49m\u001b[38;5;241;43m.\u001b[39;49m\u001b[43mremove\u001b[49m\u001b[43m(\u001b[49m\u001b[38;5;124;43m\"\u001b[39;49m\u001b[38;5;124;43mApple\u001b[39;49m\u001b[38;5;124;43m\"\u001b[39;49m\u001b[43m)\u001b[49m;\n",
      "\u001b[1;31mKeyError\u001b[0m: 'Apple'"
     ]
    }
   ],
   "source": [
    "fruits.remove(\"Apple\");"
   ]
  },
  {
   "cell_type": "code",
   "execution_count": 66,
   "id": "3315c254-c34e-49fb-a290-19bac40bbb34",
   "metadata": {},
   "outputs": [
    {
     "ename": "KeyError",
     "evalue": "'Apple'",
     "output_type": "error",
     "traceback": [
      "\u001b[1;31m---------------------------------------------------------------------------\u001b[0m",
      "\u001b[1;31mKeyError\u001b[0m                                  Traceback (most recent call last)",
      "Cell \u001b[1;32mIn[66], line 1\u001b[0m\n\u001b[1;32m----> 1\u001b[0m \u001b[38;5;28mprint\u001b[39m(\u001b[43mfruits\u001b[49m\u001b[38;5;241;43m.\u001b[39;49m\u001b[43mremove\u001b[49m\u001b[43m(\u001b[49m\u001b[38;5;124;43m\"\u001b[39;49m\u001b[38;5;124;43mApple\u001b[39;49m\u001b[38;5;124;43m\"\u001b[39;49m\u001b[43m)\u001b[49m)\n",
      "\u001b[1;31mKeyError\u001b[0m: 'Apple'"
     ]
    }
   ],
   "source": [
    "print(fruits.remove(\"Apple\"))"
   ]
  },
  {
   "cell_type": "code",
   "execution_count": 67,
   "id": "8943e8c9-644d-459a-bb74-0ef2174441d7",
   "metadata": {},
   "outputs": [
    {
     "name": "stdout",
     "output_type": "stream",
     "text": [
      "None\n"
     ]
    }
   ],
   "source": [
    "print(fruits.remove(\"Banana\"));"
   ]
  },
  {
   "cell_type": "code",
   "execution_count": 68,
   "id": "ba4ce02e-e527-4532-a1cf-d879c41ef620",
   "metadata": {},
   "outputs": [],
   "source": [
    "del fruits;"
   ]
  },
  {
   "cell_type": "markdown",
   "id": "c28c6f62-f254-49a0-bb3f-5fddb648fe70",
   "metadata": {},
   "source": [
    "discard() Method"
   ]
  },
  {
   "cell_type": "code",
   "execution_count": 69,
   "id": "e451a371-d627-4b77-9bb2-004f997bb51f",
   "metadata": {},
   "outputs": [],
   "source": [
    "fruits = {\"Apple\", \"Banana\", \"Cherry\"};"
   ]
  },
  {
   "cell_type": "code",
   "execution_count": 70,
   "id": "0cedd09d-a2d0-4fb7-9c65-85d34bfde1c6",
   "metadata": {},
   "outputs": [],
   "source": [
    "fruits.discard(\"Apple\");"
   ]
  },
  {
   "cell_type": "code",
   "execution_count": 71,
   "id": "a9f9027f-745a-4366-8058-88560fd1fb2a",
   "metadata": {},
   "outputs": [
    {
     "name": "stdout",
     "output_type": "stream",
     "text": [
      "<class 'set'> 2 {'Cherry', 'Banana'}\n"
     ]
    }
   ],
   "source": [
    "print(type(fruits), len(fruits), fruits);"
   ]
  },
  {
   "cell_type": "code",
   "execution_count": 72,
   "id": "a37d757f-c19d-4e96-862f-f2b9c4fee8be",
   "metadata": {},
   "outputs": [],
   "source": [
    "fruits.discard(\"Apple\");"
   ]
  },
  {
   "cell_type": "code",
   "execution_count": 73,
   "id": "a6bac43a-d505-47cc-8409-bf87839af503",
   "metadata": {},
   "outputs": [
    {
     "name": "stdout",
     "output_type": "stream",
     "text": [
      "{'Cherry', 'Banana'}\n"
     ]
    }
   ],
   "source": [
    "print(fruits);"
   ]
  },
  {
   "cell_type": "code",
   "execution_count": 74,
   "id": "92ed01b4-5fe5-46f1-b901-141e3b56a2ad",
   "metadata": {},
   "outputs": [],
   "source": [
    "del fruits;"
   ]
  },
  {
   "cell_type": "markdown",
   "id": "7d07fa12-ea47-41b6-83db-48d3a5dad526",
   "metadata": {},
   "source": [
    "You can also use the pop() method to remove an item, but this method will remove a random item, so you cannot be sure what items get removed."
   ]
  },
  {
   "cell_type": "code",
   "execution_count": 75,
   "id": "8689096c-48e8-454c-8215-768a6462a69e",
   "metadata": {},
   "outputs": [],
   "source": [
    "fruits = {\"Apple\", \"Banana\", \"Cherry\"};"
   ]
  },
  {
   "cell_type": "code",
   "execution_count": 76,
   "id": "41e97c04-84be-459a-8e97-e1419c88c14e",
   "metadata": {},
   "outputs": [
    {
     "name": "stdout",
     "output_type": "stream",
     "text": [
      "<class 'set'> 3 {'Cherry', 'Apple', 'Banana'}\n"
     ]
    }
   ],
   "source": [
    "print(type(fruits), len(fruits), fruits);"
   ]
  },
  {
   "cell_type": "code",
   "execution_count": 77,
   "id": "e4d97a25-1e5e-4321-8917-8d53ccc01ed3",
   "metadata": {},
   "outputs": [],
   "source": [
    "fruits.pop();"
   ]
  },
  {
   "cell_type": "code",
   "execution_count": 78,
   "id": "e4640522-07d8-44dd-bb14-710a267b1f90",
   "metadata": {},
   "outputs": [
    {
     "name": "stdout",
     "output_type": "stream",
     "text": [
      "{'Apple', 'Banana'}\n"
     ]
    }
   ],
   "source": [
    "print(fruits);"
   ]
  },
  {
   "cell_type": "code",
   "execution_count": 79,
   "id": "32461d28-fb6a-48cd-978d-3dfc1b902a35",
   "metadata": {},
   "outputs": [],
   "source": [
    "fruits.pop();"
   ]
  },
  {
   "cell_type": "code",
   "execution_count": 80,
   "id": "43cc9079-9907-435c-96fd-6d4b84bb8841",
   "metadata": {},
   "outputs": [
    {
     "name": "stdout",
     "output_type": "stream",
     "text": [
      "{'Banana'}\n"
     ]
    }
   ],
   "source": [
    "print(fruits);"
   ]
  },
  {
   "cell_type": "code",
   "execution_count": 81,
   "id": "0833451c-01cb-4f32-ba45-814f61eec019",
   "metadata": {},
   "outputs": [],
   "source": [
    "del fruits;"
   ]
  },
  {
   "cell_type": "markdown",
   "id": "2da523ee-77d7-4f25-b146-2cdfbd62f663",
   "metadata": {},
   "source": [
    "use clear() method empties the list."
   ]
  },
  {
   "cell_type": "code",
   "execution_count": 83,
   "id": "ee12c09e-f6fa-49a2-8b97-6c1df873aa39",
   "metadata": {},
   "outputs": [],
   "source": [
    "fruits = {\"Apple\", \"Banana\", \"Cherry\"};"
   ]
  },
  {
   "cell_type": "code",
   "execution_count": 84,
   "id": "94951c76-2358-4699-ac43-4d2923b2bf75",
   "metadata": {},
   "outputs": [],
   "source": [
    "fruits.clear();"
   ]
  },
  {
   "cell_type": "code",
   "execution_count": 86,
   "id": "8d860dda-d0d4-441e-a7e6-96b9ba6c4c3a",
   "metadata": {},
   "outputs": [
    {
     "name": "stdout",
     "output_type": "stream",
     "text": [
      "0 set()\n"
     ]
    }
   ],
   "source": [
    "print(len(fruits), fruits);"
   ]
  },
  {
   "cell_type": "markdown",
   "id": "feec0688-cc0c-4111-a9e9-625c670275d6",
   "metadata": {},
   "source": [
    "Delete the Set - del keyword will delete the set completely."
   ]
  },
  {
   "cell_type": "code",
   "execution_count": 87,
   "id": "20edd38e-51ee-405b-8589-d0871a65ec2c",
   "metadata": {},
   "outputs": [],
   "source": [
    "del fruits;"
   ]
  },
  {
   "cell_type": "markdown",
   "id": "383571b2-3b4b-45f6-bb68-ce9fe46186fa",
   "metadata": {},
   "source": [
    "Join Sets - union() method that returns a new set containing all ietms from both sets."
   ]
  },
  {
   "cell_type": "code",
   "execution_count": 3,
   "id": "2dbc08fc-6341-4214-8911-e3d5b90cc170",
   "metadata": {},
   "outputs": [],
   "source": [
    "name = {\"Akash\", \"\", \"Ramasani\"};"
   ]
  },
  {
   "cell_type": "code",
   "execution_count": 4,
   "id": "b36cdc95-47cb-480a-9a5a-6f56455e6e41",
   "metadata": {},
   "outputs": [],
   "source": [
    "dateOfBirth = {2, \"May\", 2001};"
   ]
  },
  {
   "cell_type": "code",
   "execution_count": 5,
   "id": "7e196bc8-12eb-44fc-9a0e-07626433eb95",
   "metadata": {},
   "outputs": [
    {
     "name": "stdout",
     "output_type": "stream",
     "text": [
      "{'', 2001, 2, 'Akash', 'May', 'Ramasani'}\n"
     ]
    }
   ],
   "source": [
    "profile = name.union(dateOfBirth);\n",
    "print(name.union(dateOfBirth));"
   ]
  },
  {
   "cell_type": "code",
   "execution_count": 6,
   "id": "b838d054-f5e2-4c32-b9bf-386f10959429",
   "metadata": {},
   "outputs": [
    {
     "name": "stdout",
     "output_type": "stream",
     "text": [
      "{'', 2001, 2, 'Akash', 'May', 'Ramasani'}\n"
     ]
    }
   ],
   "source": [
    "print(profile);"
   ]
  },
  {
   "cell_type": "code",
   "execution_count": 8,
   "id": "e0803b1a-b421-47a4-828f-06b78986158a",
   "metadata": {},
   "outputs": [
    {
     "ename": "NameError",
     "evalue": "name 'name' is not defined",
     "output_type": "error",
     "traceback": [
      "\u001b[1;31m---------------------------------------------------------------------------\u001b[0m",
      "\u001b[1;31mNameError\u001b[0m                                 Traceback (most recent call last)",
      "Cell \u001b[1;32mIn[8], line 1\u001b[0m\n\u001b[1;32m----> 1\u001b[0m \u001b[38;5;28;01mdel\u001b[39;00m \u001b[43mname\u001b[49m, dateOfBirth, profile;\n",
      "\u001b[1;31mNameError\u001b[0m: name 'name' is not defined"
     ]
    }
   ],
   "source": [
    "del name, dateOfBirth, profile;"
   ]
  }
 ],
 "metadata": {
  "kernelspec": {
   "display_name": "Python 3 (ipykernel)",
   "language": "python",
   "name": "python3"
  },
  "language_info": {
   "codemirror_mode": {
    "name": "ipython",
    "version": 3
   },
   "file_extension": ".py",
   "mimetype": "text/x-python",
   "name": "python",
   "nbconvert_exporter": "python",
   "pygments_lexer": "ipython3",
   "version": "3.11.6"
  }
 },
 "nbformat": 4,
 "nbformat_minor": 5
}
