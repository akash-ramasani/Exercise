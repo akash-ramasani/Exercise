{
 "cells": [
  {
   "cell_type": "markdown",
   "id": "aba3e2c3-f516-4f86-8fe6-4c054aa18dc4",
   "metadata": {},
   "source": [
    "lambda function is a small anonymous function"
   ]
  },
  {
   "cell_type": "code",
   "execution_count": 1,
   "id": "1bf6e80e-ec9c-4d37-b73d-8c937a3d44ca",
   "metadata": {},
   "outputs": [
    {
     "data": {
      "text/plain": [
       "<function __main__.<lambda>(arguments)>"
      ]
     },
     "execution_count": 1,
     "metadata": {},
     "output_type": "execute_result"
    }
   ],
   "source": [
    "lambda arguments : expression"
   ]
  },
  {
   "cell_type": "code",
   "execution_count": 2,
   "id": "1208924d-8023-4ce9-a457-7bbc3b6895be",
   "metadata": {},
   "outputs": [],
   "source": [
    "add = lambda firstNumber, secondNumber : firstNumber + secondNumber;"
   ]
  },
  {
   "cell_type": "code",
   "execution_count": 4,
   "id": "d2fcfdb3-8afa-408e-9a98-da529e040e05",
   "metadata": {},
   "outputs": [
    {
     "name": "stdout",
     "output_type": "stream",
     "text": [
      "11\n"
     ]
    }
   ],
   "source": [
    "print(add(4, 7));"
   ]
  },
  {
   "cell_type": "code",
   "execution_count": 5,
   "id": "86185f3e-53e4-454d-a7e6-c9e0793b5f27",
   "metadata": {},
   "outputs": [],
   "source": [
    "addThreeNumbers = lambda firstNumber, secondNumber, thirdNumber : firstNumber + secondNumber + thirdNumber;"
   ]
  },
  {
   "cell_type": "code",
   "execution_count": 6,
   "id": "67719984-2c58-4f27-a275-4cd8d186e68d",
   "metadata": {},
   "outputs": [
    {
     "name": "stdout",
     "output_type": "stream",
     "text": [
      "29\n"
     ]
    }
   ],
   "source": [
    "print(addThreeNumbers(4, 7, 18));"
   ]
  }
 ],
 "metadata": {
  "kernelspec": {
   "display_name": "Python 3 (ipykernel)",
   "language": "python",
   "name": "python3"
  },
  "language_info": {
   "codemirror_mode": {
    "name": "ipython",
    "version": 3
   },
   "file_extension": ".py",
   "mimetype": "text/x-python",
   "name": "python",
   "nbconvert_exporter": "python",
   "pygments_lexer": "ipython3",
   "version": "3.11.5"
  }
 },
 "nbformat": 4,
 "nbformat_minor": 5
}
