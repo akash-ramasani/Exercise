{
 "cells": [
  {
   "cell_type": "code",
   "execution_count": 1,
   "id": "cf2cd1f9-3d49-4666-837c-aa8eca7a4ae8",
   "metadata": {},
   "outputs": [
    {
     "name": "stdout",
     "output_type": "stream",
     "text": [
      "Hello\n"
     ]
    }
   ],
   "source": [
    "print('Hello');"
   ]
  },
  {
   "cell_type": "code",
   "execution_count": 2,
   "id": "4df4bca0-80f7-438a-9562-4fed6215224b",
   "metadata": {},
   "outputs": [
    {
     "name": "stdout",
     "output_type": "stream",
     "text": [
      "Hello\n"
     ]
    }
   ],
   "source": [
    "print(\"Hello\");"
   ]
  },
  {
   "cell_type": "code",
   "execution_count": 3,
   "id": "be3df1f6-67f7-431e-b838-247966c62f3a",
   "metadata": {},
   "outputs": [],
   "source": [
    "firstName = \"Akash\";"
   ]
  },
  {
   "cell_type": "code",
   "execution_count": 4,
   "id": "b7222a46-3031-42dd-978e-d1a652fa8295",
   "metadata": {},
   "outputs": [
    {
     "name": "stdout",
     "output_type": "stream",
     "text": [
      "Akash\n"
     ]
    }
   ],
   "source": [
    "print(firstName);"
   ]
  },
  {
   "cell_type": "code",
   "execution_count": null,
   "id": "ff008a60-b285-45c7-9137-3cb9be815ea3",
   "metadata": {},
   "outputs": [],
   "source": [
    "multiLineString = \"\"\"This \n",
    "is \n",
    "Multiline\n",
    "String\"\"\""
   ]
  }
 ],
 "metadata": {
  "kernelspec": {
   "display_name": "Python 3 (ipykernel)",
   "language": "python",
   "name": "python3"
  },
  "language_info": {
   "codemirror_mode": {
    "name": "ipython",
    "version": 3
   },
   "file_extension": ".py",
   "mimetype": "text/x-python",
   "name": "python",
   "nbconvert_exporter": "python",
   "pygments_lexer": "ipython3",
   "version": "3.11.6"
  }
 },
 "nbformat": 4,
 "nbformat_minor": 5
}
