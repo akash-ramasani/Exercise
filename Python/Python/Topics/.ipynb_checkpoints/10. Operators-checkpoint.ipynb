{
 "cells": [
  {
   "cell_type": "markdown",
   "id": "88518188-ac36-4389-bd14-aa71bbd4df7f",
   "metadata": {},
   "source": [
    "Operators are used to perform operations on Variables and Values."
   ]
  },
  {
   "cell_type": "markdown",
   "id": "3cdf9c9a-b190-4c36-91b1-a7177688e37a",
   "metadata": {},
   "source": [
    "Arithmetic Operators\n",
    "\n",
    "Arithmetic Operators are used with Numeric Values to perform common Mathematical Operations."
   ]
  },
  {
   "cell_type": "code",
   "execution_count": 1,
   "id": "d1eff55a-2c3d-4548-a67b-c1aca8cffc5b",
   "metadata": {},
   "outputs": [],
   "source": [
    "firstNumber, secondNumber = 45, 77;"
   ]
  },
  {
   "cell_type": "code",
   "execution_count": 8,
   "id": "0e794156-835a-4189-80c0-4e2f728022c6",
   "metadata": {},
   "outputs": [
    {
     "name": "stdout",
     "output_type": "stream",
     "text": [
      "Addition value of 45 and 77 is 122.\n"
     ]
    }
   ],
   "source": [
    "print(\"Addition value of {} and {} is {}.\".format(firstNumber, secondNumber, firstNumber+secondNumber));"
   ]
  },
  {
   "cell_type": "code",
   "execution_count": 9,
   "id": "845ff41a-4914-44c1-ae83-74ff3f46ec7d",
   "metadata": {},
   "outputs": [
    {
     "name": "stdout",
     "output_type": "stream",
     "text": [
      "Subtraction value of 45 and 77 is -32.\n"
     ]
    }
   ],
   "source": [
    "print(\"Subtraction value of {} and {} is {}.\".format(firstNumber, secondNumber, firstNumber-secondNumber));"
   ]
  },
  {
   "cell_type": "code",
   "execution_count": 10,
   "id": "6fb74c49-e8e7-4b62-b558-25fcaacb2f1b",
   "metadata": {},
   "outputs": [
    {
     "name": "stdout",
     "output_type": "stream",
     "text": [
      "Mulitiplied value of 45 and 77 is 3465.\n"
     ]
    }
   ],
   "source": [
    "print(\"Mulitiplied value of {} and {} is {}.\".format(firstNumber, secondNumber, firstNumber*secondNumber));"
   ]
  },
  {
   "cell_type": "code",
   "execution_count": 11,
   "id": "4fe77629-6079-48e1-ae04-0f224b0f9d39",
   "metadata": {},
   "outputs": [
    {
     "name": "stdout",
     "output_type": "stream",
     "text": [
      "Divison value of 45 and 77 is 0.5844155844155844.\n"
     ]
    }
   ],
   "source": [
    "print(\"Divison value of {} and {} is {}.\".format(firstNumber, secondNumber, firstNumber/secondNumber));"
   ]
  },
  {
   "cell_type": "code",
   "execution_count": 12,
   "id": "acb80568-1aec-4374-b421-6d37e5d58666",
   "metadata": {},
   "outputs": [
    {
     "name": "stdout",
     "output_type": "stream",
     "text": [
      "Reminder after the division operation is performed on 45 and 77 is 45.\n"
     ]
    }
   ],
   "source": [
    "print(\"Reminder after the division operation is performed on {} and {} is {}.\".format(firstNumber, secondNumber, firstNumber%secondNumber));"
   ]
  },
  {
   "cell_type": "code",
   "execution_count": 13,
   "id": "d7eeee95-c4bf-4ca2-91a0-ee3cd81393f6",
   "metadata": {},
   "outputs": [],
   "source": [
    "base, power = 2, 3;"
   ]
  },
  {
   "cell_type": "code",
   "execution_count": 16,
   "id": "c3af9815-9023-4045-832d-d815dc394c91",
   "metadata": {},
   "outputs": [
    {
     "name": "stdout",
     "output_type": "stream",
     "text": [
      "Exponentiation value of 2 and 3 is 8.\n"
     ]
    }
   ],
   "source": [
    "print(\"Exponentiation value of {} and {} is {}.\".format(base, power, base**power)); ##It is same as 2 * 2 * 2;"
   ]
  },
  {
   "cell_type": "code",
   "execution_count": 17,
   "id": "93e1863e-8253-4302-94a8-cc3063d48845",
   "metadata": {},
   "outputs": [],
   "source": [
    "firstNumber, secondNumber = 100, 3;"
   ]
  },
  {
   "cell_type": "code",
   "execution_count": 18,
   "id": "9ea4550b-ed08-4869-bd81-b67252b5c2e2",
   "metadata": {},
   "outputs": [
    {
     "name": "stdout",
     "output_type": "stream",
     "text": [
      "Floor Division value of 100 and 3 is 33.\n"
     ]
    }
   ],
   "source": [
    "print(\"Floor Division value of {} and {} is {}.\".format(firstNumber, secondNumber, firstNumber // secondNumber));"
   ]
  },
  {
   "cell_type": "markdown",
   "id": "3d2dc3e5-3a16-4aa0-9a61-93c5209cd42a",
   "metadata": {},
   "source": [
    "Comparision Operators are used to compare Two Values."
   ]
  },
  {
   "cell_type": "code",
   "execution_count": 19,
   "id": "dd6728eb-ce76-41d4-b833-34911c06e21c",
   "metadata": {},
   "outputs": [],
   "source": [
    "firstNumber, secondNumber = 14, 18;"
   ]
  },
  {
   "cell_type": "code",
   "execution_count": 22,
   "id": "bf289c04-31ea-47c4-8f24-4526d364d446",
   "metadata": {},
   "outputs": [
    {
     "name": "stdout",
     "output_type": "stream",
     "text": [
      "14 and 18 are equal: False\n"
     ]
    }
   ],
   "source": [
    "print(\"{} and {} are equal: {}\".format(firstNumber, secondNumber, firstNumber == secondNumber));"
   ]
  },
  {
   "cell_type": "code",
   "execution_count": 23,
   "id": "4414db93-5a48-4a88-9c5a-53c688cc84eb",
   "metadata": {},
   "outputs": [
    {
     "name": "stdout",
     "output_type": "stream",
     "text": [
      "14 and 18 are not equal: True\n"
     ]
    }
   ],
   "source": [
    "print(\"{} and {} are not equal: {}\".format(firstNumber, secondNumber, firstNumber != secondNumber));"
   ]
  },
  {
   "cell_type": "code",
   "execution_count": 24,
   "id": "2095613e-2784-4d70-88cb-ba13b32b3c29",
   "metadata": {},
   "outputs": [
    {
     "name": "stdout",
     "output_type": "stream",
     "text": [
      "14 is greater than 18: False\n"
     ]
    }
   ],
   "source": [
    "print(\"{} is greater than {}: {}\".format(firstNumber, secondNumber, firstNumber > secondNumber));"
   ]
  },
  {
   "cell_type": "code",
   "execution_count": 25,
   "id": "9c327668-5c93-4fc0-b147-ca17f21dc9e4",
   "metadata": {},
   "outputs": [
    {
     "name": "stdout",
     "output_type": "stream",
     "text": [
      "14 is smaller than 18: True\n"
     ]
    }
   ],
   "source": [
    "print(\"{} is smaller than {}: {}\".format(firstNumber, secondNumber, firstNumber < secondNumber));"
   ]
  },
  {
   "cell_type": "code",
   "execution_count": 26,
   "id": "a259b65e-1939-46a9-b2e6-0f3374312e3e",
   "metadata": {},
   "outputs": [],
   "source": [
    "firstNumber, secondNumber = 14, 14;"
   ]
  },
  {
   "cell_type": "code",
   "execution_count": 27,
   "id": "7fee1802-a1a5-4935-8818-0b0bf75249d8",
   "metadata": {},
   "outputs": [
    {
     "name": "stdout",
     "output_type": "stream",
     "text": [
      "14 and 14 are equal: True\n"
     ]
    }
   ],
   "source": [
    "print(\"{} and {} are equal: {}\".format(firstNumber, secondNumber, firstNumber == secondNumber));"
   ]
  },
  {
   "cell_type": "code",
   "execution_count": 29,
   "id": "8061ec75-e78e-49f2-950c-5a6b195ae4a8",
   "metadata": {},
   "outputs": [
    {
     "name": "stdout",
     "output_type": "stream",
     "text": [
      "14 is greater than or equal to 14: True\n"
     ]
    }
   ],
   "source": [
    "print(\"{} is greater than or equal to {}: {}\".format(firstNumber, secondNumber, firstNumber >= secondNumber));"
   ]
  },
  {
   "cell_type": "code",
   "execution_count": 30,
   "id": "cd952bb7-b643-4273-aa04-fd2366ff7f09",
   "metadata": {},
   "outputs": [
    {
     "name": "stdout",
     "output_type": "stream",
     "text": [
      "14 is lesser than or equals to 14: True\n"
     ]
    }
   ],
   "source": [
    "print(\"{} is lesser than or equals to {}: {}\".format(firstNumber, secondNumber, firstNumber <= secondNumber));"
   ]
  },
  {
   "cell_type": "code",
   "execution_count": null,
   "id": "1affc35a-24c3-4661-a748-bb26d965ec97",
   "metadata": {},
   "outputs": [],
   "source": []
  }
 ],
 "metadata": {
  "kernelspec": {
   "display_name": "Python 3 (ipykernel)",
   "language": "python",
   "name": "python3"
  },
  "language_info": {
   "codemirror_mode": {
    "name": "ipython",
    "version": 3
   },
   "file_extension": ".py",
   "mimetype": "text/x-python",
   "name": "python",
   "nbconvert_exporter": "python",
   "pygments_lexer": "ipython3",
   "version": "3.11.6"
  }
 },
 "nbformat": 4,
 "nbformat_minor": 5
}
