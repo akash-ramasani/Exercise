{
 "cells": [
  {
   "cell_type": "markdown",
   "id": "22ef6dfe-402e-4d0d-9133-24e3549b0c07",
   "metadata": {},
   "source": [
    "For loop is used for iterating over a sequence. With the For loop we can execute a set of statements, once for each item in the given data."
   ]
  },
  {
   "cell_type": "code",
   "execution_count": 1,
   "id": "1c139121-68f6-456c-a60f-e86f2824c9fe",
   "metadata": {},
   "outputs": [],
   "source": [
    "fruitsList = [\"Apple\", \"Banana\", \"Cherry\"]"
   ]
  },
  {
   "cell_type": "code",
   "execution_count": 3,
   "id": "e8acae58-7e2a-4803-a85d-da586e805c6b",
   "metadata": {},
   "outputs": [
    {
     "name": "stdout",
     "output_type": "stream",
     "text": [
      "Apple\n",
      "Banana\n",
      "Cherry\n"
     ]
    }
   ],
   "source": [
    "for eachFruit in fruitsList:\n",
    "    print(eachFruit)"
   ]
  },
  {
   "cell_type": "markdown",
   "id": "36839461-4e11-4dbe-8213-5ec0526c1c1a",
   "metadata": {},
   "source": [
    "Looping through String"
   ]
  },
  {
   "cell_type": "code",
   "execution_count": 6,
   "id": "bb9f74d9-6f9d-414f-8009-472178e1be35",
   "metadata": {},
   "outputs": [
    {
     "name": "stdout",
     "output_type": "stream",
     "text": [
      "A\n",
      "k\n",
      "a\n",
      "s\n",
      "h\n"
     ]
    }
   ],
   "source": [
    "for eachLetter in \"Akash\":\n",
    "    print(eachLetter);"
   ]
  },
  {
   "cell_type": "code",
   "execution_count": 7,
   "id": "c9753e2b-778a-4c1b-94f3-7dacb57e8cb6",
   "metadata": {},
   "outputs": [
    {
     "name": "stdout",
     "output_type": "stream",
     "text": [
      "a\n",
      "k\n",
      "a\n",
      "s\n",
      "h\n"
     ]
    }
   ],
   "source": [
    "for eachLetter in \"Akash\".lower():\n",
    "    print(eachLetter);"
   ]
  },
  {
   "cell_type": "code",
   "execution_count": 8,
   "id": "e7d79e72-86a1-4362-889e-facbd2e23663",
   "metadata": {},
   "outputs": [
    {
     "name": "stdout",
     "output_type": "stream",
     "text": [
      "Apple\n",
      "Banana\n"
     ]
    }
   ],
   "source": [
    "for eachFruit in fruitsList:\n",
    "    print(eachFruit);\n",
    "    if eachFruit == \"Banana\":\n",
    "        break;"
   ]
  },
  {
   "cell_type": "code",
   "execution_count": 9,
   "id": "c2fabbed-28fb-4fc2-8dc8-2cba60348d84",
   "metadata": {},
   "outputs": [
    {
     "name": "stdout",
     "output_type": "stream",
     "text": [
      "Apple\n"
     ]
    }
   ],
   "source": [
    "for eachFruit in fruitsList:\n",
    "    if eachFruit == \"Banana\":\n",
    "        break;\n",
    "    print(eachFruit);"
   ]
  },
  {
   "cell_type": "code",
   "execution_count": 11,
   "id": "ebcefa06-c191-4d3c-83e7-1b27ad506a2b",
   "metadata": {},
   "outputs": [
    {
     "name": "stdout",
     "output_type": "stream",
     "text": [
      "Apple\n",
      "Banana\n",
      "Cherry\n"
     ]
    }
   ],
   "source": [
    "for eachFruit in fruitsList:\n",
    "    print(eachFruit);\n",
    "    if eachFruit == \"Banana\":\n",
    "        continue;"
   ]
  },
  {
   "cell_type": "code",
   "execution_count": 12,
   "id": "dd49a9c6-79e2-4762-a6de-26549461668e",
   "metadata": {},
   "outputs": [
    {
     "name": "stdout",
     "output_type": "stream",
     "text": [
      "Apple\n",
      "Cherry\n"
     ]
    }
   ],
   "source": [
    "for eachFruit in fruitsList:\n",
    "    if eachFruit == \"Banana\":\n",
    "        continue;\n",
    "    print(eachFruit);"
   ]
  },
  {
   "cell_type": "code",
   "execution_count": 13,
   "id": "917e9c94-dc64-46a4-946b-b133592af55a",
   "metadata": {},
   "outputs": [
    {
     "name": "stdout",
     "output_type": "stream",
     "text": [
      "0\n",
      "1\n",
      "2\n",
      "3\n",
      "4\n"
     ]
    }
   ],
   "source": [
    "for eachNumber in range(5):\n",
    "    print(eachNumber);"
   ]
  },
  {
   "cell_type": "code",
   "execution_count": 14,
   "id": "9ea3c005-53ad-4f5e-8369-8d60c0507c36",
   "metadata": {},
   "outputs": [
    {
     "name": "stdout",
     "output_type": "stream",
     "text": [
      "1\n",
      "2\n",
      "3\n",
      "4\n"
     ]
    }
   ],
   "source": [
    "for eachNumber in range(1, 5):\n",
    "    print(eachNumber);"
   ]
  },
  {
   "cell_type": "code",
   "execution_count": 17,
   "id": "6974ba53-0f2f-4feb-ba9a-629bb7bfc3b6",
   "metadata": {},
   "outputs": [
    {
     "name": "stdout",
     "output_type": "stream",
     "text": [
      "2\n",
      "4\n",
      "6\n",
      "8\n",
      "10\n",
      "12\n",
      "14\n",
      "16\n",
      "18\n"
     ]
    }
   ],
   "source": [
    "for eachNumber in range(0, 20, 2):\n",
    "    if eachNumber == 0: continue;\n",
    "    print(eachNumber);"
   ]
  },
  {
   "cell_type": "markdown",
   "id": "12768e7f-7876-4c1c-a1c9-27ba80720c98",
   "metadata": {},
   "source": [
    "Else in For Loop\n",
    "\n",
    "The else keyword in a for loop specifies a block of code to be executed when the loop is finished:\n",
    "\n",
    "Note: The else block will NOT be executed if the loop is stopped by a break statement.\r\n"
   ]
  },
  {
   "cell_type": "code",
   "execution_count": 18,
   "id": "6b10af3f-9abd-4bd7-b673-b14f80bb4339",
   "metadata": {},
   "outputs": [
    {
     "name": "stdout",
     "output_type": "stream",
     "text": [
      "2\n",
      "3\n",
      "4\n",
      "5\n",
      "Everything is finished\n"
     ]
    }
   ],
   "source": [
    "for eachNumber in range(2, 6):\n",
    "    print(eachNumber);\n",
    "else:\n",
    "    print(\"Everything is finished\");"
   ]
  },
  {
   "cell_type": "code",
   "execution_count": 19,
   "id": "370cfd18-3394-47fe-95f3-4d0536e7c0f6",
   "metadata": {},
   "outputs": [
    {
     "name": "stdout",
     "output_type": "stream",
     "text": [
      "2\n",
      "3\n"
     ]
    }
   ],
   "source": [
    "for eachNumber in range(2, 6):\n",
    "    if eachNumber == 4: break;\n",
    "    print(eachNumber)\n",
    "else:\n",
    "    print(\"Everything is finished.\");"
   ]
  },
  {
   "cell_type": "code",
   "execution_count": 21,
   "id": "3962ba4d-4281-43aa-bded-9f41587f54e5",
   "metadata": {},
   "outputs": [
    {
     "name": "stdout",
     "output_type": "stream",
     "text": [
      "(1, 1)\n",
      "(1, 2)\n",
      "(1, 3)\n",
      "(2, 1)\n",
      "(2, 2)\n",
      "(2, 3)\n",
      "(3, 1)\n",
      "(3, 2)\n",
      "(3, 3)\n"
     ]
    }
   ],
   "source": [
    "for eachNumber in range(1, 4):\n",
    "    for anotherEachNumber in range(1, 4):\n",
    "        print(f\"({eachNumber}, {anotherEachNumber})\");"
   ]
  },
  {
   "cell_type": "code",
   "execution_count": 22,
   "id": "375c47c9-dc5a-41a7-ac6d-aaa4c10cd653",
   "metadata": {},
   "outputs": [],
   "source": [
    "for eachNumber in range(1, 5):\n",
    "    pass;"
   ]
  }
 ],
 "metadata": {
  "kernelspec": {
   "display_name": "Python 3 (ipykernel)",
   "language": "python",
   "name": "python3"
  },
  "language_info": {
   "codemirror_mode": {
    "name": "ipython",
    "version": 3
   },
   "file_extension": ".py",
   "mimetype": "text/x-python",
   "name": "python",
   "nbconvert_exporter": "python",
   "pygments_lexer": "ipython3",
   "version": "3.11.5"
  }
 },
 "nbformat": 4,
 "nbformat_minor": 5
}
