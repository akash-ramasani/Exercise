{
 "cells": [
  {
   "cell_type": "markdown",
   "id": "afb42f10-2bf5-42ec-aa23-c91a72558803",
   "metadata": {},
   "source": [
    "While Loop\n",
    "\n",
    "with the while loop we can execute a set of statements as long as condition is true."
   ]
  },
  {
   "cell_type": "code",
   "execution_count": 3,
   "id": "af5a3a7d-5a59-46cd-ab40-a6c51fb7482a",
   "metadata": {},
   "outputs": [
    {
     "name": "stdout",
     "output_type": "stream",
     "text": [
      "Year: 2001.\n",
      "Year: 2002.\n",
      "Year: 2003.\n",
      "Year: 2004.\n",
      "Year: 2005.\n",
      "Year: 2006.\n",
      "Year: 2007.\n",
      "Year: 2008.\n",
      "Year: 2009.\n",
      "Year: 2010.\n"
     ]
    }
   ],
   "source": [
    "bornYear = 2001;\n",
    "\n",
    "while bornYear <= 2010:\n",
    "    print(f\"Year: {bornYear}.\");\n",
    "    bornYear += 1;"
   ]
  },
  {
   "cell_type": "code",
   "execution_count": 4,
   "id": "d8e1bcfc-d657-4d10-882c-6fb0d9d30298",
   "metadata": {},
   "outputs": [
    {
     "name": "stdout",
     "output_type": "stream",
     "text": [
      "2011\n"
     ]
    }
   ],
   "source": [
    "print(bornYear)"
   ]
  },
  {
   "cell_type": "code",
   "execution_count": 5,
   "id": "82680c95-c7c2-40e3-8488-c5c1f2a7ace8",
   "metadata": {},
   "outputs": [
    {
     "name": "stdout",
     "output_type": "stream",
     "text": [
      "Year: 2011\n",
      "Year: 2012\n",
      "Year: 2013\n",
      "Year: 2014\n",
      "Year: 2015\n",
      "Year: 2016\n",
      "Year: 2017\n"
     ]
    }
   ],
   "source": [
    "while bornYear <= 2020:\n",
    "    print(f\"Year: {bornYear}\");\n",
    "    if bornYear == 2017: break;\n",
    "    bornYear += 1;"
   ]
  },
  {
   "cell_type": "code",
   "execution_count": 6,
   "id": "0073e0e8-f7b2-4c6e-a661-96a35c31e679",
   "metadata": {},
   "outputs": [
    {
     "name": "stdout",
     "output_type": "stream",
     "text": [
      "2017\n"
     ]
    }
   ],
   "source": [
    "print(bornYear);"
   ]
  },
  {
   "cell_type": "code",
   "execution_count": 9,
   "id": "15536564-6b33-4119-b9d9-125a546b28a6",
   "metadata": {},
   "outputs": [
    {
     "name": "stdout",
     "output_type": "stream",
     "text": [
      "Year: 2027.\n",
      "Year: 2028.\n",
      "Year: 2029.\n",
      "Year: 2031.\n",
      "Year: 2032.\n",
      "Year: 2033.\n"
     ]
    }
   ],
   "source": [
    "while bornYear <= 2032:\n",
    "    bornYear += 1;\n",
    "    if bornYear == 2030: continue;\n",
    "    print(f\"Year: {bornYear}.\");"
   ]
  }
 ],
 "metadata": {
  "kernelspec": {
   "display_name": "Python 3 (ipykernel)",
   "language": "python",
   "name": "python3"
  },
  "language_info": {
   "codemirror_mode": {
    "name": "ipython",
    "version": 3
   },
   "file_extension": ".py",
   "mimetype": "text/x-python",
   "name": "python",
   "nbconvert_exporter": "python",
   "pygments_lexer": "ipython3",
   "version": "3.11.6"
  }
 },
 "nbformat": 4,
 "nbformat_minor": 5
}
