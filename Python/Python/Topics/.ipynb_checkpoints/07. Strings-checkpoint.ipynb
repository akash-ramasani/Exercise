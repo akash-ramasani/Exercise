{
 "cells": [
  {
   "cell_type": "code",
   "execution_count": 1,
   "id": "cf2cd1f9-3d49-4666-837c-aa8eca7a4ae8",
   "metadata": {},
   "outputs": [
    {
     "name": "stdout",
     "output_type": "stream",
     "text": [
      "Hello\n"
     ]
    }
   ],
   "source": [
    "print('Hello');"
   ]
  },
  {
   "cell_type": "code",
   "execution_count": 2,
   "id": "4df4bca0-80f7-438a-9562-4fed6215224b",
   "metadata": {},
   "outputs": [
    {
     "name": "stdout",
     "output_type": "stream",
     "text": [
      "Hello\n"
     ]
    }
   ],
   "source": [
    "print(\"Hello\");"
   ]
  },
  {
   "cell_type": "markdown",
   "id": "9544f4f7-b9c5-443f-9bbe-3a802cd1d54b",
   "metadata": {},
   "source": [
    "Assigning String to a Variable"
   ]
  },
  {
   "cell_type": "code",
   "execution_count": 3,
   "id": "be3df1f6-67f7-431e-b838-247966c62f3a",
   "metadata": {},
   "outputs": [],
   "source": [
    "firstName = \"Akash\";"
   ]
  },
  {
   "cell_type": "code",
   "execution_count": 4,
   "id": "b7222a46-3031-42dd-978e-d1a652fa8295",
   "metadata": {},
   "outputs": [
    {
     "name": "stdout",
     "output_type": "stream",
     "text": [
      "Akash\n"
     ]
    }
   ],
   "source": [
    "print(firstName);"
   ]
  },
  {
   "cell_type": "code",
   "execution_count": 5,
   "id": "35e15894-c904-48f0-966a-2be9ae6348b5",
   "metadata": {},
   "outputs": [],
   "source": [
    "multiLineStringSingleQuotes =''''This is \n",
    "Multiline\n",
    "String\n",
    "'''"
   ]
  },
  {
   "cell_type": "code",
   "execution_count": 6,
   "id": "7f51cfc5-548f-4b68-881d-792fd9f499c2",
   "metadata": {},
   "outputs": [
    {
     "name": "stdout",
     "output_type": "stream",
     "text": [
      "'This is \n",
      "Multiline\n",
      "String\n",
      "\n"
     ]
    }
   ],
   "source": [
    "print(multiLineStringSingleQuotes);"
   ]
  },
  {
   "cell_type": "code",
   "execution_count": 7,
   "id": "ff008a60-b285-45c7-9137-3cb9be815ea3",
   "metadata": {},
   "outputs": [],
   "source": [
    "multiLineString = \"\"\"This \n",
    "is \n",
    "Multiline\n",
    "String\"\"\""
   ]
  },
  {
   "cell_type": "code",
   "execution_count": 8,
   "id": "901a452f-5f38-44ce-ada7-be9708a2a5a2",
   "metadata": {},
   "outputs": [
    {
     "name": "stdout",
     "output_type": "stream",
     "text": [
      "This \n",
      "is \n",
      "Multiline\n",
      "String\n"
     ]
    }
   ],
   "source": [
    "print(multiLineString);"
   ]
  },
  {
   "cell_type": "code",
   "execution_count": 9,
   "id": "be9a5a8d-c097-4e86-a896-9b43508c9610",
   "metadata": {},
   "outputs": [],
   "source": [
    "nameStartsWith = firstName[0];"
   ]
  },
  {
   "cell_type": "code",
   "execution_count": 10,
   "id": "f8d9105a-3523-4c65-af25-ae76958e1940",
   "metadata": {},
   "outputs": [
    {
     "name": "stdout",
     "output_type": "stream",
     "text": [
      "His name starts with A.\n"
     ]
    }
   ],
   "source": [
    "print(f\"His name starts with {nameStartsWith}.\");"
   ]
  },
  {
   "cell_type": "code",
   "execution_count": 11,
   "id": "f813a3f3-0792-4e5d-9700-72a11b0031e5",
   "metadata": {},
   "outputs": [
    {
     "name": "stdout",
     "output_type": "stream",
     "text": [
      "His name starts with A\n"
     ]
    }
   ],
   "source": [
    "print(\"His name starts with\", nameStartsWith);"
   ]
  },
  {
   "cell_type": "markdown",
   "id": "edbc477d-90ea-402e-91e6-a5f360435e09",
   "metadata": {},
   "source": [
    "Looping through String"
   ]
  },
  {
   "cell_type": "code",
   "execution_count": 12,
   "id": "08d74ca3-5484-4da3-9108-8abe24349945",
   "metadata": {},
   "outputs": [
    {
     "name": "stdout",
     "output_type": "stream",
     "text": [
      "First Name: A k a s h "
     ]
    }
   ],
   "source": [
    "print(\"First Name\", end=\": \");\n",
    "for eachLetter in firstName:\n",
    "    print(eachLetter, end=\" \");"
   ]
  },
  {
   "cell_type": "markdown",
   "id": "20220402-871b-4b66-a854-dd8dc133b1a4",
   "metadata": {},
   "source": [
    "String lenth"
   ]
  },
  {
   "cell_type": "code",
   "execution_count": 13,
   "id": "f445e529-b43d-4646-b4cf-b0b158dba6e5",
   "metadata": {},
   "outputs": [
    {
     "name": "stdout",
     "output_type": "stream",
     "text": [
      "5\n"
     ]
    }
   ],
   "source": [
    "print(len(firstName));"
   ]
  },
  {
   "cell_type": "code",
   "execution_count": 14,
   "id": "189f6add-2f70-4889-9b79-d376bf5798c0",
   "metadata": {},
   "outputs": [
    {
     "name": "stdout",
     "output_type": "stream",
     "text": [
      "A k a s h "
     ]
    }
   ],
   "source": [
    "for eachIndex in range(len(firstName)):\n",
    "    print(firstName[eachIndex], end=\" \");"
   ]
  },
  {
   "cell_type": "markdown",
   "id": "1df618e5-2513-4d0e-83fa-85f2db0029d8",
   "metadata": {},
   "source": [
    "Check String"
   ]
  },
  {
   "cell_type": "code",
   "execution_count": 15,
   "id": "2e39ea6b-ae71-49b8-bac3-ebf988989fb8",
   "metadata": {},
   "outputs": [
    {
     "name": "stdout",
     "output_type": "stream",
     "text": [
      "sh is present in 'Akash'\n"
     ]
    }
   ],
   "source": [
    "if \"sh\" in firstName:\n",
    "    print(\"sh is present in 'Akash'\");"
   ]
  },
  {
   "cell_type": "code",
   "execution_count": 16,
   "id": "7b230283-e3aa-4ba3-9110-f26561bd2836",
   "metadata": {},
   "outputs": [
    {
     "name": "stdout",
     "output_type": "stream",
     "text": [
      "'li' is not present in 'Akash'\n"
     ]
    }
   ],
   "source": [
    "if \"li\" not in firstName:\n",
    "    print(\"'li' is not present in 'Akash'\");"
   ]
  },
  {
   "cell_type": "markdown",
   "id": "62fb602d-7cdd-4712-ab1b-25e61d9b8bf9",
   "metadata": {},
   "source": [
    "Slicing"
   ]
  },
  {
   "cell_type": "code",
   "execution_count": 17,
   "id": "b81425f5-2d97-4920-a0a5-170f975c73fc",
   "metadata": {},
   "outputs": [
    {
     "name": "stdout",
     "output_type": "stream",
     "text": [
      "ash\n"
     ]
    }
   ],
   "source": [
    "print(firstName[2:5]);"
   ]
  },
  {
   "cell_type": "code",
   "execution_count": 18,
   "id": "56aeb2a6-489d-4a76-8139-60c018d3a89b",
   "metadata": {},
   "outputs": [
    {
     "name": "stdout",
     "output_type": "stream",
     "text": [
      "ash\n"
     ]
    }
   ],
   "source": [
    "print(\"Akash\"[2:5]);"
   ]
  },
  {
   "cell_type": "code",
   "execution_count": 19,
   "id": "82d71231-ff21-4d04-a3ab-4373fa470ff9",
   "metadata": {},
   "outputs": [
    {
     "name": "stdout",
     "output_type": "stream",
     "text": [
      "Akash\n"
     ]
    }
   ],
   "source": [
    "print(firstName[:len(firstName)]);"
   ]
  },
  {
   "cell_type": "code",
   "execution_count": 20,
   "id": "1d23c52c-9f5e-49cb-a507-aee6ab9bb6d9",
   "metadata": {},
   "outputs": [
    {
     "name": "stdout",
     "output_type": "stream",
     "text": [
      "kash\n"
     ]
    }
   ],
   "source": [
    "print(firstName[1:]);"
   ]
  },
  {
   "cell_type": "code",
   "execution_count": 21,
   "id": "da35b87b-cf8b-483b-a7c4-3b39ab227592",
   "metadata": {},
   "outputs": [
    {
     "name": "stdout",
     "output_type": "stream",
     "text": [
      "Akash\n"
     ]
    }
   ],
   "source": [
    "print(firstName[-5:]);"
   ]
  },
  {
   "cell_type": "code",
   "execution_count": 22,
   "id": "28f7c634-fe2e-49ad-ae5c-647710e4ca5e",
   "metadata": {},
   "outputs": [
    {
     "name": "stdout",
     "output_type": "stream",
     "text": [
      "Aka\n"
     ]
    }
   ],
   "source": [
    "print(firstName[-5:-2]);"
   ]
  },
  {
   "cell_type": "code",
   "execution_count": 23,
   "id": "ca29a076-0b73-41a7-8dba-71398c8e3949",
   "metadata": {},
   "outputs": [
    {
     "name": "stdout",
     "output_type": "stream",
     "text": [
      "Akas\n"
     ]
    }
   ],
   "source": [
    "print(firstName[:-1]);"
   ]
  },
  {
   "cell_type": "code",
   "execution_count": 24,
   "id": "7a20a8a6-7d5c-4671-8fbf-b6dbbf51b125",
   "metadata": {},
   "outputs": [
    {
     "name": "stdout",
     "output_type": "stream",
     "text": [
      "as\n"
     ]
    }
   ],
   "source": [
    "print(firstName[-3:-1])"
   ]
  },
  {
   "cell_type": "code",
   "execution_count": 25,
   "id": "16d31886-8c90-41f5-883a-f66936b5fc10",
   "metadata": {},
   "outputs": [
    {
     "name": "stdout",
     "output_type": "stream",
     "text": [
      "Akash AKASH\n"
     ]
    }
   ],
   "source": [
    "print(firstName, firstName.upper());"
   ]
  },
  {
   "cell_type": "code",
   "execution_count": 26,
   "id": "6a4655e8-6bfe-42a7-8ca8-d56774b64aa3",
   "metadata": {},
   "outputs": [
    {
     "name": "stdout",
     "output_type": "stream",
     "text": [
      "Akash akash\n"
     ]
    }
   ],
   "source": [
    "print(firstName, firstName.lower());"
   ]
  },
  {
   "cell_type": "code",
   "execution_count": 27,
   "id": "2f548131-6d85-4361-a2f7-fbd1ce210931",
   "metadata": {},
   "outputs": [],
   "source": [
    "lastName = \"Ramasani \";"
   ]
  },
  {
   "cell_type": "code",
   "execution_count": 28,
   "id": "b54d2412-352d-4f78-96c7-d88a36c0c77f",
   "metadata": {},
   "outputs": [
    {
     "name": "stdout",
     "output_type": "stream",
     "text": [
      "Ramasani  9 8\n"
     ]
    }
   ],
   "source": [
    "print(lastName, len(lastName), len(lastName.strip()));"
   ]
  },
  {
   "cell_type": "code",
   "execution_count": 29,
   "id": "c7f64451-6432-4982-beb5-ef55c4245c19",
   "metadata": {},
   "outputs": [
    {
     "name": "stdout",
     "output_type": "stream",
     "text": [
      "Akash Ramasani\n"
     ]
    }
   ],
   "source": [
    "print(firstName, lastName.strip());"
   ]
  },
  {
   "cell_type": "code",
   "execution_count": 30,
   "id": "ec3f558e-011d-4526-9f45-399a984c1aaa",
   "metadata": {},
   "outputs": [],
   "source": [
    "category = \"books\";"
   ]
  },
  {
   "cell_type": "code",
   "execution_count": 31,
   "id": "9edf67e8-485f-4cda-87ca-a8827bef7dca",
   "metadata": {},
   "outputs": [
    {
     "name": "stdout",
     "output_type": "stream",
     "text": [
      "boobs\n"
     ]
    }
   ],
   "source": [
    "print(category.replace(\"k\", \"b\"));"
   ]
  },
  {
   "cell_type": "code",
   "execution_count": 32,
   "id": "0c450158-2154-413a-b284-864e8a67a2e6",
   "metadata": {},
   "outputs": [],
   "source": [
    "def fullName(firstName, middleName, lastName):\n",
    "    return firstName + \" \" + lastName if not middleName else firstName + \" \" + middleName + \" \" + lastName;"
   ]
  },
  {
   "cell_type": "code",
   "execution_count": 33,
   "id": "8020fd82-a32a-4263-8f16-2edd5db5be9e",
   "metadata": {},
   "outputs": [],
   "source": [
    "fullName = fullName(\"Akash\", \"\", \"Ramasani\");"
   ]
  },
  {
   "cell_type": "code",
   "execution_count": 34,
   "id": "f55f77e1-d1c1-4b27-bbf3-4a5b921fcad6",
   "metadata": {},
   "outputs": [
    {
     "name": "stdout",
     "output_type": "stream",
     "text": [
      "['Akash', 'Ramasani']\n"
     ]
    }
   ],
   "source": [
    "fullNameList = fullName.split(\" \");\n",
    "print(fullNameList);"
   ]
  },
  {
   "cell_type": "code",
   "execution_count": 35,
   "id": "9db1c3ec-498a-4a5c-b9a0-86c8027d79f4",
   "metadata": {},
   "outputs": [],
   "source": [
    "def fullNamewithCommas(firstName, middleName, lastName):\n",
    "    return firstName + \",\" + lastName if not middleName else firstName + \",\" + middleName + \",\" + lastName;"
   ]
  },
  {
   "cell_type": "code",
   "execution_count": 36,
   "id": "35b4866a-b39c-4121-9845-ccf1ca13f1c7",
   "metadata": {},
   "outputs": [],
   "source": [
    "fullNamewithComma = fullNamewithCommas(\"Akash\", \"\", \"Ramasani\");"
   ]
  },
  {
   "cell_type": "code",
   "execution_count": 37,
   "id": "d6954c14-ecd8-443f-bbfb-1d00aea79984",
   "metadata": {},
   "outputs": [
    {
     "name": "stdout",
     "output_type": "stream",
     "text": [
      "Akash,Ramasani\n",
      "['Akash', 'Ramasani']\n"
     ]
    }
   ],
   "source": [
    "print(fullNamewithComma);\n",
    "commaSeperatedFullNameList = fullNamewithComma.split(\",\");\n",
    "print(commaSeperatedFullNameList);"
   ]
  },
  {
   "cell_type": "markdown",
   "id": "a93fc7f9-47cc-46dd-8a95-f455c9b7568f",
   "metadata": {},
   "source": [
    "String Concatenation"
   ]
  },
  {
   "cell_type": "code",
   "execution_count": 38,
   "id": "57fe56d6-ed99-4923-b6d3-413492a2abcd",
   "metadata": {},
   "outputs": [],
   "source": [
    "fullName = firstName + lastName;"
   ]
  },
  {
   "cell_type": "code",
   "execution_count": 39,
   "id": "3493e926-7ace-43cd-b0c8-59fae9ad89a6",
   "metadata": {},
   "outputs": [
    {
     "name": "stdout",
     "output_type": "stream",
     "text": [
      "AkashRamasani \n"
     ]
    }
   ],
   "source": [
    "print(fullName);"
   ]
  },
  {
   "cell_type": "code",
   "execution_count": 40,
   "id": "c809fb9a-2801-4cbb-8967-d5904b1a9647",
   "metadata": {},
   "outputs": [],
   "source": [
    "fullName = firstName + \" \" + lastName;"
   ]
  },
  {
   "cell_type": "code",
   "execution_count": 41,
   "id": "3685590b-b07a-4c71-bcf4-211d6874cac1",
   "metadata": {},
   "outputs": [
    {
     "name": "stdout",
     "output_type": "stream",
     "text": [
      "Akash Ramasani \n"
     ]
    }
   ],
   "source": [
    "print(fullName);"
   ]
  },
  {
   "cell_type": "code",
   "execution_count": 42,
   "id": "73f83582-c177-4a08-9c3b-85a32d1a596c",
   "metadata": {},
   "outputs": [],
   "source": [
    "fullName = firstName + \",\" + lastName;"
   ]
  },
  {
   "cell_type": "code",
   "execution_count": 43,
   "id": "7451dc57-96ec-4d22-91ea-0401468164ce",
   "metadata": {},
   "outputs": [
    {
     "name": "stdout",
     "output_type": "stream",
     "text": [
      "Akash,Ramasani \n"
     ]
    }
   ],
   "source": [
    "print(fullName);"
   ]
  },
  {
   "cell_type": "code",
   "execution_count": 44,
   "id": "766ca31c-79db-4b85-9e2b-de59246cc41c",
   "metadata": {},
   "outputs": [],
   "source": [
    "fullName = firstName + \"-\" + lastName;"
   ]
  },
  {
   "cell_type": "code",
   "execution_count": 45,
   "id": "053db9e3-e4ee-4bfc-ae5d-028223a94e09",
   "metadata": {},
   "outputs": [
    {
     "name": "stdout",
     "output_type": "stream",
     "text": [
      "Akash-Ramasani \n"
     ]
    }
   ],
   "source": [
    "print(fullName);"
   ]
  },
  {
   "cell_type": "markdown",
   "id": "4e340522-c23f-423f-9398-1b04d1b51a0f",
   "metadata": {},
   "source": [
    "Format Strings"
   ]
  },
  {
   "cell_type": "code",
   "execution_count": 46,
   "id": "7534c24d-e4ff-405a-91ee-14d79937f860",
   "metadata": {},
   "outputs": [],
   "source": [
    "age = 22;"
   ]
  },
  {
   "cell_type": "code",
   "execution_count": 47,
   "id": "e905aa90-2106-4f1f-a092-ef27745fb2bf",
   "metadata": {},
   "outputs": [
    {
     "name": "stdout",
     "output_type": "stream",
     "text": [
      "My name is Akash.\n"
     ]
    }
   ],
   "source": [
    "print(\"My name is \" + firstName + \".\");"
   ]
  },
  {
   "cell_type": "code",
   "execution_count": 48,
   "id": "685adbf1-f35e-4d6b-8f83-86df6a52e7cb",
   "metadata": {},
   "outputs": [
    {
     "ename": "TypeError",
     "evalue": "can only concatenate str (not \"int\") to str",
     "output_type": "error",
     "traceback": [
      "\u001b[1;31m---------------------------------------------------------------------------\u001b[0m",
      "\u001b[1;31mTypeError\u001b[0m                                 Traceback (most recent call last)",
      "Cell \u001b[1;32mIn[48], line 1\u001b[0m\n\u001b[1;32m----> 1\u001b[0m \u001b[38;5;28mprint\u001b[39m(\u001b[38;5;124;43m\"\u001b[39;49m\u001b[38;5;124;43mMy name is \u001b[39;49m\u001b[38;5;124;43m\"\u001b[39;49m\u001b[43m \u001b[49m\u001b[38;5;241;43m+\u001b[39;49m\u001b[43m \u001b[49m\u001b[43mfirstName\u001b[49m\u001b[43m \u001b[49m\u001b[38;5;241;43m+\u001b[39;49m\u001b[43m \u001b[49m\u001b[38;5;124;43m\"\u001b[39;49m\u001b[38;5;124;43m, I am \u001b[39;49m\u001b[38;5;124;43m\"\u001b[39;49m\u001b[43m \u001b[49m\u001b[38;5;241;43m+\u001b[39;49m\u001b[43m \u001b[49m\u001b[43mage\u001b[49m);\n",
      "\u001b[1;31mTypeError\u001b[0m: can only concatenate str (not \"int\") to str"
     ]
    }
   ],
   "source": [
    "print(\"My name is \" + firstName + \", I am \" + age);"
   ]
  },
  {
   "cell_type": "code",
   "execution_count": 49,
   "id": "e236914f-d1af-43f4-8c8f-23470eff749a",
   "metadata": {},
   "outputs": [
    {
     "name": "stdout",
     "output_type": "stream",
     "text": [
      "My name is Akash, I am 22\n"
     ]
    }
   ],
   "source": [
    "print(\"My name is {}, I am {}\".format(firstName, age));"
   ]
  },
  {
   "cell_type": "code",
   "execution_count": 50,
   "id": "5d61c3e3-302f-425d-82e8-a36af57bcb1e",
   "metadata": {},
   "outputs": [
    {
     "name": "stdout",
     "output_type": "stream",
     "text": [
      "My name is Akash, I am 22.\n"
     ]
    }
   ],
   "source": [
    "print(f\"My name is {firstName}, I am {age}.\");"
   ]
  },
  {
   "cell_type": "code",
   "execution_count": 51,
   "id": "3bc25f34-a9cb-4d97-89b7-7dd4bd1b22a0",
   "metadata": {},
   "outputs": [
    {
     "name": "stdout",
     "output_type": "stream",
     "text": [
      "I am 22 and my name is Akash.\n"
     ]
    }
   ],
   "source": [
    "print(\"I am {1} and my name is {0}.\".format(firstName, age));"
   ]
  },
  {
   "cell_type": "code",
   "execution_count": 52,
   "id": "ba9d7f51-01fc-4ec9-9afa-df9fdb51e944",
   "metadata": {},
   "outputs": [
    {
     "name": "stdout",
     "output_type": "stream",
     "text": [
      "First Name: Akash, Middle Name: '', Last Name: Ramasani , Age: 22.\n"
     ]
    }
   ],
   "source": [
    "print(\"First Name: {0}, Middle Name: {1}, Last Name: {2}, Age: {3}.\".format(firstName, \"''\", lastName, age));"
   ]
  },
  {
   "cell_type": "code",
   "execution_count": 53,
   "id": "15601c4a-63a2-4c2a-aac4-8513196cc68a",
   "metadata": {},
   "outputs": [
    {
     "name": "stdout",
     "output_type": "stream",
     "text": [
      "Gym membership annual fees is, $58.00.\n"
     ]
    }
   ],
   "source": [
    "price = 58;\n",
    "\n",
    "print(\"Gym membership annual fees is, ${:.2f}.\".format(price));"
   ]
  },
  {
   "cell_type": "code",
   "execution_count": 54,
   "id": "255cd782-e67e-45ec-a27a-3aec51b0e958",
   "metadata": {},
   "outputs": [
    {
     "name": "stdout",
     "output_type": "stream",
     "text": [
      "I want 2kg Cheesecake fromt the Harleys which is on the 19th street of jubilee Hills. Price of the Cake is $79.00.\n"
     ]
    }
   ],
   "source": [
    "kg = 2;\n",
    "street = 19\n",
    "price = 79;\n",
    "\n",
    "print(\"I want {0}kg Cheesecake fromt the Harleys which is on the {1}th street of jubilee Hills. Price of the Cake is ${2:.2f}.\".format(kg, street, price));"
   ]
  },
  {
   "cell_type": "code",
   "execution_count": 55,
   "id": "942114f6-7b84-4a10-9bb6-5607d2197df4",
   "metadata": {},
   "outputs": [
    {
     "name": "stdout",
     "output_type": "stream",
     "text": [
      "I want 3kg Cheesecake fromt the Harleys which is on the 11th street of jubilee Hills and Price of the Cake is $85.00.\n"
     ]
    }
   ],
   "source": [
    "print(\"I want {kg}kg Cheesecake fromt the Harleys which is on the {street}th street of jubilee Hills and Price of the Cake is ${price:.2f}.\".format(kg=3, street=11, price=85));"
   ]
  },
  {
   "cell_type": "code",
   "execution_count": 56,
   "id": "cb765a5e-cbdd-4cf3-82f0-e283b8423f2e",
   "metadata": {},
   "outputs": [
    {
     "name": "stdout",
     "output_type": "stream",
     "text": [
      "2 19 79\n"
     ]
    }
   ],
   "source": [
    "print(kg, street, price);"
   ]
  },
  {
   "cell_type": "markdown",
   "id": "4533b7dc-db31-4b99-9513-978c941144a8",
   "metadata": {},
   "source": [
    "Escape Characters"
   ]
  },
  {
   "cell_type": "code",
   "execution_count": 57,
   "id": "1fc177ec-5521-426c-b057-3e6562c57cfa",
   "metadata": {},
   "outputs": [
    {
     "name": "stdout",
     "output_type": "stream",
     "text": [
      "We are the so called \"Vikings\" from the north\n"
     ]
    }
   ],
   "source": [
    "print(\"We are the so called \\\"Vikings\\\" from the north\");"
   ]
  },
  {
   "cell_type": "code",
   "execution_count": 58,
   "id": "8448a9bc-a070-4c05-a82a-fc5d5ad73f79",
   "metadata": {},
   "outputs": [
    {
     "name": "stdout",
     "output_type": "stream",
     "text": [
      "We are the so called 'vikings' from the north.\n"
     ]
    }
   ],
   "source": [
    "print('We are the so called \\'vikings\\' from the north.');"
   ]
  },
  {
   "cell_type": "code",
   "execution_count": 59,
   "id": "67aff7f2-d1fe-4f13-994c-14670e2e5d7c",
   "metadata": {},
   "outputs": [
    {
     "ename": "SyntaxError",
     "evalue": "unterminated string literal (detected at line 1) (2213371493.py, line 1)",
     "output_type": "error",
     "traceback": [
      "\u001b[1;36m  Cell \u001b[1;32mIn[59], line 1\u001b[1;36m\u001b[0m\n\u001b[1;33m    print(\"Backslash - \\\");\u001b[0m\n\u001b[1;37m          ^\u001b[0m\n\u001b[1;31mSyntaxError\u001b[0m\u001b[1;31m:\u001b[0m unterminated string literal (detected at line 1)\n"
     ]
    }
   ],
   "source": [
    "print(\"Backslash - \\\");"
   ]
  },
  {
   "cell_type": "code",
   "execution_count": 60,
   "id": "54a5c8e7-40da-4826-b93b-64a0c3213c10",
   "metadata": {},
   "outputs": [
    {
     "name": "stdout",
     "output_type": "stream",
     "text": [
      "Backslash - \\\n"
     ]
    }
   ],
   "source": [
    "print(\"Backslash - \\\\\");"
   ]
  },
  {
   "cell_type": "code",
   "execution_count": 61,
   "id": "3d57d1c5-9b2d-449d-9fec-3919c4826b99",
   "metadata": {},
   "outputs": [
    {
     "name": "stdout",
     "output_type": "stream",
     "text": [
      "Akash\n",
      "Ramasani \n"
     ]
    }
   ],
   "source": [
    "print(firstName + \"\\n\" + lastName);"
   ]
  },
  {
   "cell_type": "code",
   "execution_count": 62,
   "id": "265c07e9-8cb5-49b7-9573-706df81f04d3",
   "metadata": {},
   "outputs": [
    {
     "name": "stdout",
     "output_type": "stream",
     "text": [
      "Akash\tRamasani \n"
     ]
    }
   ],
   "source": [
    "print(firstName +\"\\t\"+ lastName);"
   ]
  },
  {
   "cell_type": "code",
   "execution_count": 63,
   "id": "65536722-235f-4604-843d-2e317bb7c495",
   "metadata": {},
   "outputs": [
    {
     "name": "stdout",
     "output_type": "stream",
     "text": [
      "AkasRamasani \n"
     ]
    }
   ],
   "source": [
    "print(firstName+\"\\b\"+lastName);"
   ]
  },
  {
   "cell_type": "markdown",
   "id": "747c1206-ed7f-4845-aa51-ddda1fee8289",
   "metadata": {},
   "source": [
    "String Methods"
   ]
  },
  {
   "cell_type": "code",
   "execution_count": 64,
   "id": "629ca433-4ff5-49c3-b068-fb6c0902a516",
   "metadata": {},
   "outputs": [
    {
     "name": "stdout",
     "output_type": "stream",
     "text": [
      "First Name: Akash\n",
      "Last Name: Ramasani \n"
     ]
    }
   ],
   "source": [
    "print(\"First Name: \"+ firstName + \"\\n\" + \"Last Name: \" + lastName);"
   ]
  },
  {
   "cell_type": "code",
   "execution_count": 66,
   "id": "d1e8bcac-4447-4490-bb31-d71f2a69b1b0",
   "metadata": {},
   "outputs": [
    {
     "name": "stdout",
     "output_type": "stream",
     "text": [
      "akash ramasani \n"
     ]
    }
   ],
   "source": [
    "print(firstName.lower(), lastName.lower());"
   ]
  },
  {
   "cell_type": "code",
   "execution_count": 67,
   "id": "39bbe628-bb2b-4c0b-8417-cb9de640eeb8",
   "metadata": {},
   "outputs": [
    {
     "name": "stdout",
     "output_type": "stream",
     "text": [
      "AKASH RAMASANI \n"
     ]
    }
   ],
   "source": [
    "print(firstName.upper(), lastName.upper());"
   ]
  },
  {
   "cell_type": "code",
   "execution_count": 68,
   "id": "0a7a645d-d3a8-4f13-af3f-169da6b14231",
   "metadata": {},
   "outputs": [
    {
     "name": "stdout",
     "output_type": "stream",
     "text": [
      "Akash Ramasani \n"
     ]
    }
   ],
   "source": [
    "print(firstName.capitalize(), lastName.capitalize());"
   ]
  },
  {
   "cell_type": "code",
   "execution_count": 69,
   "id": "f55988d4-c930-478d-acbd-d20df5f72c55",
   "metadata": {},
   "outputs": [
    {
     "name": "stdout",
     "output_type": "stream",
     "text": [
      "akash ramasani \n"
     ]
    }
   ],
   "source": [
    "print(firstName.casefold(), lastName.casefold());"
   ]
  },
  {
   "cell_type": "code",
   "execution_count": 72,
   "id": "47bffbca-ed1c-47ef-83ec-26b03b43a5b3",
   "metadata": {},
   "outputs": [
    {
     "name": "stdout",
     "output_type": "stream",
     "text": [
      "-------Akash--------\n"
     ]
    }
   ],
   "source": [
    "print(firstName.center(20, \"-\"));"
   ]
  },
  {
   "cell_type": "code",
   "execution_count": 73,
   "id": "bc26dc11-7b8d-442f-b0a7-d4295c8c5574",
   "metadata": {},
   "outputs": [
    {
     "name": "stdout",
     "output_type": "stream",
     "text": [
      "       Akash        \n"
     ]
    }
   ],
   "source": [
    "print(firstName.center(20));"
   ]
  },
  {
   "cell_type": "code",
   "execution_count": 80,
   "id": "d75f1131-0ad8-4d6e-be00-efb8028d1f1f",
   "metadata": {},
   "outputs": [
    {
     "name": "stdout",
     "output_type": "stream",
     "text": [
      "1 1\n"
     ]
    }
   ],
   "source": [
    "print(firstName.count(\"A\"), firstName.count(\"a\"));"
   ]
  },
  {
   "cell_type": "code",
   "execution_count": null,
   "id": "8fded997-5db3-43d2-9b21-f4284a480028",
   "metadata": {},
   "outputs": [],
   "source": []
  }
 ],
 "metadata": {
  "kernelspec": {
   "display_name": "Python 3 (ipykernel)",
   "language": "python",
   "name": "python3"
  },
  "language_info": {
   "codemirror_mode": {
    "name": "ipython",
    "version": 3
   },
   "file_extension": ".py",
   "mimetype": "text/x-python",
   "name": "python",
   "nbconvert_exporter": "python",
   "pygments_lexer": "ipython3",
   "version": "3.11.6"
  }
 },
 "nbformat": 4,
 "nbformat_minor": 5
}
