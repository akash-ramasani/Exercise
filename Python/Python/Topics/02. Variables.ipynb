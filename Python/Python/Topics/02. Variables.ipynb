{
 "cells": [
  {
   "cell_type": "markdown",
   "id": "b98e8ce6-8a73-43e2-bfdb-695ef8ffbab5",
   "metadata": {},
   "source": [
    "Variables are containers fpr storing data values. Python has no command for declaring a variable. A variable is created the moment you first assign a value to it."
   ]
  },
  {
   "cell_type": "code",
   "execution_count": 1,
   "id": "d89f8022-53e0-4164-8997-9b56586d653e",
   "metadata": {},
   "outputs": [],
   "source": [
    "firstName = \"Akash\";"
   ]
  },
  {
   "cell_type": "code",
   "execution_count": 2,
   "id": "96196727-5f8c-48a9-8b1a-a96e5d089419",
   "metadata": {},
   "outputs": [
    {
     "name": "stdout",
     "output_type": "stream",
     "text": [
      "Akash\n"
     ]
    }
   ],
   "source": [
    "print(firstName);"
   ]
  },
  {
   "cell_type": "code",
   "execution_count": 3,
   "id": "0dfde225-f85a-4f6f-bbb7-536ba1fe11dd",
   "metadata": {},
   "outputs": [],
   "source": [
    "firstName = \"Mark\";"
   ]
  },
  {
   "cell_type": "code",
   "execution_count": 4,
   "id": "98c6da08-aa44-45b9-8600-0fb5f66c2e91",
   "metadata": {},
   "outputs": [
    {
     "name": "stdout",
     "output_type": "stream",
     "text": [
      "Mark\n"
     ]
    }
   ],
   "source": [
    "print(firstName);"
   ]
  },
  {
   "cell_type": "code",
   "execution_count": 5,
   "id": "38d00f78-3762-4bea-915d-ffc08e3832d5",
   "metadata": {},
   "outputs": [
    {
     "name": "stdout",
     "output_type": "stream",
     "text": [
      "4\n"
     ]
    }
   ],
   "source": [
    "print(len(firstName));"
   ]
  },
  {
   "cell_type": "code",
   "execution_count": 6,
   "id": "39adae4b-f72c-407a-8acf-11f71acf2d35",
   "metadata": {},
   "outputs": [],
   "source": [
    "firstName = len(firstName);"
   ]
  },
  {
   "cell_type": "code",
   "execution_count": 7,
   "id": "7b17abf0-e676-40b2-9a60-7e54c78aa988",
   "metadata": {},
   "outputs": [
    {
     "name": "stdout",
     "output_type": "stream",
     "text": [
      "4\n"
     ]
    }
   ],
   "source": [
    "print(firstName);"
   ]
  },
  {
   "cell_type": "markdown",
   "id": "763c4dd4-e295-495f-b09e-b81a71a0713c",
   "metadata": {},
   "source": [
    "Casting\n",
    "\n",
    "If you want to specify the data type of a variable, this can be done with casting."
   ]
  },
  {
   "cell_type": "code",
   "execution_count": 8,
   "id": "cc647905-4289-479c-a6b7-6ef7b1b94e71",
   "metadata": {},
   "outputs": [],
   "source": [
    "age = int(22);"
   ]
  },
  {
   "cell_type": "code",
   "execution_count": 9,
   "id": "4cb2546e-986a-40ae-99d7-53677bf971db",
   "metadata": {},
   "outputs": [
    {
     "name": "stdout",
     "output_type": "stream",
     "text": [
      "22\n"
     ]
    }
   ],
   "source": [
    "print(age);"
   ]
  },
  {
   "cell_type": "code",
   "execution_count": 10,
   "id": "4b4042c4-ec12-4359-9e96-ec2dda4f0306",
   "metadata": {},
   "outputs": [],
   "source": [
    "firstName = str(\"Akash\");"
   ]
  },
  {
   "cell_type": "code",
   "execution_count": 11,
   "id": "0a0edaea-d8f5-4eec-ba17-7bbe63a2b14c",
   "metadata": {},
   "outputs": [
    {
     "name": "stdout",
     "output_type": "stream",
     "text": [
      "Akash\n"
     ]
    }
   ],
   "source": [
    "print(firstName);"
   ]
  },
  {
   "cell_type": "code",
   "execution_count": 12,
   "id": "74747f0d-1df9-486c-a383-c2e46a175650",
   "metadata": {},
   "outputs": [],
   "source": [
    "itemPrice = float(75.2);"
   ]
  },
  {
   "cell_type": "code",
   "execution_count": 13,
   "id": "caac3fb0-dccc-4ec1-bda8-01ca7265c199",
   "metadata": {},
   "outputs": [
    {
     "name": "stdout",
     "output_type": "stream",
     "text": [
      "75.2\n"
     ]
    }
   ],
   "source": [
    "print(itemPrice);"
   ]
  },
  {
   "cell_type": "code",
   "execution_count": 14,
   "id": "2d88be4e-f1d5-4334-a314-9f44539d9298",
   "metadata": {},
   "outputs": [
    {
     "name": "stdout",
     "output_type": "stream",
     "text": [
      "<class 'int'> <class 'str'> <class 'float'>\n"
     ]
    }
   ],
   "source": [
    "print(type(age), type(firstName), type(itemPrice));"
   ]
  },
  {
   "cell_type": "code",
   "execution_count": 15,
   "id": "e89e13bf-3f9a-43d7-be48-69c6c3c7b5e4",
   "metadata": {},
   "outputs": [],
   "source": [
    "firstName = 'Akash';"
   ]
  },
  {
   "cell_type": "code",
   "execution_count": 16,
   "id": "d0352cfe-cd17-4267-a61c-aed8bb8fcf41",
   "metadata": {},
   "outputs": [],
   "source": [
    "firstName = \"Akash\";"
   ]
  },
  {
   "cell_type": "code",
   "execution_count": 17,
   "id": "b117e74f-377c-4de2-b3b9-f6304432efdf",
   "metadata": {},
   "outputs": [
    {
     "name": "stdout",
     "output_type": "stream",
     "text": [
      "Akash\n"
     ]
    }
   ],
   "source": [
    "print(firstName);"
   ]
  },
  {
   "cell_type": "markdown",
   "id": "e9a180d6-8f30-4d94-a58e-995a52690bf6",
   "metadata": {},
   "source": [
    "Case-Sensitive: Variable names are case sensitive"
   ]
  },
  {
   "cell_type": "code",
   "execution_count": 18,
   "id": "4db4f672-ecfb-47f6-9bb8-b8122e66e145",
   "metadata": {},
   "outputs": [],
   "source": [
    "a = 22;"
   ]
  },
  {
   "cell_type": "code",
   "execution_count": 19,
   "id": "8e75a294-0c53-476a-856c-8e12431ff8bf",
   "metadata": {},
   "outputs": [
    {
     "name": "stdout",
     "output_type": "stream",
     "text": [
      "22\n"
     ]
    }
   ],
   "source": [
    "print(a);"
   ]
  },
  {
   "cell_type": "code",
   "execution_count": 20,
   "id": "7b6e31a0-3e03-40fa-820f-8821d12b8d38",
   "metadata": {},
   "outputs": [],
   "source": [
    "A = 99;"
   ]
  },
  {
   "cell_type": "code",
   "execution_count": 21,
   "id": "f6eadf56-15f3-43ff-b442-f2507e6ec64b",
   "metadata": {},
   "outputs": [
    {
     "name": "stdout",
     "output_type": "stream",
     "text": [
      "99\n"
     ]
    }
   ],
   "source": [
    "print(A);"
   ]
  },
  {
   "cell_type": "code",
   "execution_count": 22,
   "id": "c2807cb8-e6d1-4a39-98d3-2df7030fc45c",
   "metadata": {},
   "outputs": [],
   "source": [
    "firstName, middleName, lastName = \"Akash\", \"\", \"Ramasani\";"
   ]
  },
  {
   "cell_type": "code",
   "execution_count": 23,
   "id": "bf4c6e1c-76cf-428a-a09c-bed39efc5194",
   "metadata": {},
   "outputs": [
    {
     "name": "stdout",
     "output_type": "stream",
     "text": [
      "Akash  Ramasani\n"
     ]
    }
   ],
   "source": [
    "print(firstName, middleName, lastName);"
   ]
  },
  {
   "cell_type": "code",
   "execution_count": 24,
   "id": "786efc4e-a3f5-41ed-a2b6-04f1b67b0b27",
   "metadata": {},
   "outputs": [],
   "source": [
    "a = b = c =89;"
   ]
  },
  {
   "cell_type": "markdown",
   "id": "36f83685-bb6e-46ff-a358-53b2801c1eca",
   "metadata": {},
   "source": [
    "Unpacking"
   ]
  },
  {
   "cell_type": "code",
   "execution_count": 25,
   "id": "26b35897-9916-4df5-b5b6-04c02c90e063",
   "metadata": {},
   "outputs": [],
   "source": [
    "fruits = [\"Apple\", \"Banana\", \"Cherry\"];"
   ]
  },
  {
   "cell_type": "code",
   "execution_count": 26,
   "id": "f151ae20-8069-481a-9eaa-e6b540222258",
   "metadata": {},
   "outputs": [],
   "source": [
    "a, b, c = fruits"
   ]
  },
  {
   "cell_type": "code",
   "execution_count": 27,
   "id": "2d004f4a-1213-4e6f-839d-e44c46337b1e",
   "metadata": {},
   "outputs": [
    {
     "name": "stdout",
     "output_type": "stream",
     "text": [
      "Apple Banana Cherry\n"
     ]
    }
   ],
   "source": [
    "print(a, b, c);"
   ]
  },
  {
   "cell_type": "code",
   "execution_count": 28,
   "id": "d4027944-5b36-4143-be49-c3b6d44fd075",
   "metadata": {},
   "outputs": [],
   "source": [
    "fruits = (\"Apple\", \"Banana\", \"Cherry\");"
   ]
  },
  {
   "cell_type": "code",
   "execution_count": 29,
   "id": "fd7f10ac-415e-4edc-bb9f-aeb563525368",
   "metadata": {},
   "outputs": [],
   "source": [
    "(a, b, c) = fruits;"
   ]
  },
  {
   "cell_type": "code",
   "execution_count": 30,
   "id": "611ac7cb-f553-42ff-9f97-075de2aafb01",
   "metadata": {},
   "outputs": [
    {
     "name": "stdout",
     "output_type": "stream",
     "text": [
      "Apple Banana Cherry\n"
     ]
    }
   ],
   "source": [
    "print(a, b, c);"
   ]
  },
  {
   "cell_type": "code",
   "execution_count": 31,
   "id": "d5ccdd65-a532-47a5-9cc3-1543105284d8",
   "metadata": {},
   "outputs": [
    {
     "name": "stdout",
     "output_type": "stream",
     "text": [
      "Paul\n",
      "Akash\n"
     ]
    }
   ],
   "source": [
    "firstName = \"Akash\";\n",
    "\n",
    "def Name():\n",
    "    firstName = \"Paul\";\n",
    "    return firstName;\n",
    "\n",
    "print(Name());\n",
    "print(firstName);"
   ]
  },
  {
   "cell_type": "code",
   "execution_count": 32,
   "id": "cc2a1210-1eec-42c5-96dc-c64cf864a355",
   "metadata": {},
   "outputs": [
    {
     "name": "stdout",
     "output_type": "stream",
     "text": [
      "Biden\n"
     ]
    },
    {
     "ename": "NameError",
     "evalue": "name 'presidentName' is not defined",
     "output_type": "error",
     "traceback": [
      "\u001b[1;31m---------------------------------------------------------------------------\u001b[0m",
      "\u001b[1;31mNameError\u001b[0m                                 Traceback (most recent call last)",
      "Cell \u001b[1;32mIn[32], line 6\u001b[0m\n\u001b[0;32m      3\u001b[0m     \u001b[38;5;28;01mreturn\u001b[39;00m presidentName;\n\u001b[0;32m      5\u001b[0m \u001b[38;5;28mprint\u001b[39m(president());\n\u001b[1;32m----> 6\u001b[0m \u001b[38;5;28mprint\u001b[39m(\u001b[43mpresidentName\u001b[49m);\n",
      "\u001b[1;31mNameError\u001b[0m: name 'presidentName' is not defined"
     ]
    }
   ],
   "source": [
    "def president():\n",
    "    presidentName = \"Biden\";\n",
    "    return presidentName;\n",
    "\n",
    "print(president());\n",
    "print(presidentName);"
   ]
  },
  {
   "cell_type": "code",
   "execution_count": 33,
   "id": "44a064f8-9dd5-4abd-b3a1-9a6351848fc3",
   "metadata": {},
   "outputs": [
    {
     "ename": "SyntaxError",
     "evalue": "invalid syntax (187345573.py, line 2)",
     "output_type": "error",
     "traceback": [
      "\u001b[1;36m  Cell \u001b[1;32mIn[33], line 2\u001b[1;36m\u001b[0m\n\u001b[1;33m    global presidentName = \"Biden\";\u001b[0m\n\u001b[1;37m                         ^\u001b[0m\n\u001b[1;31mSyntaxError\u001b[0m\u001b[1;31m:\u001b[0m invalid syntax\n"
     ]
    }
   ],
   "source": [
    "def president():\n",
    "    global presidentName = \"Biden\";\n",
    "    return presidentName;\n",
    "\n",
    "print(president());\n",
    "print(presidentName);"
   ]
  },
  {
   "cell_type": "code",
   "execution_count": 34,
   "id": "8d3cfaa2-a03d-4d23-91af-cfd0bb33acdd",
   "metadata": {},
   "outputs": [
    {
     "name": "stdout",
     "output_type": "stream",
     "text": [
      "Biden\n",
      "Biden\n"
     ]
    }
   ],
   "source": [
    "def president():\n",
    "    global presidentName;\n",
    "    presidentName = \"Biden\";\n",
    "    return presidentName;\n",
    "\n",
    "print(president());\n",
    "print(presidentName);"
   ]
  }
 ],
 "metadata": {
  "kernelspec": {
   "display_name": "Python 3 (ipykernel)",
   "language": "python",
   "name": "python3"
  },
  "language_info": {
   "codemirror_mode": {
    "name": "ipython",
    "version": 3
   },
   "file_extension": ".py",
   "mimetype": "text/x-python",
   "name": "python",
   "nbconvert_exporter": "python",
   "pygments_lexer": "ipython3",
   "version": "3.11.6"
  }
 },
 "nbformat": 4,
 "nbformat_minor": 5
}
