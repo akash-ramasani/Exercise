{
 "cells": [
  {
   "cell_type": "markdown",
   "id": "1af6f395-b51b-41ec-983d-7a8301b38ab8",
   "metadata": {},
   "source": [
    "Try block lets you block of code for errors. The Except block lets you handle the error."
   ]
  },
  {
   "cell_type": "code",
   "execution_count": 3,
   "id": "befd00ff-f3b4-43d1-a325-fbdf5324311d",
   "metadata": {},
   "outputs": [
    {
     "ename": "NameError",
     "evalue": "name 'firstName' is not defined",
     "output_type": "error",
     "traceback": [
      "\u001b[1;31m---------------------------------------------------------------------------\u001b[0m",
      "\u001b[1;31mNameError\u001b[0m                                 Traceback (most recent call last)",
      "Cell \u001b[1;32mIn[3], line 1\u001b[0m\n\u001b[1;32m----> 1\u001b[0m \u001b[38;5;28mprint\u001b[39m(\u001b[43mfirstName\u001b[49m);\n",
      "\u001b[1;31mNameError\u001b[0m: name 'firstName' is not defined"
     ]
    }
   ],
   "source": [
    "print(firstName);"
   ]
  },
  {
   "cell_type": "code",
   "execution_count": 5,
   "id": "e91f8468-d4a7-4717-aec7-6b56467d11c4",
   "metadata": {},
   "outputs": [
    {
     "name": "stdout",
     "output_type": "stream",
     "text": [
      "An exception occured.\n"
     ]
    }
   ],
   "source": [
    "try:\n",
    "    print(firstName);\n",
    "except:\n",
    "    print(\"An exception occured.\");"
   ]
  },
  {
   "cell_type": "code",
   "execution_count": 7,
   "id": "089a8c80-cc83-4a7d-bfe4-f3c6dbbaaf42",
   "metadata": {},
   "outputs": [
    {
     "name": "stdout",
     "output_type": "stream",
     "text": [
      "Variable firstName is not defined\n"
     ]
    }
   ],
   "source": [
    "try:\n",
    "    print(firstName);\n",
    "except NameError:\n",
    "    print(\"Variable firstName is not defined\");\n",
    "except:\n",
    "    print(\"Something else went wrong\");"
   ]
  },
  {
   "cell_type": "markdown",
   "id": "24a4eb85-f94b-4d2d-ae00-31adb52b539d",
   "metadata": {},
   "source": [
    "You can use else keyword to define block of code to be executed if no errors were raised."
   ]
  },
  {
   "cell_type": "code",
   "execution_count": 8,
   "id": "39fcfdb3-e257-4362-8823-f351121f23c7",
   "metadata": {},
   "outputs": [
    {
     "name": "stdout",
     "output_type": "stream",
     "text": [
      "This line will execute\n",
      "This line will execute\n"
     ]
    }
   ],
   "source": [
    "try:\n",
    "    print(\"This line will execute\");\n",
    "except:\n",
    "    print(\"This line will not execute\");\n",
    "else:\n",
    "    print(\"This line will execute\");"
   ]
  },
  {
   "cell_type": "markdown",
   "id": "d23f8c05-cd6a-4562-9660-2a43b43b2adc",
   "metadata": {},
   "source": [
    "The finally block, if specified, will be executed regardless if the block raises an error or not."
   ]
  },
  {
   "cell_type": "code",
   "execution_count": 9,
   "id": "8daefe66-94d7-46fb-a200-26ee78b7f67a",
   "metadata": {},
   "outputs": [
    {
     "name": "stdout",
     "output_type": "stream",
     "text": [
      "As firstName Variable is not defined, this line will get executed.\n",
      "Finally block will get executed.\n"
     ]
    }
   ],
   "source": [
    "try:\n",
    "    print(firstName);\n",
    "except:\n",
    "    print(\"As firstName Variable is not defined, this line will get executed.\");\n",
    "finally:\n",
    "    print(\"Finally block will get executed.\");"
   ]
  }
 ],
 "metadata": {
  "kernelspec": {
   "display_name": "Python 3 (ipykernel)",
   "language": "python",
   "name": "python3"
  },
  "language_info": {
   "codemirror_mode": {
    "name": "ipython",
    "version": 3
   },
   "file_extension": ".py",
   "mimetype": "text/x-python",
   "name": "python",
   "nbconvert_exporter": "python",
   "pygments_lexer": "ipython3",
   "version": "3.11.6"
  }
 },
 "nbformat": 4,
 "nbformat_minor": 5
}
