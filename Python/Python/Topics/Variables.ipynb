{
 "cells": [
  {
   "cell_type": "markdown",
   "id": "b98e8ce6-8a73-43e2-bfdb-695ef8ffbab5",
   "metadata": {},
   "source": [
    "Variables are containers fpr storing data values. Python has no command for declaring a variable. A variable is created the moment you first assign a value to it."
   ]
  },
  {
   "cell_type": "code",
   "execution_count": 1,
   "id": "d89f8022-53e0-4164-8997-9b56586d653e",
   "metadata": {},
   "outputs": [],
   "source": [
    "firstName = \"Akash\";"
   ]
  },
  {
   "cell_type": "code",
   "execution_count": 2,
   "id": "96196727-5f8c-48a9-8b1a-a96e5d089419",
   "metadata": {},
   "outputs": [
    {
     "name": "stdout",
     "output_type": "stream",
     "text": [
      "Akash\n"
     ]
    }
   ],
   "source": [
    "print(firstName);"
   ]
  },
  {
   "cell_type": "code",
   "execution_count": 3,
   "id": "0dfde225-f85a-4f6f-bbb7-536ba1fe11dd",
   "metadata": {},
   "outputs": [],
   "source": [
    "firstName = \"Mark\";"
   ]
  },
  {
   "cell_type": "code",
   "execution_count": 4,
   "id": "98c6da08-aa44-45b9-8600-0fb5f66c2e91",
   "metadata": {},
   "outputs": [
    {
     "name": "stdout",
     "output_type": "stream",
     "text": [
      "Mark\n"
     ]
    }
   ],
   "source": [
    "print(firstName);"
   ]
  },
  {
   "cell_type": "code",
   "execution_count": 5,
   "id": "38d00f78-3762-4bea-915d-ffc08e3832d5",
   "metadata": {},
   "outputs": [
    {
     "name": "stdout",
     "output_type": "stream",
     "text": [
      "4\n"
     ]
    }
   ],
   "source": [
    "print(len(firstName));"
   ]
  },
  {
   "cell_type": "code",
   "execution_count": 7,
   "id": "39adae4b-f72c-407a-8acf-11f71acf2d35",
   "metadata": {},
   "outputs": [],
   "source": [
    "firstName = len(firstName);"
   ]
  },
  {
   "cell_type": "code",
   "execution_count": 8,
   "id": "7b17abf0-e676-40b2-9a60-7e54c78aa988",
   "metadata": {},
   "outputs": [
    {
     "name": "stdout",
     "output_type": "stream",
     "text": [
      "4\n"
     ]
    }
   ],
   "source": [
    "print(firstName);"
   ]
  },
  {
   "cell_type": "markdown",
   "id": "763c4dd4-e295-495f-b09e-b81a71a0713c",
   "metadata": {},
   "source": [
    "Casting\n",
    "\n",
    "If you want to specify the data type of a variable, this can be done with casting."
   ]
  },
  {
   "cell_type": "code",
   "execution_count": 10,
   "id": "cc647905-4289-479c-a6b7-6ef7b1b94e71",
   "metadata": {},
   "outputs": [],
   "source": [
    "age = int(22);"
   ]
  },
  {
   "cell_type": "code",
   "execution_count": 11,
   "id": "4cb2546e-986a-40ae-99d7-53677bf971db",
   "metadata": {},
   "outputs": [
    {
     "name": "stdout",
     "output_type": "stream",
     "text": [
      "22\n"
     ]
    }
   ],
   "source": [
    "print(age);"
   ]
  },
  {
   "cell_type": "code",
   "execution_count": 12,
   "id": "4b4042c4-ec12-4359-9e96-ec2dda4f0306",
   "metadata": {},
   "outputs": [],
   "source": [
    "firstName = str(\"Akash\");"
   ]
  },
  {
   "cell_type": "code",
   "execution_count": 13,
   "id": "0a0edaea-d8f5-4eec-ba17-7bbe63a2b14c",
   "metadata": {},
   "outputs": [
    {
     "name": "stdout",
     "output_type": "stream",
     "text": [
      "Akash\n"
     ]
    }
   ],
   "source": [
    "print(firstName);"
   ]
  },
  {
   "cell_type": "code",
   "execution_count": 14,
   "id": "74747f0d-1df9-486c-a383-c2e46a175650",
   "metadata": {},
   "outputs": [],
   "source": [
    "itemPrice = float(75.2);"
   ]
  },
  {
   "cell_type": "code",
   "execution_count": 17,
   "id": "caac3fb0-dccc-4ec1-bda8-01ca7265c199",
   "metadata": {},
   "outputs": [
    {
     "name": "stdout",
     "output_type": "stream",
     "text": [
      "75.2\n"
     ]
    }
   ],
   "source": [
    "print(itemPrice);"
   ]
  },
  {
   "cell_type": "code",
   "execution_count": 19,
   "id": "2d88be4e-f1d5-4334-a314-9f44539d9298",
   "metadata": {},
   "outputs": [
    {
     "name": "stdout",
     "output_type": "stream",
     "text": [
      "<class 'int'> <class 'str'> <class 'float'>\n"
     ]
    }
   ],
   "source": [
    "print(type(age), type(firstName), type(itemPrice));"
   ]
  },
  {
   "cell_type": "code",
   "execution_count": 20,
   "id": "e89e13bf-3f9a-43d7-be48-69c6c3c7b5e4",
   "metadata": {},
   "outputs": [],
   "source": [
    "firstName = 'Akash';"
   ]
  },
  {
   "cell_type": "code",
   "execution_count": 21,
   "id": "d0352cfe-cd17-4267-a61c-aed8bb8fcf41",
   "metadata": {},
   "outputs": [],
   "source": [
    "firstName = \"Akash\";"
   ]
  },
  {
   "cell_type": "code",
   "execution_count": 22,
   "id": "b117e74f-377c-4de2-b3b9-f6304432efdf",
   "metadata": {},
   "outputs": [
    {
     "name": "stdout",
     "output_type": "stream",
     "text": [
      "Akash\n"
     ]
    }
   ],
   "source": [
    "print(firstName);"
   ]
  },
  {
   "cell_type": "markdown",
   "id": "e9a180d6-8f30-4d94-a58e-995a52690bf6",
   "metadata": {},
   "source": [
    "Case-Sensitive: Variable names are case sensitive"
   ]
  },
  {
   "cell_type": "code",
   "execution_count": 23,
   "id": "4db4f672-ecfb-47f6-9bb8-b8122e66e145",
   "metadata": {},
   "outputs": [],
   "source": [
    "a = 22;"
   ]
  },
  {
   "cell_type": "code",
   "execution_count": 24,
   "id": "8e75a294-0c53-476a-856c-8e12431ff8bf",
   "metadata": {},
   "outputs": [
    {
     "name": "stdout",
     "output_type": "stream",
     "text": [
      "22\n"
     ]
    }
   ],
   "source": [
    "print(a);"
   ]
  },
  {
   "cell_type": "code",
   "execution_count": 28,
   "id": "7b6e31a0-3e03-40fa-820f-8821d12b8d38",
   "metadata": {},
   "outputs": [],
   "source": [
    "A = 99;"
   ]
  },
  {
   "cell_type": "code",
   "execution_count": 29,
   "id": "f6eadf56-15f3-43ff-b442-f2507e6ec64b",
   "metadata": {},
   "outputs": [
    {
     "name": "stdout",
     "output_type": "stream",
     "text": [
      "99\n"
     ]
    }
   ],
   "source": [
    "print(A);"
   ]
  },
  {
   "cell_type": "code",
   "execution_count": null,
   "id": "c2807cb8-e6d1-4a39-98d3-2df7030fc45c",
   "metadata": {},
   "outputs": [],
   "source": []
  }
 ],
 "metadata": {
  "kernelspec": {
   "display_name": "Python 3 (ipykernel)",
   "language": "python",
   "name": "python3"
  },
  "language_info": {
   "codemirror_mode": {
    "name": "ipython",
    "version": 3
   },
   "file_extension": ".py",
   "mimetype": "text/x-python",
   "name": "python",
   "nbconvert_exporter": "python",
   "pygments_lexer": "ipython3",
   "version": "3.11.6"
  }
 },
 "nbformat": 4,
 "nbformat_minor": 5
}
