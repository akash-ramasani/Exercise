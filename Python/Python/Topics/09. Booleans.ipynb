{
 "cells": [
  {
   "cell_type": "code",
   "execution_count": 1,
   "id": "41a53f17-55dd-4dd4-be90-d6987f42cb7b",
   "metadata": {},
   "outputs": [
    {
     "name": "stdout",
     "output_type": "stream",
     "text": [
      "True\n"
     ]
    }
   ],
   "source": [
    "print(True);"
   ]
  },
  {
   "cell_type": "code",
   "execution_count": 2,
   "id": "b6938094-7d2a-486d-a609-aa69108665c7",
   "metadata": {},
   "outputs": [
    {
     "name": "stdout",
     "output_type": "stream",
     "text": [
      "False\n"
     ]
    }
   ],
   "source": [
    "print(False);"
   ]
  },
  {
   "cell_type": "code",
   "execution_count": 11,
   "id": "c37f8860-0e3f-4a25-b8d4-784639a5a2e3",
   "metadata": {},
   "outputs": [
    {
     "name": "stdout",
     "output_type": "stream",
     "text": [
      "It is True\n"
     ]
    }
   ],
   "source": [
    "if True:\n",
    "    print(\"It is\",True);"
   ]
  },
  {
   "cell_type": "code",
   "execution_count": 12,
   "id": "c74db854-fff4-4500-b4af-8dd450ef2b14",
   "metadata": {},
   "outputs": [
    {
     "name": "stdout",
     "output_type": "stream",
     "text": [
      "It is False\n"
     ]
    }
   ],
   "source": [
    "if not False:\n",
    "    print(\"It is\", False);"
   ]
  },
  {
   "cell_type": "code",
   "execution_count": 13,
   "id": "9134e219-baed-4f93-9bb6-e7be67aab9b6",
   "metadata": {},
   "outputs": [],
   "source": [
    "itemOnePrice = 77.6;\n",
    "itemTwoPrice = 99.6;"
   ]
  },
  {
   "cell_type": "code",
   "execution_count": 17,
   "id": "63fd8ad6-60ee-42aa-bb77-1f6592571829",
   "metadata": {},
   "outputs": [
    {
     "name": "stdout",
     "output_type": "stream",
     "text": [
      "99.6 is greater than 77.6\n"
     ]
    }
   ],
   "source": [
    "if itemOnePrice > itemTwoPrice:\n",
    "    print(\"{} is greater than {}\".format(itemOnePrice, itemTwoPrice));\n",
    "else:\n",
    "    print(\"{} is greater than {}\".format(itemTwoPrice, itemOnePrice));"
   ]
  },
  {
   "cell_type": "code",
   "execution_count": 19,
   "id": "4e5750fa-2fcc-41ee-8ae1-90ef19c9335f",
   "metadata": {},
   "outputs": [
    {
     "name": "stdout",
     "output_type": "stream",
     "text": [
      "99.6 is greater than 77.6\n"
     ]
    }
   ],
   "source": [
    "if itemOnePrice > itemTwoPrice:\n",
    "    print(itemOnePrice ,\"is greater than\", itemTwoPrice);\n",
    "else:\n",
    "    print(itemTwoPrice ,\"is greater than\", itemOnePrice);"
   ]
  },
  {
   "cell_type": "code",
   "execution_count": 29,
   "id": "1184861f-c61e-4ee0-8a87-bb5a35f71202",
   "metadata": {},
   "outputs": [
    {
     "name": "stdout",
     "output_type": "stream",
     "text": [
      "True\n"
     ]
    }
   ],
   "source": [
    "print(bool(True));"
   ]
  },
  {
   "cell_type": "code",
   "execution_count": 20,
   "id": "f3a65d08-eba5-4cb8-bbb7-a28027844df6",
   "metadata": {},
   "outputs": [
    {
     "name": "stdout",
     "output_type": "stream",
     "text": [
      "True\n"
     ]
    }
   ],
   "source": [
    "print(bool(\"Hello\"));"
   ]
  },
  {
   "cell_type": "code",
   "execution_count": 21,
   "id": "996ce66e-7dc7-4703-b415-9946a2c68d26",
   "metadata": {},
   "outputs": [
    {
     "name": "stdout",
     "output_type": "stream",
     "text": [
      "True\n"
     ]
    }
   ],
   "source": [
    "print(bool(75));"
   ]
  },
  {
   "cell_type": "code",
   "execution_count": 24,
   "id": "0bc47cb3-27a1-46b7-b97a-f7ba25034c9e",
   "metadata": {},
   "outputs": [
    {
     "name": "stdout",
     "output_type": "stream",
     "text": [
      "True\n"
     ]
    }
   ],
   "source": [
    "print(bool([\"Apple\", \"Banana\", \"Cherry\"]));"
   ]
  },
  {
   "cell_type": "code",
   "execution_count": 26,
   "id": "1f73efd5-96b5-43c7-9364-f280bd458689",
   "metadata": {},
   "outputs": [
    {
     "name": "stdout",
     "output_type": "stream",
     "text": [
      "True\n"
     ]
    }
   ],
   "source": [
    "print(bool((\"Apple\", \"Banana\", \"Cherry\")));"
   ]
  },
  {
   "cell_type": "code",
   "execution_count": 28,
   "id": "05b13a53-38c8-4e53-bf8c-15ee1b1fe4cc",
   "metadata": {},
   "outputs": [
    {
     "name": "stdout",
     "output_type": "stream",
     "text": [
      "True\n"
     ]
    }
   ],
   "source": [
    "print(bool({\"firstName\": \"Akash\", \"lastName\": \"Ramasani\"}));"
   ]
  },
  {
   "cell_type": "code",
   "execution_count": 31,
   "id": "fc837253-4171-4ab2-91b6-0cc3d58a908b",
   "metadata": {},
   "outputs": [
    {
     "name": "stdout",
     "output_type": "stream",
     "text": [
      "False\n"
     ]
    }
   ],
   "source": [
    "print(bool(False));"
   ]
  },
  {
   "cell_type": "code",
   "execution_count": 32,
   "id": "1c9e6199-9e19-45c8-a689-8832c5c3583a",
   "metadata": {},
   "outputs": [
    {
     "name": "stdout",
     "output_type": "stream",
     "text": [
      "False\n"
     ]
    }
   ],
   "source": [
    "print(bool());"
   ]
  },
  {
   "cell_type": "code",
   "execution_count": 33,
   "id": "fdd29dcc-15b0-40a5-bf31-753579be2fa0",
   "metadata": {},
   "outputs": [
    {
     "name": "stdout",
     "output_type": "stream",
     "text": [
      "False\n"
     ]
    }
   ],
   "source": [
    "print(bool([]));"
   ]
  },
  {
   "cell_type": "code",
   "execution_count": 35,
   "id": "e7588780-f996-4b5a-9410-d96a287d2a66",
   "metadata": {},
   "outputs": [
    {
     "name": "stdout",
     "output_type": "stream",
     "text": [
      "False\n"
     ]
    }
   ],
   "source": [
    "print(bool(()));"
   ]
  },
  {
   "cell_type": "code",
   "execution_count": 36,
   "id": "d222c1fe-c3aa-47b4-995b-a6b040a5ac20",
   "metadata": {},
   "outputs": [
    {
     "name": "stdout",
     "output_type": "stream",
     "text": [
      "False\n"
     ]
    }
   ],
   "source": [
    "print(bool({}));"
   ]
  }
 ],
 "metadata": {
  "kernelspec": {
   "display_name": "Python 3 (ipykernel)",
   "language": "python",
   "name": "python3"
  },
  "language_info": {
   "codemirror_mode": {
    "name": "ipython",
    "version": 3
   },
   "file_extension": ".py",
   "mimetype": "text/x-python",
   "name": "python",
   "nbconvert_exporter": "python",
   "pygments_lexer": "ipython3",
   "version": "3.11.6"
  }
 },
 "nbformat": 4,
 "nbformat_minor": 5
}
