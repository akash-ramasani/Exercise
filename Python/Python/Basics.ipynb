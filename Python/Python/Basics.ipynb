{
 "cells": [
  {
   "cell_type": "code",
   "execution_count": 1,
   "id": "a71e60c9-825c-48d5-9105-7696f026dc7f",
   "metadata": {},
   "outputs": [
    {
     "name": "stdout",
     "output_type": "stream",
     "text": [
      "Hello, World.\n"
     ]
    }
   ],
   "source": [
    "print(\"Hello, World.\") #Print is a Function, and it must be invoked with parenthsis"
   ]
  },
  {
   "cell_type": "code",
   "execution_count": 1,
   "id": "700dea32-c53d-4755-8085-c3dfedc977c7",
   "metadata": {},
   "outputs": [],
   "source": [
    "x = 5 #Variables are containers for storing data. Python is a highly dynamic language."
   ]
  },
  {
   "cell_type": "code",
   "execution_count": 2,
   "id": "84f0ae91-9ad9-411d-9c24-3a3c7132f48b",
   "metadata": {},
   "outputs": [],
   "source": [
    "x = \"Akash\" #We can even change type after they have been set."
   ]
  },
  {
   "cell_type": "code",
   "execution_count": 3,
   "id": "d15f0c7f-988e-4e83-aa0a-dc3251b666bc",
   "metadata": {},
   "outputs": [],
   "source": [
    "marks = 17"
   ]
  },
  {
   "cell_type": "code",
   "execution_count": 4,
   "id": "73f8d009-0f76-4620-b2ba-5529af73ace4",
   "metadata": {},
   "outputs": [
    {
     "name": "stdout",
     "output_type": "stream",
     "text": [
      "17\n"
     ]
    }
   ],
   "source": [
    "print(marks)"
   ]
  },
  {
   "cell_type": "code",
   "execution_count": 5,
   "id": "d1575e59-c707-4a3b-acbb-4635162f7ee0",
   "metadata": {},
   "outputs": [],
   "source": [
    "marks = 17.9"
   ]
  },
  {
   "cell_type": "code",
   "execution_count": 6,
   "id": "fbdfa53a-af12-412e-b734-ba4e6430f5ab",
   "metadata": {},
   "outputs": [
    {
     "name": "stdout",
     "output_type": "stream",
     "text": [
      "17.9\n"
     ]
    }
   ],
   "source": [
    "print(marks)"
   ]
  },
  {
   "cell_type": "code",
   "execution_count": 7,
   "id": "b6adf691-6512-4263-957f-07ea2230b00b",
   "metadata": {},
   "outputs": [],
   "source": [
    "firstName = 'Akash'"
   ]
  },
  {
   "cell_type": "code",
   "execution_count": 8,
   "id": "5c0ca055-bc12-4fda-9a27-660ae7c0e7a7",
   "metadata": {},
   "outputs": [],
   "source": [
    "lastName = \"Ramasani\""
   ]
  },
  {
   "cell_type": "code",
   "execution_count": 9,
   "id": "cf641f64-71a3-4e2b-b056-b2804a289b3e",
   "metadata": {},
   "outputs": [
    {
     "ename": "SyntaxError",
     "evalue": "unterminated string literal (detected at line 1) (2956988551.py, line 1)",
     "output_type": "error",
     "traceback": [
      "\u001b[1;36m  Cell \u001b[1;32mIn[9], line 1\u001b[1;36m\u001b[0m\n\u001b[1;33m    message = 'Don't worry about me'\u001b[0m\n\u001b[1;37m                                   ^\u001b[0m\n\u001b[1;31mSyntaxError\u001b[0m\u001b[1;31m:\u001b[0m unterminated string literal (detected at line 1)\n"
     ]
    }
   ],
   "source": [
    "message = 'Don't worry about me'"
   ]
  },
  {
   "cell_type": "code",
   "execution_count": 12,
   "id": "ebd2f5c1-0855-485c-91d3-42ea2c2bec01",
   "metadata": {},
   "outputs": [],
   "source": [
    "message = \"Don't worry about me\" #Using double quotes makes it easier to include apostrophes."
   ]
  },
  {
   "cell_type": "code",
   "execution_count": 13,
   "id": "5b535124-dec7-46f6-b6e9-0313b40b6154",
   "metadata": {},
   "outputs": [
    {
     "name": "stdout",
     "output_type": "stream",
     "text": [
      "Don't worry about me\n"
     ]
    }
   ],
   "source": [
    "print(message)"
   ]
  },
  {
   "cell_type": "code",
   "execution_count": 14,
   "id": "71d6aad9-1382-4cdb-bc38-f0020fb3f8d7",
   "metadata": {},
   "outputs": [],
   "source": [
    "firstName, lastName = 'Akash', 'Ramasani' #We can assign values to one or more variables simultaneosuly."
   ]
  },
  {
   "cell_type": "code",
   "execution_count": 15,
   "id": "ddd802cf-3965-4dc2-815f-db12a45e9e53",
   "metadata": {},
   "outputs": [
    {
     "name": "stdout",
     "output_type": "stream",
     "text": [
      "Akash Ramasani\n"
     ]
    }
   ],
   "source": [
    "print(firstName, lastName)"
   ]
  },
  {
   "cell_type": "code",
   "execution_count": 16,
   "id": "201e3d6c-3d32-48d7-a5eb-6083582e067e",
   "metadata": {},
   "outputs": [],
   "source": [
    "lastName = surName = 'Ramasani' #We can also assign the same value to multiple variables in one line."
   ]
  },
  {
   "cell_type": "code",
   "execution_count": 17,
   "id": "e03cbb93-3658-438d-96dd-df7304ef6d54",
   "metadata": {},
   "outputs": [
    {
     "name": "stdout",
     "output_type": "stream",
     "text": [
      "Ramasani Ramasani\n"
     ]
    }
   ],
   "source": [
    "print(lastName, surName)"
   ]
  }
 ],
 "metadata": {
  "kernelspec": {
   "display_name": "Python 3 (ipykernel)",
   "language": "python",
   "name": "python3"
  },
  "language_info": {
   "codemirror_mode": {
    "name": "ipython",
    "version": 3
   },
   "file_extension": ".py",
   "mimetype": "text/x-python",
   "name": "python",
   "nbconvert_exporter": "python",
   "pygments_lexer": "ipython3",
   "version": "3.11.5"
  }
 },
 "nbformat": 4,
 "nbformat_minor": 5
}
