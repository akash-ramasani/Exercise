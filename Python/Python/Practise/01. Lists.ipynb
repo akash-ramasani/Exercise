{
 "cells": [
  {
   "cell_type": "markdown",
   "id": "a87f410d-9483-4c32-843b-6b769f832a71",
   "metadata": {},
   "source": [
    "🔍 Find the Max Element: Write a function that returns the largest number in a list."
   ]
  },
  {
   "cell_type": "code",
   "execution_count": 1,
   "id": "54bcffa2-f085-497e-8047-271067479b73",
   "metadata": {},
   "outputs": [],
   "source": [
    "def maxElement(list):\n",
    "    print(max(list));"
   ]
  },
  {
   "cell_type": "code",
   "execution_count": 2,
   "id": "dd57eb40-501b-4402-a0a8-b01bb6ad0d55",
   "metadata": {},
   "outputs": [
    {
     "name": "stdout",
     "output_type": "stream",
     "text": [
      "7\n"
     ]
    }
   ],
   "source": [
    "maxElement([\"2\", \"7\"]);"
   ]
  },
  {
   "cell_type": "markdown",
   "id": "b5b9bc41-e91c-4417-a226-56c86de141fc",
   "metadata": {},
   "source": [
    "🔎 Find the Min Element: Write a function that returns the smallest number in a list."
   ]
  },
  {
   "cell_type": "code",
   "execution_count": 3,
   "id": "e85b026f-dcc5-4036-a16b-b2532bf0ca32",
   "metadata": {},
   "outputs": [],
   "source": [
    "def minElement(list):\n",
    "    print(min(list));"
   ]
  },
  {
   "cell_type": "code",
   "execution_count": 4,
   "id": "8fb6b48a-7d6e-49b2-9075-0fa0b22d2515",
   "metadata": {},
   "outputs": [
    {
     "name": "stdout",
     "output_type": "stream",
     "text": [
      "71\n"
     ]
    }
   ],
   "source": [
    "minElement([\"85\", \"71\"]);"
   ]
  },
  {
   "cell_type": "markdown",
   "id": "80f5cf0e-d4df-42dd-a6fa-ccb1573cf752",
   "metadata": {},
   "source": [
    "➕ Find the Sum: Write a function that calculates the sum of all numbers in a list."
   ]
  },
  {
   "cell_type": "code",
   "execution_count": 12,
   "id": "afc220bf-18d5-48e2-98c6-3be8a53f82b9",
   "metadata": {},
   "outputs": [],
   "source": [
    "def sumOfList(list):\n",
    "    sum = 0;\n",
    "    for each in list:\n",
    "        sum += int(each);\n",
    "    print(sum);"
   ]
  },
  {
   "cell_type": "code",
   "execution_count": 13,
   "id": "1e6ce071-ec6e-4903-95ac-504838588364",
   "metadata": {},
   "outputs": [
    {
     "name": "stdout",
     "output_type": "stream",
     "text": [
      "143\n"
     ]
    }
   ],
   "source": [
    "sumOfList([\"58\", \"42\", 43]);"
   ]
  },
  {
   "cell_type": "markdown",
   "id": "e9de08f2-4202-42b9-9d84-aa1768bb7117",
   "metadata": {},
   "source": [
    "📊 Calculate the Average: Write a function that calculates the average of the numbers in a list."
   ]
  }
 ],
 "metadata": {
  "kernelspec": {
   "display_name": "Python 3 (ipykernel)",
   "language": "python",
   "name": "python3"
  },
  "language_info": {
   "codemirror_mode": {
    "name": "ipython",
    "version": 3
   },
   "file_extension": ".py",
   "mimetype": "text/x-python",
   "name": "python",
   "nbconvert_exporter": "python",
   "pygments_lexer": "ipython3",
   "version": "3.11.6"
  }
 },
 "nbformat": 4,
 "nbformat_minor": 5
}
