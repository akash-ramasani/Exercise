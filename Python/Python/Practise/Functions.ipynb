{
 "cells": [
  {
   "cell_type": "code",
   "execution_count": 1,
   "id": "c5e58a08-5864-4d5c-b540-bb42f248cbfc",
   "metadata": {},
   "outputs": [],
   "source": [
    "def add(firstNumber, secondNumber):\n",
    "    return firstNumber + secondNumber;"
   ]
  },
  {
   "cell_type": "code",
   "execution_count": 2,
   "id": "445bfa34-b306-4941-b451-0e4643d37210",
   "metadata": {},
   "outputs": [],
   "source": [
    "def subtract(firstNumber, secondNumber):\n",
    "    return firstNumber - secondNumber;"
   ]
  },
  {
   "cell_type": "code",
   "execution_count": 3,
   "id": "a75e1c44-ab78-427c-8dd5-370b1f9babfc",
   "metadata": {},
   "outputs": [],
   "source": [
    "def multiply(firstNumber, secondNumber):\n",
    "    return firstNumber *  secondNumber;"
   ]
  },
  {
   "cell_type": "code",
   "execution_count": 4,
   "id": "28286a11-1647-494c-a063-fab2863dde8c",
   "metadata": {},
   "outputs": [],
   "source": [
    "def division(firstNumber, secondNumber):\n",
    "    return firstNumber / secondNumber if firstNumber >= secondNumber else secondNumber / firstNumber;"
   ]
  },
  {
   "cell_type": "code",
   "execution_count": 5,
   "id": "51c69308-f9a7-417d-b741-546229e1a144",
   "metadata": {},
   "outputs": [
    {
     "name": "stdout",
     "output_type": "stream",
     "text": [
      "12\n"
     ]
    }
   ],
   "source": [
    "print(add (8, 4));"
   ]
  },
  {
   "cell_type": "code",
   "execution_count": 6,
   "id": "f64fdb59-860f-45d9-b8c1-7576f615f3b4",
   "metadata": {},
   "outputs": [
    {
     "name": "stdout",
     "output_type": "stream",
     "text": [
      "4\n"
     ]
    }
   ],
   "source": [
    "print(subtract(8, 4));"
   ]
  },
  {
   "cell_type": "code",
   "execution_count": 7,
   "id": "c5c2b18e-e20e-4dd4-9366-08c57374d3d7",
   "metadata": {},
   "outputs": [
    {
     "name": "stdout",
     "output_type": "stream",
     "text": [
      "32\n"
     ]
    }
   ],
   "source": [
    "print(multiply(8, 4))"
   ]
  },
  {
   "cell_type": "code",
   "execution_count": 8,
   "id": "866ea53c-63af-4bd5-bcfb-b29064ab2104",
   "metadata": {},
   "outputs": [
    {
     "name": "stdout",
     "output_type": "stream",
     "text": [
      "2.0\n"
     ]
    }
   ],
   "source": [
    "print(division(4, 8))"
   ]
  },
  {
   "cell_type": "code",
   "execution_count": 9,
   "id": "b473bf74-f97d-4416-8c4e-6e1e3b4ee720",
   "metadata": {},
   "outputs": [],
   "source": [
    "def fullName(firstName, middleName, lastName):\n",
    "    return firstName + \" \" + lastName if not middleName else firstName + \" \" + middleName + \" \" + lastName; "
   ]
  },
  {
   "cell_type": "markdown",
   "id": "98d0296e-d1d6-4b54-b943-7a72bc9b0fb0",
   "metadata": {},
   "source": [
    "Positional Arguments"
   ]
  },
  {
   "cell_type": "code",
   "execution_count": 10,
   "id": "3ee06a4d-ab07-4e54-b88e-696b07d6ff5b",
   "metadata": {},
   "outputs": [
    {
     "name": "stdout",
     "output_type": "stream",
     "text": [
      "Akash Ramasani\n"
     ]
    }
   ],
   "source": [
    "print(fullName(\"Akash\", \"\", \"Ramasani\"));"
   ]
  },
  {
   "cell_type": "markdown",
   "id": "5faae016-993f-42ba-a648-9b20f8e6432c",
   "metadata": {},
   "source": [
    "Keyword Arguments"
   ]
  },
  {
   "cell_type": "code",
   "execution_count": 11,
   "id": "d0303ba9-82d6-460e-b158-afd91df7b02d",
   "metadata": {},
   "outputs": [
    {
     "name": "stdout",
     "output_type": "stream",
     "text": [
      "Akash Ramasani\n"
     ]
    }
   ],
   "source": [
    "print(fullName(firstName=\"Akash\", lastName=\"Ramasani\", middleName = \"\"))"
   ]
  },
  {
   "cell_type": "code",
   "execution_count": 12,
   "id": "c33765fb-0072-4191-a1d8-750b5c11b4ba",
   "metadata": {},
   "outputs": [],
   "source": [
    "def greeting(firstName):\n",
    "    print(f\"Good Morning, {firstName}.\");"
   ]
  },
  {
   "cell_type": "code",
   "execution_count": 13,
   "id": "e9ba9446-5e97-4e0d-96d2-b533f9894c03",
   "metadata": {},
   "outputs": [
    {
     "name": "stdout",
     "output_type": "stream",
     "text": [
      "Good Morning, Akash.\n"
     ]
    }
   ],
   "source": [
    "greeting(\"Akash\");"
   ]
  },
  {
   "cell_type": "code",
   "execution_count": 14,
   "id": "24729de7-1fc6-4355-a283-f996b45a1bdc",
   "metadata": {},
   "outputs": [],
   "source": [
    "def listOfNumbers(list):\n",
    "    for each in list:\n",
    "        print(each, end=\" \")\n",
    "    print()"
   ]
  },
  {
   "cell_type": "code",
   "execution_count": 15,
   "id": "85b80220-053b-48f3-bd86-40bd2ae40adb",
   "metadata": {},
   "outputs": [
    {
     "name": "stdout",
     "output_type": "stream",
     "text": [
      "55 33 22 11 \n"
     ]
    }
   ],
   "source": [
    "listOfNumbers([55, 33, 22, 11]);"
   ]
  }
 ],
 "metadata": {
  "kernelspec": {
   "display_name": "Python 3 (ipykernel)",
   "language": "python",
   "name": "python3"
  },
  "language_info": {
   "codemirror_mode": {
    "name": "ipython",
    "version": 3
   },
   "file_extension": ".py",
   "mimetype": "text/x-python",
   "name": "python",
   "nbconvert_exporter": "python",
   "pygments_lexer": "ipython3",
   "version": "3.11.5"
  }
 },
 "nbformat": 4,
 "nbformat_minor": 5
}
